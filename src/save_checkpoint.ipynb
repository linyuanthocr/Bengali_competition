{
 "cells": [
  {
   "cell_type": "code",
   "execution_count": null,
   "metadata": {},
   "outputs": [],
   "source": [
    "def save_checkpoint(epochID, model, optimizer, scheduler, accMax, lossMIN, checkpoint_path, launchTimestamp):\n",
    "    torch.save({'epoch': epochID + 1, 'state_dict': model.state_dict(), 'max_recall': accMax, 'loss_min': lossMIN,\n",
    "                            'optimizer': optimizer.state_dict(), 'scheduler':scheduler},\n",
    "                           checkpoint_path + '/m-checkpoint.pth.tar')\n",
    "#      launchTimestamp + '-' + str(\"%.4f\" % lossMIN) +\n",
    "    \n",
    "def load_checkpoint(model, checkpoint_path, optimizer):\n",
    "    if checkpoint != None:\n",
    "        model_CKPT = torch.load(checkpoint_path)\n",
    "        model.load_state_dict(model_CKPT['state_dict'])\n",
    "        print('loading checkpoint!')\n",
    "        optimizer.load_state_dict(model_CKPT['optimizer'])\n",
    "        epoch = model_CKPT['epoch']\n",
    "        acc_Max = model_CKPT['max_recall']\n",
    "        loss_MIN = model_CKPT['loss_min']\n",
    "        scheduler.load_state_dict(checkpoint['scheduler'])\n",
    "    return epoch, model, optimizer, scheduler, acc_Max, loss_MIN"
   ]
  },
  {
   "cell_type": "code",
   "execution_count": null,
   "metadata": {},
   "outputs": [],
   "source": [
    "        save_checkpoint(epoch, predictor, optimizer, scheduler, max_val_recall, min_val_loss, sub_dir, str(int(perf_counter()- start_time)))\n"
   ]
  }
 ],
 "metadata": {
  "kernelspec": {
   "display_name": "Python 3",
   "language": "python",
   "name": "python3"
  },
  "language_info": {
   "codemirror_mode": {
    "name": "ipython",
    "version": 3
   },
   "file_extension": ".py",
   "mimetype": "text/x-python",
   "name": "python",
   "nbconvert_exporter": "python",
   "pygments_lexer": "ipython3",
   "version": "3.7.5"
  }
 },
 "nbformat": 4,
 "nbformat_minor": 2
}
