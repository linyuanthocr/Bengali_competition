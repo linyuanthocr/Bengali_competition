{
 "cells": [
  {
   "cell_type": "markdown",
   "metadata": {},
   "source": [
    "# Bengali.AI SEResNeXt training with pytorch\n",
    "\n",
    "I will introduce following contents\n",
    "\n",
    " - **Fast data loading** with feather format\n",
    " - **Data augmentation** technic with affine transformation\n",
    " - **CNN SoTA models**: Use pytorch `pretrainedmodels` library, especially I use **`SEResNeXt`** in this notebook\n",
    " - **Training code abstraction**: Use `pytorch-ignite` module for the trainining abstraction\n",
    " \n",
    "### Update history\n",
    "\n",
    " - 2020/1/4 v2: Added albumentations augmentations introduced in [Bengali: albumentations data augmentation tutorial](https://www.kaggle.com/corochann/bengali-albumentations-data-augmentation-tutorial)"
   ]
  },
  {
   "cell_type": "markdown",
   "metadata": {},
   "source": [
    "# Table of Contents:\n",
    "**[Fast data loading with feather](#load)**<br>\n",
    "**[Dataset](#dataset)**<br>\n",
    "**[Data augmentation/processing](#processing)**<br>\n",
    "**[pytorch model & define classifier](#model)**<br>\n",
    "**[Training code](#train)**<br>\n",
    "**[Prediction](#pred)**<br>\n",
    "**[Reference and further reading](#ref)**<br>"
   ]
  },
  {
   "cell_type": "markdown",
   "metadata": {},
   "source": [
    "To install https://github.com/Cadene/pretrained-models.pytorch without internet connection, we can install library as \"dataset\".\n",
    "\n",
    "It is uploaded by @rishabhiitbhu : https://www.kaggle.com/rishabhiitbhu/pretrainedmodels"
   ]
  },
  {
   "cell_type": "code",
   "execution_count": 1,
   "metadata": {
    "ExecuteTime": {
     "end_time": "2020-03-05T03:11:31.322156Z",
     "start_time": "2020-03-05T03:11:29.065809Z"
    }
   },
   "outputs": [
    {
     "name": "stdout",
     "output_type": "stream",
     "text": [
      "Requirement already satisfied: pretrainedmodels in /home/vemlr/anaconda3/lib/python3.7/site-packages (0.7.4)\n",
      "Requirement already satisfied: torch in /home/vemlr/anaconda3/lib/python3.7/site-packages (from pretrainedmodels) (1.0.0)\n",
      "Requirement already satisfied: torchvision in /home/vemlr/anaconda3/lib/python3.7/site-packages (from pretrainedmodels) (0.2.1)\n",
      "Requirement already satisfied: tqdm in /home/vemlr/anaconda3/lib/python3.7/site-packages (from pretrainedmodels) (4.36.1)\n",
      "Requirement already satisfied: munch in /home/vemlr/anaconda3/lib/python3.7/site-packages (from pretrainedmodels) (2.5.0)\n",
      "Requirement already satisfied: numpy in /home/vemlr/anaconda3/lib/python3.7/site-packages (from torchvision->pretrainedmodels) (1.17.2)\n",
      "Requirement already satisfied: pillow>=4.1.1 in /home/vemlr/anaconda3/lib/python3.7/site-packages (from torchvision->pretrainedmodels) (6.2.0)\n",
      "Requirement already satisfied: six in /home/vemlr/anaconda3/lib/python3.7/site-packages (from torchvision->pretrainedmodels) (1.12.0)\n"
     ]
    }
   ],
   "source": [
    "!pip install pretrainedmodels"
   ]
  },
  {
   "cell_type": "code",
   "execution_count": null,
   "metadata": {
    "ExecuteTime": {
     "end_time": "2020-03-01T02:52:25.961805Z",
     "start_time": "2020-03-01T02:52:25.944233Z"
    }
   },
   "outputs": [],
   "source": []
  },
  {
   "cell_type": "code",
   "execution_count": 2,
   "metadata": {
    "ExecuteTime": {
     "end_time": "2020-03-05T03:11:34.776541Z",
     "start_time": "2020-03-05T03:11:31.324986Z"
    },
    "_kg_hide-input": true,
    "_kg_hide-output": true
   },
   "outputs": [
    {
     "data": {
      "text/html": [
       "        <script type=\"text/javascript\">\n",
       "        window.PlotlyConfig = {MathJaxConfig: 'local'};\n",
       "        if (window.MathJax) {MathJax.Hub.Config({SVG: {font: \"STIX-Web\"}});}\n",
       "        if (typeof require !== 'undefined') {\n",
       "        require.undef(\"plotly\");\n",
       "        requirejs.config({\n",
       "            paths: {\n",
       "                'plotly': ['https://cdn.plot.ly/plotly-latest.min']\n",
       "            }\n",
       "        });\n",
       "        require(['plotly'], function(Plotly) {\n",
       "            window._Plotly = Plotly;\n",
       "        });\n",
       "        }\n",
       "        </script>\n",
       "        "
      ]
     },
     "metadata": {},
     "output_type": "display_data"
    }
   ],
   "source": [
    "import gc\n",
    "import os\n",
    "from pathlib import Path\n",
    "import random\n",
    "import sys\n",
    "\n",
    "from tqdm.notebook import tqdm\n",
    "import numpy as np # linear algebra\n",
    "import pandas as pd # data processing, CSV file I/O (e.g. pd.read_csv)\n",
    "\n",
    "import matplotlib.pyplot as plt\n",
    "import seaborn as sns\n",
    "\n",
    "from IPython.core.display import display, HTML\n",
    "\n",
    "# --- plotly ---\n",
    "from plotly import tools, subplots\n",
    "import plotly.offline as py\n",
    "py.init_notebook_mode(connected=True)\n",
    "import plotly.graph_objs as go\n",
    "import plotly.express as px\n",
    "import plotly.figure_factory as ff\n",
    "\n",
    "# --- models ---\n",
    "from sklearn import preprocessing\n",
    "from sklearn.model_selection import KFold\n",
    "import lightgbm as lgb\n",
    "import xgboost as xgb\n",
    "import catboost as cb\n",
    "\n",
    "# --- setup ---\n",
    "pd.set_option('max_columns', 50)\n",
    "\n",
    "# PATH = \"/Users/helen/Desktop/Data/bengaliai-cv19/\"\n",
    "# FEATHER_PATH = \"/Users/helen/Desktop/Data/bengaliaicv19feather/\"\n",
    "\n",
    "# # PATH = \"/home/chen/Work/ly/data/Bengaliai/bengaliai-cv19/\"\n",
    "# # FEATHER_PATH = \"/home/chen/Work/ly/data/Bengaliai/bengaliaicv19feather/\"\n",
    "\n",
    "PATH = \"/home/vemlr/Work/chen_huang/Data/bengaliai-cv19/\"\n",
    "FEATHER_PATH = \"/home/vemlr/Work/chen_huang/Data/bengaliaicv19feather/\""
   ]
  },
  {
   "cell_type": "code",
   "execution_count": null,
   "metadata": {
    "ExecuteTime": {
     "end_time": "2020-03-01T03:16:32.892124Z",
     "start_time": "2020-03-01T03:16:32.889457Z"
    }
   },
   "outputs": [],
   "source": []
  },
  {
   "cell_type": "code",
   "execution_count": 3,
   "metadata": {
    "ExecuteTime": {
     "end_time": "2020-03-05T03:11:34.785453Z",
     "start_time": "2020-03-05T03:11:34.779824Z"
    },
    "_cell_guid": "b1076dfc-b9ad-4769-8c92-a6c4dae69d19",
    "_kg_hide-input": true,
    "_kg_hide-output": true,
    "_uuid": "8f2839f25d086af736a60e9eeb907d3b93b6e0e5",
    "scrolled": true
   },
   "outputs": [
    {
     "name": "stdout",
     "output_type": "stream",
     "text": [
      "/home/vemlr/Work/chen_huang/Data/bengaliai-cv19/test_image_data_0.parquet\n",
      "/home/vemlr/Work/chen_huang/Data/bengaliai-cv19/class_map.csv\n",
      "/home/vemlr/Work/chen_huang/Data/bengaliai-cv19/test_image_data_1.parquet\n",
      "/home/vemlr/Work/chen_huang/Data/bengaliai-cv19/train_image_data_3.parquet\n",
      "/home/vemlr/Work/chen_huang/Data/bengaliai-cv19/train.csv\n",
      "/home/vemlr/Work/chen_huang/Data/bengaliai-cv19/test_image_data_3.parquet\n",
      "/home/vemlr/Work/chen_huang/Data/bengaliai-cv19/train_image_data_1.parquet\n",
      "/home/vemlr/Work/chen_huang/Data/bengaliai-cv19/sample_submission.csv\n",
      "/home/vemlr/Work/chen_huang/Data/bengaliai-cv19/test.csv\n",
      "/home/vemlr/Work/chen_huang/Data/bengaliai-cv19/test_image_data_2.parquet\n",
      "/home/vemlr/Work/chen_huang/Data/bengaliai-cv19/train_image_data_2.parquet\n",
      "/home/vemlr/Work/chen_huang/Data/bengaliai-cv19/train_image_data_0.parquet\n"
     ]
    }
   ],
   "source": [
    "# This Python 3 environment comes with many helpful analytics libraries installed\n",
    "# It is defined by the kaggle/python docker image: https://github.com/kaggle/docker-python\n",
    "# For example, here's several helpful packages to load in \n",
    "\n",
    "import numpy as np # linear algebra\n",
    "import pandas as pd # data processing, CSV file I/O (e.g. pd.read_csv)\n",
    "\n",
    "# Input data files are available in the \"../input/\" directory.\n",
    "# For example, running this (by clicking run or pressing Shift+Enter) will list all files under the input directory\n",
    "\n",
    "import os\n",
    "for dirname, _, filenames in os.walk(PATH):\n",
    "    for filename in filenames:\n",
    "        print(os.path.join(dirname, filename))\n",
    "\n",
    "# Any results you write to the current directory are saved as output."
   ]
  },
  {
   "cell_type": "code",
   "execution_count": 4,
   "metadata": {
    "ExecuteTime": {
     "end_time": "2020-03-05T03:11:35.178896Z",
     "start_time": "2020-03-05T03:11:34.788732Z"
    }
   },
   "outputs": [
    {
     "name": "stdout",
     "output_type": "stream",
     "text": [
      "112 112\n"
     ]
    }
   ],
   "source": [
    "import torch\n",
    "\n",
    "debug = False\n",
    "submission=False\n",
    "batch_size= 48\n",
    "device = torch.device(\"cuda\" if torch.cuda.is_available() else \"cpu\")\n",
    "out='.'\n",
    "image_size= 128\n",
    "arch='pretrained'\n",
    "model_name='ResNext50'\n",
    "\n",
    "HEIGHT = 137\n",
    "WIDTH = 236\n",
    "# FACTOR = 0.25\n",
    "HEIGHT_NEW = 112\n",
    "WIDTH_NEW = 112\n",
    "# HEIGHT_NEW = int(HEIGHT*FACTOR)\n",
    "# WIDTH_NEW = int(WIDTH*FACTOR)\n",
    "print(WIDTH_NEW, HEIGHT_NEW)"
   ]
  },
  {
   "cell_type": "code",
   "execution_count": 5,
   "metadata": {
    "ExecuteTime": {
     "end_time": "2020-03-05T03:11:35.184056Z",
     "start_time": "2020-03-05T03:11:35.180549Z"
    },
    "_cell_guid": "79c7e3d0-c299-4dcb-8224-4455121ee9b0",
    "_kg_hide-input": false,
    "_kg_hide-output": true,
    "_uuid": "d629ff2d2480ee46fbb7e2d37f6b5fab8052498a"
   },
   "outputs": [],
   "source": [
    "datadir = Path(PATH)\n",
    "featherdir = Path(FEATHER_PATH)\n",
    "LR = 2.5e-4\n",
    "WD = 1e-4\n",
    "DP = 0.2\n",
    "HDIM = 1024\n",
    "outdir = Path('../res/{}_LR{}_WD{}_DP{}_IM{}-{}_bs{}_4head_c3aug'.format(model_name, LR, WD, DP, HEIGHT_NEW, WIDTH_NEW,\n",
    "                                                            batch_size))\n",
    "\n",
    "TH = 20.0"
   ]
  },
  {
   "cell_type": "code",
   "execution_count": null,
   "metadata": {},
   "outputs": [],
   "source": []
  },
  {
   "cell_type": "code",
   "execution_count": 6,
   "metadata": {
    "ExecuteTime": {
     "end_time": "2020-03-05T03:11:35.188197Z",
     "start_time": "2020-03-05T03:11:35.186343Z"
    },
    "_kg_hide-input": true,
    "_kg_hide-output": true
   },
   "outputs": [],
   "source": [
    "# Read in the data CSV files\n",
    "# train = pd.read_csv(datadir/'train.csv')\n",
    "# test = pd.read_csv(datadir/'test.csv')\n",
    "# sample_submission = pd.read_csv(datadir/'sample_submission.csv')\n",
    "# class_map = pd.read_csv(datadir/'class_map.csv')"
   ]
  },
  {
   "cell_type": "markdown",
   "metadata": {},
   "source": [
    "# Fast data loading with feather\n",
    "\n",
    "Refer [Bengali.AI super fast data loading with feather](https://www.kaggle.com/corochann/bengali-ai-super-fast-data-loading-with-feather) and [dataset](https://www.kaggle.com/corochann/bengaliaicv19feather) for detail.<br/>\n",
    "Original `parquet` format takes about 60 sec to load 1 data, while `feather` format takes about **2 sec to load 1 data!!!**\n",
    "\n",
    "### How to add dataset\n",
    "\n",
    "When you write kernel, click \"+ Add Data\" botton on right top.<br/>\n",
    "Then inside window pop-up, you can see \"Search Datasets\" text box on right top.<br/>\n",
    "You can type \"bengaliai-cv19-feather\" to find this dataset and press \"Add\" botton to add the data."
   ]
  },
  {
   "cell_type": "code",
   "execution_count": 7,
   "metadata": {
    "ExecuteTime": {
     "end_time": "2020-03-05T03:11:35.293798Z",
     "start_time": "2020-03-05T03:11:35.189968Z"
    }
   },
   "outputs": [],
   "source": [
    "import cv2\n",
    "def bbox(img):\n",
    "    rows = np.any(img, axis=1)\n",
    "    cols = np.any(img, axis=0)\n",
    "    rmin, rmax = np.where(rows)[0][[0, -1]]\n",
    "    cmin, cmax = np.where(cols)[0][[0, -1]]\n",
    "    return rmin, rmax, cmin, cmax\n",
    "\n",
    "def crop_resize(img0, size=image_size, pad=3, thh = 80, thl = 28):\n",
    "    #crop a box around pixels large than the threshold \n",
    "    #some images contain line at the sides\n",
    "    ymin,ymax,xmin,xmax = bbox(img0[5:-5,5:-5] > thh)\n",
    "    #cropping may cut too much, so we need to add it back\n",
    "    xmin = xmin - 13 if (xmin > 13) else 0\n",
    "    ymin = ymin - 10 if (ymin > 10) else 0\n",
    "    xmax = xmax + 13 if (xmax < WIDTH - 13) else WIDTH\n",
    "    ymax = ymax + 10 if (ymax < HEIGHT - 10) else HEIGHT\n",
    "    img = img0[ymin:ymax,xmin:xmax]\n",
    "    #remove lo intensity pixels as noise\n",
    "    img[img < thl] = 0\n",
    "    lx, ly = xmax-xmin,ymax-ymin\n",
    "    l = max(lx,ly) + pad\n",
    "    #make sure that the aspect ratio is kept in rescaling\n",
    "    img = np.pad(img, [((l-ly)//2,), ((l-lx)//2,)], mode='constant')\n",
    "    return cv2.resize(img,(size,size))\n"
   ]
  },
  {
   "cell_type": "code",
   "execution_count": 8,
   "metadata": {
    "ExecuteTime": {
     "end_time": "2020-03-05T03:11:35.303358Z",
     "start_time": "2020-03-05T03:11:35.297300Z"
    }
   },
   "outputs": [],
   "source": [
    "import numpy as np\n",
    "import pandas as pd\n",
    "import gc\n",
    "\n",
    "\n",
    "def prepare_image(datadir, featherdir, data_type='train',\n",
    "                  submission=False, indices=[0, 1, 2, 3]):\n",
    "    assert data_type in ['train', 'test']\n",
    "    if submission:\n",
    "        image_df_list = [pd.read_parquet(datadir / f'{data_type}_image_data_{i}.parquet')\n",
    "                         for i in indices]\n",
    "    else:\n",
    "        image_df_list = [pd.read_feather(featherdir / f'{data_type}_image_data_{i}.feather')\n",
    "                         for i in indices]\n",
    "\n",
    "    print('image_df_list', len(image_df_list))\n",
    "    images = [df.iloc[:, 1:].values.reshape(-1, HEIGHT, WIDTH).astype('uint8') for df in image_df_list]\n",
    "\n",
    "#     images = []\n",
    "#     for df in image_df_list:\n",
    "#         for idx in tqdm(range(len(df))):\n",
    "#             images.append(crop_resize(df.iloc[idx, 1:].values.reshape(HEIGHT, WIDTH).astype('uint8')))\n",
    "    del image_df_list\n",
    "    gc.collect()\n",
    "    images = np.concatenate(images, axis=0)\n",
    "    return images\n"
   ]
  },
  {
   "cell_type": "code",
   "execution_count": 9,
   "metadata": {
    "ExecuteTime": {
     "end_time": "2020-03-05T03:11:35.551395Z",
     "start_time": "2020-03-05T03:11:35.305999Z"
    }
   },
   "outputs": [],
   "source": [
    "# train = pd.read_csv(datadir/'train.csv')\n",
    "train = pd.read_csv('train_with_fold-comb.csv')\n",
    "train_labels = train[['grapheme_root', 'vowel_diacritic', 'consonant_diacritic', 'comb_label']].values\n",
    "n_comb_class = 1295\n",
    "# class_map = dict(pd.read_csv('grapheme_1295.csv')[['grapheme','label']].values)\n",
    "# comb_labels = np.array([class_map[itm] for ind, itm in train['grapheme'].items()]).reshape(-1,1)\n",
    "# train_labels4 = np.hstack((train_labels, comb_labels))\n",
    "# train['comb_label'] = comb_labels\n",
    "# train.to_csv('train_with_fold-comb.csv')"
   ]
  },
  {
   "cell_type": "code",
   "execution_count": 10,
   "metadata": {
    "ExecuteTime": {
     "end_time": "2020-03-05T03:11:35.559555Z",
     "start_time": "2020-03-05T03:11:35.553531Z"
    }
   },
   "outputs": [
    {
     "name": "stdout",
     "output_type": "stream",
     "text": [
      "(3, 1)\n",
      "(2,)\n",
      "(2, 1)\n"
     ]
    }
   ],
   "source": [
    "a = np.random.rand(3,1)\n",
    "print(np.shape(a))\n",
    "# b = np.random.rand(3,4)\n",
    "# print(a,b)\n",
    "# c = np.hstack((a,b))\n",
    "# print(c)\n",
    "d = np.array([1,1])\n",
    "print(np.shape(d))\n",
    "d = d.reshape(-1,1)\n",
    "print(np.shape(d))"
   ]
  },
  {
   "cell_type": "code",
   "execution_count": 11,
   "metadata": {
    "ExecuteTime": {
     "end_time": "2020-03-05T03:11:35.564605Z",
     "start_time": "2020-03-05T03:11:35.561574Z"
    }
   },
   "outputs": [],
   "source": [
    "# print(class_map)"
   ]
  },
  {
   "cell_type": "code",
   "execution_count": 12,
   "metadata": {
    "ExecuteTime": {
     "end_time": "2020-03-05T03:13:15.078378Z",
     "start_time": "2020-03-05T03:11:35.567511Z"
    }
   },
   "outputs": [
    {
     "name": "stdout",
     "output_type": "stream",
     "text": [
      "image_df_list 4\n",
      "CPU times: user 29.9 s, sys: 30 s, total: 59.9 s\n",
      "Wall time: 6.62 s\n"
     ]
    }
   ],
   "source": [
    "%%time\n",
    "indices = [0,1,2,3] #if debug else [0, 1, 2, 3]\n",
    "train_images = prepare_image(\n",
    "    datadir, featherdir, data_type='train', submission=False, indices=indices)"
   ]
  },
  {
   "cell_type": "code",
   "execution_count": null,
   "metadata": {},
   "outputs": [],
   "source": []
  },
  {
   "cell_type": "code",
   "execution_count": 13,
   "metadata": {
    "ExecuteTime": {
     "end_time": "2020-03-05T03:13:15.123932Z",
     "start_time": "2020-03-05T03:13:15.095398Z"
    }
   },
   "outputs": [
    {
     "name": "stdout",
     "output_type": "stream",
     "text": [
      "200840\n",
      "200840\n",
      "[127   2   0  58]\n"
     ]
    }
   ],
   "source": [
    "print(len(train_labels))\n",
    "print(len(train))\n",
    "print(train_labels[200840-1])"
   ]
  },
  {
   "cell_type": "code",
   "execution_count": 14,
   "metadata": {
    "ExecuteTime": {
     "end_time": "2020-03-05T03:13:15.127468Z",
     "start_time": "2020-03-05T03:13:15.125673Z"
    }
   },
   "outputs": [],
   "source": [
    "#  import sys \n",
    "\n",
    "# # These are the usual ipython objects, including this one you are creating \n",
    "# ipython_vars = ['In', 'Out', 'exit', 'quit', 'get_ipython', 'ipython_vars'] \n",
    "\n",
    "# # Get a sorted list of the objects and their sizes \n",
    "# sorted([(x, sys.getsizeof(globals().get(x))) for x in dir() if not x.startswith('_') and x not in sys.modules and x not in ipython_vars], key=lambda x: x[1], reverse=True) "
   ]
  },
  {
   "cell_type": "markdown",
   "metadata": {},
   "source": [
    "<a id=\"dataset\"></a>\n",
    "# Dataset"
   ]
  },
  {
   "cell_type": "code",
   "execution_count": 15,
   "metadata": {
    "ExecuteTime": {
     "end_time": "2020-03-05T03:13:15.198750Z",
     "start_time": "2020-03-05T03:13:15.130459Z"
    },
    "_kg_hide-input": true
   },
   "outputs": [],
   "source": [
    "\"\"\"\n",
    "Referenced `chainer.dataset.DatasetMixin` to work with pytorch Dataset.\n",
    "\"\"\"\n",
    "import numpy\n",
    "import six\n",
    "import torch\n",
    "from torch.utils.data.dataset import Dataset\n",
    "\n",
    "\n",
    "class DatasetMixin(Dataset):\n",
    "\n",
    "    def __init__(self, transform=None):\n",
    "        self.transform = transform\n",
    "\n",
    "    def __getitem__(self, index):\n",
    "        \"\"\"Returns an example or a sequence of examples.\"\"\"\n",
    "        if torch.is_tensor(index):\n",
    "            index = index.tolist()\n",
    "        if isinstance(index, slice):\n",
    "            current, stop, step = index.indices(len(self))\n",
    "            return [self.get_example_wrapper(i) for i in\n",
    "                    six.moves.range(current, stop, step)]\n",
    "        elif isinstance(index, list) or isinstance(index, numpy.ndarray):\n",
    "            return [self.get_example_wrapper(i) for i in index]\n",
    "        else:\n",
    "            return self.get_example_wrapper(index)\n",
    "\n",
    "    def __len__(self):\n",
    "        \"\"\"Returns the number of data points.\"\"\"\n",
    "        raise NotImplementedError\n",
    "\n",
    "    def get_example_wrapper(self, i):\n",
    "        \"\"\"Wrapper of `get_example`, to apply `transform` if necessary\"\"\"\n",
    "        example = self.get_example(i)\n",
    "        if self.transform:\n",
    "            example = self.transform(example)\n",
    "        return example\n",
    "\n",
    "    def get_example(self, i):\n",
    "        \"\"\"Returns the i-th example.\n",
    "\n",
    "        Implementations should override it. It should raise :class:`IndexError`\n",
    "        if the index is invalid.\n",
    "\n",
    "        Args:\n",
    "            i (int): The index of the example.\n",
    "\n",
    "        Returns:\n",
    "            The i-th example.\n",
    "\n",
    "        \"\"\"\n",
    "        raise NotImplementedError\n"
   ]
  },
  {
   "cell_type": "markdown",
   "metadata": {},
   "source": [
    "This `DatasetMixin` class can be used to define any custom dataset class in pytorch. We can implement `get_example(self, i)` method to return `i`-th data.\n",
    "\n",
    "Here I return i-th image `x` and `label`, with scaling image to be value ranges between 0~1."
   ]
  },
  {
   "cell_type": "code",
   "execution_count": 16,
   "metadata": {
    "ExecuteTime": {
     "end_time": "2020-03-05T03:13:15.212148Z",
     "start_time": "2020-03-05T03:13:15.200989Z"
    }
   },
   "outputs": [],
   "source": [
    "import numpy as np\n",
    "\n",
    "\n",
    "class BengaliAIDataset(DatasetMixin):\n",
    "    def __init__(self, images, labels=None, transform=None, indices=None):\n",
    "        super(BengaliAIDataset, self).__init__(transform=transform)\n",
    "        self.images = images\n",
    "        self.labels = labels\n",
    "        if indices is None:\n",
    "            indices = np.arange(len(images))\n",
    "        self.indices = indices\n",
    "        self.train = labels is not None\n",
    "\n",
    "    def __len__(self):\n",
    "        \"\"\"return length of this dataset\"\"\"\n",
    "        return len(self.indices)\n",
    "\n",
    "    def get_example(self, i):\n",
    "        \"\"\"Return i-th data\"\"\"\n",
    "        i = self.indices[i]\n",
    "        x = self.images[i]\n",
    "        # Opposite white and black: background will be white and\n",
    "        # for future Affine transformation\n",
    "        x = (255 - x).astype(np.float32) / 255.\n",
    "        if self.train:\n",
    "            y = self.labels[i]\n",
    "            return x, y\n",
    "        else:\n",
    "            return x\n"
   ]
  },
  {
   "cell_type": "markdown",
   "metadata": {},
   "source": [
    "Let's see how this `BengaliAIDataset` work"
   ]
  },
  {
   "cell_type": "code",
   "execution_count": 17,
   "metadata": {
    "ExecuteTime": {
     "end_time": "2020-03-05T03:13:15.218137Z",
     "start_time": "2020-03-05T03:13:15.214876Z"
    }
   },
   "outputs": [],
   "source": [
    "# train_dataset_noaug = BengaliAIDataset(train_images[:200], train_labels)"
   ]
  },
  {
   "cell_type": "markdown",
   "metadata": {},
   "source": [
    "`train_dataset[i]` returns i-th image array and 3 target labels (graphme_root, vowel_diacritic and consonant_diacritic)."
   ]
  },
  {
   "cell_type": "code",
   "execution_count": 18,
   "metadata": {
    "ExecuteTime": {
     "end_time": "2020-03-05T03:13:15.221584Z",
     "start_time": "2020-03-05T03:13:15.219944Z"
    }
   },
   "outputs": [],
   "source": [
    "# image, label = train_dataset_noaug[0]\n",
    "# print('image', image.shape, 'label', label)"
   ]
  },
  {
   "cell_type": "code",
   "execution_count": 19,
   "metadata": {
    "ExecuteTime": {
     "end_time": "2020-03-05T03:13:15.225070Z",
     "start_time": "2020-03-05T03:13:15.223448Z"
    }
   },
   "outputs": [],
   "source": [
    "# print(image[:5,:5])\n",
    "# print(20/255)"
   ]
  },
  {
   "cell_type": "code",
   "execution_count": 20,
   "metadata": {
    "ExecuteTime": {
     "end_time": "2020-03-05T03:13:15.229800Z",
     "start_time": "2020-03-05T03:13:15.226420Z"
    },
    "_kg_hide-input": true
   },
   "outputs": [],
   "source": [
    "# nrow, ncol = 5, 6\n",
    "\n",
    "# fig, axes = plt.subplots(nrow, ncol, figsize=(20, 8))\n",
    "# axes = axes.flatten()\n",
    "# for i, ax in tqdm(enumerate(axes)):\n",
    "#     image, label = train_dataset_noaug[i]\n",
    "#     ax.imshow(crop_resize(image, thh = TH/255, thl=28.0/255)) #, cmap='Greys'\n",
    "#     ax.set_title(f'label: {label}')\n",
    "# plt.tight_layout()\n",
    "# plt.show()\n",
    "# plt.savefig('bengaliai.png')"
   ]
  },
  {
   "cell_type": "markdown",
   "metadata": {},
   "source": [
    "<a id=\"processing\"></a>\n",
    "# Data augmentation/processing"
   ]
  },
  {
   "cell_type": "markdown",
   "metadata": {},
   "source": [
    "For CNN training, data augmentation is important to improve test accuracy (generalization performance). I will show some image preprocessing to increase the data variety."
   ]
  },
  {
   "cell_type": "code",
   "execution_count": 21,
   "metadata": {
    "ExecuteTime": {
     "end_time": "2020-03-05T03:13:15.252094Z",
     "start_time": "2020-03-05T03:13:15.231261Z"
    },
    "_kg_hide-input": true
   },
   "outputs": [],
   "source": [
    "\"\"\"\n",
    "From https://www.kaggle.com/corochann/deep-learning-cnn-with-chainer-lb-0-99700\n",
    "\"\"\"\n",
    "import cv2\n",
    "from skimage.transform import SimilarityTransform, AffineTransform, warp\n",
    "import numpy as np\n",
    "import math\n",
    "\n",
    "\n",
    "def affine_image(img):\n",
    "    \"\"\"\n",
    "\n",
    "    Args:\n",
    "        img: (h, w) or (1, h, w)\n",
    "\n",
    "    Returns:\n",
    "        img: (h, w)\n",
    "    \"\"\"\n",
    "    # ch, h, w = img.shape\n",
    "    # img = img / 255.\n",
    "    if img.ndim == 3:\n",
    "        img = img[0]\n",
    "\n",
    "    # --- scale ---\n",
    "    min_scale = 0.85\n",
    "    max_scale = 1.15\n",
    "    sx = np.random.uniform(min_scale, max_scale)\n",
    "    sy = np.random.uniform(min_scale, max_scale)\n",
    "\n",
    "    # --- rotation ---\n",
    "    max_rot_angle = 10\n",
    "    rot_angle = np.random.uniform(-max_rot_angle, max_rot_angle)*np.pi/180.0\n",
    "\n",
    "    # --- shear ---\n",
    "    max_shear_angle = 10\n",
    "    shear_angle = np.random.uniform(-max_shear_angle, max_shear_angle)*np.pi/180.0\n",
    "\n",
    "    # --- translation ---\n",
    "    max_translation = image_size*0.075\n",
    "    tx = np.random.randint(-max_translation, max_translation)\n",
    "    ty = np.random.randint(-max_translation, max_translation)\n",
    "    \n",
    "#     print(\"rot:{}, shear:{},tx:{},ty:{}\".format(rot_angle,shear_angle, tx,ty))\n",
    "    \n",
    "    shape = img.shape\n",
    "    shape_size = shape[:2]\n",
    "    center = np.float32(shape_size) / 2.\n",
    "        \n",
    "    pre = SimilarityTransform(translation=-center)\n",
    "    tform = AffineTransform(scale=(sx, sy), rotation=rot_angle, shear=shear_angle, translation=(tx,ty)) \n",
    "    after = AffineTransform(translation=center)\n",
    "    total_transform = pre+tform+after\n",
    "#     total_transform = tform\n",
    "    transformed_image = warp(img, total_transform.params, mode='constant')\n",
    "    \n",
    "    assert transformed_image.ndim == 2\n",
    "    return transformed_image\n",
    "\n",
    "def bbox(img):\n",
    "    rows = np.any(img, axis=1)\n",
    "    cols = np.any(img, axis=0)\n",
    "    rmin, rmax = np.where(rows)[0][[0, -1]]\n",
    "    cmin, cmax = np.where(cols)[0][[0, -1]]\n",
    "    return rmin, rmax, cmin, cmax\n",
    "\n",
    "def crop_char_image_thin(image, threshold=40./255., pad = 16):\n",
    "    assert image.ndim == 2\n",
    "    is_black = image > threshold\n",
    "\n",
    "    is_black_vertical = np.sum(is_black, axis=0) > 0\n",
    "    is_black_horizontal = np.sum(is_black, axis=1) > 0\n",
    "    left = np.argmax(is_black_horizontal)\n",
    "    right = np.argmax(is_black_horizontal[::-1])\n",
    "    top = np.argmax(is_black_vertical)\n",
    "    bottom = np.argmax(is_black_vertical[::-1])\n",
    "    height, width = image.shape\n",
    "    cropped_image = image[left:height - right, top:width - bottom]\n",
    "    return cropped_image\n",
    "\n",
    "def crop_char_image(img0, threshold=TH/255., pad=10):\n",
    "    ymin,ymax,xmin,xmax = bbox(img0[5:-5,5:-5] > threshold)\n",
    "    #cropping may cut too much, so we need to add it back\n",
    "#     xmin = xmin - 5 if (xmin > 5) else 0\n",
    "#     ymin = ymin - 5 if (ymin > 5) else 0\n",
    "#     xmax = xmax + 5 if (xmax < WIDTH - 5) else WIDTH\n",
    "#     ymax = ymax + 5 if (ymax < HEIGHT - 5) else HEIGHT\n",
    "    xmin = xmin - 13 if (xmin > 13) else 0\n",
    "    ymin = ymin - 10 if (ymin > 10) else 0\n",
    "    xmax = xmax + 13 if (xmax < WIDTH - 13) else WIDTH\n",
    "    ymax = ymax + 10 if (ymax < HEIGHT - 10) else HEIGHT\n",
    "    img = img0[ymin:ymax,xmin:xmax]\n",
    "    #remove lo intensity pixels as noise\n",
    "    img[img < 28./255.] = 0\n",
    "    lx, ly = xmax-xmin,ymax-ymin\n",
    "    l = max(lx,ly) + pad\n",
    "    #make sure that the aspect ratio is kept in rescaling\n",
    "    img = np.pad(img, [((l-ly)//2,), ((l-lx)//2,)], mode='constant')\n",
    "    return img\n",
    "\n",
    "# def crop_char_image_new(img0, threshold=TH/255., pad=10):\n",
    "#     ymin,ymax,xmin,xmax = bbox(img0 > threshold)\n",
    "#     #cropping may cut too much, so we need to add it back\n",
    "# #     xmin = xmin - 13 if (xmin > 13) else 0\n",
    "# #     ymin = ymin - 10 if (ymin > 10) else 0\n",
    "# #     xmax = xmax + 13 if (xmax < WIDTH - 13) else WIDTH\n",
    "# #     ymax = ymax + 10 if (ymax < HEIGHT - 10) else HEIGHT\n",
    "#     img = img0[ymin:ymax,xmin:xmax]\n",
    "#     #remove lo intensity pixels as noise\n",
    "#     img[img < 28./255.] = 0\n",
    "#     lx, ly = xmax-xmin,ymax-ymin\n",
    "#     l = max(lx,ly) + pad\n",
    "#     #make sure that the aspect ratio is kept in rescaling\n",
    "#     img = np.pad(img, [(pad//2,), (pad//2,)], mode='constant')\n",
    "#     return img\n",
    "\n",
    "def resize(image, size=(WIDTH_NEW, HEIGHT_NEW)):\n",
    "    return cv2.resize(image, size)"
   ]
  },
  {
   "cell_type": "markdown",
   "metadata": {},
   "source": [
    "## Affine transformation for data augmentation\n",
    "\n",
    "To increase validation score, the number of training data is important. When we can use more number of training data, we can reduce overfitting and validation score becomes high.\n",
    "\n",
    "\"Data augmentation\" is a technic to virtually create extra training data, based on the given training data. For this MNIST task, data augmentation can be achieved by utilizing affine transformation.\n",
    "\n",
    "1. Rotation AffineTransformation\n",
    "2. Translation\n",
    "3. Scale\n",
    "4. Shear"
   ]
  },
  {
   "cell_type": "code",
   "execution_count": 22,
   "metadata": {
    "ExecuteTime": {
     "end_time": "2020-03-05T03:13:15.257062Z",
     "start_time": "2020-03-05T03:13:15.254793Z"
    }
   },
   "outputs": [],
   "source": [
    "# nrow, ncol = 3, 6\n",
    "\n",
    "# fig, axes = plt.subplots(nrow, ncol, figsize=(20, 8))\n",
    "# axes = axes.flatten()\n",
    "# for i, ax in tqdm(enumerate(axes)):\n",
    "#     image, label = train_dataset_noaug[2]\n",
    "#     if i ==0:\n",
    "#         ax.imshow(image, cmap='Greys')\n",
    "#     else:\n",
    "#         ax.imshow(resize(crop_char_image_thin(affine_image(crop_char_image(image)))), cmap='Greys')\n",
    "#     ax.set_title(f'label: {label}')\n",
    "# plt.tight_layout()\n",
    "# # crop_resize(image, thh = 80.0/255, thl=28.0/255, pad=16)"
   ]
  },
  {
   "cell_type": "code",
   "execution_count": 23,
   "metadata": {
    "ExecuteTime": {
     "end_time": "2020-03-05T03:13:15.266644Z",
     "start_time": "2020-03-05T03:13:15.264696Z"
    }
   },
   "outputs": [],
   "source": [
    "# nrow, ncol = 3, 6\n",
    "\n",
    "# fig, axes = plt.subplots(nrow, ncol, figsize=(20, 8))\n",
    "# axes = axes.flatten()\n",
    "# PAD = 20\n",
    "# for i, ax in tqdm(enumerate(axes)):\n",
    "#     image, label = train_dataset_noaug[2]\n",
    "#     if i ==0:\n",
    "#         ax.imshow(image, cmap='Greys')\n",
    "#     elif i==1:\n",
    "#         ax.imshow(crop_char_image(image), cmap='Greys')\n",
    "#     else:\n",
    "#         ax.imshow(resize((affine_image(crop_char_image(image)))), cmap='Greys')\n",
    "#     ax.set_title(f'label: {label}')\n",
    "# plt.tight_layout()"
   ]
  },
  {
   "cell_type": "code",
   "execution_count": null,
   "metadata": {},
   "outputs": [],
   "source": []
  },
  {
   "cell_type": "code",
   "execution_count": null,
   "metadata": {},
   "outputs": [],
   "source": []
  },
  {
   "cell_type": "markdown",
   "metadata": {},
   "source": [
    "When the image is slightly rotated, shifted (transformed) or scaled, the image looks like the same label. We can virtually create another image data from one image in such a way."
   ]
  },
  {
   "cell_type": "markdown",
   "metadata": {},
   "source": [
    "## crop image\n",
    "\n",
    "Here I crop image"
   ]
  },
  {
   "cell_type": "code",
   "execution_count": 24,
   "metadata": {
    "ExecuteTime": {
     "end_time": "2020-03-05T03:13:15.272894Z",
     "start_time": "2020-03-05T03:13:15.270933Z"
    }
   },
   "outputs": [],
   "source": [
    "# nrow, ncol = 5, 6\n",
    "\n",
    "# fig, axes = plt.subplots(nrow, ncol, figsize=(20, 8))\n",
    "# axes = axes.flatten()\n",
    "# for i, ax in tqdm(enumerate(axes)):\n",
    "#     image, label = train_dataset_noaug[i]\n",
    "#     ax.imshow(crop_char_image(image, threshold=TH/255.), cmap='Greys')\n",
    "#     ax.set_title(f'label: {label}')\n",
    "# plt.tight_layout()"
   ]
  },
  {
   "cell_type": "markdown",
   "metadata": {},
   "source": [
    "## resize image\n",
    "\n",
    "We need to resize image after crop, to align image size for CNN batch training.\n",
    "\n",
    "whole process: crop_Char_imgage->affine->crop_char_image_thin->resize"
   ]
  },
  {
   "cell_type": "code",
   "execution_count": 25,
   "metadata": {
    "ExecuteTime": {
     "end_time": "2020-03-05T03:13:15.276738Z",
     "start_time": "2020-03-05T03:13:15.274499Z"
    },
    "_kg_hide-input": true
   },
   "outputs": [],
   "source": [
    "# nrow, ncol = 5, 6\n",
    "\n",
    "# fig, axes = plt.subplots(nrow, ncol, figsize=(20, 8))\n",
    "# axes = axes.flatten()\n",
    "# for i, ax in tqdm(enumerate(axes)):\n",
    "#     image, label = train_dataset_noaug[i]\n",
    "#     ax.imshow(resize((affine_image((crop_char_image(image, threshold=TH/255.))))), cmap='Greys')\n",
    "#     ax.set_title(f'label: {label}')\n",
    "# plt.tight_layout()"
   ]
  },
  {
   "cell_type": "markdown",
   "metadata": {},
   "source": [
    "Put everything together with `Transform` class. <br>\n",
    "[Update] I added **albumentations augmentations** introduced in [Bengali: albumentations data augmentation tutorial](https://www.kaggle.com/corochann/bengali-albumentations-data-augmentation-tutorial)."
   ]
  },
  {
   "cell_type": "code",
   "execution_count": 26,
   "metadata": {
    "ExecuteTime": {
     "end_time": "2020-03-05T03:13:15.434160Z",
     "start_time": "2020-03-05T03:13:15.278886Z"
    }
   },
   "outputs": [],
   "source": [
    "from albumentations import (\n",
    "    HorizontalFlip, IAAPerspective, ShiftScaleRotate, CLAHE, RandomRotate90,\n",
    "    Transpose, ShiftScaleRotate, Blur, OpticalDistortion, GridDistortion, HueSaturationValue,\n",
    "    IAAAdditiveGaussianNoise, GaussNoise, MotionBlur, MedianBlur, IAAPiecewiseAffine,IAAAffine,\n",
    "    IAASharpen, IAAEmboss, RandomBrightnessContrast, Flip, OneOf, Compose\n",
    ")"
   ]
  },
  {
   "cell_type": "code",
   "execution_count": 27,
   "metadata": {
    "ExecuteTime": {
     "end_time": "2020-03-05T03:13:15.439245Z",
     "start_time": "2020-03-05T03:13:15.435836Z"
    }
   },
   "outputs": [],
   "source": [
    "affine_train_transform = Compose([\n",
    "    OneOf([\n",
    "        ShiftScaleRotate(scale_limit=.15, rotate_limit=20, border_mode=cv2.BORDER_CONSTANT),\n",
    "        IAAAffine(shear=20, mode='constant'),\n",
    "        IAAPerspective(),\n",
    "    ])\n",
    "])"
   ]
  },
  {
   "cell_type": "code",
   "execution_count": null,
   "metadata": {},
   "outputs": [],
   "source": []
  },
  {
   "cell_type": "code",
   "execution_count": 28,
   "metadata": {
    "ExecuteTime": {
     "end_time": "2020-03-05T03:13:15.464036Z",
     "start_time": "2020-03-05T03:13:15.441252Z"
    },
    "_kg_hide-input": false,
    "code_folding": []
   },
   "outputs": [],
   "source": [
    "import albumentations as A\n",
    "import numpy as np\n",
    "\n",
    "\n",
    "def add_gaussian_noise(x, sigma):\n",
    "    x += np.random.randn(*x.shape) * sigma\n",
    "    x = np.clip(x, 0., 1.)\n",
    "    return x\n",
    "\n",
    "\n",
    "def _evaluate_ratio(ratio):\n",
    "    if ratio <= 0.:\n",
    "        return False\n",
    "    return np.random.uniform() < ratio\n",
    "\n",
    "\n",
    "def apply_aug(aug, image):\n",
    "    return aug(image=image)['image']\n",
    "\n",
    "class Transform:\n",
    "    def __init__(self, affine=True, crop=True, size=(64, 64),\n",
    "                 normalize=True, train=True, threshold=TH,\n",
    "                 sigma=-1., blur_ratio=0., noise_ratio=0., cutout_ratio=0.,\n",
    "                 grid_distortion_ratio=0., elastic_distortion_ratio=0., random_brightness_ratio=0.,\n",
    "                 piece_affine_ratio=0., ssr_ratio=0.):\n",
    "        self.affine = affine\n",
    "        self.crop = crop\n",
    "        self.size = size\n",
    "        self.normalize = normalize\n",
    "        self.train = train\n",
    "        self.threshold = threshold / 255.\n",
    "        self.sigma = sigma / 255.\n",
    "\n",
    "        self.blur_ratio = blur_ratio\n",
    "        self.noise_ratio = noise_ratio\n",
    "        self.cutout_ratio = cutout_ratio\n",
    "        self.grid_distortion_ratio = grid_distortion_ratio\n",
    "        self.elastic_distortion_ratio = elastic_distortion_ratio\n",
    "        self.random_brightness_ratio = random_brightness_ratio\n",
    "        self.piece_affine_ratio = piece_affine_ratio\n",
    "        self.ssr_ratio = ssr_ratio\n",
    "\n",
    "    def __call__(self, example):\n",
    "        if self.train:\n",
    "            x, y = example\n",
    "        else:\n",
    "            x = example\n",
    "            \n",
    "        # --- Train/Test common preprocessing ---\n",
    "        if self.crop:\n",
    "            x = crop_char_image(x, threshold=self.threshold)\n",
    "            \n",
    "        # --- Augmentation ---\n",
    "#         if self.affine:\n",
    "#             x = affine_image(x)\n",
    "        if self.affine:\n",
    "            x = apply_aug(affine_train_transform, x)\n",
    "            \n",
    "#         if self.crop:\n",
    "#             x = crop_char_image_thin(x, threshold=self.threshold)        \n",
    "            \n",
    "        if self.size is not None:\n",
    "            x = resize(x, size=self.size)\n",
    "            \n",
    "        h, w = x.shape\n",
    "\n",
    "        if self.sigma > 0.:\n",
    "            x = add_gaussian_noise(x, sigma=self.sigma)\n",
    "\n",
    "        # albumentations...\n",
    "        x = x.astype(np.float32)\n",
    "        assert x.ndim == 2\n",
    "        # 1. blur\n",
    "        if _evaluate_ratio(self.blur_ratio):\n",
    "            r = np.random.uniform()\n",
    "            if r < 0.25:\n",
    "                x = apply_aug(A.Blur(p=1.0), x)\n",
    "            elif r < 0.5:\n",
    "                x = apply_aug(A.MedianBlur(blur_limit=5, p=1.0), x)\n",
    "            elif r < 0.75:\n",
    "                x = apply_aug(A.GaussianBlur(p=1.0), x)\n",
    "            else:\n",
    "                x = apply_aug(A.MotionBlur(p=1.0), x)\n",
    "\n",
    "        if _evaluate_ratio(self.noise_ratio):\n",
    "            r = np.random.uniform()\n",
    "            if r < 0.50:\n",
    "                x = apply_aug(A.GaussNoise(var_limit=5. / 255., p=1.0), x)\n",
    "            else:\n",
    "                x = apply_aug(A.MultiplicativeNoise(p=1.0), x)\n",
    "\n",
    "        if _evaluate_ratio(self.cutout_ratio):\n",
    "            r = np.random.uniform()\n",
    "            if r < 0.5:\n",
    "                x = apply_aug(A.CoarseDropout(max_holes=4, max_height=h//8, max_width=w//8, p=1.0), x)\n",
    "            else:\n",
    "                x = apply_aug(A.Cutout(num_holes=1,  max_h_size=h//3, max_w_size=w//3, p=1.0),x)  # Deprecated...\n",
    "\n",
    "        if _evaluate_ratio(self.grid_distortion_ratio):\n",
    "            x = apply_aug(A.GridDistortion(p=1.0, border_mode=cv2.BORDER_CONSTANT, value=0), x)\n",
    "\n",
    "        if _evaluate_ratio(self.elastic_distortion_ratio):\n",
    "            x = apply_aug(A.ElasticTransform(\n",
    "                sigma=50, alpha=1, alpha_affine=10, p=1.0, border_mode=cv2.BORDER_CONSTANT, value=0), x)\n",
    "\n",
    "        if _evaluate_ratio(self.random_brightness_ratio):\n",
    "            # A.RandomBrightness(p=1.0)  # Deprecated...\n",
    "            # A.RandomContrast(p=1.0)    # Deprecated...\n",
    "            x = apply_aug(A.RandomBrightnessContrast(p=1.0), x)\n",
    "\n",
    "        if _evaluate_ratio(self.piece_affine_ratio):\n",
    "            x = apply_aug(A.IAAPiecewiseAffine(p=1.0, mode='constant'), x)\n",
    "\n",
    "        if _evaluate_ratio(self.ssr_ratio):\n",
    "            x = apply_aug(A.ShiftScaleRotate(\n",
    "                shift_limit=0.0625,\n",
    "                scale_limit=0.1,\n",
    "                rotate_limit=10,\n",
    "                p=1.0, border_mode=cv2.BORDER_CONSTANT, value=0), x)\n",
    "\n",
    "        if self.normalize:\n",
    "#             x = (x.astype(np.float32) - 0.0692) / 0.2051  ##ORG\n",
    "            x = (x.astype(np.float32) - 0.449) / 0.226 ##Imagenet\n",
    "        if x.ndim == 2:\n",
    "            x = x[None, :, :]\n",
    "        x = x.astype(np.float32)\n",
    "        if self.train:\n",
    "            y = y.astype(np.int64)\n",
    "            return x, y\n",
    "        else:\n",
    "            return x"
   ]
  },
  {
   "cell_type": "code",
   "execution_count": null,
   "metadata": {},
   "outputs": [],
   "source": []
  },
  {
   "cell_type": "code",
   "execution_count": 29,
   "metadata": {
    "ExecuteTime": {
     "end_time": "2020-03-05T03:13:15.469486Z",
     "start_time": "2020-03-05T03:13:15.466190Z"
    }
   },
   "outputs": [],
   "source": [
    "# train_transform = Transform(\n",
    "#     size=(image_size, image_size), \n",
    "#     sigma=-1., blur_ratio=0.2, noise_ratio=0.1, cutout_ratio=0.4,\n",
    "#     grid_distortion_ratio=0.1, random_brightness_ratio=0.3,\n",
    "#     piece_affine_ratio=0.2, ssr_ratio=0.2, elastic_distortion_ratio=0.3) #threshold=20.,\n",
    "# transform = Transform(size=(image_size, image_size)\n",
    "train_transform = Transform(affine=True,\n",
    "    crop=False, size=(WIDTH_NEW, HEIGHT_NEW), cutout_ratio=0.4) #threshold=20.,\n",
    "train_dataset = BengaliAIDataset(train_images[:200], train_labels,\n",
    "                                 transform=train_transform)"
   ]
  },
  {
   "cell_type": "markdown",
   "metadata": {},
   "source": [
    "By setting `transform`, its function is called **every time** when we access to the index. Dataset returns different `image` every time! which is useful for training with data augmentation."
   ]
  },
  {
   "cell_type": "code",
   "execution_count": 30,
   "metadata": {
    "ExecuteTime": {
     "end_time": "2020-03-05T03:13:15.472906Z",
     "start_time": "2020-03-05T03:13:15.470973Z"
    },
    "_kg_hide-input": true
   },
   "outputs": [],
   "source": [
    "# nrow, ncol = 5, 6\n",
    "\n",
    "# fig, axes = plt.subplots(nrow, ncol, figsize=(20, 8))\n",
    "# axes = axes.flatten()\n",
    "# for i, ax in tqdm(enumerate(axes)):\n",
    "#     image, label = train_dataset[3]\n",
    "#     ax.imshow(image[0], cmap='Greys')\n",
    "#     ax.set_title(f'label: {label}')\n",
    "# plt.tight_layout()"
   ]
  },
  {
   "cell_type": "markdown",
   "metadata": {},
   "source": [
    "Let's final check the processed images, which will be trained by the model."
   ]
  },
  {
   "cell_type": "code",
   "execution_count": 31,
   "metadata": {
    "ExecuteTime": {
     "end_time": "2020-03-05T03:13:19.060144Z",
     "start_time": "2020-03-05T03:13:15.474634Z"
    },
    "_kg_hide-input": true
   },
   "outputs": [
    {
     "data": {
      "application/vnd.jupyter.widget-view+json": {
       "model_id": "f0ff77aabab74dadb40ff69e18420a70",
       "version_major": 2,
       "version_minor": 0
      },
      "text/plain": [
       "HBox(children=(IntProgress(value=1, bar_style='info', max=1), HTML(value='')))"
      ]
     },
     "metadata": {},
     "output_type": "display_data"
    },
    {
     "name": "stdout",
     "output_type": "stream",
     "text": [
      "\n"
     ]
    },
    {
     "data": {
      "image/png": "[encoded data removed]",
      "text/plain": [
       "<Figure size 1440x576 with 30 Axes>"
      ]
     },
     "metadata": {
      "needs_background": "light"
     },
     "output_type": "display_data"
    }
   ],
   "source": [
    "nrow, ncol = 5, 6\n",
    "\n",
    "fig, axes = plt.subplots(nrow, ncol, figsize=(20, 8))\n",
    "axes = axes.flatten()\n",
    "for i, ax in tqdm(enumerate(axes)):\n",
    "    image, label = train_dataset[i+100]\n",
    "    ax.imshow(image[0], cmap='Greys')\n",
    "    ax.set_title(f'label: {label}')\n",
    "plt.tight_layout()"
   ]
  },
  {
   "cell_type": "code",
   "execution_count": 32,
   "metadata": {
    "ExecuteTime": {
     "end_time": "2020-03-05T03:13:19.063485Z",
     "start_time": "2020-03-05T03:13:19.061668Z"
    }
   },
   "outputs": [],
   "source": [
    "# nrow, ncol = 5, 6\n",
    "\n",
    "# fig, axes = plt.subplots(nrow, ncol, figsize=(20, 8))\n",
    "# axes = axes.flatten()\n",
    "# for i, ax in tqdm(enumerate(axes)):\n",
    "#     image, label = train_dataset_noaug[i+100]\n",
    "#     ax.imshow(image, cmap='Greys')\n",
    "#     ax.set_title(f'label: {label}')\n",
    "# plt.tight_layout()"
   ]
  },
  {
   "cell_type": "code",
   "execution_count": 33,
   "metadata": {
    "ExecuteTime": {
     "end_time": "2020-03-05T03:13:19.066800Z",
     "start_time": "2020-03-05T03:13:19.064844Z"
    }
   },
   "outputs": [],
   "source": [
    "# %reload_ext autoreload\n",
    "# %autoreload 2\n",
    "\n",
    "# from PIL import Image, ImageEnhance, ImageOps\n",
    "# import numpy as np\n",
    "# import matplotlib.pyplot as plt\n",
    "# import math\n",
    "# import random\n",
    "# import pdb\n",
    "# from autoaugment import ImageNetPolicy, CIFAR10Policy, SVHNPolicy, SubPolicy"
   ]
  },
  {
   "cell_type": "code",
   "execution_count": 34,
   "metadata": {
    "ExecuteTime": {
     "end_time": "2020-03-05T03:13:19.070579Z",
     "start_time": "2020-03-05T03:13:19.068558Z"
    }
   },
   "outputs": [],
   "source": [
    "# import PIL\n",
    "# print(\"Using Pillow version {}. Upgrade using 'pip install Pillow -U'\".format(PIL.__version__))"
   ]
  },
  {
   "cell_type": "code",
   "execution_count": 35,
   "metadata": {
    "ExecuteTime": {
     "end_time": "2020-03-05T03:13:19.076864Z",
     "start_time": "2020-03-05T03:13:19.072850Z"
    }
   },
   "outputs": [],
   "source": [
    "# class AutoTransform:\n",
    "#     def __init__(self, crop=True, size=(64, 64),\n",
    "#                  normalize=True, train=True, threshold=TH,\n",
    "#                  sigma=-1., blur_ratio=0., noise_ratio=0., cutout_ratio=0.,\n",
    "#                  grid_distortion_ratio=0., elastic_distortion_ratio=0., \n",
    "#                  piece_affine_ratio=0., auto_aug=False):\n",
    "#         self.crop = crop\n",
    "#         self.size = size\n",
    "#         self.normalize = normalize\n",
    "#         self.train = train\n",
    "#         self.threshold = threshold / 255.\n",
    "#         self.sigma = sigma / 255.\n",
    "\n",
    "#         self.blur_ratio = blur_ratio\n",
    "#         self.noise_ratio = noise_ratio\n",
    "#         self.cutout_ratio = cutout_ratio\n",
    "#         self.grid_distortion_ratio = grid_distortion_ratio\n",
    "#         self.elastic_distortion_ratio = elastic_distortion_ratio\n",
    "#         self.piece_affine_ratio = piece_affine_ratio\n",
    "#         self.auto_policy = SVHNPolicy()\n",
    "#         self.auto_aug = auto_aug\n",
    "\n",
    "#     def __call__(self, example):\n",
    "#         if self.train:\n",
    "#             x, y = example\n",
    "#         else:\n",
    "#             x = example\n",
    "            \n",
    "#         # --- Train/Test common preprocessing ---\n",
    "#         if self.crop:\n",
    "#             x = crop_char_image(x, threshold=self.threshold)\n",
    "            \n",
    "# #         if self.crop:\n",
    "# #             x = crop_char_image_thin(x, threshold=self.threshold)\n",
    "\n",
    "#         if self.size is not None:\n",
    "#             x = resize(x, size=self.size)\n",
    "            \n",
    "#         x = np.transpose(np.stack((x, x, x), axis=0),(1,2,0))\n",
    "        \n",
    "#         if self.auto_aug:\n",
    "#             x_int = Image.fromarray((x*255).astype(np.uint8))\n",
    "#             x_int = self.auto_policy(x_int)\n",
    "#             x = numpy.asarray(x_int).astype(np.float32) / 255.\n",
    "        \n",
    "#         if self.sigma > 0.:\n",
    "#             x = add_gaussian_noise(x, sigma=self.sigma)\n",
    "\n",
    "#         # albumentations...\n",
    "#         x = x.astype(np.float32)\n",
    "# #         assert x.ndim == 2\n",
    "#         # 1. blur\n",
    "#         if _evaluate_ratio(self.blur_ratio):\n",
    "#             r = np.random.uniform()\n",
    "#             if r < 0.25:\n",
    "#                 x = apply_aug(A.Blur(p=1.0), x)\n",
    "#             elif r < 0.5:\n",
    "#                 x = apply_aug(A.MedianBlur(blur_limit=5, p=1.0), x)\n",
    "#             elif r < 0.75:\n",
    "#                 x = apply_aug(A.GaussianBlur(p=1.0), x)\n",
    "#             else:\n",
    "#                 x = apply_aug(A.MotionBlur(p=1.0), x)\n",
    "\n",
    "#         if _evaluate_ratio(self.noise_ratio):\n",
    "#             r = np.random.uniform()\n",
    "#             if r < 0.50:\n",
    "#                 x = apply_aug(A.GaussNoise(var_limit=5. / 255., p=1.0), x)\n",
    "#             else:\n",
    "#                 x = apply_aug(A.MultiplicativeNoise(p=1.0), x)\n",
    "\n",
    "#         if _evaluate_ratio(self.cutout_ratio):\n",
    "#             r = np.random.uniform()\n",
    "#             if r < 0.5:\n",
    "#                 x = apply_aug(A.CoarseDropout(max_holes=4, max_height=image_size//8, max_width=image_size//8, p=1.0), x)\n",
    "#             else:\n",
    "#                 x = apply_aug(A.Cutout(num_holes=1,  max_h_size=image_size//3, max_w_size=image_size//3, p=1.0),x)  # Deprecated...\n",
    "\n",
    "#         if _evaluate_ratio(self.grid_distortion_ratio):\n",
    "#             x = apply_aug(A.GridDistortion(p=1.0, border_mode=cv2.BORDER_CONSTANT, value=0), x)\n",
    "\n",
    "#         if _evaluate_ratio(self.elastic_distortion_ratio):\n",
    "#             x = apply_aug(A.ElasticTransform(\n",
    "#                 sigma=50, alpha=1, alpha_affine=10, p=1.0, border_mode=cv2.BORDER_CONSTANT, value=0), x)\n",
    "\n",
    "\n",
    "#         if _evaluate_ratio(self.piece_affine_ratio):\n",
    "#             x = apply_aug(A.IAAPiecewiseAffine(p=1.0, mode='constant'), x)\n",
    "\n",
    "\n",
    "#         if self.normalize:\n",
    "# #             x = (x.astype(np.float32) - 0.0692) / 0.2051  ##ORG\n",
    "#             x = (x.astype(np.float32) - 0.449) / 0.226 ##Imagenet\n",
    "# #         if x.ndim == 2:\n",
    "# #             x = x[None, :, :]\n",
    "#         x = x.astype(np.float32)\n",
    "#         x = np.transpose(x,(2,0,1))\n",
    "#         if self.train:\n",
    "#             y = y.astype(np.int64)\n",
    "#             return x, y\n",
    "#         else:\n",
    "#             return x"
   ]
  },
  {
   "cell_type": "code",
   "execution_count": 36,
   "metadata": {
    "ExecuteTime": {
     "end_time": "2020-03-05T03:13:19.080808Z",
     "start_time": "2020-03-05T03:13:19.078844Z"
    }
   },
   "outputs": [],
   "source": [
    "# train_auto_transform = AutoTransform(auto_aug=True, crop=False,\n",
    "#     size=(WIDTH_NEW, HEIGHT_NEW), cutout_ratio=0.5) #threshold=20.,\n",
    "# train_auto_dataset = BengaliAIDataset(train_images[:200], train_labels,\n",
    "#                                  transform=train_auto_transform)\n"
   ]
  },
  {
   "cell_type": "code",
   "execution_count": 37,
   "metadata": {
    "ExecuteTime": {
     "end_time": "2020-03-05T03:13:19.084288Z",
     "start_time": "2020-03-05T03:13:19.082213Z"
    }
   },
   "outputs": [],
   "source": [
    "# nrow, ncol = 5, 6\n",
    "\n",
    "# fig, axes = plt.subpnrow, ncol = 5, 6\n",
    "\n",
    "# fig, axes = plt.subplots(nrow, ncol, figsize=(20, 8))\n",
    "# axes = axes.flatten()\n",
    "# for i, ax in tqdm(enumerate(axes)):\n",
    "#     image, label = train_auto_dataset[i+100]\n",
    "#     ax.imshow(np.transpose(image,(1,2,0)), cmap='Greys')\n",
    "#     ax.set_title(f'label: {label}')\n",
    "# plt.tight_layout()lots(nrow, ncol, figsize=(20, 8))\n",
    "# axes = axes.flatten()\n",
    "# for i, ax in tqdm(enumerate(axes)):\n",
    "#     image, label = train_auto_dataset[i+100]\n",
    "#     ax.imshow(np.transpose(image,(1,2,0)), cmap='Greys')\n",
    "#     ax.set_title(f'label: {label}')\n",
    "# plt.tight_layout()"
   ]
  },
  {
   "cell_type": "markdown",
   "metadata": {},
   "source": [
    "<a id=\"model\"></a> \n",
    "# pytorch model & define classifier"
   ]
  },
  {
   "cell_type": "code",
   "execution_count": 38,
   "metadata": {
    "ExecuteTime": {
     "end_time": "2020-03-05T03:13:19.091017Z",
     "start_time": "2020-03-05T03:13:19.086761Z"
    },
    "_kg_hide-input": true
   },
   "outputs": [],
   "source": [
    "import torch\n",
    "\n",
    "\n",
    "def residual_add(lhs, rhs):\n",
    "    lhs_ch, rhs_ch = lhs.shape[1], rhs.shape[1]\n",
    "    if lhs_ch < rhs_ch:\n",
    "        out = lhs + rhs[:, :lhs_ch]\n",
    "    elif lhs_ch > rhs_ch:\n",
    "        out = torch.cat([lhs[:, :rhs_ch] + rhs, lhs[:, rhs_ch:]], dim=1)\n",
    "    else:\n",
    "        out = lhs + rhs\n",
    "    return out\n"
   ]
  },
  {
   "cell_type": "code",
   "execution_count": 39,
   "metadata": {
    "ExecuteTime": {
     "end_time": "2020-03-05T03:13:19.100048Z",
     "start_time": "2020-03-05T03:13:19.092417Z"
    },
    "_kg_hide-input": true
   },
   "outputs": [],
   "source": [
    "from typing import List\n",
    "\n",
    "import torch\n",
    "from torch import nn\n",
    "from torch.nn.parameter import Parameter\n",
    "\n",
    "\n",
    "class LazyLoadModule(nn.Module):\n",
    "    \"\"\"Lazy buffer/parameter loading using load_state_dict_pre_hook\n",
    "\n",
    "    Define all buffer/parameter in `_lazy_buffer_keys`/`_lazy_parameter_keys` and\n",
    "    save buffer with `register_buffer`/`register_parameter`\n",
    "    method, which can be outside of __init__ method.\n",
    "    Then this module can load any shape of Tensor during de-serializing.\n",
    "\n",
    "    Note that default value of lazy buffer is torch.Tensor([]), while lazy parameter is None.\n",
    "    \"\"\"\n",
    "    _lazy_buffer_keys: List[str] = []     # It needs to be override to register lazy buffer\n",
    "    _lazy_parameter_keys: List[str] = []  # It needs to be override to register lazy parameter\n",
    "\n",
    "    def __init__(self):\n",
    "        super(LazyLoadModule, self).__init__()\n",
    "        for k in self._lazy_buffer_keys:\n",
    "            self.register_buffer(k, torch.tensor([]))\n",
    "        for k in self._lazy_parameter_keys:\n",
    "            self.register_parameter(k, None)\n",
    "        self._register_load_state_dict_pre_hook(self._hook)\n",
    "\n",
    "    def _hook(self, state_dict, prefix, local_metadata, strict, missing_keys,\n",
    "             unexpected_keys, error_msgs):\n",
    "        for key in self._lazy_buffer_keys:\n",
    "            self.register_buffer(key, state_dict[prefix + key])\n",
    "\n",
    "        for key in self._lazy_parameter_keys:\n",
    "            self.register_parameter(key, Parameter(state_dict[prefix + key]))\n"
   ]
  },
  {
   "cell_type": "code",
   "execution_count": 40,
   "metadata": {
    "ExecuteTime": {
     "end_time": "2020-03-05T03:13:19.104605Z",
     "start_time": "2020-03-05T03:13:19.102019Z"
    }
   },
   "outputs": [],
   "source": [
    "a = np.array([2,3])\n",
    "b = np.array([4,5,6])"
   ]
  },
  {
   "cell_type": "code",
   "execution_count": 41,
   "metadata": {
    "ExecuteTime": {
     "end_time": "2020-03-05T03:13:19.114814Z",
     "start_time": "2020-03-05T03:13:19.106251Z"
    },
    "_kg_hide-input": true
   },
   "outputs": [],
   "source": [
    "import math\n",
    "import torch\n",
    "from torch.nn import init\n",
    "from torch.nn.parameter import Parameter\n",
    "import torch.nn.functional as F\n",
    "\n",
    "\n",
    "class LazyLinear(LazyLoadModule):\n",
    "    \"\"\"Linear module with lazy input inference\n",
    "\n",
    "    `in_features` can be `None`, and it is determined at the first time of forward step dynamically.\n",
    "    \"\"\"\n",
    "\n",
    "    __constants__ = ['bias', 'in_features', 'out_features']\n",
    "    _lazy_parameter_keys = ['weight']\n",
    "\n",
    "    def __init__(self, in_features, out_features, bias=True):\n",
    "        super(LazyLinear, self).__init__()\n",
    "        self.in_features = in_features\n",
    "        self.out_features = out_features\n",
    "        if bias:\n",
    "            self.bias = Parameter(torch.Tensor(out_features))\n",
    "        else:\n",
    "            self.register_parameter('bias', None)\n",
    "\n",
    "        if in_features is not None:\n",
    "            self.weight = Parameter(torch.Tensor(out_features, in_features))\n",
    "            self.reset_parameters()\n",
    "\n",
    "    def reset_parameters(self):\n",
    "        init.kaiming_uniform_(self.weight, a=math.sqrt(5))\n",
    "        if self.bias is not None:\n",
    "            fan_in, _ = init._calculate_fan_in_and_fan_out(self.weight)\n",
    "            bound = 1 / math.sqrt(fan_in)\n",
    "            init.uniform_(self.bias, -bound, bound)\n",
    "\n",
    "    def forward(self, input):\n",
    "        if self.weight is None:\n",
    "            self.in_features = input.shape[-1]\n",
    "            self.weight = Parameter(torch.Tensor(self.out_features, self.in_features))\n",
    "            self.reset_parameters()\n",
    "\n",
    "            # Need to send lazy defined parameter to device...\n",
    "            self.to(input.device)\n",
    "        return F.linear(input, self.weight, self.bias)\n",
    "\n",
    "    def extra_repr(self):\n",
    "        return 'in_features={}, out_features={}, bias={}'.format(\n",
    "            self.in_features, self.out_features, self.bias is not None\n",
    "        )\n"
   ]
  },
  {
   "cell_type": "code",
   "execution_count": 42,
   "metadata": {
    "ExecuteTime": {
     "end_time": "2020-03-05T03:13:19.126637Z",
     "start_time": "2020-03-05T03:13:19.117320Z"
    },
    "_kg_hide-input": true
   },
   "outputs": [],
   "source": [
    "from torch import nn\n",
    "import torch.nn.functional as F\n",
    "\n",
    "\n",
    "class LinearBlock(nn.Module):\n",
    "\n",
    "    def __init__(self, in_features, out_features, bias=True,\n",
    "                 use_bn=True, activation=F.relu, dropout_ratio=-1, residual=False,):\n",
    "        super(LinearBlock, self).__init__()\n",
    "        if in_features is None:\n",
    "            self.linear = LazyLinear(in_features, out_features, bias=bias)\n",
    "        else:\n",
    "            self.linear = nn.Linear(in_features, out_features, bias=bias)\n",
    "        if use_bn:\n",
    "            self.bn = nn.BatchNorm1d(out_features)\n",
    "        if dropout_ratio > 0.:\n",
    "            self.dropout = nn.Dropout(p=dropout_ratio)\n",
    "        else:\n",
    "            self.dropout = None\n",
    "        self.activation = activation\n",
    "        self.use_bn = use_bn\n",
    "        self.dropout_ratio = dropout_ratio\n",
    "        self.residual = residual\n",
    "\n",
    "    def __call__(self, x):\n",
    "        h = self.linear(x)\n",
    "        if self.use_bn:\n",
    "            h = self.bn(h)\n",
    "        if self.activation is not None:\n",
    "            h = self.activation(h)\n",
    "        if self.residual:\n",
    "            h = residual_add(h, x)\n",
    "        if self.dropout_ratio > 0:\n",
    "            h = self.dropout(h)\n",
    "        return h"
   ]
  },
  {
   "cell_type": "code",
   "execution_count": 43,
   "metadata": {
    "ExecuteTime": {
     "end_time": "2020-03-05T03:29:54.852278Z",
     "start_time": "2020-03-05T03:29:54.830035Z"
    },
    "code_folding": []
   },
   "outputs": [],
   "source": [
    "class Flatten(nn.Module):\n",
    "    def forward(self, input):\n",
    "        return input.view(input.size(0), -1)\n",
    "    \n",
    "class Classifier(nn.Module):\n",
    "    def __init__(self, inp = 2048, h1=1024, num_class = [1000,1,1,1], dropout_ratio=0.35):\n",
    "        super().__init__()\n",
    "        self.ap = nn.AdaptiveAvgPool2d(1)\n",
    "        self.mp = nn.AdaptiveMaxPool2d(1)\n",
    "        self.fla = Flatten()\n",
    "#         self.bn0 = nn.BatchNorm1d(inp*2,eps=1e-05, momentum=0.1, affine=True)\n",
    "        self.dropout0 = nn.Dropout(dropout_ratio)\n",
    "        \n",
    "        self.logit = nn.ModuleList(\n",
    "            [ nn.Linear(inp, c) for c in num_class]\n",
    "        )\n",
    "#         self.fc1 = nn.Linear(inp*2, h1)\n",
    "#         self.bn1 = nn.BatchNorm1d(h1,eps=1e-05, momentum=0.1, affine=True)\n",
    "#         self.dropout1 = nn.Dropout(dropout_ratio)\n",
    "#         self.fc2 = nn.Linear(h1, out)\n",
    "        \n",
    "    def forward(self, x):\n",
    "#         ap = self.ap(x)\n",
    "#         mp = self.mp(x)\n",
    "#         x = torch.cat((ap,mp),dim=1)\n",
    "        x = self.ap(x)\n",
    "        x = self.fla(x)\n",
    "#         x = self.bn0(x)\n",
    "        x = self.dropout0(x)\n",
    "        logit = [l(x) for l in self.logit]\n",
    "#         x = F.relu(self.fc1(x))\n",
    "#         x = self.bn1(x)\n",
    "#         x = self.dropout1(x)         \n",
    "#         x = self.fc2(x)\n",
    "        return logit"
   ]
  },
  {
   "cell_type": "code",
   "execution_count": 44,
   "metadata": {
    "ExecuteTime": {
     "end_time": "2020-03-05T03:29:54.858376Z",
     "start_time": "2020-03-05T03:29:54.855063Z"
    }
   },
   "outputs": [],
   "source": [
    "# ap = nn.AdaptiveAvgPool2d((1,1))\n",
    "# mp = nn.AdaptiveMaxPool2d((1,1))\n",
    "# x = np.random.rand(5,4,4)\n",
    "# print(x)\n",
    "# print(ap)\n",
    "# x1 = torch.nn.functional.adaptive_avg_pool2d(x, (1,1))\n",
    "# print(x1)"
   ]
  },
  {
   "cell_type": "code",
   "execution_count": 45,
   "metadata": {
    "ExecuteTime": {
     "end_time": "2020-03-05T03:29:54.881473Z",
     "start_time": "2020-03-05T03:29:54.860684Z"
    }
   },
   "outputs": [
    {
     "name": "stdout",
     "output_type": "stream",
     "text": [
      "tensor(10.)\n"
     ]
    }
   ],
   "source": [
    "a = torch.Tensor([[1,2],[3,4]])\n",
    "b = torch.sum(a,dim=(-1,-2))\n",
    "print(b)"
   ]
  },
  {
   "cell_type": "code",
   "execution_count": 46,
   "metadata": {
    "ExecuteTime": {
     "end_time": "2020-03-05T03:29:54.887479Z",
     "start_time": "2020-03-05T03:29:54.883478Z"
    }
   },
   "outputs": [],
   "source": [
    "def set_parameter_requires_grad(model, feature_extracting):\n",
    "    if feature_extracting:\n",
    "        for param in model.parameters():\n",
    "            param.requires_grad = False"
   ]
  },
  {
   "cell_type": "code",
   "execution_count": 47,
   "metadata": {
    "ExecuteTime": {
     "end_time": "2020-03-05T03:29:54.905700Z",
     "start_time": "2020-03-05T03:29:54.889096Z"
    }
   },
   "outputs": [],
   "source": [
    "import pretrainedmodels\n",
    "import torch\n",
    "from torch import nn\n",
    "import torch.nn.functional as F\n",
    "from torch.nn import Sequential\n",
    "import collections\n",
    "from dropblock import *\n",
    "\n",
    "try:\n",
    "    from collections import OrderedDict\n",
    "except ImportError:\n",
    "    OrderedDict = dict\n",
    "\n",
    "from seresnext import *    \n",
    "\n",
    "class PretrainedCNN(nn.Module):\n",
    "    \n",
    "    def load_pretrain(self, skip=['block0.','logit.'], is_print=True):\n",
    "        load_pretrain(self, skip, pretrain_file=PRETRAIN_FILE, conversion=CONVERSION, is_print=is_print)\n",
    "        \n",
    "    def __init__(self, model_name='se_resnext101_32x4d',\n",
    "                 in_channels=1, num_class=[10], use_bn=True,\n",
    "                 pretrained='imagenet', dropout_ratio=0):\n",
    "        super(PretrainedCNN, self).__init__()\n",
    "#         self.conv0 = nn.Conv2d(\n",
    "#             in_channels, 3, kernel_size=3, stride=1, padding=1, bias=True)\n",
    "#         self.base_model = pretrainedmodels.__dict__[model_name](pretrained=pretrained)\n",
    "# #         print(self.base_model)\n",
    "#         names = []\n",
    "#         for name, child in self.base_model.named_children():\n",
    "#             names.append(name)\n",
    "            \n",
    "#         arch = self.base_model\n",
    "#         arch = list(arch.children())\n",
    "#         #saving the weights of the forst conv in w\n",
    "#         w = arch[0][0].weight\n",
    "#         #creating new Conv2d to accept 1 channel \n",
    "#         arch[0][0] = nn.Conv2d(1, 64, kernel_size=7, stride=2, padding=3, bias=False)\n",
    "#         #substituting weights of newly created Conv2d with w from but we have to take mean\n",
    "#         #to go from  3 channel to 1\n",
    "#         arch[0][0].weight = nn.Parameter(torch.mean(w, dim=1, keepdim=True))\n",
    "#         arch = nn.Sequential(OrderedDict([(names[k], arch[k]) for k in range(len(names))]))\n",
    "# #         print(arch)\n",
    "#         self.base_model = arch\n",
    "# #         print(\"#######################################\")\n",
    "# #         print(self.base_model)\n",
    "#         activation = F.leaky_relu\n",
    "#         self.do_pooling = True\n",
    "#         if self.do_pooling:\n",
    "#             inch = self.base_model.last_linear.in_features\n",
    "#         else:\n",
    "#             inch = None\n",
    "\n",
    "        e = ResNext50()\n",
    "\n",
    "        self.block0 = e.block0\n",
    "        self.block1 = e.block1\n",
    "        self.block2 = e.block2\n",
    "        self.block3 = e.block3\n",
    "        self.block4 = e.block4\n",
    "        e = None  #dropped\n",
    "        inch = 2048\n",
    "        hdim = HDIM\n",
    "        self.dropblock0 = DropBlock2D(drop_prob=0.2, block_size = 24)\n",
    "        self.dropblock1 = DropBlock2D(drop_prob=0.2, block_size = 12)\n",
    "        self.dropblock2 = DropBlock2D(drop_prob=0.2, block_size = 6)\n",
    "        \n",
    "        self.classifer = Classifier(inp = inch, h1=hdim, num_class = num_class, dropout_ratio=dropout_ratio)\n",
    "#         lin1 = LinearBlock(inch, hdim, use_bn=use_bn, activation=activation, residual=False)\n",
    "#         lin2 = LinearBlock(hdim, out_dim, use_bn=use_bn, activation=None, residual=False)\n",
    "#         self.lin_layers = Sequential(lin1, lin2)\n",
    "\n",
    "    def forward(self, x):\n",
    "        \n",
    "#         h = self.base_model.layer0(x)\n",
    "#         h = self.base_model.layer1(h)\n",
    "#         h = self.base_model.layer2(h)\n",
    "#         h = self.base_model.layer3(h)\n",
    "#         h = self.base_model.layer4(h) \n",
    "\n",
    "        batch_size,C,H,W = x.shape\n",
    "        if (H,W) !=(HEIGHT_NEW, WIDTH_NEW):\n",
    "            x = F.interpolate(x,size=(HEIGHT_NEW, WIDTH_NEW), mode='bilinear',align_corners=False)\n",
    "        x = x.expand(-1, 3, -1, -1)\n",
    "        x = self.block0(x)\n",
    "        x = self.dropblock0(x)\n",
    "        x = self.block1(x)\n",
    "        x = self.dropblock1(x)\n",
    "        x = self.block2(x)\n",
    "        x = self.dropblock2(x)\n",
    "        x = self.block3(x)\n",
    "        x = self.block4(x)\n",
    "        \n",
    "        h = self.classifer(x)\n",
    "\n",
    "        return h"
   ]
  },
  {
   "cell_type": "code",
   "execution_count": null,
   "metadata": {},
   "outputs": [],
   "source": []
  },
  {
   "cell_type": "code",
   "execution_count": null,
   "metadata": {
    "ExecuteTime": {
     "end_time": "2020-02-24T23:57:39.817648Z",
     "start_time": "2020-02-24T23:57:39.219998Z"
    }
   },
   "outputs": [],
   "source": []
  },
  {
   "cell_type": "code",
   "execution_count": 48,
   "metadata": {
    "ExecuteTime": {
     "end_time": "2020-03-05T03:29:54.911781Z",
     "start_time": "2020-03-05T03:29:54.907499Z"
    }
   },
   "outputs": [],
   "source": [
    "def print_base_layers(predictor):\n",
    "    print(\"base model layer names::\")\n",
    "    for name, child in predictor.base_model.named_children():\n",
    "        print(name)\n",
    "        \n",
    "def print_base_grad_status(predictor):\n",
    "    print(\"base model grad status::\")\n",
    "    for name, child in predictor.base_model.named_children():\n",
    "        print(name)\n",
    "        for param in child.parameters():\n",
    "            print(param.requires_grad)"
   ]
  },
  {
   "cell_type": "code",
   "execution_count": 49,
   "metadata": {
    "ExecuteTime": {
     "end_time": "2020-03-05T03:29:54.916285Z",
     "start_time": "2020-03-05T03:29:54.913311Z"
    }
   },
   "outputs": [],
   "source": [
    "# print_grad_status(predictortmp)"
   ]
  },
  {
   "cell_type": "code",
   "execution_count": 50,
   "metadata": {
    "ExecuteTime": {
     "end_time": "2020-03-05T03:29:54.923680Z",
     "start_time": "2020-03-05T03:29:54.917882Z"
    }
   },
   "outputs": [],
   "source": [
    "def frozen_basiclayers(predictor):\n",
    "    for name, child in predictor.base_model.named_children():\n",
    "        if name in ['layer0','layer1','layer2','layer3']:\n",
    "            print(name + ' is frozen')\n",
    "            for param in child.parameters():\n",
    "                param.requires_grad = False\n",
    "        else:\n",
    "            print(name + ' is unfrozen')\n",
    "            for param in child.parameters():\n",
    "                param.requires_grad = True"
   ]
  },
  {
   "cell_type": "code",
   "execution_count": 51,
   "metadata": {
    "ExecuteTime": {
     "end_time": "2020-03-05T03:29:54.931867Z",
     "start_time": "2020-03-05T03:29:54.928305Z"
    }
   },
   "outputs": [],
   "source": [
    "def unfrozen_basiclayers(predictor):\n",
    "    for name, child in predictor.base_model.named_children():\n",
    "        for param in child.parameters():\n",
    "            param.requires_grad = True"
   ]
  },
  {
   "cell_type": "code",
   "execution_count": 52,
   "metadata": {
    "ExecuteTime": {
     "end_time": "2020-03-05T03:29:54.936255Z",
     "start_time": "2020-03-05T03:29:54.934396Z"
    }
   },
   "outputs": [],
   "source": [
    "# frozen_basiclayers(predictortmp)\n",
    "# print_grad_status(predictortmp)"
   ]
  },
  {
   "cell_type": "code",
   "execution_count": 53,
   "metadata": {
    "ExecuteTime": {
     "end_time": "2020-03-05T03:29:54.941064Z",
     "start_time": "2020-03-05T03:29:54.937954Z"
    }
   },
   "outputs": [
    {
     "name": "stdout",
     "output_type": "stream",
     "text": [
      "n_total 186\n"
     ]
    }
   ],
   "source": [
    "n_grapheme = 168\n",
    "n_vowel = 11\n",
    "n_consonant = 7\n",
    "n_total = n_grapheme + n_vowel + n_consonant\n",
    "print('n_total', n_total)"
   ]
  },
  {
   "cell_type": "code",
   "execution_count": 54,
   "metadata": {
    "ExecuteTime": {
     "end_time": "2020-03-05T03:29:54.944843Z",
     "start_time": "2020-03-05T03:29:54.943160Z"
    }
   },
   "outputs": [],
   "source": [
    "# predictortmp = PretrainedCNN(in_channels=1, num_class=[n_grapheme, n_vowel, n_consonant], model_name=model_name, pretrained=\"imagenet\")\n",
    "# for name, child in predictortmp.named_children():\n",
    "#     print(name)\n",
    "# print_base_layers(predictortmp)"
   ]
  },
  {
   "cell_type": "code",
   "execution_count": null,
   "metadata": {},
   "outputs": [],
   "source": []
  },
  {
   "cell_type": "code",
   "execution_count": 55,
   "metadata": {
    "ExecuteTime": {
     "end_time": "2020-03-05T03:29:54.948538Z",
     "start_time": "2020-03-05T03:29:54.946448Z"
    }
   },
   "outputs": [],
   "source": [
    "# def get_optimizer_adam(classifier, learning_rate=1e-3, weight_decay=0.0):\n",
    "    \n",
    "#     base_params = list(map(id, classifier.predictor.base_model.parameters()))\n",
    "#     fast_learned_params = filter(lambda p: id(p) not in base_params, \n",
    "#                                  classifier.parameters())\n",
    "# #     print(\"base_params len:\", len(base_params))\n",
    "# #     print(\"fast_learned_params len:\", len(list(fast_learned_params)))\n",
    "#     lr_100 = max(learning_rate/100, 1e-6)\n",
    "#     lr_10 = max(learning_rate/10, 5e-6)\n",
    "#     optimizer = torch.optim.Adam(\n",
    "#     [\n",
    "#         dict(params=classifier.predictor.base_model.layer0.parameters(), lr=lr_100),\n",
    "#         dict(params=classifier.predictor.base_model.layer1.parameters(), lr=lr_100),\n",
    "#         dict(params=classifier.predictor.base_model.layer2.parameters(), lr=lr_100),\n",
    "#         dict(params=classifier.predictor.base_model.layer3.parameters(), lr=lr_100),\n",
    "#         dict(params=classifier.predictor.base_model.layer4.parameters(), lr=lr_10),        \n",
    "#         dict(params=classifier.predictor.base_model.avg_pool.parameters(), lr=lr_10),\n",
    "#         dict(params=classifier.predictor.base_model.last_linear.parameters(), lr=lr_10),\n",
    "#         {'params': fast_learned_params},\n",
    "#     ], lr = learning_rate, weight_decay=weight_decay)\n",
    "    \n",
    "#     return optimizer"
   ]
  },
  {
   "cell_type": "code",
   "execution_count": 56,
   "metadata": {
    "ExecuteTime": {
     "end_time": "2020-03-05T03:29:54.952233Z",
     "start_time": "2020-03-05T03:29:54.949998Z"
    }
   },
   "outputs": [],
   "source": [
    "# def get_optimizer_adam(classifier, learning_rate=1e-3, weight_decay=0.0):\n",
    "    \n",
    "#     base_params = list(map(id, classifier.predictor.base_model.parameters()))\n",
    "#     fast_learned_params = filter(lambda p: id(p) not in base_params, \n",
    "#                                  classifier.parameters())\n",
    "# #     print(\"base_params len:\", len(base_params))\n",
    "# #     print(\"fast_learned_params len:\", len(list(fast_learned_params)))\n",
    "#     lr_100 = max(learning_rate/100, 1e-7)\n",
    "#     lr_10 = max(learning_rate/10, 1e-7)\n",
    "#     optimizer = torch.optim.Adam(\n",
    "#     [\n",
    "#         dict(params=classifier.predictor.base_model.layer0.parameters(), lr=lr_10),\n",
    "#         dict(params=classifier.predictor.base_model.layer1.parameters(), lr=lr_10),\n",
    "#         dict(params=classifier.predictor.base_model.layer2.parameters(), lr=lr_10),\n",
    "#         dict(params=classifier.predictor.base_model.layer3.parameters(), lr=lr_10),\n",
    "#         dict(params=classifier.predictor.base_model.layer4.parameters(), lr=learning_rate),        \n",
    "#         dict(params=classifier.predictor.base_model.avg_pool.parameters(), lr=learning_rate),\n",
    "#         dict(params=classifier.predictor.base_model.last_linear.parameters(), lr=learning_rate),\n",
    "#         {'params': fast_learned_params},\n",
    "#     ], lr = learning_rate, weight_decay=weight_decay)\n",
    "    \n",
    "#     return optimizer"
   ]
  },
  {
   "cell_type": "code",
   "execution_count": 57,
   "metadata": {
    "ExecuteTime": {
     "end_time": "2020-03-05T03:29:54.960963Z",
     "start_time": "2020-03-05T03:29:54.953817Z"
    }
   },
   "outputs": [],
   "source": [
    "def get_optimizer_adam(classifier, learning_rate=1e-3, weight_decay=0.0):\n",
    "    \n",
    "    base_params = list(map(id, classifier.predictor.parameters()))\n",
    "    fast_learned_params = filter(lambda p: id(p) not in base_params, \n",
    "                                 classifier.parameters())\n",
    "#     print(\"base_params len:\", len(base_params))\n",
    "#     print(\"fast_learned_params len:\", len(list(fast_learned_params)))\n",
    "    lr_100 = max(learning_rate/100, 1e-7)\n",
    "    lr_10 = max(learning_rate/10, 1e-7)\n",
    "    optimizer = torch.optim.Adam(\n",
    "    [\n",
    "        dict(params=classifier.predictor.block0.parameters(), lr=lr_10),\n",
    "        dict(params=classifier.predictor.block1.parameters(), lr=lr_10),\n",
    "        dict(params=classifier.predictor.block2.parameters(), lr=lr_10),\n",
    "        dict(params=classifier.predictor.block3.parameters(), lr=lr_10),\n",
    "        dict(params=classifier.predictor.block4.parameters(), lr=learning_rate),\n",
    "        {'params': fast_learned_params},\n",
    "    ], lr = learning_rate, weight_decay=weight_decay)\n",
    "    \n",
    "    return optimizer"
   ]
  },
  {
   "cell_type": "markdown",
   "metadata": {},
   "source": [
    "## Classifier"
   ]
  },
  {
   "cell_type": "code",
   "execution_count": 58,
   "metadata": {
    "ExecuteTime": {
     "end_time": "2020-03-05T03:29:54.981501Z",
     "start_time": "2020-03-05T03:29:54.962560Z"
    },
    "_kg_hide-input": true
   },
   "outputs": [],
   "source": [
    "import torch\n",
    "from torch import nn\n",
    "import torch.nn.functional as F\n",
    "from tqdm import tqdm\n",
    "\n",
    "\n",
    "def accuracy(y, t):\n",
    "    pred_label = torch.argmax(y, dim=1)\n",
    "    count = pred_label.shape[0]\n",
    "    correct = (pred_label == t).sum().type(torch.float32)\n",
    "    acc = correct / count\n",
    "    if isinstance(acc, torch.Tensor):\n",
    "        acc = acc.item()\n",
    "    return acc\n",
    "\n",
    "\n",
    "class BengaliClassifier(nn.Module):\n",
    "    def __init__(self, predictor, n_grapheme=168, n_vowel=11, n_consonant=7):\n",
    "        super(BengaliClassifier, self).__init__()\n",
    "        self.n_grapheme = n_grapheme\n",
    "        self.n_vowel = n_vowel\n",
    "        self.n_consonant = n_consonant\n",
    "        self.n_total_class = self.n_grapheme + self.n_vowel + self.n_consonant\n",
    "        self.predictor = predictor\n",
    "\n",
    "        self.metrics_keys = [\n",
    "            'loss', 'loss_grapheme', 'loss_vowel', 'loss_consonant', 'loss_comb',\n",
    "            'acc_grapheme', 'acc_vowel', 'acc_consonant', 'acc_comb']\n",
    "\n",
    "    def forward(self, x, y=None):\n",
    "        pred = self.predictor(x)\n",
    "        if isinstance(pred, list):\n",
    "            preds = pred\n",
    "        else:\n",
    "            assert pred.shape[1] == self.n_total_class\n",
    "            preds = torch.split(pred, [self.n_grapheme, self.n_vowel, self.n_consonant], dim=1)\n",
    "        loss_grapheme = 2*F.cross_entropy(preds[0], y[:, 0])\n",
    "        loss_vowel = F.cross_entropy(preds[1], y[:, 1])\n",
    "        loss_consonant = F.cross_entropy(preds[2], y[:, 2])\n",
    "        loss_comb = 0.1*F.cross_entropy(preds[3], y[:, 3])\n",
    "        loss = loss_grapheme + loss_vowel + loss_consonant + loss_comb\n",
    "        metrics = {\n",
    "            'loss': loss.item(),\n",
    "            'loss_grapheme': loss_grapheme.item(),\n",
    "            'loss_vowel': loss_vowel.item(),\n",
    "            'loss_consonant': loss_consonant.item(),\n",
    "            'loss_comb': loss_comb.item(),\n",
    "            'acc_grapheme': accuracy(preds[0], y[:, 0]),\n",
    "            'acc_vowel': accuracy(preds[1], y[:, 1]),\n",
    "            'acc_consonant': accuracy(preds[2], y[:, 2]),\n",
    "            'acc_comb': accuracy(preds[3], y[:, 3]),\n",
    "        }\n",
    "        return loss, metrics, pred\n",
    "\n",
    "    def calc(self, data_loader):\n",
    "        device: torch.device = next(self.parameters()).device\n",
    "        self.eval()\n",
    "        output_list = []\n",
    "        with torch.no_grad():\n",
    "            for batch in tqdm(data_loader):\n",
    "                # TODO: support general preprocessing.\n",
    "                # If `data` is not `Data` instance, `to` method is not supported!\n",
    "                batch = batch.to(device)\n",
    "                pred = self.predictor(batch)\n",
    "                output_list.append(pred)\n",
    "        output = torch.cat(output_list, dim=0)\n",
    "        preds = torch.split(output, [self.n_grapheme, self.n_vowel, self.n_consonant], dim=1)\n",
    "        return preds\n",
    "\n",
    "    def predict_proba(self, data_loader):\n",
    "        preds = self.calc(data_loader)\n",
    "        return [F.softmax(p, dim=1) for p in preds]\n",
    "\n",
    "    def predict(self, data_loader):\n",
    "        preds = self.calc(data_loader)\n",
    "        pred_labels = [torch.argmax(p, dim=1) for p in preds]\n",
    "        return pred_labels\n"
   ]
  },
  {
   "cell_type": "code",
   "execution_count": 59,
   "metadata": {
    "ExecuteTime": {
     "end_time": "2020-03-05T03:29:54.986063Z",
     "start_time": "2020-03-05T03:29:54.983708Z"
    }
   },
   "outputs": [],
   "source": [
    "# classifiertmp = BengaliClassifier(predictortmp).to(device)\n",
    "# # for name, child in classifiertmp.named_children():\n",
    "# #     print(name)\n",
    "# # optimizertmp = get_optimizer_adam(classifiertmp)\n",
    "# # print(optimizertmp)\n",
    "\n",
    "# ctmp_params = list(map(id, classifiertmp.parameters()))\n",
    "# print(len(ctmp_params))\n",
    "\n",
    "# pbtmp_params = list(map(id, predictortmp.base_model.parameters()))\n",
    "# print(len(pbtmp_params))\n",
    "\n",
    "# pcftmp_params = list(map(id, predictortmp.classifer.parameters()))\n",
    "# print(len(pcftmp_params))\n",
    "\n",
    "# opt_tmp = get_optimizer_adam(classifiertmp)\n",
    "# print(opt_tmp)"
   ]
  },
  {
   "cell_type": "code",
   "execution_count": null,
   "metadata": {
    "ExecuteTime": {
     "end_time": "2020-02-24T23:21:24.505317Z",
     "start_time": "2020-02-24T23:21:24.500563Z"
    }
   },
   "outputs": [],
   "source": []
  },
  {
   "cell_type": "markdown",
   "metadata": {},
   "source": [
    "<a id=\"train\"></a>\n",
    "# Training code\n"
   ]
  },
  {
   "cell_type": "code",
   "execution_count": 60,
   "metadata": {
    "ExecuteTime": {
     "end_time": "2020-03-05T03:29:54.990768Z",
     "start_time": "2020-03-05T03:29:54.987603Z"
    }
   },
   "outputs": [],
   "source": [
    "# --- Model ---\n",
    "device = torch.device(device)\n",
    "\n",
    "def schedule_lr(metrics):\n",
    "    avg_mae = metrics['loss']\n",
    "    # --- update lr ---\n",
    "    lr = scheduler.optimizer.param_groups[-1]['lr']\n",
    "    scheduler.step(avg_mae)\n",
    "    log_report.report('lr', lr)"
   ]
  },
  {
   "cell_type": "markdown",
   "metadata": {},
   "source": [
    "## prepare data"
   ]
  },
  {
   "cell_type": "code",
   "execution_count": 61,
   "metadata": {
    "ExecuteTime": {
     "end_time": "2020-03-05T03:29:55.001061Z",
     "start_time": "2020-03-05T03:29:54.992320Z"
    }
   },
   "outputs": [],
   "source": [
    "from logging import getLogger\n",
    "import numpy\n",
    "import os\n",
    "from time import perf_counter\n",
    "import argparse\n",
    "from distutils.util import strtobool\n",
    "import torch\n",
    "from numpy.random.mtrand import RandomState\n",
    "from torch.utils.data.dataloader import DataLoader\n",
    "\n",
    "import pandas as pd\n",
    "import torch\n",
    "import json\n",
    "\n",
    "\n",
    "def save_json(filepath, params):\n",
    "    with open(filepath, 'w') as f:\n",
    "        json.dump(params, f, indent=4)\n",
    "\n",
    "class DictOutputTransform:\n",
    "    def __init__(self, key, index=0):\n",
    "        self.key = key\n",
    "        self.index = index\n",
    "\n",
    "    def __call__(self, x):\n",
    "        if self.index >= 0:\n",
    "            x = x[self.index]\n",
    "        return x[self.key]\n"
   ]
  },
  {
   "cell_type": "code",
   "execution_count": 62,
   "metadata": {
    "ExecuteTime": {
     "end_time": "2020-03-05T03:29:55.014380Z",
     "start_time": "2020-03-05T03:29:55.003207Z"
    }
   },
   "outputs": [],
   "source": [
    "class LogReport:\n",
    "    def __init__(self, dirpath=None, logger=None):\n",
    "        self.dirpath = str(dirpath) if dirpath is not None else None\n",
    "        self.logger = logger or getLogger(__name__)\n",
    "\n",
    "        self.reported_dict = {}  # To handle additional parameter to monitor\n",
    "        self.history = []\n",
    "        self.start_time = perf_counter()\n",
    "\n",
    "    def report(self, key, value):\n",
    "        self.reported_dict[key] = value\n",
    "\n",
    "    def __call__(self, epoch, iteration, train_metrics, val_metrics, mode):\n",
    "        elapsed_time = perf_counter() - self.start_time\n",
    "        elem = {'epoch': epoch,\n",
    "                'iteration': iteration}\n",
    "        \n",
    "        elem.update({f'train/{key}': value\n",
    "                     for key, value in train_metrics.items()})\n",
    "        \n",
    "        elem.update({f'val/{key}': value\n",
    "             for key, value in val_metrics.items()})\n",
    "        \n",
    "        elem.update(self.reported_dict)\n",
    "        elem['elapsed_time'] = elapsed_time\n",
    "#         print(\"mode in log type:{}, val:{}\".format(type(mode), mode))\n",
    "        elem['mode'] = str(mode)\n",
    "        self.history.append(elem)\n",
    "        if self.dirpath:\n",
    "            save_json(os.path.join(self.dirpath, 'log.json'), self.history)\n",
    "            self.get_dataframe().to_csv(os.path.join(self.dirpath, 'log.csv'), index=False)\n",
    "\n",
    "        # --- print ---\n",
    "        msg = ''\n",
    "        for key, value in elem.items():\n",
    "            if key in ['iteration']:\n",
    "                # skip printing some parameters...\n",
    "                continue\n",
    "            elif isinstance(value, int):\n",
    "                msg += f'{key} {value: >6d} '\n",
    "            elif isinstance(value, str):\n",
    "                msg += f'{key} {value} '\n",
    "            else:\n",
    "                msg += f'{key} {value: 8f} '\n",
    "#         self.logger.warning(msg)\n",
    "        print(msg)\n",
    "\n",
    "        # --- Reset ---\n",
    "        self.reported_dict = {}\n",
    "\n",
    "    def get_dataframe(self):\n",
    "        df = pd.DataFrame(self.history)\n",
    "        return df"
   ]
  },
  {
   "cell_type": "code",
   "execution_count": 63,
   "metadata": {
    "ExecuteTime": {
     "end_time": "2020-03-05T03:29:55.020719Z",
     "start_time": "2020-03-05T03:29:55.016215Z"
    }
   },
   "outputs": [],
   "source": [
    "class ModelSnapshotHandler:\n",
    "    def __init__(self, model, filepath='model_{count:06}.pt',\n",
    "                 interval=1, logger=None):\n",
    "        self.model = model\n",
    "        self.filepath: str = str(filepath)\n",
    "        self.interval = interval\n",
    "        self.logger = logger or getLogger(__name__)\n",
    "        self.count = 0\n",
    "\n",
    "    def __call__(self):\n",
    "        self.count += 1\n",
    "        filepath = self.filepath.format(count=self.count)\n",
    "        torch.save(self.model.state_dict(), filepath)"
   ]
  },
  {
   "cell_type": "code",
   "execution_count": 64,
   "metadata": {
    "ExecuteTime": {
     "end_time": "2020-03-05T03:29:55.034943Z",
     "start_time": "2020-03-05T03:29:55.023279Z"
    }
   },
   "outputs": [],
   "source": [
    "import numpy as np\n",
    "import sklearn.metrics\n",
    "import torch\n",
    "\n",
    "\n",
    "def macro_recall(pred_y, y, n_grapheme=168, n_vowel=11, n_consonant=7, n_comb_class = 1295):\n",
    "    if not isinstance(pred_y, list):\n",
    "        pred_y = torch.split(pred_y, [n_grapheme, n_vowel, n_consonant], dim=1)\n",
    "    pred_labels = [torch.argmax(py, dim=1).cpu().numpy() for py in pred_y]\n",
    "\n",
    "    y = y.cpu().numpy()\n",
    "    # pred_y = [p.cpu().numpy() for p in pred_y]\n",
    "\n",
    "    recall_grapheme = sklearn.metrics.recall_score(y[:, 0], pred_labels[0],average='macro')\n",
    "    recall_vowel = sklearn.metrics.recall_score(y[:, 1], pred_labels[1], average='macro')\n",
    "    recall_consonant = sklearn.metrics.recall_score(y[:, 2], pred_labels[2], average='macro')\n",
    "    recall_comb = sklearn.metrics.recall_score(y[:, 3], pred_labels[3], average='macro')    \n",
    "    scores = [recall_grapheme, recall_vowel, recall_consonant, recall_comb]\n",
    "    final_score = np.average(scores, weights=[2, 1, 1, 0])\n",
    "    # print(f'recall: grapheme {recall_grapheme}, vowel {recall_vowel}, consonant {recall_consonant}, '\n",
    "    #       f'total {final_score}, y {y.shape}')\n",
    "    return final_score\n",
    "\n",
    "\n",
    "def calc_macro_recall(solution, submission):\n",
    "    # solution df, submission df\n",
    "    scores = []\n",
    "    for component in ['grapheme_root', 'consonant_diacritic', 'vowel_diacritic']:\n",
    "        y_true_subset = solution[solution[component] == component]['target'].values\n",
    "        y_pred_subset = submission[submission[component] == component]['target'].values\n",
    "        scores.append(sklearn.metrics.recall_score(\n",
    "            y_true_subset, y_pred_subset, average='macro'))\n",
    "    final_score = np.average(scores, weights=[2, 1, 1])\n",
    "    return final_score"
   ]
  },
  {
   "cell_type": "code",
   "execution_count": 65,
   "metadata": {
    "ExecuteTime": {
     "end_time": "2020-03-05T03:29:55.039099Z",
     "start_time": "2020-03-05T03:29:55.036663Z"
    }
   },
   "outputs": [],
   "source": [
    "loss_recall_names =  ['loss', 'loss_grapheme', 'loss_vowel', 'loss_consonant','loss_comb',\n",
    "            'acc_grapheme', 'acc_vowel', 'acc_consonant','acc_comb', 'recall']"
   ]
  },
  {
   "cell_type": "code",
   "execution_count": 66,
   "metadata": {
    "ExecuteTime": {
     "end_time": "2020-03-05T03:29:55.046801Z",
     "start_time": "2020-03-05T03:29:55.040621Z"
    }
   },
   "outputs": [],
   "source": [
    "def train_model(epoch, data_loader, log_report, n_train_call):\n",
    "    classifier.train()\n",
    "    metrics_total = dict(zip(loss_recall_names, np.zeros([len(loss_recall_names)], dtype='float32')))\n",
    "    n_tag = 0\n",
    "    for batch_idx, (img_batch, regr_batch) in enumerate(tqdm(data_loader)):\n",
    "        n_sub = img_batch.shape[0]\n",
    "        img_batch = img_batch.to(device)\n",
    "        regr_batch = regr_batch.to(device)\n",
    "        \n",
    "        optimizer.zero_grad()\n",
    "        loss, metrics, pred_y = classifier(img_batch, regr_batch)\n",
    "        \n",
    "        recall = macro_recall(pred_y, regr_batch)\n",
    "        metrics_total[\"recall\"] = (metrics_total[\"recall\"]*n_tag+recall*n_sub)/(n_tag+n_sub)\n",
    "        for key, val in metrics.items():\n",
    "                metrics_total[key] = (metrics_total[key]*n_tag+val*n_sub)/(n_tag+n_sub)\n",
    "                \n",
    "        n_tag = n_tag + n_sub\n",
    "        n_train_call[0] += n_sub\n",
    "        \n",
    "        loss.backward()\n",
    "        optimizer.step()\n",
    "        \n",
    "    return metrics_total, n_train_call"
   ]
  },
  {
   "cell_type": "code",
   "execution_count": 67,
   "metadata": {
    "ExecuteTime": {
     "end_time": "2020-03-05T03:29:55.054881Z",
     "start_time": "2020-03-05T03:29:55.048436Z"
    }
   },
   "outputs": [],
   "source": [
    "def evaluate_model(epoch, data_loader, log_report):\n",
    "    classifier.eval()\n",
    "    n_tag = 0\n",
    "    metrics_total = dict(zip(loss_recall_names, np.zeros([len(loss_recall_names)], dtype='float32')))\n",
    "    with torch.no_grad():\n",
    "        for batch_idx, (img_batch, regr_batch) in enumerate(tqdm(data_loader)):\n",
    "            n_sub = img_batch.shape[0]\n",
    "            img_batch = img_batch.to(device)\n",
    "            regr_batch = regr_batch.to(device)\n",
    "\n",
    "            _, metrics, pred_y = classifier(img_batch, regr_batch)\n",
    "        \n",
    "            recall = macro_recall(pred_y, regr_batch)\n",
    "            metrics_total[\"recall\"] = (metrics_total[\"recall\"]*n_tag+recall*n_sub)/(n_tag+n_sub)\n",
    "            for key, val in metrics.items():\n",
    "                    metrics_total[key] = (metrics_total[key]*n_tag+val*n_sub)/(n_tag+n_sub)\n",
    "\n",
    "            n_tag = n_tag + n_sub\n",
    "        \n",
    "        schedule_lr(metrics_total)   \n",
    "        return metrics_total\n"
   ]
  },
  {
   "cell_type": "markdown",
   "metadata": {},
   "source": [
    "## Train\n"
   ]
  },
  {
   "cell_type": "code",
   "execution_count": 68,
   "metadata": {
    "ExecuteTime": {
     "end_time": "2020-03-05T03:29:55.062858Z",
     "start_time": "2020-03-05T03:29:55.056640Z"
    }
   },
   "outputs": [],
   "source": [
    "def save_res(predictor, l1, epoch, val_metrics, min_val_loss, max_val_recall, outdir):\n",
    "    mode = list(\"000\")\n",
    "    if((epoch+1)%10==0):\n",
    "        model_file_name = os.path.join(outdir, 'predictor_{}_{}.pt'.format(l1,epoch))\n",
    "        torch.save(predictor.state_dict(), model_file_name)\n",
    "        mode[0] = \"1\"\n",
    "    if(val_metrics['loss']<min_val_loss):\n",
    "        min_val_loss = val_metrics['loss']\n",
    "        if mode[0] is \"0\":\n",
    "            model_file_name = os.path.join(outdir, 'predictor_min_loss.pt')\n",
    "            torch.save(predictor.state_dict(), model_file_name)\n",
    "        mode[1] = \"1\"\n",
    "    if(val_metrics['recall']>max_val_recall):\n",
    "        max_val_recall = val_metrics['recall']\n",
    "        if mode[0] is not \"1\" and mode[1] is not \"1\":\n",
    "            model_file_name = os.path.join(outdir, 'predictor_max_recall.pt')\n",
    "            torch.save(predictor.state_dict(), model_file_name)\n",
    "        mode[2] = \"1\"\n",
    "    mode = ''.join(mode)\n",
    "    return mode, min_val_loss, max_val_recall"
   ]
  },
  {
   "cell_type": "code",
   "execution_count": 69,
   "metadata": {
    "ExecuteTime": {
     "end_time": "2020-03-05T03:29:55.074466Z",
     "start_time": "2020-03-05T03:29:55.069499Z"
    }
   },
   "outputs": [],
   "source": [
    "def save_params(outdir, k, img_h, img_w, th, arch, batchsize):\n",
    "    save_json(os.path.join(outdir, 'args_{}.json'.format(k)), \n",
    "              {'image_w': img_w,\n",
    "               'image_h': img_h,\n",
    "               'threshold': th, \n",
    "               'batch_size':batchsize,\n",
    "               'arch': arch, \n",
    "               'model_name': model_name,\n",
    "               'learning_rate': LR,\n",
    "               'weight_decay': WD,\n",
    "               'dropout_ratio': DP,\n",
    "               'hidden_dim':HDIM\n",
    "              }\n",
    "             )"
   ]
  },
  {
   "cell_type": "code",
   "execution_count": 70,
   "metadata": {
    "ExecuteTime": {
     "end_time": "2020-03-05T03:29:55.083497Z",
     "start_time": "2020-03-05T03:29:55.077516Z"
    }
   },
   "outputs": [],
   "source": [
    "def save_checkpoint(epochID, model, optimizer, scheduler, accMax, lossMIN, checkpoint_path, launchTimestamp):\n",
    "    torch.save({'epoch': epochID + 1, 'state_dict': model.state_dict(), 'max_recall': accMax, 'loss_min': lossMIN,\n",
    "                            'optimizer': optimizer.state_dict(), 'scheduler':scheduler.state_dict()},\n",
    "                           checkpoint_path + '/m-checkpoint.pth.tar')\n",
    "#      launchTimestamp + '-' + str(\"%.4f\" % lossMIN) +\n",
    "    \n",
    "def load_checkpoint(model, checkpoint_path, optimizer):\n",
    "    if checkpoint_path != None:\n",
    "        checkpoint_path += '/m-checkpoint.pth.tar'\n",
    "        model_CKPT = torch.load(checkpoint_path)\n",
    "        model.load_state_dict(model_CKPT['state_dict'])\n",
    "        print('loading checkpoint!')\n",
    "        optimizer.load_state_dict(model_CKPT['optimizer'])\n",
    "        epoch = model_CKPT['epoch']\n",
    "        acc_Max = model_CKPT['max_recall']\n",
    "        loss_MIN = model_CKPT['loss_min']\n",
    "        scheduler.load_state_dict(model_CKPT['scheduler'])\n",
    "    return epoch, model, optimizer, scheduler, acc_Max, loss_MIN"
   ]
  },
  {
   "cell_type": "code",
   "execution_count": null,
   "metadata": {
    "ExecuteTime": {
     "end_time": "2020-03-05T03:57:14.933642Z",
     "start_time": "2020-03-05T03:29:55.085210Z"
    },
    "scrolled": false
   },
   "outputs": [
    {
     "name": "stdout",
     "output_type": "stream",
     "text": [
      "\tload pretrain_file: se_resnext50_32x4d-a260b3a4.pth\n",
      "\n",
      "len(pretrain_state_dict.keys()) = 331\n",
      "len(state_dict.keys())          = 402\n",
      "loaded    = 324\n",
      "\n",
      "predictor <class '__main__.PretrainedCNN'>\n"
     ]
    },
    {
     "name": "stderr",
     "output_type": "stream",
     "text": [
      "  0%|          | 0/3348 [00:00<?, ?it/s]/home/vemlr/anaconda3/lib/python3.7/site-packages/sklearn/metrics/classification.py:1439: UndefinedMetricWarning:\n",
      "\n",
      "Recall is ill-defined and being set to 0.0 in labels with no true samples.\n",
      "\n",
      "100%|██████████| 3348/3348 [33:40<00:00,  1.66it/s]\n",
      "100%|██████████| 837/837 [02:37<00:00,  5.30it/s]\n"
     ]
    },
    {
     "name": "stdout",
     "output_type": "stream",
     "text": [
      "epoch      0 train/loss  4.208702 train/loss_grapheme  3.130186 train/loss_vowel  0.452672 train/loss_consonant  0.374604 train/loss_comb  0.251240 train/acc_grapheme  0.593507 train/acc_vowel  0.850410 train/acc_consonant  0.877514 train/acc_comb  0.477712 train/recall  0.631330 val/loss  0.929006 val/loss_grapheme  0.670064 val/loss_vowel  0.101856 val/loss_consonant  0.097941 val/loss_comb  0.059145 val/acc_grapheme  0.901912 val/acc_vowel  0.972217 val/acc_consonant  0.969030 val/acc_comb  0.862577 val/recall  0.893223 lr  0.000250 elapsed_time  2179.107745 mode 011 \n"
     ]
    },
    {
     "name": "stderr",
     "output_type": "stream",
     "text": [
      "100%|██████████| 3348/3348 [33:35<00:00,  1.66it/s]\n",
      "100%|██████████| 837/837 [02:35<00:00,  5.37it/s]\n",
      "  0%|          | 0/3348 [00:00<?, ?it/s]"
     ]
    },
    {
     "name": "stdout",
     "output_type": "stream",
     "text": [
      "epoch      1 train/loss  1.994523 train/loss_grapheme  1.457836 train/loss_vowel  0.214904 train/loss_consonant  0.207787 train/loss_comb  0.113996 train/acc_grapheme  0.790642 train/acc_vowel  0.932316 train/acc_consonant  0.932440 train/acc_comb  0.735436 train/recall  0.788169 val/loss  0.714111 val/loss_grapheme  0.488683 val/loss_vowel  0.089604 val/loss_consonant  0.088263 val/loss_comb  0.047561 val/acc_grapheme  0.930691 val/acc_vowel  0.976001 val/acc_consonant  0.975254 val/acc_comb  0.901837 val/recall  0.921731 lr  0.000250 elapsed_time  4351.949313 mode 011 \n"
     ]
    },
    {
     "name": "stderr",
     "output_type": "stream",
     "text": [
      "100%|██████████| 3348/3348 [33:32<00:00,  1.66it/s]\n",
      "100%|██████████| 837/837 [02:34<00:00,  5.40it/s]\n",
      "  0%|          | 0/3348 [00:00<?, ?it/s]"
     ]
    },
    {
     "name": "stdout",
     "output_type": "stream",
     "text": [
      "epoch      2 train/loss  1.612545 train/loss_grapheme  1.168714 train/loss_vowel  0.177752 train/loss_consonant  0.172758 train/loss_comb  0.093320 train/acc_grapheme  0.830736 train/acc_vowel  0.944384 train/acc_consonant  0.944079 train/acc_comb  0.789055 train/recall  0.824267 val/loss  0.742797 val/loss_grapheme  0.496117 val/loss_vowel  0.097924 val/loss_consonant  0.094721 val/loss_comb  0.054035 val/acc_grapheme  0.930268 val/acc_vowel  0.974656 val/acc_consonant  0.972117 val/acc_comb  0.898501 val/recall  0.917939 lr  0.000250 elapsed_time  6520.519594 mode 000 \n"
     ]
    },
    {
     "name": "stderr",
     "output_type": "stream",
     "text": [
      "100%|██████████| 3348/3348 [33:28<00:00,  1.67it/s]\n",
      "100%|██████████| 837/837 [02:34<00:00,  5.40it/s]\n",
      "  0%|          | 0/3348 [00:00<?, ?it/s]"
     ]
    },
    {
     "name": "stdout",
     "output_type": "stream",
     "text": [
      "epoch      3 train/loss  1.420686 train/loss_grapheme  1.026227 train/loss_vowel  0.156580 train/loss_consonant  0.154015 train/loss_comb  0.083864 train/acc_grapheme  0.849408 train/acc_vowel  0.951666 train/acc_consonant  0.950558 train/acc_comb  0.813110 train/recall  0.842683 val/loss  0.559327 val/loss_grapheme  0.386320 val/loss_vowel  0.064453 val/loss_consonant  0.070305 val/loss_comb  0.038249 val/acc_grapheme  0.942915 val/acc_vowel  0.983370 val/acc_consonant  0.979611 val/acc_comb  0.918144 val/recall  0.936416 lr  0.000250 elapsed_time  8685.825608 mode 011 \n"
     ]
    },
    {
     "name": "stderr",
     "output_type": "stream",
     "text": [
      "100%|██████████| 3348/3348 [33:29<00:00,  1.67it/s]\n",
      "100%|██████████| 837/837 [02:33<00:00,  5.44it/s]\n",
      "  0%|          | 0/3348 [00:00<?, ?it/s]"
     ]
    },
    {
     "name": "stdout",
     "output_type": "stream",
     "text": [
      "epoch      4 train/loss  1.283282 train/loss_grapheme  0.922276 train/loss_vowel  0.141259 train/loss_consonant  0.142174 train/loss_comb  0.077573 train/acc_grapheme  0.863797 train/acc_vowel  0.956277 train/acc_consonant  0.954360 train/acc_comb  0.830624 train/recall  0.856301 val/loss  0.625873 val/loss_grapheme  0.417716 val/loss_vowel  0.084272 val/loss_consonant  0.077763 val/loss_comb  0.046121 val/acc_grapheme  0.940176 val/acc_vowel  0.977345 val/acc_consonant  0.980557 val/acc_comb  0.908509 val/recall  0.931074 lr  0.000250 elapsed_time  10850.758938 mode 000 \n"
     ]
    },
    {
     "name": "stderr",
     "output_type": "stream",
     "text": [
      "100%|██████████| 3348/3348 [33:20<00:00,  1.67it/s]\n",
      "100%|██████████| 837/837 [02:33<00:00,  5.46it/s]\n",
      "  0%|          | 0/3348 [00:00<?, ?it/s]"
     ]
    },
    {
     "name": "stdout",
     "output_type": "stream",
     "text": [
      "epoch      5 train/loss  1.186320 train/loss_grapheme  0.849051 train/loss_vowel  0.132049 train/loss_consonant  0.131875 train/loss_comb  0.073345 train/acc_grapheme  0.874558 train/acc_vowel  0.959122 train/acc_consonant  0.957429 train/acc_comb  0.843221 train/recall  0.866188 val/loss  0.515685 val/loss_grapheme  0.352778 val/loss_vowel  0.061958 val/loss_consonant  0.066739 val/loss_comb  0.034211 val/acc_grapheme  0.948790 val/acc_vowel  0.983768 val/acc_consonant  0.980208 val/acc_comb  0.928650 val/recall  0.941906 lr  0.000250 elapsed_time  13006.409676 mode 011 \n"
     ]
    },
    {
     "name": "stderr",
     "output_type": "stream",
     "text": [
      "100%|██████████| 3348/3348 [33:23<00:00,  1.67it/s]\n",
      "100%|██████████| 837/837 [02:34<00:00,  5.43it/s]\n",
      "  0%|          | 0/3348 [00:00<?, ?it/s]"
     ]
    },
    {
     "name": "stdout",
     "output_type": "stream",
     "text": [
      "epoch      6 train/loss  1.103864 train/loss_grapheme  0.783896 train/loss_vowel  0.124503 train/loss_consonant  0.125315 train/loss_comb  0.070151 train/acc_grapheme  0.883209 train/acc_vowel  0.961860 train/acc_consonant  0.959962 train/acc_comb  0.852407 train/recall  0.874687 val/loss  0.471067 val/loss_grapheme  0.333877 val/loss_vowel  0.051357 val/loss_consonant  0.055453 val/loss_comb  0.030380 val/acc_grapheme  0.952076 val/acc_vowel  0.986631 val/acc_consonant  0.983843 val/acc_comb  0.936766 val/recall  0.947285 lr  0.000250 elapsed_time  15165.278969 mode 011 \n"
     ]
    },
    {
     "name": "stderr",
     "output_type": "stream",
     "text": [
      "100%|██████████| 3348/3348 [33:19<00:00,  1.67it/s]\n",
      "100%|██████████| 837/837 [02:34<00:00,  5.43it/s]\n",
      "  0%|          | 0/3348 [00:00<?, ?it/s]"
     ]
    },
    {
     "name": "stdout",
     "output_type": "stream",
     "text": [
      "epoch      7 train/loss  1.047018 train/loss_grapheme  0.743110 train/loss_vowel  0.118192 train/loss_consonant  0.117895 train/loss_comb  0.067821 train/acc_grapheme  0.889825 train/acc_vowel  0.963709 train/acc_consonant  0.961817 train/acc_comb  0.859938 train/recall  0.881411 val/loss  0.436937 val/loss_grapheme  0.303687 val/loss_vowel  0.050598 val/loss_consonant  0.053608 val/loss_comb  0.029044 val/acc_grapheme  0.956184 val/acc_vowel  0.986880 val/acc_consonant  0.984415 val/acc_comb  0.942043 val/recall  0.950417 lr  0.000250 elapsed_time  17320.314406 mode 011 \n"
     ]
    },
    {
     "name": "stderr",
     "output_type": "stream",
     "text": [
      "100%|██████████| 3348/3348 [33:25<00:00,  1.67it/s]\n",
      "100%|██████████| 837/837 [02:33<00:00,  5.45it/s]\n",
      "  0%|          | 0/3348 [00:00<?, ?it/s]"
     ]
    },
    {
     "name": "stdout",
     "output_type": "stream",
     "text": [
      "epoch      8 train/loss  1.006069 train/loss_grapheme  0.709780 train/loss_vowel  0.114468 train/loss_consonant  0.115258 train/loss_comb  0.066564 train/acc_grapheme  0.894468 train/acc_vowel  0.964953 train/acc_consonant  0.963416 train/acc_comb  0.866853 train/recall  0.885964 val/loss  0.407756 val/loss_grapheme  0.276902 val/loss_vowel  0.051525 val/loss_consonant  0.050782 val/loss_comb  0.028547 val/acc_grapheme  0.960292 val/acc_vowel  0.986606 val/acc_consonant  0.985561 val/acc_comb  0.945703 val/recall  0.954323 lr  0.000250 elapsed_time  19481.233144 mode 011 \n"
     ]
    },
    {
     "name": "stderr",
     "output_type": "stream",
     "text": [
      "100%|██████████| 3348/3348 [33:22<00:00,  1.67it/s]\n",
      "100%|██████████| 837/837 [02:33<00:00,  5.44it/s]\n",
      "  0%|          | 0/3348 [00:00<?, ?it/s]"
     ]
    },
    {
     "name": "stdout",
     "output_type": "stream",
     "text": [
      "epoch      9 train/loss  0.962508 train/loss_grapheme  0.676804 train/loss_vowel  0.111227 train/loss_consonant  0.109314 train/loss_comb  0.065162 train/acc_grapheme  0.899317 train/acc_vowel  0.966161 train/acc_consonant  0.965327 train/acc_comb  0.871166 train/recall  0.890140 val/loss  0.500401 val/loss_grapheme  0.346869 val/loss_vowel  0.055117 val/loss_consonant  0.061362 val/loss_comb  0.037053 val/acc_grapheme  0.949014 val/acc_vowel  0.985735 val/acc_consonant  0.982474 val/acc_comb  0.920633 val/recall  0.942972 lr  0.000250 elapsed_time  21639.517696 mode 100 \n"
     ]
    },
    {
     "name": "stderr",
     "output_type": "stream",
     "text": [
      "100%|██████████| 3348/3348 [33:24<00:00,  1.67it/s]\n",
      "100%|██████████| 837/837 [02:34<00:00,  5.43it/s]\n",
      "  0%|          | 0/3348 [00:00<?, ?it/s]"
     ]
    },
    {
     "name": "stdout",
     "output_type": "stream",
     "text": [
      "epoch     10 train/loss  0.933371 train/loss_grapheme  0.652085 train/loss_vowel  0.107538 train/loss_consonant  0.109475 train/loss_comb  0.064274 train/acc_grapheme  0.902522 train/acc_vowel  0.967368 train/acc_consonant  0.964929 train/acc_comb  0.875685 train/recall  0.892934 val/loss  0.401744 val/loss_grapheme  0.268859 val/loss_vowel  0.056161 val/loss_consonant  0.049264 val/loss_comb  0.027459 val/acc_grapheme  0.961064 val/acc_vowel  0.986407 val/acc_consonant  0.985934 val/acc_comb  0.947197 val/recall  0.955132 lr  0.000250 elapsed_time  23799.180083 mode 011 \n"
     ]
    },
    {
     "name": "stderr",
     "output_type": "stream",
     "text": [
      "100%|██████████| 3348/3348 [33:23<00:00,  1.67it/s]\n",
      "100%|██████████| 837/837 [02:34<00:00,  5.42it/s]\n",
      "  0%|          | 0/3348 [00:00<?, ?it/s]"
     ]
    },
    {
     "name": "stdout",
     "output_type": "stream",
     "text": [
      "epoch     11 train/loss  0.896487 train/loss_grapheme  0.627485 train/loss_vowel  0.101993 train/loss_consonant  0.103975 train/loss_comb  0.063034 train/acc_grapheme  0.906082 train/acc_vowel  0.968663 train/acc_consonant  0.966715 train/acc_comb  0.880888 train/recall  0.896913 val/loss  0.419928 val/loss_grapheme  0.285408 val/loss_vowel  0.053046 val/loss_consonant  0.051399 val/loss_comb  0.030076 val/acc_grapheme  0.959097 val/acc_vowel  0.986357 val/acc_consonant  0.985461 val/acc_comb  0.945081 val/recall  0.952588 lr  0.000250 elapsed_time  25958.721181 mode 000 \n"
     ]
    },
    {
     "name": "stderr",
     "output_type": "stream",
     "text": [
      "100%|██████████| 3348/3348 [33:22<00:00,  1.67it/s]\n",
      "100%|██████████| 837/837 [02:33<00:00,  5.44it/s]\n",
      "  0%|          | 0/3348 [00:00<?, ?it/s]"
     ]
    },
    {
     "name": "stdout",
     "output_type": "stream",
     "text": [
      "epoch     12 train/loss  0.877244 train/loss_grapheme  0.608247 train/loss_vowel  0.103393 train/loss_consonant  0.103086 train/loss_comb  0.062518 train/acc_grapheme  0.909275 train/acc_vowel  0.968451 train/acc_consonant  0.967157 train/acc_comb  0.884062 train/recall  0.899428 val/loss  0.390357 val/loss_grapheme  0.261773 val/loss_vowel  0.048810 val/loss_consonant  0.050715 val/loss_comb  0.029060 val/acc_grapheme  0.962532 val/acc_vowel  0.987353 val/acc_consonant  0.985884 val/acc_comb  0.946998 val/recall  0.955968 lr  0.000250 elapsed_time  28116.482769 mode 011 \n"
     ]
    },
    {
     "name": "stderr",
     "output_type": "stream",
     "text": [
      "100%|██████████| 3348/3348 [33:19<00:00,  1.67it/s]\n",
      "100%|██████████| 837/837 [02:33<00:00,  5.45it/s]\n",
      "  0%|          | 0/3348 [00:00<?, ?it/s]"
     ]
    },
    {
     "name": "stdout",
     "output_type": "stream",
     "text": [
      "epoch     13 train/loss  0.851558 train/loss_grapheme  0.587421 train/loss_vowel  0.100699 train/loss_consonant  0.101656 train/loss_comb  0.061782 train/acc_grapheme  0.911733 train/acc_vowel  0.969808 train/acc_consonant  0.967642 train/acc_comb  0.887292 train/recall  0.902016 val/loss  0.399954 val/loss_grapheme  0.267632 val/loss_vowel  0.051521 val/loss_consonant  0.050078 val/loss_comb  0.030723 val/acc_grapheme  0.961088 val/acc_vowel  0.987129 val/acc_consonant  0.985610 val/acc_comb  0.945155 val/recall  0.954944 lr  0.000250 elapsed_time  30270.487378 mode 000 \n"
     ]
    },
    {
     "name": "stderr",
     "output_type": "stream",
     "text": [
      "100%|██████████| 3348/3348 [33:19<00:00,  1.67it/s]\n",
      "100%|██████████| 837/837 [02:34<00:00,  5.43it/s]\n",
      "  0%|          | 0/3348 [00:00<?, ?it/s]"
     ]
    },
    {
     "name": "stdout",
     "output_type": "stream",
     "text": [
      "epoch     14 train/loss  0.817834 train/loss_grapheme  0.563241 train/loss_vowel  0.097083 train/loss_consonant  0.097159 train/loss_comb  0.060351 train/acc_grapheme  0.915430 train/acc_vowel  0.970238 train/acc_consonant  0.969186 train/acc_comb  0.891935 train/recall  0.905927 val/loss  0.393609 val/loss_grapheme  0.266200 val/loss_vowel  0.048416 val/loss_consonant  0.048840 val/loss_comb  0.030153 val/acc_grapheme  0.961437 val/acc_vowel  0.987826 val/acc_consonant  0.985635 val/acc_comb  0.946674 val/recall  0.955222 lr  0.000250 elapsed_time  32425.833953 mode 000 \n"
     ]
    },
    {
     "name": "stderr",
     "output_type": "stream",
     "text": [
      "100%|██████████| 3348/3348 [33:21<00:00,  1.67it/s]\n",
      "100%|██████████| 837/837 [02:34<00:00,  5.40it/s]\n",
      "  0%|          | 0/3348 [00:00<?, ?it/s]"
     ]
    },
    {
     "name": "stdout",
     "output_type": "stream",
     "text": [
      "epoch     15 train/loss  0.806842 train/loss_grapheme  0.553066 train/loss_vowel  0.095947 train/loss_consonant  0.097567 train/loss_comb  0.060262 train/acc_grapheme  0.916818 train/acc_vowel  0.970903 train/acc_consonant  0.968582 train/acc_comb  0.893939 train/recall  0.906832 val/loss  0.366141 val/loss_grapheme  0.245396 val/loss_vowel  0.046650 val/loss_consonant  0.046161 val/loss_comb  0.027934 val/acc_grapheme  0.963927 val/acc_vowel  0.987876 val/acc_consonant  0.986507 val/acc_comb  0.951504 val/recall  0.958494 lr  0.000250 elapsed_time  34584.058864 mode 011 \n"
     ]
    },
    {
     "name": "stderr",
     "output_type": "stream",
     "text": [
      "100%|██████████| 3348/3348 [33:24<00:00,  1.67it/s]\n",
      "100%|██████████| 837/837 [02:33<00:00,  5.45it/s]\n",
      "  0%|          | 0/3348 [00:00<?, ?it/s]"
     ]
    },
    {
     "name": "stdout",
     "output_type": "stream",
     "text": [
      "epoch     16 train/loss  0.794655 train/loss_grapheme  0.544594 train/loss_vowel  0.094740 train/loss_consonant  0.095368 train/loss_comb  0.059954 train/acc_grapheme  0.917266 train/acc_vowel  0.971171 train/acc_consonant  0.969621 train/acc_comb  0.896149 train/recall  0.908239 val/loss  0.355479 val/loss_grapheme  0.236969 val/loss_vowel  0.046775 val/loss_consonant  0.046361 val/loss_comb  0.025373 val/acc_grapheme  0.965570 val/acc_vowel  0.987652 val/acc_consonant  0.986407 val/acc_comb  0.956134 val/recall  0.959398 lr  0.000250 elapsed_time  36743.955077 mode 011 \n"
     ]
    },
    {
     "name": "stderr",
     "output_type": "stream",
     "text": [
      "100%|██████████| 3348/3348 [33:25<00:00,  1.67it/s]\n",
      "100%|██████████| 837/837 [02:33<00:00,  5.46it/s]\n",
      "  0%|          | 0/3348 [00:00<?, ?it/s]"
     ]
    },
    {
     "name": "stdout",
     "output_type": "stream",
     "text": [
      "epoch     17 train/loss  0.768447 train/loss_grapheme  0.525639 train/loss_vowel  0.090794 train/loss_consonant  0.093017 train/loss_comb  0.058997 train/acc_grapheme  0.920795 train/acc_vowel  0.972266 train/acc_consonant  0.970020 train/acc_comb  0.899230 train/recall  0.911165 val/loss  0.397541 val/loss_grapheme  0.269900 val/loss_vowel  0.047174 val/loss_consonant  0.047051 val/loss_comb  0.033416 val/acc_grapheme  0.961362 val/acc_vowel  0.988200 val/acc_consonant  0.986183 val/acc_comb  0.946798 val/recall  0.955755 lr  0.000250 elapsed_time  38903.676493 mode 000 \n"
     ]
    },
    {
     "name": "stderr",
     "output_type": "stream",
     "text": [
      "100%|██████████| 3348/3348 [33:20<00:00,  1.67it/s]\n",
      "100%|██████████| 837/837 [02:34<00:00,  5.43it/s]\n",
      "  0%|          | 0/3348 [00:00<?, ?it/s]"
     ]
    },
    {
     "name": "stdout",
     "output_type": "stream",
     "text": [
      "epoch     18 train/loss  0.757356 train/loss_grapheme  0.515643 train/loss_vowel  0.091964 train/loss_consonant  0.090807 train/loss_comb  0.058942 train/acc_grapheme  0.922395 train/acc_vowel  0.971943 train/acc_consonant  0.971016 train/acc_comb  0.901725 train/recall  0.912831 val/loss  0.377340 val/loss_grapheme  0.256519 val/loss_vowel  0.045688 val/loss_consonant  0.045096 val/loss_comb  0.030037 val/acc_grapheme  0.963702 val/acc_vowel  0.988922 val/acc_consonant  0.987552 val/acc_comb  0.950134 val/recall  0.959586 lr  0.000250 elapsed_time  41059.321048 mode 001 \n"
     ]
    },
    {
     "name": "stderr",
     "output_type": "stream",
     "text": [
      "100%|██████████| 3348/3348 [33:28<00:00,  1.67it/s]\n",
      "100%|██████████| 837/837 [02:34<00:00,  5.43it/s]\n",
      "  0%|          | 0/3348 [00:00<?, ?it/s]"
     ]
    },
    {
     "name": "stdout",
     "output_type": "stream",
     "text": [
      "epoch     19 train/loss  0.745717 train/loss_grapheme  0.505303 train/loss_vowel  0.090370 train/loss_consonant  0.091550 train/loss_comb  0.058494 train/acc_grapheme  0.923951 train/acc_vowel  0.972565 train/acc_consonant  0.970711 train/acc_comb  0.903119 train/recall  0.914437 val/loss  0.336070 val/loss_grapheme  0.224151 val/loss_vowel  0.043414 val/loss_consonant  0.043036 val/loss_comb  0.025469 val/acc_grapheme  0.967337 val/acc_vowel  0.989021 val/acc_consonant  0.987428 val/acc_comb  0.957877 val/recall  0.962215 lr  0.000250 elapsed_time  43223.388399 mode 111 \n"
     ]
    },
    {
     "name": "stderr",
     "output_type": "stream",
     "text": [
      "100%|██████████| 3348/3348 [33:29<00:00,  1.67it/s]\n",
      "100%|██████████| 837/837 [02:35<00:00,  5.40it/s]\n",
      "  0%|          | 0/3348 [00:00<?, ?it/s]"
     ]
    },
    {
     "name": "stdout",
     "output_type": "stream",
     "text": [
      "epoch     20 train/loss  0.731101 train/loss_grapheme  0.495444 train/loss_vowel  0.088383 train/loss_consonant  0.089331 train/loss_comb  0.057943 train/acc_grapheme  0.925202 train/acc_vowel  0.973449 train/acc_consonant  0.971613 train/acc_comb  0.906101 train/recall  0.915619 val/loss  0.397527 val/loss_grapheme  0.264907 val/loss_vowel  0.049150 val/loss_consonant  0.049017 val/loss_comb  0.034453 val/acc_grapheme  0.961885 val/acc_vowel  0.987627 val/acc_consonant  0.986158 val/acc_comb  0.943039 val/recall  0.954938 lr  0.000250 elapsed_time  45389.039034 mode 000 \n"
     ]
    },
    {
     "name": "stderr",
     "output_type": "stream",
     "text": [
      "100%|██████████| 3348/3348 [33:38<00:00,  1.66it/s]\n",
      "100%|██████████| 837/837 [02:33<00:00,  5.45it/s]\n",
      "  0%|          | 0/3348 [00:00<?, ?it/s]"
     ]
    },
    {
     "name": "stdout",
     "output_type": "stream",
     "text": [
      "epoch     21 train/loss  0.715717 train/loss_grapheme  0.484159 train/loss_vowel  0.086478 train/loss_consonant  0.087506 train/loss_comb  0.057574 train/acc_grapheme  0.927654 train/acc_vowel  0.973580 train/acc_consonant  0.971401 train/acc_comb  0.907202 train/recall  0.917727 val/loss  0.512187 val/loss_grapheme  0.366176 val/loss_vowel  0.049015 val/loss_consonant  0.049509 val/loss_comb  0.047487 val/acc_grapheme  0.947595 val/acc_vowel  0.987229 val/acc_consonant  0.985859 val/acc_comb  0.909107 val/recall  0.942668 lr  0.000250 elapsed_time  47562.559436 mode 000 \n"
     ]
    },
    {
     "name": "stderr",
     "output_type": "stream",
     "text": [
      "100%|██████████| 3348/3348 [33:29<00:00,  1.67it/s]\n",
      "100%|██████████| 837/837 [02:34<00:00,  5.43it/s]\n",
      "  0%|          | 0/3348 [00:00<?, ?it/s]"
     ]
    },
    {
     "name": "stdout",
     "output_type": "stream",
     "text": [
      "epoch     22 train/loss  0.705254 train/loss_grapheme  0.474735 train/loss_vowel  0.086262 train/loss_consonant  0.086907 train/loss_comb  0.057350 train/acc_grapheme  0.928905 train/acc_vowel  0.973642 train/acc_consonant  0.972553 train/acc_comb  0.908379 train/recall  0.919370 val/loss  0.366712 val/loss_grapheme  0.242084 val/loss_vowel  0.046203 val/loss_consonant  0.047476 val/loss_comb  0.030949 val/acc_grapheme  0.964151 val/acc_vowel  0.988399 val/acc_consonant  0.986656 val/acc_comb  0.950782 val/recall  0.958817 lr  0.000250 elapsed_time  49727.692646 mode 000 \n"
     ]
    },
    {
     "name": "stderr",
     "output_type": "stream",
     "text": [
      "100%|██████████| 3348/3348 [33:24<00:00,  1.67it/s]\n",
      "100%|██████████| 837/837 [02:34<00:00,  5.40it/s]\n",
      "  0%|          | 0/3348 [00:00<?, ?it/s]"
     ]
    },
    {
     "name": "stdout",
     "output_type": "stream",
     "text": [
      "epoch     23 train/loss  0.694508 train/loss_grapheme  0.463466 train/loss_vowel  0.086123 train/loss_consonant  0.087928 train/loss_comb  0.056991 train/acc_grapheme  0.930305 train/acc_vowel  0.974295 train/acc_consonant  0.971906 train/acc_comb  0.910146 train/recall  0.920431 val/loss  0.390461 val/loss_grapheme  0.263383 val/loss_vowel  0.046892 val/loss_consonant  0.048131 val/loss_comb  0.032055 val/acc_grapheme  0.963454 val/acc_vowel  0.988399 val/acc_consonant  0.986756 val/acc_comb  0.946823 val/recall  0.958215 lr  0.000250 elapsed_time  51888.281523 mode 000 \n"
     ]
    },
    {
     "name": "stderr",
     "output_type": "stream",
     "text": [
      "100%|██████████| 3348/3348 [33:34<00:00,  1.66it/s]\n",
      "100%|██████████| 837/837 [02:34<00:00,  5.41it/s]\n",
      "  0%|          | 0/3348 [00:00<?, ?it/s]"
     ]
    },
    {
     "name": "stdout",
     "output_type": "stream",
     "text": [
      "epoch     24 train/loss  0.681949 train/loss_grapheme  0.457393 train/loss_vowel  0.083723 train/loss_consonant  0.084179 train/loss_comb  0.056655 train/acc_grapheme  0.931780 train/acc_vowel  0.974825 train/acc_consonant  0.973169 train/acc_comb  0.911478 train/recall  0.922012 val/loss  0.394923 val/loss_grapheme  0.261231 val/loss_vowel  0.046055 val/loss_consonant  0.052061 val/loss_comb  0.035576 val/acc_grapheme  0.962109 val/acc_vowel  0.988224 val/acc_consonant  0.984590 val/acc_comb  0.945379 val/recall  0.954968 lr  0.000250 elapsed_time  54058.522647 mode 000 \n"
     ]
    },
    {
     "name": "stderr",
     "output_type": "stream",
     "text": [
      "100%|██████████| 3348/3348 [33:31<00:00,  1.66it/s]\n",
      "100%|██████████| 837/837 [02:33<00:00,  5.44it/s]\n",
      "  0%|          | 0/3348 [00:00<?, ?it/s]"
     ]
    },
    {
     "name": "stdout",
     "output_type": "stream",
     "text": [
      "epoch     25 train/loss  0.668175 train/loss_grapheme  0.444387 train/loss_vowel  0.083594 train/loss_consonant  0.083951 train/loss_comb  0.056243 train/acc_grapheme  0.932950 train/acc_vowel  0.974501 train/acc_consonant  0.973325 train/acc_comb  0.913712 train/recall  0.923450 val/loss  0.337226 val/loss_grapheme  0.224289 val/loss_vowel  0.042912 val/loss_consonant  0.042034 val/loss_comb  0.027990 val/acc_grapheme  0.967437 val/acc_vowel  0.989245 val/acc_consonant  0.988598 val/acc_comb  0.956632 val/recall  0.962924 lr  0.000250 elapsed_time  56225.082977 mode 001 \n"
     ]
    },
    {
     "name": "stderr",
     "output_type": "stream",
     "text": [
      "100%|██████████| 3348/3348 [33:30<00:00,  1.67it/s]\n",
      "100%|██████████| 837/837 [02:33<00:00,  5.45it/s]\n",
      "  0%|          | 0/3348 [00:00<?, ?it/s]"
     ]
    },
    {
     "name": "stdout",
     "output_type": "stream",
     "text": [
      "epoch     26 train/loss  0.576247 train/loss_grapheme  0.380323 train/loss_vowel  0.071288 train/loss_consonant  0.074302 train/loss_comb  0.050334 train/acc_grapheme  0.942218 train/acc_vowel  0.978254 train/acc_consonant  0.976281 train/acc_comb  0.926565 train/recall  0.932904 val/loss  0.285193 val/loss_grapheme  0.183550 val/loss_vowel  0.040738 val/loss_consonant  0.037750 val/loss_comb  0.023156 val/acc_grapheme  0.973810 val/acc_vowel  0.989668 val/acc_consonant  0.989345 val/acc_comb  0.964773 val/recall  0.968919 lr  0.000175 elapsed_time  58390.374944 mode 011 \n"
     ]
    },
    {
     "name": "stderr",
     "output_type": "stream",
     "text": [
      "100%|██████████| 3348/3348 [33:23<00:00,  1.67it/s]\n",
      "100%|██████████| 837/837 [02:34<00:00,  5.40it/s]\n",
      "  0%|          | 0/3348 [00:00<?, ?it/s]"
     ]
    },
    {
     "name": "stdout",
     "output_type": "stream",
     "text": [
      "epoch     27 train/loss  0.546195 train/loss_grapheme  0.359488 train/loss_vowel  0.068271 train/loss_consonant  0.069482 train/loss_comb  0.048954 train/acc_grapheme  0.945336 train/acc_vowel  0.979443 train/acc_consonant  0.977980 train/acc_comb  0.929085 train/recall  0.936873 val/loss  0.284333 val/loss_grapheme  0.185463 val/loss_vowel  0.040914 val/loss_consonant  0.036008 val/loss_comb  0.021948 val/acc_grapheme  0.973287 val/acc_vowel  0.989768 val/acc_consonant  0.989843 val/acc_comb  0.965072 val/recall  0.968635 lr  0.000175 elapsed_time  60550.227898 mode 010 \n"
     ]
    },
    {
     "name": "stderr",
     "output_type": "stream",
     "text": [
      "100%|██████████| 3348/3348 [33:29<00:00,  1.67it/s]\n",
      "100%|██████████| 837/837 [02:33<00:00,  5.44it/s]\n",
      "  0%|          | 0/3348 [00:00<?, ?it/s]"
     ]
    },
    {
     "name": "stdout",
     "output_type": "stream",
     "text": [
      "epoch     28 train/loss  0.551803 train/loss_grapheme  0.363321 train/loss_vowel  0.068790 train/loss_consonant  0.070428 train/loss_comb  0.049264 train/acc_grapheme  0.945000 train/acc_vowel  0.979194 train/acc_consonant  0.977582 train/acc_comb  0.929272 train/recall  0.935903 val/loss  0.320065 val/loss_grapheme  0.208805 val/loss_vowel  0.039384 val/loss_consonant  0.045388 val/loss_comb  0.026488 val/acc_grapheme  0.969030 val/acc_vowel  0.990216 val/acc_consonant  0.987229 val/acc_comb  0.958151 val/recall  0.963047 lr  0.000175 elapsed_time  62715.300004 mode 000 \n"
     ]
    },
    {
     "name": "stderr",
     "output_type": "stream",
     "text": [
      "100%|██████████| 3348/3348 [33:36<00:00,  1.66it/s]\n",
      "100%|██████████| 837/837 [02:33<00:00,  5.46it/s]\n",
      "  0%|          | 0/3348 [00:00<?, ?it/s]"
     ]
    },
    {
     "name": "stdout",
     "output_type": "stream",
     "text": [
      "epoch     29 train/loss  0.541571 train/loss_grapheme  0.355783 train/loss_vowel  0.067479 train/loss_consonant  0.069562 train/loss_comb  0.048746 train/acc_grapheme  0.945896 train/acc_vowel  0.979424 train/acc_consonant  0.977470 train/acc_comb  0.929341 train/recall  0.937348 val/loss  0.268700 val/loss_grapheme  0.170912 val/loss_vowel  0.037936 val/loss_consonant  0.039048 val/loss_comb  0.020804 val/acc_grapheme  0.975578 val/acc_vowel  0.990838 val/acc_consonant  0.989370 val/acc_comb  0.967661 val/recall  0.970537 lr  0.000175 elapsed_time  64886.341040 mode 111 \n"
     ]
    },
    {
     "name": "stderr",
     "output_type": "stream",
     "text": [
      "100%|██████████| 3348/3348 [33:27<00:00,  1.67it/s]\n",
      "100%|██████████| 837/837 [02:33<00:00,  5.44it/s]\n",
      "  0%|          | 0/3348 [00:00<?, ?it/s]"
     ]
    },
    {
     "name": "stdout",
     "output_type": "stream",
     "text": [
      "epoch     30 train/loss  0.531658 train/loss_grapheme  0.349101 train/loss_vowel  0.066549 train/loss_consonant  0.067766 train/loss_comb  0.048243 train/acc_grapheme  0.946693 train/acc_vowel  0.980146 train/acc_consonant  0.978353 train/acc_comb  0.930878 train/recall  0.938037 val/loss  0.266804 val/loss_grapheme  0.170558 val/loss_vowel  0.037783 val/loss_consonant  0.036261 val/loss_comb  0.022202 val/acc_grapheme  0.975926 val/acc_vowel  0.990365 val/acc_consonant  0.989843 val/acc_comb  0.966740 val/recall  0.971153 lr  0.000175 elapsed_time  67049.679974 mode 011 \n"
     ]
    },
    {
     "name": "stderr",
     "output_type": "stream",
     "text": [
      "100%|██████████| 3348/3348 [33:26<00:00,  1.67it/s]\n",
      "100%|██████████| 837/837 [02:34<00:00,  5.43it/s]\n",
      "  0%|          | 0/3348 [00:00<?, ?it/s]"
     ]
    },
    {
     "name": "stdout",
     "output_type": "stream",
     "text": [
      "epoch     31 train/loss  0.524809 train/loss_grapheme  0.343011 train/loss_vowel  0.066376 train/loss_consonant  0.067444 train/loss_comb  0.047978 train/acc_grapheme  0.948062 train/acc_vowel  0.979797 train/acc_consonant  0.977986 train/acc_comb  0.932253 train/recall  0.939321 val/loss  0.273944 val/loss_grapheme  0.177253 val/loss_vowel  0.036762 val/loss_consonant  0.036589 val/loss_comb  0.023340 val/acc_grapheme  0.974731 val/acc_vowel  0.990963 val/acc_consonant  0.989718 val/acc_comb  0.968333 val/recall  0.969867 lr  0.000175 elapsed_time  69211.341744 mode 000 \n"
     ]
    },
    {
     "name": "stderr",
     "output_type": "stream",
     "text": [
      "100%|██████████| 3348/3348 [33:31<00:00,  1.66it/s]\n",
      "100%|██████████| 837/837 [02:35<00:00,  5.40it/s]\n",
      "  0%|          | 0/3348 [00:00<?, ?it/s]"
     ]
    },
    {
     "name": "stdout",
     "output_type": "stream",
     "text": [
      "epoch     32 train/loss  0.522015 train/loss_grapheme  0.342009 train/loss_vowel  0.065677 train/loss_consonant  0.066564 train/loss_comb  0.047765 train/acc_grapheme  0.948186 train/acc_vowel  0.980046 train/acc_consonant  0.978478 train/acc_comb  0.932701 train/recall  0.939958 val/loss  0.273132 val/loss_grapheme  0.175957 val/loss_vowel  0.037434 val/loss_consonant  0.037907 val/loss_comb  0.021835 val/acc_grapheme  0.974183 val/acc_vowel  0.990664 val/acc_consonant  0.989743 val/acc_comb  0.965520 val/recall  0.969700 lr  0.000175 elapsed_time  71379.640995 mode 000 \n"
     ]
    },
    {
     "name": "stderr",
     "output_type": "stream",
     "text": [
      "100%|██████████| 3348/3348 [33:27<00:00,  1.67it/s]\n",
      "100%|██████████| 837/837 [02:33<00:00,  5.46it/s]\n",
      "  0%|          | 0/3348 [00:00<?, ?it/s]"
     ]
    },
    {
     "name": "stdout",
     "output_type": "stream",
     "text": [
      "epoch     33 train/loss  0.526839 train/loss_grapheme  0.346073 train/loss_vowel  0.067237 train/loss_consonant  0.065421 train/loss_comb  0.048108 train/acc_grapheme  0.947552 train/acc_vowel  0.979586 train/acc_consonant  0.978864 train/acc_comb  0.931519 train/recall  0.939105 val/loss  0.315034 val/loss_grapheme  0.208765 val/loss_vowel  0.038641 val/loss_consonant  0.041468 val/loss_comb  0.026161 val/acc_grapheme  0.970723 val/acc_vowel  0.990166 val/acc_consonant  0.988797 val/acc_comb  0.959147 val/recall  0.965772 lr  0.000175 elapsed_time  73541.764479 mode 000 \n"
     ]
    },
    {
     "name": "stderr",
     "output_type": "stream",
     "text": [
      "100%|██████████| 3348/3348 [33:32<00:00,  1.66it/s]\n",
      "100%|██████████| 837/837 [02:34<00:00,  5.40it/s]\n",
      "  0%|          | 0/3348 [00:00<?, ?it/s]"
     ]
    },
    {
     "name": "stdout",
     "output_type": "stream",
     "text": [
      "epoch     34 train/loss  0.517358 train/loss_grapheme  0.337168 train/loss_vowel  0.066397 train/loss_consonant  0.066238 train/loss_comb  0.047555 train/acc_grapheme  0.948678 train/acc_vowel  0.980146 train/acc_consonant  0.978546 train/acc_comb  0.933342 train/recall  0.939624 val/loss  0.309299 val/loss_grapheme  0.199531 val/loss_vowel  0.040368 val/loss_consonant  0.043937 val/loss_comb  0.025462 val/acc_grapheme  0.969951 val/acc_vowel  0.989644 val/acc_consonant  0.987876 val/acc_comb  0.960043 val/recall  0.964330 lr  0.000175 elapsed_time  75710.466069 mode 000 \n"
     ]
    },
    {
     "name": "stderr",
     "output_type": "stream",
     "text": [
      "100%|██████████| 3348/3348 [33:28<00:00,  1.67it/s]\n",
      "100%|██████████| 837/837 [02:34<00:00,  5.40it/s]\n",
      "  0%|          | 0/3348 [00:00<?, ?it/s]"
     ]
    },
    {
     "name": "stdout",
     "output_type": "stream",
     "text": [
      "epoch     35 train/loss  0.513837 train/loss_grapheme  0.336649 train/loss_vowel  0.063488 train/loss_consonant  0.066202 train/loss_comb  0.047499 train/acc_grapheme  0.949176 train/acc_vowel  0.980619 train/acc_consonant  0.978708 train/acc_comb  0.933461 train/recall  0.940124 val/loss  0.286864 val/loss_grapheme  0.186071 val/loss_vowel  0.037190 val/loss_consonant  0.039924 val/loss_comb  0.023680 val/acc_grapheme  0.973735 val/acc_vowel  0.990540 val/acc_consonant  0.988922 val/acc_comb  0.963653 val/recall  0.968290 lr  0.000175 elapsed_time  77875.035955 mode 000 \n"
     ]
    },
    {
     "name": "stderr",
     "output_type": "stream",
     "text": [
      "100%|██████████| 3348/3348 [33:30<00:00,  1.67it/s]\n",
      "100%|██████████| 837/837 [02:34<00:00,  5.42it/s]\n",
      "  0%|          | 0/3348 [00:00<?, ?it/s]"
     ]
    },
    {
     "name": "stdout",
     "output_type": "stream",
     "text": [
      "epoch     36 train/loss  0.513323 train/loss_grapheme  0.337747 train/loss_vowel  0.063290 train/loss_consonant  0.064863 train/loss_comb  0.047425 train/acc_grapheme  0.948535 train/acc_vowel  0.980824 train/acc_consonant  0.979156 train/acc_comb  0.933230 train/recall  0.940659 val/loss  0.251406 val/loss_grapheme  0.158002 val/loss_vowel  0.035301 val/loss_consonant  0.037655 val/loss_comb  0.020448 val/acc_grapheme  0.977768 val/acc_vowel  0.991536 val/acc_consonant  0.989818 val/acc_comb  0.970424 val/recall  0.972251 lr  0.000175 elapsed_time  80041.198967 mode 011 \n"
     ]
    },
    {
     "name": "stderr",
     "output_type": "stream",
     "text": [
      " 65%|██████▌   | 2177/3348 [21:44<12:08,  1.61it/s]"
     ]
    }
   ],
   "source": [
    "import gc\n",
    "\n",
    "# train_labels_total = train[['grapheme_root', 'vowel_diacritic', 'consonant_diacritic']].values\n",
    "n_epochs = 150\n",
    "kfold = 5\n",
    "if not os.path.exists(outdir):\n",
    "    os.mkdir(outdir)\n",
    "for k in range(kfold):\n",
    "    # Set pretrained='imagenet' to download imagenet pretrained model...\n",
    "    predictor = PretrainedCNN(in_channels=1, num_class=[n_grapheme, n_vowel, n_consonant, n_comb_class], \n",
    "                              model_name=model_name, pretrained=\"imagenet\", dropout_ratio=DP)\n",
    "    predictor.load_pretrain(is_print=False)\n",
    "    print('predictor', type(predictor))\n",
    "    start_time = perf_counter()\n",
    "    classifier = BengaliClassifier(predictor).to(device)\n",
    "    # --- Training setting ---\n",
    "    optimizer = torch.optim.Adam(classifier.parameters(), lr=LR, weight_decay=WD)\n",
    "#     optimizer = get_optimizer_adam(classifier, learning_rate=LR, weight_decay=WD)\n",
    "\n",
    "    scheduler = torch.optim.lr_scheduler.ReduceLROnPlateau(\n",
    "        optimizer, mode='min', factor=0.7, patience=5, min_lr=1e-7)\n",
    "\n",
    "    sub_dir = os.path.join(outdir,\"{}_fold\".format(k))\n",
    "    if not os.path.exists(sub_dir):\n",
    "        os.mkdir(sub_dir)\n",
    "    log_report = LogReport(dirpath=sub_dir)\n",
    "    n_train_call = [0]\n",
    "    min_val_loss = 1e10\n",
    "    max_val_recall = 0\n",
    "    val_indexes = train[train['fold']==k].index.tolist()\n",
    "    train_indexes = train[train['fold']!=k].index.tolist()\n",
    "    save_params(outdir, k, HEIGHT_NEW, WIDTH_NEW, TH, arch, batch_size)\n",
    "    if debug:\n",
    "        val_indexes = val_indexes[:100]\n",
    "        train_indexes = train_indexes[:200]\n",
    "        print(\"val_indexes:\", val_indexes[:5])\n",
    "        print(\"train_indexes:\", train_indexes[:5])\n",
    "        \n",
    "    train_dataset = BengaliAIDataset(\n",
    "        train_images, train_labels, transform=train_transform,\n",
    "        indices=train_indexes)\n",
    "    valid_dataset = BengaliAIDataset(\n",
    "        train_images, train_labels, transform=Transform(affine=False, crop=False, size=(WIDTH_NEW, HEIGHT_NEW)),\n",
    "        indices=val_indexes)\n",
    "    \n",
    "    train_loader = DataLoader(train_dataset, batch_size=batch_size, shuffle=True, num_workers=4)\n",
    "    valid_loader = DataLoader(valid_dataset, batch_size=batch_size, shuffle=False, num_workers=0)\n",
    "    \n",
    "    for epoch in range(n_epochs):\n",
    "        torch.cuda.empty_cache()\n",
    "        gc.collect()\n",
    "        train_metrics, n_train_call = train_model(epoch, train_loader, log_report, n_train_call)\n",
    "        val_metrics = evaluate_model(epoch, valid_loader, log_report)\n",
    "        mode, min_val_loss, max_val_recall = save_res(predictor, k, epoch, val_metrics, min_val_loss, \n",
    "                                                      max_val_recall, sub_dir)\n",
    "        save_checkpoint(epoch, predictor, optimizer, scheduler, max_val_recall, min_val_loss, sub_dir, \n",
    "                                str(int(perf_counter()- start_time)))\n",
    "#         print(\"mode type:{}, mode val:{}\".format(type(mode), mode))\n",
    "#         print(\"min_val_loss = \", min_val_loss)\n",
    "#         print(\"max_val_recall = \", max_val_recall)\n",
    "        log_report(epoch, n_train_call[0], train_metrics, val_metrics, mode)\n",
    "    \n",
    "    model_file_name = os.path.join(sub_dir, 'predictor_{}_{}.pt'.format(k,epoch))\n",
    "    torch.save(predictor.state_dict(), model_file_name)"
   ]
  },
  {
   "cell_type": "code",
   "execution_count": null,
   "metadata": {
    "ExecuteTime": {
     "end_time": "2020-03-05T03:57:14.938397Z",
     "start_time": "2020-03-05T03:29:54.917Z"
    }
   },
   "outputs": [],
   "source": [
    "# print(sub_dir)\n",
    "# checkpoint_path = sub_dir\n",
    "# model =  PretrainedCNN(in_channels=1, out_dim=n_total, model_name=model_name, pretrained=None)\n",
    "# epoch, model, optimizer, scheduler, acc_Max, loss_MIN = load_checkpoint(model, checkpoint_path, optimizer)"
   ]
  },
  {
   "cell_type": "code",
   "execution_count": null,
   "metadata": {
    "ExecuteTime": {
     "end_time": "2020-03-01T03:34:04.243487Z",
     "start_time": "2020-03-01T03:34:04.227590Z"
    }
   },
   "outputs": [],
   "source": []
  },
  {
   "cell_type": "code",
   "execution_count": null,
   "metadata": {},
   "outputs": [],
   "source": []
  },
  {
   "cell_type": "code",
   "execution_count": null,
   "metadata": {},
   "outputs": [],
   "source": []
  },
  {
   "cell_type": "code",
   "execution_count": null,
   "metadata": {
    "ExecuteTime": {
     "end_time": "2020-03-05T03:57:14.939617Z",
     "start_time": "2020-03-05T03:29:54.928Z"
    }
   },
   "outputs": [],
   "source": [
    "a = torch.Tensor([0.5])\n",
    "print(a)\n",
    "if isinstance(a, torch.Tensor):\n",
    "    print(a.item())"
   ]
  },
  {
   "cell_type": "code",
   "execution_count": null,
   "metadata": {
    "ExecuteTime": {
     "end_time": "2020-03-05T03:57:14.940969Z",
     "start_time": "2020-03-05T03:29:54.930Z"
    }
   },
   "outputs": [],
   "source": [
    "train_history = log_report.get_dataframe()\n",
    "train_history.to_csv(outdir / 'log.csv', index=False)\n",
    "\n",
    "train_history"
   ]
  },
  {
   "cell_type": "markdown",
   "metadata": {},
   "source": [
    "<a id=\"pred\"></a>\n",
    "# Prediction\n",
    "\n",
    "Please refer **[Bengali: SEResNeXt prediction with pytorch](https://www.kaggle.com/corochann/bengali-seresnext-prediction-with-pytorch)** for the prediction with trained model and submission for this competition!!!"
   ]
  },
  {
   "cell_type": "markdown",
   "metadata": {},
   "source": [
    "<a id=\"ref\"></a>\n",
    "# Reference and further reading\n",
    "\n",
    "#### Kernel\n",
    "\n",
    "**[Bangali.AI super fast data loading with feather](https://www.kaggle.com/corochann/bangali-ai-super-fast-data-loading-with-feather)**<br>\n",
    "Simple example of how use feather format data to load data faster.\n",
    "\n",
    "**[Bengali: albumentations data augmentation tutorial](https://www.kaggle.com/corochann/bengali-albumentations-data-augmentation-tutorial)**<br>\n",
    "Tutorial for Data augmentations with albumentations library.\n",
    "\n",
    "**[Bengali: SEResNeXt prediction with pytorch](https://www.kaggle.com/corochann/bengali-seresnext-prediction-with-pytorch)**<br>\n",
    "**Prediction code of this kernel's trained model, please check this too!**\n",
    "\n",
    "**[Deep learning - CNN with Chainer: LB 0.99700](https://www.kaggle.com/corochann/deep-learning-cnn-with-chainer-lb-0-99700)**<br>\n",
    "Data augmentation idea is based on this kernel, which achieves quite high accuracy on MNIST task.\n",
    "\n",
    "#### Dataset\n",
    "**[bengaliai-cv19-feather](https://www.kaggle.com/corochann/bengaliaicv19feather)**<br>\n",
    "Feather format dataset\n",
    "\n",
    "**[bengaliaicv19_seresnext101_32x4d](https://www.kaggle.com/corochann/bengaliaicv19-seresnext101-32x4d)**<br>\n",
    "**Trained model weight with this kernel(v1)**\n",
    "\n",
    "**[bengaliaicv19_trainedmodels](https://www.kaggle.com/corochann/bengaliaicv19-trainedmodels)**<br>\n",
    "**Trained model weight with this kernel(v2~)**\n",
    "\n",
    "#### Library\n",
    "**https://github.com/pytorch/ignite**\n",
    "\n",
    "Used for training code abstraction. The advantage of abstracting the code is that we can re-use implemented handler class for other training, other competition.<br>\n",
    "You don't need to write code for saving models, logging training loss/metric, show progressbar etc.\n",
    "\n",
    "**https://github.com/Cadene/pretrained-models.pytorch**\n",
    "\n",
    "Many pretrained models are supported by this library, and we can switch to use them easily.\n",
    "Other model may perform better in this competition.\n",
    "\n",
    "**https://github.com/albumentations-team/albumentations**\n",
    "\n",
    "fast image augmentation library and easy to use wrapper around other libraries https://arxiv.org/abs/1809.06839<br>\n",
    "I could not show all the methods, you can find more methods in the library, check yourself!"
   ]
  },
  {
   "cell_type": "markdown",
   "metadata": {},
   "source": [
    "<h3 style=\"color:red\">If this kernel helps you, please upvote to keep me motivated :)<br>Thanks!</h3>"
   ]
  },
  {
   "cell_type": "code",
   "execution_count": null,
   "metadata": {
    "ExecuteTime": {
     "end_time": "2020-03-05T03:57:14.941998Z",
     "start_time": "2020-03-05T03:29:54.934Z"
    }
   },
   "outputs": [],
   "source": [
    "print(optimizer)"
   ]
  },
  {
   "cell_type": "code",
   "execution_count": null,
   "metadata": {},
   "outputs": [],
   "source": []
  }
 ],
 "metadata": {
  "kernelspec": {
   "display_name": "Python 3",
   "language": "python",
   "name": "python3"
  },
  "language_info": {
   "codemirror_mode": {
    "name": "ipython",
    "version": 3
   },
   "file_extension": ".py",
   "mimetype": "text/x-python",
   "name": "python",
   "nbconvert_exporter": "python",
   "pygments_lexer": "ipython3",
   "version": "3.7.4"
  }
 },
 "nbformat": 4,
 "nbformat_minor": 1
}
