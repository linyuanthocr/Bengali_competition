{
 "cells": [
  {
   "cell_type": "markdown",
   "metadata": {},
   "source": [
    "# Bengali.AI SEResNeXt training with pytorch\n",
    "\n",
    "I will introduce following contents\n",
    "\n",
    " - **Fast data loading** with feather format\n",
    " - **Data augmentation** technic with affine transformation\n",
    " - **CNN SoTA models**: Use pytorch `pretrainedmodels` library, especially I use **`SEResNeXt`** in this notebook\n",
    " - **Training code abstraction**: Use `pytorch-ignite` module for the trainining abstraction\n",
    " \n",
    "### Update history\n",
    "\n",
    " - 2020/1/4 v2: Added albumentations augmentations introduced in [Bengali: albumentations data augmentation tutorial](https://www.kaggle.com/corochann/bengali-albumentations-data-augmentation-tutorial)"
   ]
  },
  {
   "cell_type": "markdown",
   "metadata": {},
   "source": [
    "# Table of Contents:\n",
    "**[Fast data loading with feather](#load)**<br>\n",
    "**[Dataset](#dataset)**<br>\n",
    "**[Data augmentation/processing](#processing)**<br>\n",
    "**[pytorch model & define classifier](#model)**<br>\n",
    "**[Training code](#train)**<br>\n",
    "**[Prediction](#pred)**<br>\n",
    "**[Reference and further reading](#ref)**<br>"
   ]
  },
  {
   "cell_type": "markdown",
   "metadata": {},
   "source": [
    "To install https://github.com/Cadene/pretrained-models.pytorch without internet connection, we can install library as \"dataset\".\n",
    "\n",
    "It is uploaded by @rishabhiitbhu : https://www.kaggle.com/rishabhiitbhu/pretrainedmodels"
   ]
  },
  {
   "cell_type": "code",
   "execution_count": 1,
   "metadata": {
    "ExecuteTime": {
     "end_time": "2020-03-04T05:07:55.805893Z",
     "start_time": "2020-03-04T05:07:53.172160Z"
    }
   },
   "outputs": [
    {
     "name": "stdout",
     "output_type": "stream",
     "text": [
      "Requirement already satisfied: pretrainedmodels in /home/vemlr/anaconda3/lib/python3.7/site-packages (0.7.4)\n",
      "Requirement already satisfied: torchvision in /home/vemlr/anaconda3/lib/python3.7/site-packages (from pretrainedmodels) (0.2.1)\n",
      "Requirement already satisfied: tqdm in /home/vemlr/anaconda3/lib/python3.7/site-packages (from pretrainedmodels) (4.36.1)\n",
      "Requirement already satisfied: munch in /home/vemlr/anaconda3/lib/python3.7/site-packages (from pretrainedmodels) (2.5.0)\n",
      "Requirement already satisfied: torch in /home/vemlr/anaconda3/lib/python3.7/site-packages (from pretrainedmodels) (1.0.0)\n",
      "Requirement already satisfied: numpy in /home/vemlr/anaconda3/lib/python3.7/site-packages (from torchvision->pretrainedmodels) (1.17.2)\n",
      "Requirement already satisfied: pillow>=4.1.1 in /home/vemlr/anaconda3/lib/python3.7/site-packages (from torchvision->pretrainedmodels) (6.2.0)\n",
      "Requirement already satisfied: six in /home/vemlr/anaconda3/lib/python3.7/site-packages (from torchvision->pretrainedmodels) (1.12.0)\n"
     ]
    }
   ],
   "source": [
    "!pip install pretrainedmodels"
   ]
  },
  {
   "cell_type": "code",
   "execution_count": null,
   "metadata": {
    "ExecuteTime": {
     "end_time": "2020-03-01T02:52:25.961805Z",
     "start_time": "2020-03-01T02:52:25.944233Z"
    }
   },
   "outputs": [],
   "source": []
  },
  {
   "cell_type": "code",
   "execution_count": 2,
   "metadata": {
    "ExecuteTime": {
     "end_time": "2020-03-04T05:07:55.824154Z",
     "start_time": "2020-03-04T05:07:55.809728Z"
    },
    "_kg_hide-input": true,
    "_kg_hide-output": true
   },
   "outputs": [
    {
     "data": {
      "text/html": [
       "        <script type=\"text/javascript\">\n",
       "        window.PlotlyConfig = {MathJaxConfig: 'local'};\n",
       "        if (window.MathJax) {MathJax.Hub.Config({SVG: {font: \"STIX-Web\"}});}\n",
       "        if (typeof require !== 'undefined') {\n",
       "        require.undef(\"plotly\");\n",
       "        requirejs.config({\n",
       "            paths: {\n",
       "                'plotly': ['https://cdn.plot.ly/plotly-latest.min']\n",
       "            }\n",
       "        });\n",
       "        require(['plotly'], function(Plotly) {\n",
       "            window._Plotly = Plotly;\n",
       "        });\n",
       "        }\n",
       "        </script>\n",
       "        "
      ]
     },
     "metadata": {},
     "output_type": "display_data"
    }
   ],
   "source": [
    "import gc\n",
    "import os\n",
    "from pathlib import Path\n",
    "import random\n",
    "import sys\n",
    "\n",
    "from tqdm.notebook import tqdm\n",
    "import numpy as np # linear algebra\n",
    "import pandas as pd # data processing, CSV file I/O (e.g. pd.read_csv)\n",
    "\n",
    "import matplotlib.pyplot as plt\n",
    "import seaborn as sns\n",
    "\n",
    "from IPython.core.display import display, HTML\n",
    "\n",
    "# --- plotly ---\n",
    "from plotly import tools, subplots\n",
    "import plotly.offline as py\n",
    "py.init_notebook_mode(connected=True)\n",
    "import plotly.graph_objs as go\n",
    "import plotly.express as px\n",
    "import plotly.figure_factory as ff\n",
    "\n",
    "# --- models ---\n",
    "from sklearn import preprocessing\n",
    "from sklearn.model_selection import KFold\n",
    "import lightgbm as lgb\n",
    "import xgboost as xgb\n",
    "import catboost as cb\n",
    "\n",
    "# --- setup ---\n",
    "pd.set_option('max_columns', 50)\n",
    "\n",
    "# PATH = \"/Users/helen/Desktop/Data/bengaliai-cv19/\"\n",
    "# FEATHER_PATH = \"/Users/helen/Desktop/Data/bengaliaicv19feather/\"\n",
    "\n",
    "# # PATH = \"/home/chen/Work/ly/data/Bengaliai/bengaliai-cv19/\"\n",
    "# # FEATHER_PATH = \"/home/chen/Work/ly/data/Bengaliai/bengaliaicv19feather/\"\n",
    "\n",
    "PATH = \"/home/vemlr/Work/chen_huang/Data/bengaliai-cv19/\"\n",
    "FEATHER_PATH = \"/home/vemlr/Work/chen_huang/Data/bengaliaicv19feather/\""
   ]
  },
  {
   "cell_type": "code",
   "execution_count": null,
   "metadata": {
    "ExecuteTime": {
     "end_time": "2020-03-01T03:16:32.892124Z",
     "start_time": "2020-03-01T03:16:32.889457Z"
    }
   },
   "outputs": [],
   "source": []
  },
  {
   "cell_type": "code",
   "execution_count": 3,
   "metadata": {
    "ExecuteTime": {
     "end_time": "2020-03-04T05:07:55.835124Z",
     "start_time": "2020-03-04T05:07:55.827281Z"
    },
    "_cell_guid": "b1076dfc-b9ad-4769-8c92-a6c4dae69d19",
    "_kg_hide-input": true,
    "_kg_hide-output": true,
    "_uuid": "8f2839f25d086af736a60e9eeb907d3b93b6e0e5",
    "scrolled": true
   },
   "outputs": [
    {
     "name": "stdout",
     "output_type": "stream",
     "text": [
      "/home/vemlr/Work/chen_huang/Data/bengaliai-cv19/test_image_data_0.parquet\n",
      "/home/vemlr/Work/chen_huang/Data/bengaliai-cv19/class_map.csv\n",
      "/home/vemlr/Work/chen_huang/Data/bengaliai-cv19/test_image_data_1.parquet\n",
      "/home/vemlr/Work/chen_huang/Data/bengaliai-cv19/train_image_data_3.parquet\n",
      "/home/vemlr/Work/chen_huang/Data/bengaliai-cv19/train.csv\n",
      "/home/vemlr/Work/chen_huang/Data/bengaliai-cv19/test_image_data_3.parquet\n",
      "/home/vemlr/Work/chen_huang/Data/bengaliai-cv19/train_image_data_1.parquet\n",
      "/home/vemlr/Work/chen_huang/Data/bengaliai-cv19/sample_submission.csv\n",
      "/home/vemlr/Work/chen_huang/Data/bengaliai-cv19/test.csv\n",
      "/home/vemlr/Work/chen_huang/Data/bengaliai-cv19/test_image_data_2.parquet\n",
      "/home/vemlr/Work/chen_huang/Data/bengaliai-cv19/train_image_data_2.parquet\n",
      "/home/vemlr/Work/chen_huang/Data/bengaliai-cv19/train_image_data_0.parquet\n"
     ]
    }
   ],
   "source": [
    "# This Python 3 environment comes with many helpful analytics libraries installed\n",
    "# It is defined by the kaggle/python docker image: https://github.com/kaggle/docker-python\n",
    "# For example, here's several helpful packages to load in \n",
    "\n",
    "import numpy as np # linear algebra\n",
    "import pandas as pd # data processing, CSV file I/O (e.g. pd.read_csv)\n",
    "\n",
    "# Input data files are available in the \"../input/\" directory.\n",
    "# For example, running this (by clicking run or pressing Shift+Enter) will list all files under the input directory\n",
    "\n",
    "import os\n",
    "for dirname, _, filenames in os.walk(PATH):\n",
    "    for filename in filenames:\n",
    "        print(os.path.join(dirname, filename))\n",
    "\n",
    "# Any results you write to the current directory are saved as output."
   ]
  },
  {
   "cell_type": "code",
   "execution_count": 4,
   "metadata": {
    "ExecuteTime": {
     "end_time": "2020-03-04T05:14:41.478864Z",
     "start_time": "2020-03-04T05:14:41.418284Z"
    }
   },
   "outputs": [
    {
     "name": "stdout",
     "output_type": "stream",
     "text": [
      "112 64\n"
     ]
    }
   ],
   "source": [
    "import torch\n",
    "\n",
    "debug = False\n",
    "submission=False\n",
    "batch_size=96\n",
    "device = torch.device(\"cuda\" if torch.cuda.is_available() else \"cpu\")\n",
    "out='.'\n",
    "image_size= 128\n",
    "arch='pretrained'\n",
    "model_name='ResNext50'\n",
    "\n",
    "HEIGHT = 137\n",
    "WIDTH = 236\n",
    "FACTOR = 0.25\n",
    "# HEIGHT_NEW = 96\n",
    "# WIDTH_NEW = 168\n",
    "HEIGHT_NEW = 64\n",
    "WIDTH_NEW = 112\n",
    "# HEIGHT_NEW = int(HEIGHT*FACTOR)\n",
    "# WIDTH_NEW = int(WIDTH*FACTOR)\n",
    "print(WIDTH_NEW, HEIGHT_NEW)"
   ]
  },
  {
   "cell_type": "code",
   "execution_count": 5,
   "metadata": {
    "ExecuteTime": {
     "end_time": "2020-03-04T05:07:55.857775Z",
     "start_time": "2020-03-04T05:07:55.849227Z"
    },
    "_cell_guid": "79c7e3d0-c299-4dcb-8224-4455121ee9b0",
    "_kg_hide-input": false,
    "_kg_hide-output": true,
    "_uuid": "d629ff2d2480ee46fbb7e2d37f6b5fab8052498a"
   },
   "outputs": [],
   "source": [
    "datadir = Path(PATH)\n",
    "featherdir = Path(FEATHER_PATH)\n",
    "LR = 5e-4\n",
    "WD = 1e-4\n",
    "DP = 0.35\n",
    "HDIM = 1024\n",
    "outdir = Path('{}_LR{}_WD{}_DP{}_IM{}-{}_bs{}_autoaug_mix'.format(model_name, LR, WD, DP, HEIGHT_NEW, WIDTH_NEW,\n",
    "                                                            batch_size))\n",
    "\n",
    "TH = 20.0"
   ]
  },
  {
   "cell_type": "code",
   "execution_count": 6,
   "metadata": {
    "ExecuteTime": {
     "end_time": "2020-03-04T05:07:55.863868Z",
     "start_time": "2020-03-04T05:07:55.861101Z"
    },
    "_kg_hide-input": true,
    "_kg_hide-output": true
   },
   "outputs": [],
   "source": [
    "# Read in the data CSV files\n",
    "# train = pd.read_csv(datadir/'train.csv')\n",
    "# test = pd.read_csv(datadir/'test.csv')\n",
    "# sample_submission = pd.read_csv(datadir/'sample_submission.csv')\n",
    "# class_map = pd.read_csv(datadir/'class_map.csv')"
   ]
  },
  {
   "cell_type": "markdown",
   "metadata": {},
   "source": [
    "# Fast data loading with feather\n",
    "\n",
    "Refer [Bengali.AI super fast data loading with feather](https://www.kaggle.com/corochann/bengali-ai-super-fast-data-loading-with-feather) and [dataset](https://www.kaggle.com/corochann/bengaliaicv19feather) for detail.<br/>\n",
    "Original `parquet` format takes about 60 sec to load 1 data, while `feather` format takes about **2 sec to load 1 data!!!**\n",
    "\n",
    "### How to add dataset\n",
    "\n",
    "When you write kernel, click \"+ Add Data\" botton on right top.<br/>\n",
    "Then inside window pop-up, you can see \"Search Datasets\" text box on right top.<br/>\n",
    "You can type \"bengaliai-cv19-feather\" to find this dataset and press \"Add\" botton to add the data."
   ]
  },
  {
   "cell_type": "code",
   "execution_count": 7,
   "metadata": {
    "ExecuteTime": {
     "end_time": "2020-03-04T05:07:55.877057Z",
     "start_time": "2020-03-04T05:07:55.866159Z"
    }
   },
   "outputs": [],
   "source": [
    "import cv2\n",
    "def bbox(img):\n",
    "    rows = np.any(img, axis=1)\n",
    "    cols = np.any(img, axis=0)\n",
    "    rmin, rmax = np.where(rows)[0][[0, -1]]\n",
    "    cmin, cmax = np.where(cols)[0][[0, -1]]\n",
    "    return rmin, rmax, cmin, cmax\n",
    "\n",
    "def crop_resize(img0, size=image_size, pad=3, thh = 80, thl = 28):\n",
    "    #crop a box around pixels large than the threshold \n",
    "    #some images contain line at the sides\n",
    "    ymin,ymax,xmin,xmax = bbox(img0[5:-5,5:-5] > thh)\n",
    "    #cropping may cut too much, so we need to add it back\n",
    "    xmin = xmin - 13 if (xmin > 13) else 0\n",
    "    ymin = ymin - 10 if (ymin > 10) else 0\n",
    "    xmax = xmax + 13 if (xmax < WIDTH - 13) else WIDTH\n",
    "    ymax = ymax + 10 if (ymax < HEIGHT - 10) else HEIGHT\n",
    "    img = img0[ymin:ymax,xmin:xmax]\n",
    "    #remove lo intensity pixels as noise\n",
    "    img[img < thl] = 0\n",
    "    lx, ly = xmax-xmin,ymax-ymin\n",
    "    l = max(lx,ly) + pad\n",
    "    #make sure that the aspect ratio is kept in rescaling\n",
    "    img = np.pad(img, [((l-ly)//2,), ((l-lx)//2,)], mode='constant')\n",
    "    return cv2.resize(img,(size,size))\n"
   ]
  },
  {
   "cell_type": "code",
   "execution_count": 8,
   "metadata": {
    "ExecuteTime": {
     "end_time": "2020-03-04T05:07:55.891388Z",
     "start_time": "2020-03-04T05:07:55.881281Z"
    }
   },
   "outputs": [],
   "source": [
    "import numpy as np\n",
    "import pandas as pd\n",
    "import gc\n",
    "\n",
    "\n",
    "def prepare_image(datadir, featherdir, data_type='train',\n",
    "                  submission=False, indices=[0, 1, 2, 3]):\n",
    "    assert data_type in ['train', 'test']\n",
    "    if submission:\n",
    "        image_df_list = [pd.read_parquet(datadir / f'{data_type}_image_data_{i}.parquet')\n",
    "                         for i in indices]\n",
    "    else:\n",
    "        image_df_list = [pd.read_feather(featherdir / f'{data_type}_image_data_{i}.feather')\n",
    "                         for i in indices]\n",
    "\n",
    "    print('image_df_list', len(image_df_list))\n",
    "    images = [df.iloc[:, 1:].values.reshape(-1, HEIGHT, WIDTH).astype('uint8') for df in image_df_list]\n",
    "\n",
    "#     images = []\n",
    "#     for df in image_df_list:\n",
    "#         for idx in tqdm(range(len(df))):\n",
    "#             images.append(crop_resize(df.iloc[idx, 1:].values.reshape(HEIGHT, WIDTH).astype('uint8')))\n",
    "    del image_df_list\n",
    "    gc.collect()\n",
    "    images = np.concatenate(images, axis=0)\n",
    "    return images\n"
   ]
  },
  {
   "cell_type": "code",
   "execution_count": 9,
   "metadata": {
    "ExecuteTime": {
     "end_time": "2020-03-04T05:09:40.147355Z",
     "start_time": "2020-03-04T05:07:55.894865Z"
    }
   },
   "outputs": [
    {
     "name": "stdout",
     "output_type": "stream",
     "text": [
      "image_df_list 4\n",
      "CPU times: user 30.7 s, sys: 31 s, total: 1min 1s\n",
      "Wall time: 7.61 s\n"
     ]
    }
   ],
   "source": [
    "%%time\n",
    "\n",
    "# train = pd.read_csv(datadir/'train.csv')\n",
    "train = pd.read_csv('train_with_fold.csv')\n",
    "train_labels = train[['grapheme_root', 'vowel_diacritic', 'consonant_diacritic']].values\n",
    "indices = [0,1,2,3] #if debug else [0, 1, 2, 3]\n",
    "train_images = prepare_image(\n",
    "    datadir, featherdir, data_type='train', submission=False, indices=indices)"
   ]
  },
  {
   "cell_type": "code",
   "execution_count": 10,
   "metadata": {
    "ExecuteTime": {
     "end_time": "2020-03-04T05:09:40.175701Z",
     "start_time": "2020-03-04T05:09:40.157625Z"
    }
   },
   "outputs": [
    {
     "name": "stdout",
     "output_type": "stream",
     "text": [
      "200840\n",
      "200840\n",
      "[127   2   0]\n"
     ]
    }
   ],
   "source": [
    "print(len(train_labels))\n",
    "print(len(train))\n",
    "print(train_labels[200840-1])"
   ]
  },
  {
   "cell_type": "code",
   "execution_count": 11,
   "metadata": {
    "ExecuteTime": {
     "end_time": "2020-03-04T05:09:40.184927Z",
     "start_time": "2020-03-04T05:09:40.182618Z"
    }
   },
   "outputs": [],
   "source": [
    "#  import sys \n",
    "\n",
    "# # These are the usual ipython objects, including this one you are creating \n",
    "# ipython_vars = ['In', 'Out', 'exit', 'quit', 'get_ipython', 'ipython_vars'] \n",
    "\n",
    "# # Get a sorted list of the objects and their sizes \n",
    "# sorted([(x, sys.getsizeof(globals().get(x))) for x in dir() if not x.startswith('_') and x not in sys.modules and x not in ipython_vars], key=lambda x: x[1], reverse=True) "
   ]
  },
  {
   "cell_type": "markdown",
   "metadata": {},
   "source": [
    "<a id=\"dataset\"></a>\n",
    "# Dataset"
   ]
  },
  {
   "cell_type": "code",
   "execution_count": 12,
   "metadata": {
    "ExecuteTime": {
     "end_time": "2020-03-04T05:09:40.211818Z",
     "start_time": "2020-03-04T05:09:40.192909Z"
    },
    "_kg_hide-input": true
   },
   "outputs": [],
   "source": [
    "\"\"\"\n",
    "Referenced `chainer.dataset.DatasetMixin` to work with pytorch Dataset.\n",
    "\"\"\"\n",
    "import numpy\n",
    "import six\n",
    "import torch\n",
    "from torch.utils.data.dataset import Dataset\n",
    "\n",
    "\n",
    "class DatasetMixin(Dataset):\n",
    "\n",
    "    def __init__(self, transform=None):\n",
    "        self.transform = transform\n",
    "\n",
    "    def __getitem__(self, index):\n",
    "        \"\"\"Returns an example or a sequence of examples.\"\"\"\n",
    "        if torch.is_tensor(index):\n",
    "            index = index.tolist()\n",
    "        if isinstance(index, slice):\n",
    "            current, stop, step = index.indices(len(self))\n",
    "            return [self.get_example_wrapper(i) for i in\n",
    "                    six.moves.range(current, stop, step)]\n",
    "        elif isinstance(index, list) or isinstance(index, numpy.ndarray):\n",
    "            return [self.get_example_wrapper(i) for i in index]\n",
    "        else:\n",
    "            return self.get_example_wrapper(index)\n",
    "\n",
    "    def __len__(self):\n",
    "        \"\"\"Returns the number of data points.\"\"\"\n",
    "        raise NotImplementedError\n",
    "\n",
    "    def get_example_wrapper(self, i):\n",
    "        \"\"\"Wrapper of `get_example`, to apply `transform` if necessary\"\"\"\n",
    "        example = self.get_example(i)\n",
    "        if self.transform:\n",
    "            example = self.transform(example)\n",
    "        return example\n",
    "\n",
    "    def get_example(self, i):\n",
    "        \"\"\"Returns the i-th example.\n",
    "\n",
    "        Implementations should override it. It should raise :class:`IndexError`\n",
    "        if the index is invalid.\n",
    "\n",
    "        Args:\n",
    "            i (int): The index of the example.\n",
    "\n",
    "        Returns:\n",
    "            The i-th example.\n",
    "\n",
    "        \"\"\"\n",
    "        raise NotImplementedError\n"
   ]
  },
  {
   "cell_type": "markdown",
   "metadata": {},
   "source": [
    "This `DatasetMixin` class can be used to define any custom dataset class in pytorch. We can implement `get_example(self, i)` method to return `i`-th data.\n",
    "\n",
    "Here I return i-th image `x` and `label`, with scaling image to be value ranges between 0~1."
   ]
  },
  {
   "cell_type": "code",
   "execution_count": 13,
   "metadata": {
    "ExecuteTime": {
     "end_time": "2020-03-04T05:09:40.221922Z",
     "start_time": "2020-03-04T05:09:40.214057Z"
    }
   },
   "outputs": [],
   "source": [
    "import numpy as np\n",
    "\n",
    "\n",
    "class BengaliAIDataset(DatasetMixin):\n",
    "    def __init__(self, images, labels=None, transform=None, indices=None):\n",
    "        super(BengaliAIDataset, self).__init__(transform=transform)\n",
    "        self.images = images\n",
    "        self.labels = labels\n",
    "        if indices is None:\n",
    "            indices = np.arange(len(images))\n",
    "        self.indices = indices\n",
    "        self.train = labels is not None\n",
    "\n",
    "    def __len__(self):\n",
    "        \"\"\"return length of this dataset\"\"\"\n",
    "        return len(self.indices)\n",
    "\n",
    "    def get_example(self, i):\n",
    "        \"\"\"Return i-th data\"\"\"\n",
    "        i = self.indices[i]\n",
    "        x = self.images[i]\n",
    "        # Opposite white and black: background will be white and\n",
    "        # for future Affine transformation\n",
    "        x = (255 - x).astype(np.float32) / 255.\n",
    "        if self.train:\n",
    "            y = self.labels[i]\n",
    "            return x, y\n",
    "        else:\n",
    "            return x\n"
   ]
  },
  {
   "cell_type": "markdown",
   "metadata": {},
   "source": [
    "Let's see how this `BengaliAIDataset` work"
   ]
  },
  {
   "cell_type": "code",
   "execution_count": 14,
   "metadata": {
    "ExecuteTime": {
     "end_time": "2020-03-04T05:09:40.226097Z",
     "start_time": "2020-03-04T05:09:40.223485Z"
    }
   },
   "outputs": [],
   "source": [
    "# train_dataset_noaug = BengaliAIDataset(train_images[:200], train_labels)"
   ]
  },
  {
   "cell_type": "markdown",
   "metadata": {},
   "source": [
    "`train_dataset[i]` returns i-th image array and 3 target labels (graphme_root, vowel_diacritic and consonant_diacritic)."
   ]
  },
  {
   "cell_type": "code",
   "execution_count": 15,
   "metadata": {
    "ExecuteTime": {
     "end_time": "2020-03-04T05:09:40.229758Z",
     "start_time": "2020-03-04T05:09:40.227860Z"
    }
   },
   "outputs": [],
   "source": [
    "# image, label = train_dataset_noaug[0]\n",
    "# print('image', image.shape, 'label', label)"
   ]
  },
  {
   "cell_type": "code",
   "execution_count": 16,
   "metadata": {
    "ExecuteTime": {
     "end_time": "2020-03-04T05:09:40.233571Z",
     "start_time": "2020-03-04T05:09:40.231939Z"
    }
   },
   "outputs": [],
   "source": [
    "# print(image[:5,:5])\n",
    "# print(20/255)"
   ]
  },
  {
   "cell_type": "code",
   "execution_count": 17,
   "metadata": {
    "ExecuteTime": {
     "end_time": "2020-03-04T05:09:40.236934Z",
     "start_time": "2020-03-04T05:09:40.234902Z"
    },
    "_kg_hide-input": true
   },
   "outputs": [],
   "source": [
    "# nrow, ncol = 5, 6\n",
    "\n",
    "# fig, axes = plt.subplots(nrow, ncol, figsize=(20, 8))\n",
    "# axes = axes.flatten()\n",
    "# for i, ax in tqdm(enumerate(axes)):\n",
    "#     image, label = train_dataset_noaug[i]\n",
    "#     ax.imshow(crop_resize(image, thh = TH/255, thl=28.0/255)) #, cmap='Greys'\n",
    "#     ax.set_title(f'label: {label}')\n",
    "# plt.tight_layout()\n",
    "# plt.show()\n",
    "# plt.savefig('bengaliai.png')"
   ]
  },
  {
   "cell_type": "markdown",
   "metadata": {},
   "source": [
    "<a id=\"processing\"></a>\n",
    "# Data augmentation/processing"
   ]
  },
  {
   "cell_type": "markdown",
   "metadata": {},
   "source": [
    "For CNN training, data augmentation is important to improve test accuracy (generalization performance). I will show some image preprocessing to increase the data variety."
   ]
  },
  {
   "cell_type": "code",
   "execution_count": 18,
   "metadata": {
    "ExecuteTime": {
     "end_time": "2020-03-04T05:09:40.266924Z",
     "start_time": "2020-03-04T05:09:40.239516Z"
    },
    "_kg_hide-input": true
   },
   "outputs": [],
   "source": [
    "\"\"\"\n",
    "From https://www.kaggle.com/corochann/deep-learning-cnn-with-chainer-lb-0-99700\n",
    "\"\"\"\n",
    "import cv2\n",
    "from skimage.transform import SimilarityTransform, AffineTransform, warp\n",
    "import numpy as np\n",
    "import math\n",
    "\n",
    "\n",
    "def affine_image(img):\n",
    "    \"\"\"\n",
    "\n",
    "    Args:\n",
    "        img: (h, w) or (1, h, w)\n",
    "\n",
    "    Returns:\n",
    "        img: (h, w)\n",
    "    \"\"\"\n",
    "    # ch, h, w = img.shape\n",
    "    # img = img / 255.\n",
    "    if img.ndim == 3:\n",
    "        img = img[0]\n",
    "\n",
    "    # --- scale ---\n",
    "    min_scale = 0.85\n",
    "    max_scale = 1.15\n",
    "    sx = np.random.uniform(min_scale, max_scale)\n",
    "    sy = np.random.uniform(min_scale, max_scale)\n",
    "\n",
    "    # --- rotation ---\n",
    "    max_rot_angle = 10\n",
    "    rot_angle = np.random.uniform(-max_rot_angle, max_rot_angle)*np.pi/180.0\n",
    "\n",
    "    # --- shear ---\n",
    "    max_shear_angle = 10\n",
    "    shear_angle = np.random.uniform(-max_shear_angle, max_shear_angle)*np.pi/180.0\n",
    "\n",
    "    # --- translation ---\n",
    "    max_translation = image_size*0.075\n",
    "    tx = np.random.randint(-max_translation, max_translation)\n",
    "    ty = np.random.randint(-max_translation, max_translation)\n",
    "    \n",
    "#     print(\"rot:{}, shear:{},tx:{},ty:{}\".format(rot_angle,shear_angle, tx,ty))\n",
    "    \n",
    "    shape = img.shape\n",
    "    shape_size = shape[:2]\n",
    "    center = np.float32(shape_size) / 2.\n",
    "        \n",
    "    pre = SimilarityTransform(translation=-center)\n",
    "    tform = AffineTransform(scale=(sx, sy), rotation=rot_angle, shear=shear_angle, translation=(tx,ty)) \n",
    "    after = AffineTransform(translation=center)\n",
    "    total_transform = pre+tform+after\n",
    "#     total_transform = tform\n",
    "    transformed_image = warp(img, total_transform.params, mode='constant')\n",
    "    \n",
    "    assert transformed_image.ndim == 2\n",
    "    return transformed_image\n",
    "\n",
    "def bbox(img):\n",
    "    rows = np.any(img, axis=1)\n",
    "    cols = np.any(img, axis=0)\n",
    "    rmin, rmax = np.where(rows)[0][[0, -1]]\n",
    "    cmin, cmax = np.where(cols)[0][[0, -1]]\n",
    "    return rmin, rmax, cmin, cmax\n",
    "\n",
    "def crop_char_image_thin(image, threshold=40./255., pad = 16):\n",
    "    assert image.ndim == 2\n",
    "    is_black = image > threshold\n",
    "\n",
    "    is_black_vertical = np.sum(is_black, axis=0) > 0\n",
    "    is_black_horizontal = np.sum(is_black, axis=1) > 0\n",
    "    left = np.argmax(is_black_horizontal)\n",
    "    right = np.argmax(is_black_horizontal[::-1])\n",
    "    top = np.argmax(is_black_vertical)\n",
    "    bottom = np.argmax(is_black_vertical[::-1])\n",
    "    height, width = image.shape\n",
    "    cropped_image = image[left:height - right, top:width - bottom]\n",
    "    return cropped_image\n",
    "\n",
    "def crop_char_image(img0, threshold=TH/255., pad=10):\n",
    "    ymin,ymax,xmin,xmax = bbox(img0[5:-5,5:-5] > threshold)\n",
    "    #cropping may cut too much, so we need to add it back\n",
    "#     xmin = xmin - 5 if (xmin > 5) else 0\n",
    "#     ymin = ymin - 5 if (ymin > 5) else 0\n",
    "#     xmax = xmax + 5 if (xmax < WIDTH - 5) else WIDTH\n",
    "#     ymax = ymax + 5 if (ymax < HEIGHT - 5) else HEIGHT\n",
    "    xmin = xmin - 13 if (xmin > 13) else 0\n",
    "    ymin = ymin - 10 if (ymin > 10) else 0\n",
    "    xmax = xmax + 13 if (xmax < WIDTH - 13) else WIDTH\n",
    "    ymax = ymax + 10 if (ymax < HEIGHT - 10) else HEIGHT\n",
    "    img = img0[ymin:ymax,xmin:xmax]\n",
    "    #remove lo intensity pixels as noise\n",
    "    img[img < 28./255.] = 0\n",
    "    lx, ly = xmax-xmin,ymax-ymin\n",
    "    l = max(lx,ly) + pad\n",
    "    #make sure that the aspect ratio is kept in rescaling\n",
    "    img = np.pad(img, [((l-ly)//2,), ((l-lx)//2,)], mode='constant')\n",
    "    return img\n",
    "\n",
    "# def crop_char_image_new(img0, threshold=TH/255., pad=10):\n",
    "#     ymin,ymax,xmin,xmax = bbox(img0 > threshold)\n",
    "#     #cropping may cut too much, so we need to add it back\n",
    "# #     xmin = xmin - 13 if (xmin > 13) else 0\n",
    "# #     ymin = ymin - 10 if (ymin > 10) else 0\n",
    "# #     xmax = xmax + 13 if (xmax < WIDTH - 13) else WIDTH\n",
    "# #     ymax = ymax + 10 if (ymax < HEIGHT - 10) else HEIGHT\n",
    "#     img = img0[ymin:ymax,xmin:xmax]\n",
    "#     #remove lo intensity pixels as noise\n",
    "#     img[img < 28./255.] = 0\n",
    "#     lx, ly = xmax-xmin,ymax-ymin\n",
    "#     l = max(lx,ly) + pad\n",
    "#     #make sure that the aspect ratio is kept in rescaling\n",
    "#     img = np.pad(img, [(pad//2,), (pad//2,)], mode='constant')\n",
    "#     return img\n",
    "\n",
    "def resize(image, size=(WIDTH_NEW, HEIGHT_NEW)):\n",
    "    return cv2.resize(image, size)"
   ]
  },
  {
   "cell_type": "markdown",
   "metadata": {},
   "source": [
    "## Affine transformation for data augmentation\n",
    "\n",
    "To increase validation score, the number of training data is important. When we can use more number of training data, we can reduce overfitting and validation score becomes high.\n",
    "\n",
    "\"Data augmentation\" is a technic to virtually create extra training data, based on the given training data. For this MNIST task, data augmentation can be achieved by utilizing affine transformation.\n",
    "\n",
    "1. Rotation AffineTransformation\n",
    "2. Translation\n",
    "3. Scale\n",
    "4. Shear"
   ]
  },
  {
   "cell_type": "code",
   "execution_count": 19,
   "metadata": {
    "ExecuteTime": {
     "end_time": "2020-03-04T05:09:40.270532Z",
     "start_time": "2020-03-04T05:09:40.268506Z"
    }
   },
   "outputs": [],
   "source": [
    "# nrow, ncol = 3, 6\n",
    "\n",
    "# fig, axes = plt.subplots(nrow, ncol, figsize=(20, 8))\n",
    "# axes = axes.flatten()\n",
    "# for i, ax in tqdm(enumerate(axes)):\n",
    "#     image, label = train_dataset_noaug[2]\n",
    "#     if i ==0:\n",
    "#         ax.imshow(image, cmap='Greys')\n",
    "#     else:\n",
    "#         ax.imshow(resize(crop_char_image_thin(affine_image(crop_char_image(image)))), cmap='Greys')\n",
    "#     ax.set_title(f'label: {label}')\n",
    "# plt.tight_layout()\n",
    "# # crop_resize(image, thh = 80.0/255, thl=28.0/255, pad=16)"
   ]
  },
  {
   "cell_type": "code",
   "execution_count": 20,
   "metadata": {
    "ExecuteTime": {
     "end_time": "2020-03-04T05:09:40.274858Z",
     "start_time": "2020-03-04T05:09:40.272094Z"
    }
   },
   "outputs": [],
   "source": [
    "# nrow, ncol = 3, 6\n",
    "\n",
    "# fig, axes = plt.subplots(nrow, ncol, figsize=(20, 8))\n",
    "# axes = axes.flatten()\n",
    "# PAD = 20\n",
    "# for i, ax in tqdm(enumerate(axes)):\n",
    "#     image, label = train_dataset_noaug[2]\n",
    "#     if i ==0:\n",
    "#         ax.imshow(image, cmap='Greys')\n",
    "#     elif i==1:\n",
    "#         ax.imshow(crop_char_image(image), cmap='Greys')\n",
    "#     else:\n",
    "#         ax.imshow(resize((affine_image(crop_char_image(image)))), cmap='Greys')\n",
    "#     ax.set_title(f'label: {label}')\n",
    "# plt.tight_layout()"
   ]
  },
  {
   "cell_type": "code",
   "execution_count": null,
   "metadata": {},
   "outputs": [],
   "source": []
  },
  {
   "cell_type": "code",
   "execution_count": null,
   "metadata": {},
   "outputs": [],
   "source": []
  },
  {
   "cell_type": "markdown",
   "metadata": {},
   "source": [
    "When the image is slightly rotated, shifted (transformed) or scaled, the image looks like the same label. We can virtually create another image data from one image in such a way."
   ]
  },
  {
   "cell_type": "markdown",
   "metadata": {},
   "source": [
    "## crop image\n",
    "\n",
    "Here I crop image"
   ]
  },
  {
   "cell_type": "code",
   "execution_count": 21,
   "metadata": {
    "ExecuteTime": {
     "end_time": "2020-03-04T05:09:40.278721Z",
     "start_time": "2020-03-04T05:09:40.276840Z"
    }
   },
   "outputs": [],
   "source": [
    "# nrow, ncol = 5, 6\n",
    "\n",
    "# fig, axes = plt.subplots(nrow, ncol, figsize=(20, 8))\n",
    "# axes = axes.flatten()\n",
    "# for i, ax in tqdm(enumerate(axes)):\n",
    "#     image, label = train_dataset_noaug[i]\n",
    "#     ax.imshow(crop_char_image(image, threshold=TH/255.), cmap='Greys')\n",
    "#     ax.set_title(f'label: {label}')\n",
    "# plt.tight_layout()"
   ]
  },
  {
   "cell_type": "markdown",
   "metadata": {},
   "source": [
    "## resize image\n",
    "\n",
    "We need to resize image after crop, to align image size for CNN batch training.\n",
    "\n",
    "whole process: crop_Char_imgage->affine->crop_char_image_thin->resize"
   ]
  },
  {
   "cell_type": "code",
   "execution_count": 22,
   "metadata": {
    "ExecuteTime": {
     "end_time": "2020-03-04T05:09:40.282302Z",
     "start_time": "2020-03-04T05:09:40.280285Z"
    },
    "_kg_hide-input": true
   },
   "outputs": [],
   "source": [
    "# nrow, ncol = 5, 6\n",
    "\n",
    "# fig, axes = plt.subplots(nrow, ncol, figsize=(20, 8))\n",
    "# axes = axes.flatten()\n",
    "# for i, ax in tqdm(enumerate(axes)):\n",
    "#     image, label = train_dataset_noaug[i]\n",
    "#     ax.imshow(resize((affine_image((crop_char_image(image, threshold=TH/255.))))), cmap='Greys')\n",
    "#     ax.set_title(f'label: {label}')\n",
    "# plt.tight_layout()"
   ]
  },
  {
   "cell_type": "markdown",
   "metadata": {},
   "source": [
    "Put everything together with `Transform` class. <br>\n",
    "[Update] I added **albumentations augmentations** introduced in [Bengali: albumentations data augmentation tutorial](https://www.kaggle.com/corochann/bengali-albumentations-data-augmentation-tutorial)."
   ]
  },
  {
   "cell_type": "code",
   "execution_count": 23,
   "metadata": {
    "ExecuteTime": {
     "end_time": "2020-03-04T05:09:40.295832Z",
     "start_time": "2020-03-04T05:09:40.293821Z"
    }
   },
   "outputs": [],
   "source": [
    "# from albumentations import (\n",
    "#     HorizontalFlip, IAAPerspective, ShiftScaleRotate, CLAHE, RandomRotate90,\n",
    "#     Transpose, ShiftScaleRotate, Blur, OpticalDistortion, GridDistortion, HueSaturationValue,\n",
    "#     IAAAdditiveGaussianNoise, GaussNoise, MotionBlur, MedianBlur, IAAPiecewiseAffine,IAAAffine,\n",
    "#     IAASharpen, IAAEmboss, RandomBrightnessContrast, Flip, OneOf, Compose\n",
    "# )"
   ]
  },
  {
   "cell_type": "code",
   "execution_count": 24,
   "metadata": {
    "ExecuteTime": {
     "end_time": "2020-03-04T05:09:40.302057Z",
     "start_time": "2020-03-04T05:09:40.299654Z"
    }
   },
   "outputs": [],
   "source": [
    "# affine_train_transform = Compose([\n",
    "#     OneOf([\n",
    "#         ShiftScaleRotate(scale_limit=.15, rotate_limit=20, border_mode=cv2.BORDER_CONSTANT),\n",
    "#         IAAAffine(shear=20, mode='constant'),\n",
    "#         IAAPerspective(),\n",
    "#     ])\n",
    "# ])"
   ]
  },
  {
   "cell_type": "code",
   "execution_count": null,
   "metadata": {},
   "outputs": [],
   "source": []
  },
  {
   "cell_type": "code",
   "execution_count": 25,
   "metadata": {
    "ExecuteTime": {
     "end_time": "2020-03-04T05:09:40.307464Z",
     "start_time": "2020-03-04T05:09:40.303618Z"
    },
    "_kg_hide-input": false,
    "code_folding": []
   },
   "outputs": [],
   "source": [
    "import albumentations as A\n",
    "import numpy as np\n",
    "\n",
    "\n",
    "def add_gaussian_noise(x, sigma):\n",
    "    x += np.random.randn(*x.shape) * sigma\n",
    "    x = np.clip(x, 0., 1.)\n",
    "    return x\n",
    "\n",
    "\n",
    "def _evaluate_ratio(ratio):\n",
    "    if ratio <= 0.:\n",
    "        return False\n",
    "    return np.random.uniform() < ratio\n",
    "\n",
    "\n",
    "def apply_aug(aug, image):\n",
    "    return aug(image=image)['image']\n",
    "\n",
    "# class Transform:\n",
    "#     def __init__(self, affine=True, crop=True, size=(64, 64),\n",
    "#                  normalize=True, train=True, threshold=TH,\n",
    "#                  sigma=-1., blur_ratio=0., noise_ratio=0., cutout_ratio=0.,\n",
    "#                  grid_distortion_ratio=0., elastic_distortion_ratio=0., random_brightness_ratio=0.,\n",
    "#                  piece_affine_ratio=0., ssr_ratio=0.):\n",
    "#         self.affine = affine\n",
    "#         self.crop = crop\n",
    "#         self.size = size\n",
    "#         self.normalize = normalize\n",
    "#         self.train = train\n",
    "#         self.threshold = threshold / 255.\n",
    "#         self.sigma = sigma / 255.\n",
    "\n",
    "#         self.blur_ratio = blur_ratio\n",
    "#         self.noise_ratio = noise_ratio\n",
    "#         self.cutout_ratio = cutout_ratio\n",
    "#         self.grid_distortion_ratio = grid_distortion_ratio\n",
    "#         self.elastic_distortion_ratio = elastic_distortion_ratio\n",
    "#         self.random_brightness_ratio = random_brightness_ratio\n",
    "#         self.piece_affine_ratio = piece_affine_ratio\n",
    "#         self.ssr_ratio = ssr_ratio\n",
    "\n",
    "#     def __call__(self, example):\n",
    "#         if self.train:\n",
    "#             x, y = example\n",
    "#         else:\n",
    "#             x = example\n",
    "            \n",
    "#         # --- Train/Test common preprocessing ---\n",
    "#         if self.crop:\n",
    "#             x = crop_char_image(x, threshold=self.threshold)\n",
    "            \n",
    "#         # --- Augmentation ---\n",
    "# #         if self.affine:\n",
    "# #             x = affine_image(x)\n",
    "#         if self.affine:\n",
    "#             x = apply_aug(affine_train_transform, x)\n",
    "            \n",
    "# #         if self.crop:\n",
    "# #             x = crop_char_image_thin(x, threshold=self.threshold)        \n",
    "            \n",
    "#         if self.size is not None:\n",
    "#             x = resize(x, size=self.size)\n",
    "            \n",
    "#         h, w = x.shape\n",
    "\n",
    "#         if self.sigma > 0.:\n",
    "#             x = add_gaussian_noise(x, sigma=self.sigma)\n",
    "\n",
    "#         # albumentations...\n",
    "#         x = x.astype(np.float32)\n",
    "#         assert x.ndim == 2\n",
    "#         # 1. blur\n",
    "#         if _evaluate_ratio(self.blur_ratio):\n",
    "#             r = np.random.uniform()\n",
    "#             if r < 0.25:\n",
    "#                 x = apply_aug(A.Blur(p=1.0), x)\n",
    "#             elif r < 0.5:\n",
    "#                 x = apply_aug(A.MedianBlur(blur_limit=5, p=1.0), x)\n",
    "#             elif r < 0.75:\n",
    "#                 x = apply_aug(A.GaussianBlur(p=1.0), x)\n",
    "#             else:\n",
    "#                 x = apply_aug(A.MotionBlur(p=1.0), x)\n",
    "\n",
    "#         if _evaluate_ratio(self.noise_ratio):\n",
    "#             r = np.random.uniform()\n",
    "#             if r < 0.50:\n",
    "#                 x = apply_aug(A.GaussNoise(var_limit=5. / 255., p=1.0), x)\n",
    "#             else:\n",
    "#                 x = apply_aug(A.MultiplicativeNoise(p=1.0), x)\n",
    "\n",
    "#         if _evaluate_ratio(self.cutout_ratio):\n",
    "#             r = np.random.uniform()\n",
    "#             if r < 0.5:\n",
    "#                 x = apply_aug(A.CoarseDropout(max_holes=4, max_height=h//8, max_width=w//8, p=1.0), x)\n",
    "#             else:\n",
    "#                 x = apply_aug(A.Cutout(num_holes=1,  max_h_size=h//3, max_w_size=w//3, p=1.0),x)  # Deprecated...\n",
    "\n",
    "#         if _evaluate_ratio(self.grid_distortion_ratio):\n",
    "#             x = apply_aug(A.GridDistortion(p=1.0, border_mode=cv2.BORDER_CONSTANT, value=0), x)\n",
    "\n",
    "#         if _evaluate_ratio(self.elastic_distortion_ratio):\n",
    "#             x = apply_aug(A.ElasticTransform(\n",
    "#                 sigma=50, alpha=1, alpha_affine=10, p=1.0, border_mode=cv2.BORDER_CONSTANT, value=0), x)\n",
    "\n",
    "#         if _evaluate_ratio(self.random_brightness_ratio):\n",
    "#             # A.RandomBrightness(p=1.0)  # Deprecated...\n",
    "#             # A.RandomContrast(p=1.0)    # Deprecated...\n",
    "#             x = apply_aug(A.RandomBrightnessContrast(p=1.0), x)\n",
    "\n",
    "#         if _evaluate_ratio(self.piece_affine_ratio):\n",
    "#             x = apply_aug(A.IAAPiecewiseAffine(p=1.0, mode='constant'), x)\n",
    "\n",
    "#         if _evaluate_ratio(self.ssr_ratio):\n",
    "#             x = apply_aug(A.ShiftScaleRotate(\n",
    "#                 shift_limit=0.0625,\n",
    "#                 scale_limit=0.1,\n",
    "#                 rotate_limit=10,\n",
    "#                 p=1.0, border_mode=cv2.BORDER_CONSTANT, value=0), x)\n",
    "\n",
    "#         if self.normalize:\n",
    "# #             x = (x.astype(np.float32) - 0.0692) / 0.2051  ##ORG\n",
    "#             x = (x.astype(np.float32) - 0.449) / 0.226 ##Imagenet\n",
    "#         if x.ndim == 2:\n",
    "#             x = x[None, :, :]\n",
    "#         x = x.astype(np.float32)\n",
    "#         if self.train:\n",
    "#             y = y.astype(np.int64)\n",
    "#             return x, y\n",
    "#         else:\n",
    "#             return x"
   ]
  },
  {
   "cell_type": "code",
   "execution_count": null,
   "metadata": {},
   "outputs": [],
   "source": []
  },
  {
   "cell_type": "code",
   "execution_count": 26,
   "metadata": {
    "ExecuteTime": {
     "end_time": "2020-03-04T05:09:40.311346Z",
     "start_time": "2020-03-04T05:09:40.309098Z"
    }
   },
   "outputs": [],
   "source": [
    "# # train_transform = Transform(\n",
    "# #     size=(image_size, image_size), \n",
    "# #     sigma=-1., blur_ratio=0.2, noise_ratio=0.1, cutout_ratio=0.4,\n",
    "# #     grid_distortion_ratio=0.1, random_brightness_ratio=0.3,\n",
    "# #     piece_affine_ratio=0.2, ssr_ratio=0.2, elastic_distortion_ratio=0.3) #threshold=20.,\n",
    "# # transform = Transform(size=(image_size, image_size)\n",
    "# train_transform = Transform(affine=True,\n",
    "#     crop=False, size=(WIDTH_NEW, HEIGHT_NEW), cutout_ratio=0.4) #threshold=20.,\n",
    "# train_dataset = BengaliAIDataset(train_images[:200], train_labels,\n",
    "#                                  transform=train_transform)"
   ]
  },
  {
   "cell_type": "markdown",
   "metadata": {},
   "source": [
    "By setting `transform`, its function is called **every time** when we access to the index. Dataset returns different `image` every time! which is useful for training with data augmentation."
   ]
  },
  {
   "cell_type": "code",
   "execution_count": 27,
   "metadata": {
    "ExecuteTime": {
     "end_time": "2020-03-04T05:09:40.314855Z",
     "start_time": "2020-03-04T05:09:40.312966Z"
    },
    "_kg_hide-input": true
   },
   "outputs": [],
   "source": [
    "# nrow, ncol = 5, 6\n",
    "\n",
    "# fig, axes = plt.subplots(nrow, ncol, figsize=(20, 8))\n",
    "# axes = axes.flatten()\n",
    "# for i, ax in tqdm(enumerate(axes)):\n",
    "#     image, label = train_dataset[3]\n",
    "#     ax.imshow(image[0], cmap='Greys')\n",
    "#     ax.set_title(f'label: {label}')\n",
    "# plt.tight_layout()"
   ]
  },
  {
   "cell_type": "markdown",
   "metadata": {},
   "source": [
    "Let's final check the processed images, which will be trained by the model."
   ]
  },
  {
   "cell_type": "code",
   "execution_count": 28,
   "metadata": {
    "ExecuteTime": {
     "end_time": "2020-03-04T05:09:40.319141Z",
     "start_time": "2020-03-04T05:09:40.316986Z"
    },
    "_kg_hide-input": true
   },
   "outputs": [],
   "source": [
    "# nrow, ncol = 5, 6\n",
    "\n",
    "# fig, axes = plt.subplots(nrow, ncol, figsize=(20, 8))\n",
    "# axes = axes.flatten()\n",
    "# for i, ax in tqdm(enumerate(axes)):\n",
    "#     image, label = train_dataset[i+100]\n",
    "#     ax.imshow(image[0], cmap='Greys')\n",
    "#     ax.set_title(f'label: {label}')\n",
    "# plt.tight_layout()"
   ]
  },
  {
   "cell_type": "code",
   "execution_count": 29,
   "metadata": {
    "ExecuteTime": {
     "end_time": "2020-03-04T05:09:40.322622Z",
     "start_time": "2020-03-04T05:09:40.320778Z"
    }
   },
   "outputs": [],
   "source": [
    "# nrow, ncol = 5, 6\n",
    "\n",
    "# fig, axes = plt.subplots(nrow, ncol, figsize=(20, 8))\n",
    "# axes = axes.flatten()\n",
    "# for i, ax in tqdm(enumerate(axes)):\n",
    "#     image, label = train_dataset_noaug[i+100]\n",
    "#     ax.imshow(image, cmap='Greys')\n",
    "#     ax.set_title(f'label: {label}')\n",
    "# plt.tight_layout()"
   ]
  },
  {
   "cell_type": "code",
   "execution_count": 30,
   "metadata": {
    "ExecuteTime": {
     "end_time": "2020-03-04T05:09:40.721581Z",
     "start_time": "2020-03-04T05:09:40.324136Z"
    }
   },
   "outputs": [],
   "source": [
    "%reload_ext autoreload\n",
    "%autoreload 2\n",
    "\n",
    "from PIL import Image, ImageEnhance, ImageOps\n",
    "import numpy as np\n",
    "import matplotlib.pyplot as plt\n",
    "import math\n",
    "import random\n",
    "import pdb\n",
    "from autoaugment import ImageNetPolicy, CIFAR10Policy, SVHNPolicy, SubPolicy"
   ]
  },
  {
   "cell_type": "code",
   "execution_count": 31,
   "metadata": {
    "ExecuteTime": {
     "end_time": "2020-03-04T05:09:40.765398Z",
     "start_time": "2020-03-04T05:09:40.723573Z"
    }
   },
   "outputs": [
    {
     "name": "stdout",
     "output_type": "stream",
     "text": [
      "Using Pillow version 6.2.0. Upgrade using 'pip install Pillow -U'\n"
     ]
    }
   ],
   "source": [
    "import PIL\n",
    "print(\"Using Pillow version {}. Upgrade using 'pip install Pillow -U'\".format(PIL.__version__))"
   ]
  },
  {
   "cell_type": "code",
   "execution_count": 32,
   "metadata": {
    "ExecuteTime": {
     "end_time": "2020-03-04T05:30:03.311751Z",
     "start_time": "2020-03-04T05:30:03.239212Z"
    }
   },
   "outputs": [],
   "source": [
    "class AutoTransform:\n",
    "    def __init__(self, crop=True, size=(64, 64),\n",
    "                 normalize=True, train=True, threshold=TH,\n",
    "                 sigma=-1., blur_ratio=0., noise_ratio=0., cutout_ratio=0.,\n",
    "                 grid_distortion_ratio=0., elastic_distortion_ratio=0., \n",
    "                 piece_affine_ratio=0., auto_aug=False):\n",
    "        self.crop = crop\n",
    "        self.size = size\n",
    "        self.normalize = normalize\n",
    "        self.train = train\n",
    "        self.threshold = threshold / 255.\n",
    "        self.sigma = sigma / 255.\n",
    "\n",
    "        self.blur_ratio = blur_ratio\n",
    "        self.noise_ratio = noise_ratio\n",
    "        self.cutout_ratio = cutout_ratio\n",
    "        self.grid_distortion_ratio = grid_distortion_ratio\n",
    "        self.elastic_distortion_ratio = elastic_distortion_ratio\n",
    "        self.piece_affine_ratio = piece_affine_ratio\n",
    "        self.auto_policy = SVHNPolicy()\n",
    "        self.auto_aug = auto_aug\n",
    "\n",
    "    def __call__(self, example):\n",
    "        if self.train:\n",
    "            x, y = example\n",
    "        else:\n",
    "            x = example\n",
    "            \n",
    "        # --- Train/Test common preprocessing ---\n",
    "        if self.crop:\n",
    "            x = crop_char_image(x, threshold=self.threshold)\n",
    "            \n",
    "#         if self.crop:\n",
    "#             x = crop_char_image_thin(x, threshold=self.threshold)\n",
    "\n",
    "        if self.size is not None:\n",
    "            x = resize(x, size=self.size)\n",
    "            \n",
    "        x = np.transpose(np.stack((x, x, x), axis=0),(1,2,0))\n",
    "        \n",
    "        if self.auto_aug:\n",
    "            x_int = Image.fromarray((x*255).astype(np.uint8))\n",
    "            x_int = x_int.resize((224, 224))\n",
    "            x_int = self.auto_policy(x_int)\n",
    "            x = numpy.asarray(x_int.resize(self.size)).astype(np.float32) / 255.\n",
    "        \n",
    "        if self.sigma > 0.:\n",
    "            x = add_gaussian_noise(x, sigma=self.sigma)\n",
    "\n",
    "        # albumentations...\n",
    "        x = x.astype(np.float32)\n",
    "#         assert x.ndim == 2\n",
    "        # 1. blur\n",
    "        if _evaluate_ratio(self.blur_ratio):\n",
    "            r = np.random.uniform()\n",
    "            if r < 0.25:\n",
    "                x = apply_aug(A.Blur(p=1.0), x)\n",
    "            elif r < 0.5:\n",
    "                x = apply_aug(A.MedianBlur(blur_limit=5, p=1.0), x)\n",
    "            elif r < 0.75:\n",
    "                x = apply_aug(A.GaussianBlur(p=1.0), x)\n",
    "            else:\n",
    "                x = apply_aug(A.MotionBlur(p=1.0), x)\n",
    "\n",
    "        if _evaluate_ratio(self.noise_ratio):\n",
    "            r = np.random.uniform()\n",
    "            if r < 0.50:\n",
    "                x = apply_aug(A.GaussNoise(var_limit=5. / 255., p=1.0), x)\n",
    "            else:\n",
    "                x = apply_aug(A.MultiplicativeNoise(p=1.0), x)\n",
    "\n",
    "        if _evaluate_ratio(self.cutout_ratio):\n",
    "            r = np.random.uniform()\n",
    "            if r < 0.5:\n",
    "                x = apply_aug(A.CoarseDropout(max_holes=4, max_height=image_size//8, max_width=image_size//8, p=1.0), x)\n",
    "            else:\n",
    "                x = apply_aug(A.Cutout(num_holes=1,  max_h_size=image_size//3, max_w_size=image_size//3, p=1.0),x)  # Deprecated...\n",
    "\n",
    "        if _evaluate_ratio(self.grid_distortion_ratio):\n",
    "            x = apply_aug(A.GridDistortion(p=1.0, border_mode=cv2.BORDER_CONSTANT, value=0), x)\n",
    "\n",
    "        if _evaluate_ratio(self.elastic_distortion_ratio):\n",
    "            x = apply_aug(A.ElasticTransform(\n",
    "                sigma=50, alpha=1, alpha_affine=10, p=1.0, border_mode=cv2.BORDER_CONSTANT, value=0), x)\n",
    "\n",
    "\n",
    "        if _evaluate_ratio(self.piece_affine_ratio):\n",
    "            x = apply_aug(A.IAAPiecewiseAffine(p=1.0, mode='constant'), x)\n",
    "\n",
    "\n",
    "        if self.normalize:\n",
    "#             x = (x.astype(np.float32) - 0.0692) / 0.2051  ##ORG\n",
    "            x = (x.astype(np.float32) - 0.449) / 0.226 ##Imagenet\n",
    "#         if x.ndim == 2:\n",
    "#             x = x[None, :, :]\n",
    "        x = x.astype(np.float32)\n",
    "        x = np.transpose(x,(2,0,1))\n",
    "        if self.train:\n",
    "            y = y.astype(np.int64)\n",
    "            return x, y\n",
    "        else:\n",
    "            return x"
   ]
  },
  {
   "cell_type": "code",
   "execution_count": 33,
   "metadata": {
    "ExecuteTime": {
     "end_time": "2020-03-04T05:35:30.528004Z",
     "start_time": "2020-03-04T05:35:30.461019Z"
    }
   },
   "outputs": [],
   "source": [
    "train_auto_transform = AutoTransform(auto_aug=True, crop=False, \n",
    "    size=(WIDTH_NEW, HEIGHT_NEW)) #threshold=20.,\n",
    "train_auto_dataset = BengaliAIDataset(train_images[:200], train_labels,\n",
    "                                 transform=train_auto_transform)\n"
   ]
  },
  {
   "cell_type": "code",
   "execution_count": 34,
   "metadata": {
    "ExecuteTime": {
     "end_time": "2020-03-04T05:35:33.670373Z",
     "start_time": "2020-03-04T05:35:30.530281Z"
    }
   },
   "outputs": [
    {
     "data": {
      "application/vnd.jupyter.widget-view+json": {
       "model_id": "5f5db07dfa774a939dfe4ef2724e06c2",
       "version_major": 2,
       "version_minor": 0
      },
      "text/plain": [
       "HBox(children=(IntProgress(value=1, bar_style='info', max=1), HTML(value='')))"
      ]
     },
     "metadata": {},
     "output_type": "display_data"
    },
    {
     "name": "stdout",
     "output_type": "stream",
     "text": [
      "\n"
     ]
    },
    {
     "data": {
      "image/png": "[encoded data removed]",
      "text/plain": [
       "<Figure size 1440x576 with 30 Axes>"
      ]
     },
     "metadata": {
      "needs_background": "light"
     },
     "output_type": "display_data"
    }
   ],
   "source": [
    "nrow, ncol = 5, 6\n",
    "fig, axes = plt.subplots(nrow, ncol, figsize=(20, 8))\n",
    "axes = axes.flatten()\n",
    "for i, ax in tqdm(enumerate(axes)):\n",
    "    image, label = train_auto_dataset[i+100]\n",
    "#     print(np.max(image), np.min(image))\n",
    "    ax.imshow(np.transpose((image-np.min(image))/(np.max(image)-np.min(image)).astype('float'),(1,2,0)), cmap='Greys')\n",
    "    ax.set_title(f'label: {label}')\n",
    "plt.tight_layout()"
   ]
  },
  {
   "cell_type": "markdown",
   "metadata": {},
   "source": [
    "<a id=\"model\"></a> \n",
    "# pytorch model & define classifier"
   ]
  },
  {
   "cell_type": "code",
   "execution_count": 35,
   "metadata": {
    "ExecuteTime": {
     "end_time": "2020-03-04T05:35:33.719631Z",
     "start_time": "2020-03-04T05:35:33.673166Z"
    },
    "_kg_hide-input": true
   },
   "outputs": [],
   "source": [
    "import torch\n",
    "\n",
    "\n",
    "def residual_add(lhs, rhs):\n",
    "    lhs_ch, rhs_ch = lhs.shape[1], rhs.shape[1]\n",
    "    if lhs_ch < rhs_ch:\n",
    "        out = lhs + rhs[:, :lhs_ch]\n",
    "    elif lhs_ch > rhs_ch:\n",
    "        out = torch.cat([lhs[:, :rhs_ch] + rhs, lhs[:, rhs_ch:]], dim=1)\n",
    "    else:\n",
    "        out = lhs + rhs\n",
    "    return out\n"
   ]
  },
  {
   "cell_type": "code",
   "execution_count": 36,
   "metadata": {
    "ExecuteTime": {
     "end_time": "2020-03-04T05:35:33.776451Z",
     "start_time": "2020-03-04T05:35:33.721798Z"
    },
    "_kg_hide-input": true
   },
   "outputs": [],
   "source": [
    "from typing import List\n",
    "\n",
    "import torch\n",
    "from torch import nn\n",
    "from torch.nn.parameter import Parameter\n",
    "\n",
    "\n",
    "class LazyLoadModule(nn.Module):\n",
    "    \"\"\"Lazy buffer/parameter loading using load_state_dict_pre_hook\n",
    "\n",
    "    Define all buffer/parameter in `_lazy_buffer_keys`/`_lazy_parameter_keys` and\n",
    "    save buffer with `register_buffer`/`register_parameter`\n",
    "    method, which can be outside of __init__ method.\n",
    "    Then this module can load any shape of Tensor during de-serializing.\n",
    "\n",
    "    Note that default value of lazy buffer is torch.Tensor([]), while lazy parameter is None.\n",
    "    \"\"\"\n",
    "    _lazy_buffer_keys: List[str] = []     # It needs to be override to register lazy buffer\n",
    "    _lazy_parameter_keys: List[str] = []  # It needs to be override to register lazy parameter\n",
    "\n",
    "    def __init__(self):\n",
    "        super(LazyLoadModule, self).__init__()\n",
    "        for k in self._lazy_buffer_keys:\n",
    "            self.register_buffer(k, torch.tensor([]))\n",
    "        for k in self._lazy_parameter_keys:\n",
    "            self.register_parameter(k, None)\n",
    "        self._register_load_state_dict_pre_hook(self._hook)\n",
    "\n",
    "    def _hook(self, state_dict, prefix, local_metadata, strict, missing_keys,\n",
    "             unexpected_keys, error_msgs):\n",
    "        for key in self._lazy_buffer_keys:\n",
    "            self.register_buffer(key, state_dict[prefix + key])\n",
    "\n",
    "        for key in self._lazy_parameter_keys:\n",
    "            self.register_parameter(key, Parameter(state_dict[prefix + key]))\n"
   ]
  },
  {
   "cell_type": "code",
   "execution_count": 37,
   "metadata": {
    "ExecuteTime": {
     "end_time": "2020-03-04T05:35:33.835890Z",
     "start_time": "2020-03-04T05:35:33.778577Z"
    }
   },
   "outputs": [],
   "source": [
    "a = np.array([2,3])\n",
    "b = np.array([4,5,6])"
   ]
  },
  {
   "cell_type": "code",
   "execution_count": 38,
   "metadata": {
    "ExecuteTime": {
     "end_time": "2020-03-04T05:35:33.910231Z",
     "start_time": "2020-03-04T05:35:33.838687Z"
    },
    "_kg_hide-input": true
   },
   "outputs": [],
   "source": [
    "import math\n",
    "import torch\n",
    "from torch.nn import init\n",
    "from torch.nn.parameter import Parameter\n",
    "import torch.nn.functional as F\n",
    "\n",
    "\n",
    "class LazyLinear(LazyLoadModule):\n",
    "    \"\"\"Linear module with lazy input inference\n",
    "\n",
    "    `in_features` can be `None`, and it is determined at the first time of forward step dynamically.\n",
    "    \"\"\"\n",
    "\n",
    "    __constants__ = ['bias', 'in_features', 'out_features']\n",
    "    _lazy_parameter_keys = ['weight']\n",
    "\n",
    "    def __init__(self, in_features, out_features, bias=True):\n",
    "        super(LazyLinear, self).__init__()\n",
    "        self.in_features = in_features\n",
    "        self.out_features = out_features\n",
    "        if bias:\n",
    "            self.bias = Parameter(torch.Tensor(out_features))\n",
    "        else:\n",
    "            self.register_parameter('bias', None)\n",
    "\n",
    "        if in_features is not None:\n",
    "            self.weight = Parameter(torch.Tensor(out_features, in_features))\n",
    "            self.reset_parameters()\n",
    "\n",
    "    def reset_parameters(self):\n",
    "        init.kaiming_uniform_(self.weight, a=math.sqrt(5))\n",
    "        if self.bias is not None:\n",
    "            fan_in, _ = init._calculate_fan_in_and_fan_out(self.weight)\n",
    "            bound = 1 / math.sqrt(fan_in)\n",
    "            init.uniform_(self.bias, -bound, bound)\n",
    "\n",
    "    def forward(self, input):\n",
    "        if self.weight is None:\n",
    "            self.in_features = input.shape[-1]\n",
    "            self.weight = Parameter(torch.Tensor(self.out_features, self.in_features))\n",
    "            self.reset_parameters()\n",
    "\n",
    "            # Need to send lazy defined parameter to device...\n",
    "            self.to(input.device)\n",
    "        return F.linear(input, self.weight, self.bias)\n",
    "\n",
    "    def extra_repr(self):\n",
    "        return 'in_features={}, out_features={}, bias={}'.format(\n",
    "            self.in_features, self.out_features, self.bias is not None\n",
    "        )\n"
   ]
  },
  {
   "cell_type": "code",
   "execution_count": 39,
   "metadata": {
    "ExecuteTime": {
     "end_time": "2020-03-04T05:35:33.977560Z",
     "start_time": "2020-03-04T05:35:33.912778Z"
    },
    "_kg_hide-input": true
   },
   "outputs": [],
   "source": [
    "from torch import nn\n",
    "import torch.nn.functional as F\n",
    "\n",
    "\n",
    "class LinearBlock(nn.Module):\n",
    "\n",
    "    def __init__(self, in_features, out_features, bias=True,\n",
    "                 use_bn=True, activation=F.relu, dropout_ratio=-1, residual=False,):\n",
    "        super(LinearBlock, self).__init__()\n",
    "        if in_features is None:\n",
    "            self.linear = LazyLinear(in_features, out_features, bias=bias)\n",
    "        else:\n",
    "            self.linear = nn.Linear(in_features, out_features, bias=bias)\n",
    "        if use_bn:\n",
    "            self.bn = nn.BatchNorm1d(out_features)\n",
    "        if dropout_ratio > 0.:\n",
    "            self.dropout = nn.Dropout(p=dropout_ratio)\n",
    "        else:\n",
    "            self.dropout = None\n",
    "        self.activation = activation\n",
    "        self.use_bn = use_bn\n",
    "        self.dropout_ratio = dropout_ratio\n",
    "        self.residual = residual\n",
    "\n",
    "    def __call__(self, x):\n",
    "        h = self.linear(x)\n",
    "        if self.use_bn:\n",
    "            h = self.bn(h)\n",
    "        if self.activation is not None:\n",
    "            h = self.activation(h)\n",
    "        if self.residual:\n",
    "            h = residual_add(h, x)\n",
    "        if self.dropout_ratio > 0:\n",
    "            h = self.dropout(h)\n",
    "        return h"
   ]
  },
  {
   "cell_type": "code",
   "execution_count": 40,
   "metadata": {
    "ExecuteTime": {
     "end_time": "2020-03-04T05:35:34.052457Z",
     "start_time": "2020-03-04T05:35:33.982632Z"
    },
    "code_folding": []
   },
   "outputs": [],
   "source": [
    "class Flatten(nn.Module):\n",
    "    def forward(self, input):\n",
    "        return input.view(input.size(0), -1)\n",
    "    \n",
    "class ClassifierNew(nn.Module):\n",
    "    def __init__(self, inp = 2048, h1=1024, num_class = [1000,1,1], dropout_ratio=0.35):\n",
    "        super().__init__()\n",
    "        self.ap = nn.AdaptiveAvgPool2d(1)\n",
    "        self.mp = nn.AdaptiveMaxPool2d(1)\n",
    "        self.fla = Flatten()\n",
    "#         self.bn0 = nn.BatchNorm1d(inp*2,eps=1e-05, momentum=0.1, affine=True)\n",
    "        self.dropout0 = nn.Dropout(dropout_ratio)\n",
    "        \n",
    "        self.logit = nn.ModuleList(\n",
    "            [ nn.Linear(inp*2, c) for c in num_class]\n",
    "        )\n",
    "#         self.fc1 = nn.Linear(inp*2, h1)\n",
    "#         self.bn1 = nn.BatchNorm1d(h1,eps=1e-05, momentum=0.1, affine=True)\n",
    "#         self.dropout1 = nn.Dropout(dropout_ratio)\n",
    "#         self.fc2 = nn.Linear(h1, out)\n",
    "        \n",
    "    def forward(self, x):\n",
    "        ap = self.ap(x)\n",
    "        mp = self.mp(x)\n",
    "        x = torch.cat((ap,mp),dim=1)\n",
    "        x = self.fla(x)\n",
    "#         x = self.bn0(x)\n",
    "        x = self.dropout0(x)\n",
    "        logit = [l(x) for l in self.logit]\n",
    "#         x = F.relu(self.fc1(x))\n",
    "#         x = self.bn1(x)\n",
    "#         x = self.dropout1(x)         \n",
    "#         x = self.fc2(x)\n",
    "        return logit"
   ]
  },
  {
   "cell_type": "code",
   "execution_count": 41,
   "metadata": {
    "ExecuteTime": {
     "end_time": "2020-03-04T05:35:34.113973Z",
     "start_time": "2020-03-04T05:35:34.056348Z"
    }
   },
   "outputs": [],
   "source": [
    "# ap = nn.AdaptiveAvgPool2d((1,1))\n",
    "# mp = nn.AdaptiveMaxPool2d((1,1))\n",
    "# x = np.random.rand(5,4,4)\n",
    "# print(x)\n",
    "# print(ap)\n",
    "# x1 = torch.nn.functional.adaptive_avg_pool2d(x, (1,1))\n",
    "# print(x1)"
   ]
  },
  {
   "cell_type": "code",
   "execution_count": 42,
   "metadata": {
    "ExecuteTime": {
     "end_time": "2020-03-04T05:35:34.175916Z",
     "start_time": "2020-03-04T05:35:34.116239Z"
    }
   },
   "outputs": [
    {
     "name": "stdout",
     "output_type": "stream",
     "text": [
      "tensor(10.)\n"
     ]
    }
   ],
   "source": [
    "a = torch.Tensor([[1,2],[3,4]])\n",
    "b = torch.sum(a,dim=(-1,-2))\n",
    "print(b)"
   ]
  },
  {
   "cell_type": "code",
   "execution_count": 43,
   "metadata": {
    "ExecuteTime": {
     "end_time": "2020-03-04T05:35:34.233819Z",
     "start_time": "2020-03-04T05:35:34.178036Z"
    }
   },
   "outputs": [],
   "source": [
    "def set_parameter_requires_grad(model, feature_extracting):\n",
    "    if feature_extracting:\n",
    "        for param in model.parameters():\n",
    "            param.requires_grad = False"
   ]
  },
  {
   "cell_type": "code",
   "execution_count": 44,
   "metadata": {
    "ExecuteTime": {
     "end_time": "2020-03-04T05:40:34.178245Z",
     "start_time": "2020-03-04T05:40:34.112639Z"
    }
   },
   "outputs": [],
   "source": [
    "import pretrainedmodels\n",
    "import torch\n",
    "from torch import nn\n",
    "import torch.nn.functional as F\n",
    "from torch.nn import Sequential\n",
    "import collections\n",
    "try:\n",
    "    from collections import OrderedDict\n",
    "except ImportError:\n",
    "    OrderedDict = dict\n",
    "\n",
    "from seresnext import *    \n",
    "\n",
    "class PretrainedCNN(nn.Module):\n",
    "    \n",
    "    def load_pretrain(self, skip=['block0.','logit.'], is_print=True):\n",
    "        load_pretrain(self, skip, pretrain_file=PRETRAIN_FILE, conversion=CONVERSION, is_print=is_print)\n",
    "        \n",
    "    def __init__(self, model_name='se_resnext101_32x4d',\n",
    "                 in_channels=1, num_class=[10], use_bn=True,\n",
    "                 pretrained='imagenet', dropout_ratio=0):\n",
    "        super(PretrainedCNN, self).__init__()\n",
    "#         self.conv0 = nn.Conv2d(\n",
    "#             in_channels, 3, kernel_size=3, stride=1, padding=1, bias=True)\n",
    "#         self.base_model = pretrainedmodels.__dict__[model_name](pretrained=pretrained)\n",
    "# #         print(self.base_model)\n",
    "#         names = []\n",
    "#         for name, child in self.base_model.named_children():\n",
    "#             names.append(name)\n",
    "            \n",
    "#         arch = self.base_model\n",
    "#         arch = list(arch.children())\n",
    "#         #saving the weights of the forst conv in w\n",
    "#         w = arch[0][0].weight\n",
    "#         #creating new Conv2d to accept 1 channel \n",
    "#         arch[0][0] = nn.Conv2d(1, 64, kernel_size=7, stride=2, padding=3, bias=False)\n",
    "#         #substituting weights of newly created Conv2d with w from but we have to take mean\n",
    "#         #to go from  3 channel to 1\n",
    "#         arch[0][0].weight = nn.Parameter(torch.mean(w, dim=1, keepdim=True))\n",
    "#         arch = nn.Sequential(OrderedDict([(names[k], arch[k]) for k in range(len(names))]))\n",
    "# #         print(arch)\n",
    "#         self.base_model = arch\n",
    "# #         print(\"#######################################\")\n",
    "# #         print(self.base_model)\n",
    "#         activation = F.leaky_relu\n",
    "#         self.do_pooling = True\n",
    "#         if self.do_pooling:\n",
    "#             inch = self.base_model.last_linear.in_features\n",
    "#         else:\n",
    "#             inch = None\n",
    "\n",
    "        e = ResNext50()\n",
    "\n",
    "        self.block0 = e.block0\n",
    "        self.block1 = e.block1\n",
    "        self.block2 = e.block2\n",
    "        self.block3 = e.block3\n",
    "        self.block4 = e.block4\n",
    "        e = None  #dropped\n",
    "        inch = 2048\n",
    "        hdim = HDIM\n",
    "        self.classifer = ClassifierNew(inp = inch, h1=hdim, num_class = num_class, dropout_ratio=dropout_ratio)\n",
    "#         lin1 = LinearBlock(inch, hdim, use_bn=use_bn, activation=activation, residual=False)\n",
    "#         lin2 = LinearBlock(hdim, out_dim, use_bn=use_bn, activation=None, residual=False)\n",
    "#         self.lin_layers = Sequential(lin1, lin2)\n",
    "\n",
    "    def forward(self, x):\n",
    "        \n",
    "#         h = self.base_model.layer0(x)\n",
    "#         h = self.base_model.layer1(h)\n",
    "#         h = self.base_model.layer2(h)\n",
    "#         h = self.base_model.layer3(h)\n",
    "#         h = self.base_model.layer4(h) \n",
    "\n",
    "        batch_size,C,H,W = x.shape\n",
    "        if (H,W) !=(HEIGHT_NEW, WIDTH_NEW):\n",
    "            x = F.interpolate(x,size=(HEIGHT_NEW, WIDTH_NEW), mode='bilinear',align_corners=False)\n",
    "            \n",
    "#         x = x.repeat(1,3,1,1)\n",
    "        x = self.block0(x)\n",
    "        x = self.block1(x)\n",
    "        x = self.block2(x)\n",
    "        x = self.block3(x)\n",
    "        x = self.block4(x)\n",
    "        \n",
    "        h = self.classifer(x)\n",
    "\n",
    "        return h"
   ]
  },
  {
   "cell_type": "code",
   "execution_count": null,
   "metadata": {},
   "outputs": [],
   "source": []
  },
  {
   "cell_type": "code",
   "execution_count": null,
   "metadata": {
    "ExecuteTime": {
     "end_time": "2020-02-24T23:57:39.817648Z",
     "start_time": "2020-02-24T23:57:39.219998Z"
    }
   },
   "outputs": [],
   "source": []
  },
  {
   "cell_type": "code",
   "execution_count": 45,
   "metadata": {
    "ExecuteTime": {
     "end_time": "2020-03-04T05:40:34.237538Z",
     "start_time": "2020-03-04T05:40:34.180787Z"
    }
   },
   "outputs": [],
   "source": [
    "def print_base_layers(predictor):\n",
    "    print(\"base model layer names::\")\n",
    "    for name, child in predictor.base_model.named_children():\n",
    "        print(name)\n",
    "        \n",
    "def print_base_grad_status(predictor):\n",
    "    print(\"base model grad status::\")\n",
    "    for name, child in predictor.base_model.named_children():\n",
    "        print(name)\n",
    "        for param in child.parameters():\n",
    "            print(param.requires_grad)"
   ]
  },
  {
   "cell_type": "code",
   "execution_count": 46,
   "metadata": {
    "ExecuteTime": {
     "end_time": "2020-03-04T05:40:34.292879Z",
     "start_time": "2020-03-04T05:40:34.240408Z"
    }
   },
   "outputs": [],
   "source": [
    "# print_grad_status(predictortmp)"
   ]
  },
  {
   "cell_type": "code",
   "execution_count": 47,
   "metadata": {
    "ExecuteTime": {
     "end_time": "2020-03-04T05:40:34.350785Z",
     "start_time": "2020-03-04T05:40:34.295324Z"
    }
   },
   "outputs": [],
   "source": [
    "def frozen_basiclayers(predictor):\n",
    "    for name, child in predictor.base_model.named_children():\n",
    "        if name in ['layer0','layer1','layer2','layer3']:\n",
    "            print(name + ' is frozen')\n",
    "            for param in child.parameters():\n",
    "                param.requires_grad = False\n",
    "        else:\n",
    "            print(name + ' is unfrozen')\n",
    "            for param in child.parameters():\n",
    "                param.requires_grad = True"
   ]
  },
  {
   "cell_type": "code",
   "execution_count": 48,
   "metadata": {
    "ExecuteTime": {
     "end_time": "2020-03-04T05:40:34.408284Z",
     "start_time": "2020-03-04T05:40:34.352973Z"
    }
   },
   "outputs": [],
   "source": [
    "def unfrozen_basiclayers(predictor):\n",
    "    for name, child in predictor.base_model.named_children():\n",
    "        for param in child.parameters():\n",
    "            param.requires_grad = True"
   ]
  },
  {
   "cell_type": "code",
   "execution_count": 49,
   "metadata": {
    "ExecuteTime": {
     "end_time": "2020-03-04T05:40:34.468861Z",
     "start_time": "2020-03-04T05:40:34.410910Z"
    }
   },
   "outputs": [],
   "source": [
    "# frozen_basiclayers(predictortmp)\n",
    "# print_grad_status(predictortmp)"
   ]
  },
  {
   "cell_type": "code",
   "execution_count": 50,
   "metadata": {
    "ExecuteTime": {
     "end_time": "2020-03-04T05:40:34.540539Z",
     "start_time": "2020-03-04T05:40:34.472500Z"
    }
   },
   "outputs": [
    {
     "name": "stdout",
     "output_type": "stream",
     "text": [
      "n_total 186\n"
     ]
    }
   ],
   "source": [
    "n_grapheme = 168\n",
    "n_vowel = 11\n",
    "n_consonant = 7\n",
    "n_total = n_grapheme + n_vowel + n_consonant\n",
    "print('n_total', n_total)"
   ]
  },
  {
   "cell_type": "code",
   "execution_count": 51,
   "metadata": {
    "ExecuteTime": {
     "end_time": "2020-03-04T05:40:34.605965Z",
     "start_time": "2020-03-04T05:40:34.545038Z"
    }
   },
   "outputs": [],
   "source": [
    "# predictortmp = PretrainedCNN(in_channels=1, num_class=[n_grapheme, n_vowel, n_consonant], model_name=model_name, pretrained=\"imagenet\")\n",
    "# for name, child in predictortmp.named_children():\n",
    "#     print(name)\n",
    "# print_base_layers(predictortmp)"
   ]
  },
  {
   "cell_type": "code",
   "execution_count": null,
   "metadata": {},
   "outputs": [],
   "source": []
  },
  {
   "cell_type": "code",
   "execution_count": 52,
   "metadata": {
    "ExecuteTime": {
     "end_time": "2020-03-04T05:40:34.663580Z",
     "start_time": "2020-03-04T05:40:34.609134Z"
    }
   },
   "outputs": [],
   "source": [
    "# def get_optimizer_adam(classifier, learning_rate=1e-3, weight_decay=0.0):\n",
    "    \n",
    "#     base_params = list(map(id, classifier.predictor.base_model.parameters()))\n",
    "#     fast_learned_params = filter(lambda p: id(p) not in base_params, \n",
    "#                                  classifier.parameters())\n",
    "# #     print(\"base_params len:\", len(base_params))\n",
    "# #     print(\"fast_learned_params len:\", len(list(fast_learned_params)))\n",
    "#     lr_100 = max(learning_rate/100, 1e-6)\n",
    "#     lr_10 = max(learning_rate/10, 5e-6)\n",
    "#     optimizer = torch.optim.Adam(\n",
    "#     [\n",
    "#         dict(params=classifier.predictor.base_model.layer0.parameters(), lr=lr_100),\n",
    "#         dict(params=classifier.predictor.base_model.layer1.parameters(), lr=lr_100),\n",
    "#         dict(params=classifier.predictor.base_model.layer2.parameters(), lr=lr_100),\n",
    "#         dict(params=classifier.predictor.base_model.layer3.parameters(), lr=lr_100),\n",
    "#         dict(params=classifier.predictor.base_model.layer4.parameters(), lr=lr_10),        \n",
    "#         dict(params=classifier.predictor.base_model.avg_pool.parameters(), lr=lr_10),\n",
    "#         dict(params=classifier.predictor.base_model.last_linear.parameters(), lr=lr_10),\n",
    "#         {'params': fast_learned_params},\n",
    "#     ], lr = learning_rate, weight_decay=weight_decay)\n",
    "    \n",
    "#     return optimizer"
   ]
  },
  {
   "cell_type": "code",
   "execution_count": 53,
   "metadata": {
    "ExecuteTime": {
     "end_time": "2020-03-04T05:40:34.727272Z",
     "start_time": "2020-03-04T05:40:34.665790Z"
    }
   },
   "outputs": [],
   "source": [
    "# def get_optimizer_adam(classifier, learning_rate=1e-3, weight_decay=0.0):\n",
    "    \n",
    "#     base_params = list(map(id, classifier.predictor.base_model.parameters()))\n",
    "#     fast_learned_params = filter(lambda p: id(p) not in base_params, \n",
    "#                                  classifier.parameters())\n",
    "# #     print(\"base_params len:\", len(base_params))\n",
    "# #     print(\"fast_learned_params len:\", len(list(fast_learned_params)))\n",
    "#     lr_100 = max(learning_rate/100, 1e-7)\n",
    "#     lr_10 = max(learning_rate/10, 1e-7)\n",
    "#     optimizer = torch.optim.Adam(\n",
    "#     [\n",
    "#         dict(params=classifier.predictor.base_model.layer0.parameters(), lr=lr_10),\n",
    "#         dict(params=classifier.predictor.base_model.layer1.parameters(), lr=lr_10),\n",
    "#         dict(params=classifier.predictor.base_model.layer2.parameters(), lr=lr_10),\n",
    "#         dict(params=classifier.predictor.base_model.layer3.parameters(), lr=lr_10),\n",
    "#         dict(params=classifier.predictor.base_model.layer4.parameters(), lr=learning_rate),        \n",
    "#         dict(params=classifier.predictor.base_model.avg_pool.parameters(), lr=learning_rate),\n",
    "#         dict(params=classifier.predictor.base_model.last_linear.parameters(), lr=learning_rate),\n",
    "#         {'params': fast_learned_params},\n",
    "#     ], lr = learning_rate, weight_decay=weight_decay)\n",
    "    \n",
    "#     return optimizer"
   ]
  },
  {
   "cell_type": "code",
   "execution_count": 54,
   "metadata": {
    "ExecuteTime": {
     "end_time": "2020-03-04T05:40:34.798136Z",
     "start_time": "2020-03-04T05:40:34.729844Z"
    }
   },
   "outputs": [],
   "source": [
    "def get_optimizer_adam(classifier, learning_rate=1e-3, weight_decay=0.0):\n",
    "    \n",
    "    base_params = list(map(id, classifier.predictor.parameters()))\n",
    "    fast_learned_params = filter(lambda p: id(p) not in base_params, \n",
    "                                 classifier.parameters())\n",
    "#     print(\"base_params len:\", len(base_params))\n",
    "#     print(\"fast_learned_params len:\", len(list(fast_learned_params)))\n",
    "    lr_100 = max(learning_rate/100, 1e-7)\n",
    "    lr_10 = max(learning_rate/10, 1e-7)\n",
    "    optimizer = torch.optim.Adam(\n",
    "    [\n",
    "        dict(params=classifier.predictor.block0.parameters(), lr=lr_10),\n",
    "        dict(params=classifier.predictor.block1.parameters(), lr=lr_10),\n",
    "        dict(params=classifier.predictor.block2.parameters(), lr=lr_10),\n",
    "        dict(params=classifier.predictor.block3.parameters(), lr=lr_10),\n",
    "        dict(params=classifier.predictor.block4.parameters(), lr=learning_rate),\n",
    "        {'params': fast_learned_params},\n",
    "    ], lr = learning_rate, weight_decay=weight_decay)\n",
    "    \n",
    "    return optimizer"
   ]
  },
  {
   "cell_type": "markdown",
   "metadata": {},
   "source": [
    "## Classifier"
   ]
  },
  {
   "cell_type": "code",
   "execution_count": 55,
   "metadata": {
    "ExecuteTime": {
     "end_time": "2020-03-04T05:40:34.875123Z",
     "start_time": "2020-03-04T05:40:34.800670Z"
    }
   },
   "outputs": [],
   "source": [
    "def rand_bbox(size, lam):\n",
    "    W = size[2]\n",
    "    H = size[3]\n",
    "    cut_rat = np.sqrt(1. - lam)\n",
    "    cut_w = np.int(W * cut_rat)\n",
    "    cut_h = np.int(H * cut_rat)\n",
    "\n",
    "    # uniform\n",
    "    cx = np.random.randint(W)\n",
    "    cy = np.random.randint(H)\n",
    "\n",
    "    bbx1 = np.clip(cx - cut_w // 2, 0, W)\n",
    "    bby1 = np.clip(cy - cut_h // 2, 0, H)\n",
    "    bbx2 = np.clip(cx + cut_w // 2, 0, W)\n",
    "    bby2 = np.clip(cy + cut_h // 2, 0, H)\n",
    "\n",
    "    return bbx1, bby1, bbx2, bby2\n",
    "\n",
    "def cutmix(data, y, alpha):\n",
    "    indices = torch.randperm(data.size(0))\n",
    "    shuffled_data = data[indices]\n",
    "    shuffled_targets1 = y[:,0][indices]\n",
    "    shuffled_targets2 = y[:,1][indices]\n",
    "    shuffled_targets3 = y[:,2][indices]\n",
    "\n",
    "    lam = np.random.beta(alpha, alpha)\n",
    "    bbx1, bby1, bbx2, bby2 = rand_bbox(data.size(), lam)\n",
    "    data[:, :, bbx1:bbx2, bby1:bby2] = data[indices, :, bbx1:bbx2, bby1:bby2]\n",
    "    # adjust lambda to exactly match pixel ratio\n",
    "    lam = 1 - ((bbx2 - bbx1) * (bby2 - bby1) / (data.size()[-1] * data.size()[-2]))\n",
    "\n",
    "    targets = [y[:,0], shuffled_targets1, y[:,1], shuffled_targets2, y[:,2], shuffled_targets3, lam]\n",
    "    return data, targets\n",
    "\n",
    "def mixup(data, y, alpha):\n",
    "    indices = torch.randperm(data.size(0))\n",
    "    shuffled_data = data[indices]\n",
    "    shuffled_targets1 = y[:,0][indices]\n",
    "    shuffled_targets2 = y[:,1][indices]\n",
    "    shuffled_targets3 = y[:,2][indices]\n",
    "\n",
    "    lam = np.random.beta(alpha, alpha)\n",
    "    data = data * lam + shuffled_data * (1 - lam)\n",
    "    targets = [y[:,0], shuffled_targets1, y[:,1], shuffled_targets2, y[:,2], shuffled_targets3, lam]\n",
    "\n",
    "    return data, targets"
   ]
  },
  {
   "cell_type": "code",
   "execution_count": 56,
   "metadata": {
    "ExecuteTime": {
     "end_time": "2020-03-04T05:41:46.436166Z",
     "start_time": "2020-03-04T05:41:46.359184Z"
    }
   },
   "outputs": [],
   "source": [
    "def cutmix_criterion(pred, targets):\n",
    "    if isinstance(pred, list):\n",
    "        assert len(pred) == 3\n",
    "        preds = pred\n",
    "    else:\n",
    "        assert pred.shape[1] == self.n_total_class\n",
    "        preds = torch.split(pred, [self.n_grapheme, self.n_vowel, self.n_consonant], dim=1)\n",
    "        \n",
    "    targets1, targets2,targets3, targets4,targets5, targets6, lam = targets[0], targets[1], targets[2], targets[3], targets[4], targets[5], targets[6]\n",
    "    criterion = nn.CrossEntropyLoss(reduction='mean')\n",
    "    return (2*lam * criterion(preds[0], targets1) + (1 - lam) * criterion(preds[0], targets2), \n",
    "            lam * criterion(preds[1], targets3) + (1 - lam) * criterion(preds[1], targets4),\n",
    "            lam * criterion(preds[2], targets5) + (1 - lam) * criterion(preds[2], targets6))\n",
    "\n",
    "def mixup_criterion(pred, targets):\n",
    "    if isinstance(pred, list):\n",
    "        assert len(pred) == 3\n",
    "        preds = pred\n",
    "    else:\n",
    "        assert pred.shape[1] == self.n_total_class\n",
    "        preds = torch.split(pred, [self.n_grapheme, self.n_vowel, self.n_consonant], dim=1)\n",
    "    targets1, targets2,targets3, targets4,targets5, targets6, lam = targets[0], targets[1], targets[2], targets[3], targets[4], targets[5], targets[6]\n",
    "    criterion = nn.CrossEntropyLoss(reduction='mean')\n",
    "    return (2*lam * criterion(preds[0], targets1) + (1 - lam) * criterion(preds[0], targets2),\n",
    "           lam * criterion(preds[1], targets3) + (1 - lam) * criterion(preds[1], targets4),\n",
    "           lam * criterion(preds[2], targets5) + (1 - lam) * criterion(preds[2], targets6))"
   ]
  },
  {
   "cell_type": "code",
   "execution_count": 57,
   "metadata": {
    "ExecuteTime": {
     "end_time": "2020-03-04T05:41:46.492700Z",
     "start_time": "2020-03-04T05:41:46.438642Z"
    }
   },
   "outputs": [
    {
     "name": "stdout",
     "output_type": "stream",
     "text": [
      "0.3070188949445265\n"
     ]
    }
   ],
   "source": [
    "a = np.random.rand(1)\n",
    "print(np.random.rand())"
   ]
  },
  {
   "cell_type": "code",
   "execution_count": 58,
   "metadata": {
    "ExecuteTime": {
     "end_time": "2020-03-04T05:41:46.563865Z",
     "start_time": "2020-03-04T05:41:46.495605Z"
    },
    "_kg_hide-input": true
   },
   "outputs": [],
   "source": [
    "import torch\n",
    "from torch import nn\n",
    "import torch.nn.functional as F\n",
    "from tqdm import tqdm\n",
    "\n",
    "\n",
    "def accuracy(y, t):\n",
    "    pred_label = torch.argmax(y, dim=1)\n",
    "    count = pred_label.shape[0]\n",
    "    correct = (pred_label == t).sum().type(torch.float32)\n",
    "    acc = correct / count\n",
    "    if isinstance(acc, torch.Tensor):\n",
    "        acc = acc.item()\n",
    "    return acc\n",
    "\n",
    "\n",
    "class BengaliClassifier(nn.Module):\n",
    "    def __init__(self, predictor, n_grapheme=168, n_vowel=11, n_consonant=7):\n",
    "        super(BengaliClassifier, self).__init__()\n",
    "        self.n_grapheme = n_grapheme\n",
    "        self.n_vowel = n_vowel\n",
    "        self.n_consonant = n_consonant\n",
    "        self.n_total_class = self.n_grapheme + self.n_vowel + self.n_consonant\n",
    "        self.predictor = predictor\n",
    "\n",
    "        self.metrics_keys = [\n",
    "            'loss', 'loss_grapheme', 'loss_vowel', 'loss_consonant',\n",
    "            'acc_grapheme', 'acc_vowel', 'acc_consonant']\n",
    "\n",
    "    def forward(self, x, y=None):\n",
    "        \n",
    "        if np.random.rand()<0.5:\n",
    "            x, targets = mixup(x, y, 0.2)\n",
    "            pred = self.predictor(x)\n",
    "            loss_grapheme, loss_vowel, loss_consonant= mixup_criterion(pred, targets) \n",
    "        else:\n",
    "            x, targets = cutmix(x, y, 0.2)\n",
    "            pred = self.predictor(x)\n",
    "            loss_grapheme, loss_vowel, loss_consonant = cutmix_criterion(pred, targets) \n",
    "        \n",
    "        if isinstance(pred, list):\n",
    "            preds = pred\n",
    "        else:\n",
    "            assert pred.shape[1] == self.n_total_class\n",
    "            preds = torch.split(pred, [self.n_grapheme, self.n_vowel, self.n_consonant], dim=1)\n",
    "        \n",
    "        loss = loss_grapheme + loss_vowel + loss_consonant\n",
    "        metrics = {\n",
    "            'loss': loss.item(),\n",
    "            'loss_grapheme': loss_grapheme.item(),\n",
    "            'loss_vowel': loss_vowel.item(),\n",
    "            'loss_consonant': loss_consonant.item(),\n",
    "            'acc_grapheme': accuracy(preds[0], y[:, 0]),\n",
    "            'acc_vowel': accuracy(preds[1], y[:, 1]),\n",
    "            'acc_consonant': accuracy(preds[2], y[:, 2]),\n",
    "        }\n",
    "        return loss, metrics, pred\n",
    "\n",
    "    def calc(self, data_loader):\n",
    "        device: torch.device = next(self.parameters()).device\n",
    "        self.eval()\n",
    "        output_list = []\n",
    "        with torch.no_grad():\n",
    "            for batch in tqdm(data_loader):\n",
    "                # TODO: support general preprocessing.\n",
    "                # If `data` is not `Data` instance, `to` method is not supported!\n",
    "                batch = batch.to(device)\n",
    "                pred = self.predictor(batch)\n",
    "                output_list.append(pred)\n",
    "        output = torch.cat(output_list, dim=0)\n",
    "        preds = torch.split(output, [self.n_grapheme, self.n_vowel, self.n_consonant], dim=1)\n",
    "        return preds\n",
    "\n",
    "    def predict_proba(self, data_loader):\n",
    "        preds = self.calc(data_loader)\n",
    "        return [F.softmax(p, dim=1) for p in preds]\n",
    "\n",
    "    def predict(self, data_loader):\n",
    "        preds = self.calc(data_loader)\n",
    "        pred_labels = [torch.argmax(p, dim=1) for p in preds]\n",
    "        return pred_labels\n"
   ]
  },
  {
   "cell_type": "code",
   "execution_count": 59,
   "metadata": {
    "ExecuteTime": {
     "end_time": "2020-03-04T05:41:46.619649Z",
     "start_time": "2020-03-04T05:41:46.566543Z"
    }
   },
   "outputs": [],
   "source": [
    "# classifiertmp = BengaliClassifier(predictortmp).to(device)\n",
    "# # for name, child in classifiertmp.named_children():\n",
    "# #     print(name)\n",
    "# # optimizertmp = get_optimizer_adam(classifiertmp)\n",
    "# # print(optimizertmp)\n",
    "\n",
    "# ctmp_params = list(map(id, classifiertmp.parameters()))\n",
    "# print(len(ctmp_params))\n",
    "\n",
    "# pbtmp_params = list(map(id, predictortmp.base_model.parameters()))\n",
    "# print(len(pbtmp_params))\n",
    "\n",
    "# pcftmp_params = list(map(id, predictortmp.classifer.parameters()))\n",
    "# print(len(pcftmp_params))\n",
    "\n",
    "# opt_tmp = get_optimizer_adam(classifiertmp)\n",
    "# print(opt_tmp)"
   ]
  },
  {
   "cell_type": "code",
   "execution_count": null,
   "metadata": {
    "ExecuteTime": {
     "end_time": "2020-02-24T23:21:24.505317Z",
     "start_time": "2020-02-24T23:21:24.500563Z"
    }
   },
   "outputs": [],
   "source": []
  },
  {
   "cell_type": "markdown",
   "metadata": {},
   "source": [
    "<a id=\"train\"></a>\n",
    "# Training code\n"
   ]
  },
  {
   "cell_type": "code",
   "execution_count": 60,
   "metadata": {
    "ExecuteTime": {
     "end_time": "2020-03-04T05:41:46.683423Z",
     "start_time": "2020-03-04T05:41:46.621779Z"
    }
   },
   "outputs": [],
   "source": [
    "# --- Model ---\n",
    "device = torch.device(device)\n",
    "\n",
    "def schedule_lr(metrics):\n",
    "    avg_mae = metrics['loss']\n",
    "    # --- update lr ---\n",
    "    lr = scheduler.optimizer.param_groups[-1]['lr']\n",
    "    scheduler.step(avg_mae)\n",
    "    log_report.report('lr', lr)"
   ]
  },
  {
   "cell_type": "markdown",
   "metadata": {},
   "source": [
    "## prepare data"
   ]
  },
  {
   "cell_type": "code",
   "execution_count": 61,
   "metadata": {
    "ExecuteTime": {
     "end_time": "2020-03-04T05:41:46.748196Z",
     "start_time": "2020-03-04T05:41:46.686831Z"
    }
   },
   "outputs": [],
   "source": [
    "from logging import getLogger\n",
    "import numpy\n",
    "import os\n",
    "from time import perf_counter\n",
    "import argparse\n",
    "from distutils.util import strtobool\n",
    "import torch\n",
    "from numpy.random.mtrand import RandomState\n",
    "from torch.utils.data.dataloader import DataLoader\n",
    "\n",
    "import pandas as pd\n",
    "import torch\n",
    "import json\n",
    "\n",
    "\n",
    "def save_json(filepath, params):\n",
    "    with open(filepath, 'w') as f:\n",
    "        json.dump(params, f, indent=4)\n",
    "\n",
    "class DictOutputTransform:\n",
    "    def __init__(self, key, index=0):\n",
    "        self.key = key\n",
    "        self.index = index\n",
    "\n",
    "    def __call__(self, x):\n",
    "        if self.index >= 0:\n",
    "            x = x[self.index]\n",
    "        return x[self.key]\n"
   ]
  },
  {
   "cell_type": "code",
   "execution_count": 62,
   "metadata": {
    "ExecuteTime": {
     "end_time": "2020-03-04T05:41:46.816381Z",
     "start_time": "2020-03-04T05:41:46.750516Z"
    }
   },
   "outputs": [],
   "source": [
    "class LogReport:\n",
    "    def __init__(self, dirpath=None, logger=None):\n",
    "        self.dirpath = str(dirpath) if dirpath is not None else None\n",
    "        self.logger = logger or getLogger(__name__)\n",
    "\n",
    "        self.reported_dict = {}  # To handle additional parameter to monitor\n",
    "        self.history = []\n",
    "        self.start_time = perf_counter()\n",
    "\n",
    "    def report(self, key, value):\n",
    "        self.reported_dict[key] = value\n",
    "\n",
    "    def __call__(self, epoch, iteration, train_metrics, val_metrics, mode):\n",
    "        elapsed_time = perf_counter() - self.start_time\n",
    "        elem = {'epoch': epoch,\n",
    "                'iteration': iteration}\n",
    "        \n",
    "        elem.update({f'train/{key}': value\n",
    "                     for key, value in train_metrics.items()})\n",
    "        \n",
    "        elem.update({f'val/{key}': value\n",
    "             for key, value in val_metrics.items()})\n",
    "        \n",
    "        elem.update(self.reported_dict)\n",
    "        elem['elapsed_time'] = elapsed_time\n",
    "#         print(\"mode in log type:{}, val:{}\".format(type(mode), mode))\n",
    "        elem['mode'] = str(mode)\n",
    "        self.history.append(elem)\n",
    "        if self.dirpath:\n",
    "            save_json(os.path.join(self.dirpath, 'log.json'), self.history)\n",
    "            self.get_dataframe().to_csv(os.path.join(self.dirpath, 'log.csv'), index=False)\n",
    "\n",
    "        # --- print ---\n",
    "        msg = ''\n",
    "        for key, value in elem.items():\n",
    "            if key in ['iteration']:\n",
    "                # skip printing some parameters...\n",
    "                continue\n",
    "            elif isinstance(value, int):\n",
    "                msg += f'{key} {value: >6d} '\n",
    "            elif isinstance(value, str):\n",
    "                msg += f'{key} {value} '\n",
    "            else:\n",
    "                msg += f'{key} {value: 8f} '\n",
    "#         self.logger.warning(msg)\n",
    "        print(msg)\n",
    "\n",
    "        # --- Reset ---\n",
    "        self.reported_dict = {}\n",
    "\n",
    "    def get_dataframe(self):\n",
    "        df = pd.DataFrame(self.history)\n",
    "        return df"
   ]
  },
  {
   "cell_type": "code",
   "execution_count": 63,
   "metadata": {
    "ExecuteTime": {
     "end_time": "2020-03-04T05:41:46.888678Z",
     "start_time": "2020-03-04T05:41:46.822002Z"
    }
   },
   "outputs": [],
   "source": [
    "class ModelSnapshotHandler:\n",
    "    def __init__(self, model, filepath='model_{count:06}.pt',\n",
    "                 interval=1, logger=None):\n",
    "        self.model = model\n",
    "        self.filepath: str = str(filepath)\n",
    "        self.interval = interval\n",
    "        self.logger = logger or getLogger(__name__)\n",
    "        self.count = 0\n",
    "\n",
    "    def __call__(self):\n",
    "        self.count += 1\n",
    "        filepath = self.filepath.format(count=self.count)\n",
    "        torch.save(self.model.state_dict(), filepath)"
   ]
  },
  {
   "cell_type": "code",
   "execution_count": 64,
   "metadata": {
    "ExecuteTime": {
     "end_time": "2020-03-04T05:41:46.961797Z",
     "start_time": "2020-03-04T05:41:46.892827Z"
    }
   },
   "outputs": [],
   "source": [
    "import numpy as np\n",
    "import sklearn.metrics\n",
    "import torch\n",
    "\n",
    "\n",
    "def macro_recall(pred_y, y, n_grapheme=168, n_vowel=11, n_consonant=7):\n",
    "    if not isinstance(pred_y, list):\n",
    "        pred_y = torch.split(pred_y, [n_grapheme, n_vowel, n_consonant], dim=1)\n",
    "    pred_labels = [torch.argmax(py, dim=1).cpu().numpy() for py in pred_y]\n",
    "\n",
    "    y = y.cpu().numpy()\n",
    "    # pred_y = [p.cpu().numpy() for p in pred_y]\n",
    "\n",
    "    recall_grapheme = sklearn.metrics.recall_score(y[:, 0], pred_labels[0], average='macro')\n",
    "    recall_vowel = sklearn.metrics.recall_score(y[:, 1], pred_labels[1], average='macro')\n",
    "    recall_consonant = sklearn.metrics.recall_score(y[:, 2], pred_labels[2], average='macro')\n",
    "    scores = [recall_grapheme, recall_vowel, recall_consonant]\n",
    "    final_score = np.average(scores, weights=[2, 1, 1])\n",
    "    # print(f'recall: grapheme {recall_grapheme}, vowel {recall_vowel}, consonant {recall_consonant}, '\n",
    "    #       f'total {final_score}, y {y.shape}')\n",
    "    return final_score\n",
    "\n",
    "\n",
    "def calc_macro_recall(solution, submission):\n",
    "    # solution df, submission df\n",
    "    scores = []\n",
    "    for component in ['grapheme_root', 'consonant_diacritic', 'vowel_diacritic']:\n",
    "        y_true_subset = solution[solution[component] == component]['target'].values\n",
    "        y_pred_subset = submission[submission[component] == component]['target'].values\n",
    "        scores.append(sklearn.metrics.recall_score(\n",
    "            y_true_subset, y_pred_subset, average='macro'))\n",
    "    final_score = np.average(scores, weights=[2, 1, 1])\n",
    "    return final_score"
   ]
  },
  {
   "cell_type": "code",
   "execution_count": 65,
   "metadata": {
    "ExecuteTime": {
     "end_time": "2020-03-04T05:41:47.024109Z",
     "start_time": "2020-03-04T05:41:46.964147Z"
    }
   },
   "outputs": [],
   "source": [
    "loss_recall_names =  ['loss', 'loss_grapheme', 'loss_vowel', 'loss_consonant',\n",
    "            'acc_grapheme', 'acc_vowel', 'acc_consonant', 'recall']"
   ]
  },
  {
   "cell_type": "code",
   "execution_count": 66,
   "metadata": {
    "ExecuteTime": {
     "end_time": "2020-03-04T05:41:47.094784Z",
     "start_time": "2020-03-04T05:41:47.026880Z"
    }
   },
   "outputs": [],
   "source": [
    "def train_model(epoch, data_loader, log_report, n_train_call):\n",
    "    classifier.train()\n",
    "    metrics_total = dict(zip(loss_recall_names, np.zeros([len(loss_recall_names)], dtype='float32')))\n",
    "    n_tag = 0\n",
    "    for batch_idx, (img_batch, regr_batch) in enumerate(tqdm(data_loader)):\n",
    "        n_sub = img_batch.shape[0]\n",
    "        img_batch = img_batch.to(device)\n",
    "        regr_batch = regr_batch.to(device)\n",
    "        \n",
    "        optimizer.zero_grad()\n",
    "        loss, metrics, pred_y = classifier(img_batch, regr_batch)\n",
    "        \n",
    "        recall = macro_recall(pred_y, regr_batch)\n",
    "        metrics_total[\"recall\"] = (metrics_total[\"recall\"]*n_tag+recall*n_sub)/(n_tag+n_sub)\n",
    "        for key, val in metrics.items():\n",
    "                metrics_total[key] = (metrics_total[key]*n_tag+val*n_sub)/(n_tag+n_sub)\n",
    "                \n",
    "        n_tag = n_tag + n_sub\n",
    "        n_train_call[0] += n_sub\n",
    "        \n",
    "        loss.backward()\n",
    "        optimizer.step()\n",
    "        \n",
    "    return metrics_total, n_train_call"
   ]
  },
  {
   "cell_type": "code",
   "execution_count": 67,
   "metadata": {
    "ExecuteTime": {
     "end_time": "2020-03-04T05:41:47.164739Z",
     "start_time": "2020-03-04T05:41:47.097149Z"
    }
   },
   "outputs": [],
   "source": [
    "def evaluate_model(epoch, data_loader, log_report):\n",
    "    classifier.eval()\n",
    "    n_tag = 0\n",
    "    metrics_total = dict(zip(loss_recall_names, np.zeros([len(loss_recall_names)], dtype='float32')))\n",
    "    with torch.no_grad():\n",
    "        for batch_idx, (img_batch, regr_batch) in enumerate(tqdm(data_loader)):\n",
    "            n_sub = img_batch.shape[0]\n",
    "            img_batch = img_batch.to(device)\n",
    "            regr_batch = regr_batch.to(device)\n",
    "\n",
    "            _, metrics, pred_y = classifier(img_batch, regr_batch)\n",
    "        \n",
    "            recall = macro_recall(pred_y, regr_batch)\n",
    "            metrics_total[\"recall\"] = (metrics_total[\"recall\"]*n_tag+recall*n_sub)/(n_tag+n_sub)\n",
    "            for key, val in metrics.items():\n",
    "                    metrics_total[key] = (metrics_total[key]*n_tag+val*n_sub)/(n_tag+n_sub)\n",
    "\n",
    "            n_tag = n_tag + n_sub\n",
    "        \n",
    "        schedule_lr(metrics_total)   \n",
    "        return metrics_total\n"
   ]
  },
  {
   "cell_type": "markdown",
   "metadata": {},
   "source": [
    "## Train\n"
   ]
  },
  {
   "cell_type": "code",
   "execution_count": 68,
   "metadata": {
    "ExecuteTime": {
     "end_time": "2020-03-04T05:41:47.233352Z",
     "start_time": "2020-03-04T05:41:47.166848Z"
    }
   },
   "outputs": [],
   "source": [
    "def save_res(predictor, l1, epoch, val_metrics, min_val_loss, max_val_recall, outdir):\n",
    "    mode = list(\"000\")\n",
    "    if((epoch+1)%10==0):\n",
    "        model_file_name = os.path.join(outdir, 'predictor_{}_{}.pt'.format(l1,epoch))\n",
    "        torch.save(predictor.state_dict(), model_file_name)\n",
    "        mode[0] = \"1\"\n",
    "    if(val_metrics['loss']<min_val_loss):\n",
    "        min_val_loss = val_metrics['loss']\n",
    "        if mode[0] is \"0\":\n",
    "            model_file_name = os.path.join(outdir, 'predictor_min_loss.pt')\n",
    "            torch.save(predictor.state_dict(), model_file_name)\n",
    "        mode[1] = \"1\"\n",
    "    if(val_metrics['recall']>max_val_recall):\n",
    "        max_val_recall = val_metrics['recall']\n",
    "        if mode[0] is not \"1\" and mode[1] is not \"1\":\n",
    "            model_file_name = os.path.join(outdir, 'predictor_max_recall.pt')\n",
    "            torch.save(predictor.state_dict(), model_file_name)\n",
    "        mode[2] = \"1\"\n",
    "    mode = ''.join(mode)\n",
    "    return mode, min_val_loss, max_val_recall"
   ]
  },
  {
   "cell_type": "code",
   "execution_count": 69,
   "metadata": {
    "ExecuteTime": {
     "end_time": "2020-03-04T05:41:47.296774Z",
     "start_time": "2020-03-04T05:41:47.236068Z"
    }
   },
   "outputs": [],
   "source": [
    "def save_params(outdir, k, img_h, img_w, th, arch, batchsize):\n",
    "    save_json(os.path.join(outdir, 'args_{}.json'.format(k)), \n",
    "              {'image_w': img_w,\n",
    "               'image_h': img_h,\n",
    "               'threshold': th, \n",
    "               'batch_size':batchsize,\n",
    "               'arch': arch, \n",
    "               'model_name': model_name,\n",
    "               'learning_rate': LR,\n",
    "               'weight_decay': WD,\n",
    "               'dropout_ratio': DP,\n",
    "               'hidden_dim':HDIM\n",
    "              }\n",
    "             )"
   ]
  },
  {
   "cell_type": "code",
   "execution_count": 70,
   "metadata": {
    "ExecuteTime": {
     "end_time": "2020-03-04T05:41:47.361247Z",
     "start_time": "2020-03-04T05:41:47.298998Z"
    }
   },
   "outputs": [],
   "source": [
    "def save_checkpoint(epochID, model, optimizer, scheduler, accMax, lossMIN, checkpoint_path, launchTimestamp):\n",
    "    torch.save({'epoch': epochID + 1, 'state_dict': model.state_dict(), 'max_recall': accMax, 'loss_min': lossMIN,\n",
    "                            'optimizer': optimizer.state_dict(), 'scheduler':scheduler.state_dict()},\n",
    "                           checkpoint_path + '/m-checkpoint.pth.tar')\n",
    "#      launchTimestamp + '-' + str(\"%.4f\" % lossMIN) +\n",
    "    \n",
    "def load_checkpoint(model, checkpoint_path, optimizer):\n",
    "    if checkpoint_path != None:\n",
    "        checkpoint_path += '/m-checkpoint.pth.tar'\n",
    "        model_CKPT = torch.load(checkpoint_path)\n",
    "        model.load_state_dict(model_CKPT['state_dict'])\n",
    "        print('loading checkpoint!')\n",
    "        optimizer.load_state_dict(model_CKPT['optimizer'])\n",
    "        epoch = model_CKPT['epoch']\n",
    "        acc_Max = model_CKPT['max_recall']\n",
    "        loss_MIN = model_CKPT['loss_min']\n",
    "        scheduler.load_state_dict(model_CKPT['scheduler'])\n",
    "    return epoch, model, optimizer, scheduler, acc_Max, loss_MIN"
   ]
  },
  {
   "cell_type": "code",
   "execution_count": 71,
   "metadata": {
    "ExecuteTime": {
     "end_time": "2020-03-04T05:42:23.665993Z",
     "start_time": "2020-03-04T05:41:47.363622Z"
    },
    "scrolled": true
   },
   "outputs": [
    {
     "name": "stdout",
     "output_type": "stream",
     "text": [
      "\tload pretrain_file: se_resnext50_32x4d-a260b3a4.pth\n",
      "\n",
      "len(pretrain_state_dict.keys()) = 331\n",
      "len(state_dict.keys())          = 400\n",
      "loaded    = 324\n",
      "\n",
      "predictor <class '__main__.PretrainedCNN'>\n"
     ]
    },
    {
     "name": "stderr",
     "output_type": "stream",
     "text": [
      "  0%|          | 0/1674 [00:00<?, ?it/s]/home/vemlr/anaconda3/lib/python3.7/site-packages/sklearn/metrics/classification.py:1439: UndefinedMetricWarning:\n",
      "\n",
      "Recall is ill-defined and being set to 0.0 in labels with no true samples.\n",
      "\n",
      "100%|██████████| 1674/1674 [19:27<00:00,  1.43it/s]\n",
      "100%|██████████| 419/419 [01:33<00:00,  4.47it/s]\n",
      "  0%|          | 0/1674 [00:00<?, ?it/s]"
     ]
    },
    {
     "name": "stdout",
     "output_type": "stream",
     "text": [
      "epoch      0 train/loss  5.817507 train/loss_grapheme  4.125983 train/loss_vowel  1.036316 train/loss_consonant  0.655207 train/acc_grapheme  0.290766 train/acc_vowel  0.503404 train/acc_consonant  0.688154 train/recall  0.342344 val/loss  4.644138 val/loss_grapheme  3.210448 val/loss_vowel  0.900727 val/loss_consonant  0.532963 val/acc_grapheme  0.396883 val/acc_vowel  0.558430 val/acc_consonant  0.714873 val/recall  0.445012 lr  0.000500 elapsed_time  1261.792087 mode 011 \n"
     ]
    },
    {
     "name": "stderr",
     "output_type": "stream",
     "text": [
      "100%|██████████| 1674/1674 [19:19<00:00,  1.44it/s]\n",
      "100%|██████████| 419/419 [01:34<00:00,  4.45it/s]\n",
      "  0%|          | 0/1674 [00:00<?, ?it/s]"
     ]
    },
    {
     "name": "stdout",
     "output_type": "stream",
     "text": [
      "epoch      1 train/loss  4.111509 train/loss_grapheme  2.815241 train/loss_vowel  0.793629 train/loss_consonant  0.502639 train/acc_grapheme  0.425146 train/acc_vowel  0.572054 train/acc_consonant  0.722876 train/recall  0.452237 val/loss  4.085641 val/loss_grapheme  2.802285 val/loss_vowel  0.797407 val/loss_consonant  0.485949 val/acc_grapheme  0.441521 val/acc_vowel  0.579865 val/acc_consonant  0.728540 val/recall  0.481305 lr  0.000500 elapsed_time  2516.688423 mode 011 \n"
     ]
    },
    {
     "name": "stderr",
     "output_type": "stream",
     "text": [
      "100%|██████████| 1674/1674 [19:20<00:00,  1.44it/s]\n",
      "100%|██████████| 419/419 [01:34<00:00,  4.43it/s]\n",
      "  0%|          | 0/1674 [00:00<?, ?it/s]"
     ]
    },
    {
     "name": "stdout",
     "output_type": "stream",
     "text": [
      "epoch      2 train/loss  4.008943 train/loss_grapheme  2.729051 train/loss_vowel  0.785534 train/loss_consonant  0.494359 train/acc_grapheme  0.428955 train/acc_vowel  0.569016 train/acc_consonant  0.719721 train/recall  0.458174 val/loss  3.901861 val/loss_grapheme  2.663316 val/loss_vowel  0.769328 val/loss_consonant  0.469218 val/acc_grapheme  0.452226 val/acc_vowel  0.581209 val/acc_consonant  0.726598 val/recall  0.489727 lr  0.000500 elapsed_time  3773.446759 mode 011 \n"
     ]
    },
    {
     "name": "stderr",
     "output_type": "stream",
     "text": [
      "100%|██████████| 1674/1674 [19:18<00:00,  1.44it/s]\n",
      "100%|██████████| 419/419 [01:34<00:00,  4.46it/s]\n",
      "  0%|          | 0/1674 [00:00<?, ?it/s]"
     ]
    },
    {
     "name": "stdout",
     "output_type": "stream",
     "text": [
      "epoch      3 train/loss  3.668441 train/loss_grapheme  2.486217 train/loss_vowel  0.723769 train/loss_consonant  0.458455 train/acc_grapheme  0.465532 train/acc_vowel  0.596582 train/acc_consonant  0.737795 train/recall  0.492483 val/loss  4.038889 val/loss_grapheme  2.792642 val/loss_vowel  0.763539 val/loss_consonant  0.482708 val/acc_grapheme  0.444085 val/acc_vowel  0.578072 val/acc_consonant  0.722167 val/recall  0.488764 lr  0.000500 elapsed_time  5027.487043 mode 000 \n"
     ]
    },
    {
     "name": "stderr",
     "output_type": "stream",
     "text": [
      "100%|██████████| 1674/1674 [19:21<00:00,  1.44it/s]\n",
      "100%|██████████| 419/419 [01:34<00:00,  4.44it/s]\n",
      "  0%|          | 0/1674 [00:00<?, ?it/s]"
     ]
    },
    {
     "name": "stdout",
     "output_type": "stream",
     "text": [
      "epoch      4 train/loss  3.786286 train/loss_grapheme  2.564067 train/loss_vowel  0.748905 train/loss_consonant  0.473314 train/acc_grapheme  0.467686 train/acc_vowel  0.602575 train/acc_consonant  0.738810 train/recall  0.495055 val/loss  4.003320 val/loss_grapheme  2.739574 val/loss_vowel  0.780124 val/loss_consonant  0.483622 val/acc_grapheme  0.442068 val/acc_vowel  0.575408 val/acc_consonant  0.726648 val/recall  0.485777 lr  0.000500 elapsed_time  6284.759272 mode 000 \n"
     ]
    },
    {
     "name": "stderr",
     "output_type": "stream",
     "text": [
      "100%|██████████| 1674/1674 [19:19<00:00,  1.44it/s]\n",
      "100%|██████████| 419/419 [01:33<00:00,  4.46it/s]\n",
      "  0%|          | 0/1674 [00:00<?, ?it/s]"
     ]
    },
    {
     "name": "stdout",
     "output_type": "stream",
     "text": [
      "epoch      5 train/loss  3.584175 train/loss_grapheme  2.417771 train/loss_vowel  0.714982 train/loss_consonant  0.451421 train/acc_grapheme  0.456277 train/acc_vowel  0.587028 train/acc_consonant  0.729679 train/recall  0.484669 val/loss  3.952544 val/loss_grapheme  2.717582 val/loss_vowel  0.752539 val/loss_consonant  0.482423 val/acc_grapheme  0.475876 val/acc_vowel  0.600453 val/acc_consonant  0.736756 val/recall  0.515309 lr  0.000500 elapsed_time  7539.349746 mode 001 \n"
     ]
    },
    {
     "name": "stderr",
     "output_type": "stream",
     "text": [
      "100%|██████████| 1674/1674 [19:19<00:00,  1.44it/s]\n",
      "100%|██████████| 419/419 [01:34<00:00,  4.45it/s]\n",
      "  0%|          | 0/1674 [00:00<?, ?it/s]"
     ]
    },
    {
     "name": "stdout",
     "output_type": "stream",
     "text": [
      "epoch      6 train/loss  3.409793 train/loss_grapheme  2.298283 train/loss_vowel  0.679582 train/loss_consonant  0.431928 train/acc_grapheme  0.476044 train/acc_vowel  0.601648 train/acc_consonant  0.738673 train/recall  0.502892 val/loss  4.161119 val/loss_grapheme  2.868549 val/loss_vowel  0.800702 val/loss_consonant  0.491867 val/acc_grapheme  0.460839 val/acc_vowel  0.591491 val/acc_consonant  0.731926 val/recall  0.504736 lr  0.000500 elapsed_time  8794.030032 mode 000 \n"
     ]
    },
    {
     "name": "stderr",
     "output_type": "stream",
     "text": [
      "100%|██████████| 1674/1674 [19:21<00:00,  1.44it/s]\n",
      "100%|██████████| 419/419 [01:34<00:00,  4.44it/s]\n",
      "  0%|          | 0/1674 [00:00<?, ?it/s]"
     ]
    },
    {
     "name": "stdout",
     "output_type": "stream",
     "text": [
      "epoch      7 train/loss  3.545254 train/loss_grapheme  2.389377 train/loss_vowel  0.708142 train/loss_consonant  0.447736 train/acc_grapheme  0.468843 train/acc_vowel  0.593601 train/acc_consonant  0.734378 train/recall  0.496190 val/loss  3.948559 val/loss_grapheme  2.710119 val/loss_vowel  0.767029 val/loss_consonant  0.471411 val/acc_grapheme  0.424816 val/acc_vowel  0.554695 val/acc_consonant  0.710640 val/recall  0.469765 lr  0.000500 elapsed_time  10051.122626 mode 000 \n"
     ]
    },
    {
     "name": "stderr",
     "output_type": "stream",
     "text": [
      "100%|██████████| 1674/1674 [19:18<00:00,  1.44it/s]\n",
      "100%|██████████| 419/419 [01:34<00:00,  4.46it/s]\n",
      "  0%|          | 0/1674 [00:00<?, ?it/s]"
     ]
    },
    {
     "name": "stdout",
     "output_type": "stream",
     "text": [
      "epoch      8 train/loss  3.366136 train/loss_grapheme  2.262166 train/loss_vowel  0.675889 train/loss_consonant  0.428081 train/acc_grapheme  0.488828 train/acc_vowel  0.609627 train/acc_consonant  0.743359 train/recall  0.514640 val/loss  3.860681 val/loss_grapheme  2.658874 val/loss_vowel  0.742205 val/loss_consonant  0.459602 val/acc_grapheme  0.472615 val/acc_vowel  0.599009 val/acc_consonant  0.737328 val/recall  0.515679 lr  0.000500 elapsed_time  11305.082024 mode 011 \n"
     ]
    },
    {
     "name": "stderr",
     "output_type": "stream",
     "text": [
      "100%|██████████| 1674/1674 [19:16<00:00,  1.45it/s]\n",
      "100%|██████████| 419/419 [01:34<00:00,  4.44it/s]\n",
      "  0%|          | 0/1674 [00:00<?, ?it/s]"
     ]
    },
    {
     "name": "stdout",
     "output_type": "stream",
     "text": [
      "epoch      9 train/loss  3.461308 train/loss_grapheme  2.322483 train/loss_vowel  0.698605 train/loss_consonant  0.440220 train/acc_grapheme  0.492606 train/acc_vowel  0.613828 train/acc_consonant  0.746732 train/recall  0.518767 val/loss  3.856577 val/loss_grapheme  2.637961 val/loss_vowel  0.754301 val/loss_consonant  0.464316 val/acc_grapheme  0.506946 val/acc_vowel  0.632942 val/acc_consonant  0.756597 val/recall  0.547545 lr  0.000500 elapsed_time  12556.679551 mode 111 \n"
     ]
    },
    {
     "name": "stderr",
     "output_type": "stream",
     "text": [
      "100%|██████████| 1674/1674 [19:22<00:00,  1.44it/s]\n",
      "100%|██████████| 419/419 [01:34<00:00,  4.44it/s]\n",
      "  0%|          | 0/1674 [00:00<?, ?it/s]"
     ]
    },
    {
     "name": "stdout",
     "output_type": "stream",
     "text": [
      "epoch     10 train/loss  3.370978 train/loss_grapheme  2.261879 train/loss_vowel  0.677965 train/loss_consonant  0.431134 train/acc_grapheme  0.499608 train/acc_vowel  0.619766 train/acc_consonant  0.749079 train/recall  0.525757 val/loss  3.907137 val/loss_grapheme  2.657621 val/loss_vowel  0.783074 val/loss_consonant  0.466441 val/acc_grapheme  0.479660 val/acc_vowel  0.599183 val/acc_consonant  0.739146 val/recall  0.518568 lr  0.000500 elapsed_time  13814.707323 mode 000 \n"
     ]
    },
    {
     "name": "stderr",
     "output_type": "stream",
     "text": [
      "100%|██████████| 1674/1674 [19:20<00:00,  1.44it/s]\n",
      "100%|██████████| 419/419 [01:34<00:00,  4.45it/s]\n",
      "  0%|          | 0/1674 [00:00<?, ?it/s]"
     ]
    },
    {
     "name": "stdout",
     "output_type": "stream",
     "text": [
      "epoch     11 train/loss  3.335340 train/loss_grapheme  2.230380 train/loss_vowel  0.676192 train/loss_consonant  0.428769 train/acc_grapheme  0.501761 train/acc_vowel  0.620201 train/acc_consonant  0.750429 train/recall  0.527333 val/loss  3.373611 val/loss_grapheme  2.261919 val/loss_vowel  0.685177 val/loss_consonant  0.426516 val/acc_grapheme  0.485461 val/acc_vowel  0.600478 val/acc_consonant  0.736980 val/recall  0.520528 lr  0.000500 elapsed_time  15070.390602 mode 010 \n"
     ]
    },
    {
     "name": "stderr",
     "output_type": "stream",
     "text": [
      "100%|██████████| 1674/1674 [19:14<00:00,  1.45it/s]\n",
      "100%|██████████| 419/419 [01:34<00:00,  4.45it/s]\n",
      "  0%|          | 0/1674 [00:00<?, ?it/s]"
     ]
    },
    {
     "name": "stdout",
     "output_type": "stream",
     "text": [
      "epoch     12 train/loss  3.284823 train/loss_grapheme  2.197362 train/loss_vowel  0.665504 train/loss_consonant  0.421957 train/acc_grapheme  0.479922 train/acc_vowel  0.598947 train/acc_consonant  0.737222 train/recall  0.507614 val/loss  3.703979 val/loss_grapheme  2.502682 val/loss_vowel  0.737394 val/loss_consonant  0.463903 val/acc_grapheme  0.485411 val/acc_vowel  0.604212 val/acc_consonant  0.746390 val/recall  0.527931 lr  0.000500 elapsed_time  16319.903328 mode 000 \n"
     ]
    },
    {
     "name": "stderr",
     "output_type": "stream",
     "text": [
      "100%|██████████| 1674/1674 [19:17<00:00,  1.45it/s]\n",
      "100%|██████████| 419/419 [01:34<00:00,  4.45it/s]\n",
      "  0%|          | 0/1674 [00:00<?, ?it/s]"
     ]
    },
    {
     "name": "stdout",
     "output_type": "stream",
     "text": [
      "epoch     13 train/loss  3.247908 train/loss_grapheme  2.171236 train/loss_vowel  0.659823 train/loss_consonant  0.416849 train/acc_grapheme  0.502284 train/acc_vowel  0.617021 train/acc_consonant  0.750373 train/recall  0.528198 val/loss  3.603737 val/loss_grapheme  2.432366 val/loss_vowel  0.725967 val/loss_consonant  0.445404 val/acc_grapheme  0.474731 val/acc_vowel  0.593209 val/acc_consonant  0.735735 val/recall  0.513986 lr  0.000500 elapsed_time  17572.461564 mode 000 \n"
     ]
    },
    {
     "name": "stderr",
     "output_type": "stream",
     "text": [
      "100%|██████████| 1674/1674 [19:12<00:00,  1.45it/s]\n",
      "100%|██████████| 419/419 [01:33<00:00,  4.46it/s]\n",
      "  0%|          | 0/1674 [00:00<?, ?it/s]"
     ]
    },
    {
     "name": "stdout",
     "output_type": "stream",
     "text": [
      "epoch     14 train/loss  3.164323 train/loss_grapheme  2.110958 train/loss_vowel  0.643372 train/loss_consonant  0.409992 train/acc_grapheme  0.505620 train/acc_vowel  0.619112 train/acc_consonant  0.747952 train/recall  0.530493 val/loss  3.756694 val/loss_grapheme  2.560385 val/loss_vowel  0.732492 val/loss_consonant  0.463816 val/acc_grapheme  0.466366 val/acc_vowel  0.595325 val/acc_consonant  0.735162 val/recall  0.510389 lr  0.000500 elapsed_time  18820.377328 mode 000 \n"
     ]
    },
    {
     "name": "stderr",
     "output_type": "stream",
     "text": [
      "100%|██████████| 1674/1674 [19:17<00:00,  1.45it/s]\n",
      "100%|██████████| 419/419 [01:33<00:00,  4.47it/s]\n",
      "  0%|          | 0/1674 [00:00<?, ?it/s]"
     ]
    },
    {
     "name": "stdout",
     "output_type": "stream",
     "text": [
      "epoch     15 train/loss  3.157210 train/loss_grapheme  2.102867 train/loss_vowel  0.643422 train/loss_consonant  0.410921 train/acc_grapheme  0.507164 train/acc_vowel  0.622324 train/acc_consonant  0.751151 train/recall  0.531920 val/loss  3.778636 val/loss_grapheme  2.534574 val/loss_vowel  0.772302 val/loss_consonant  0.471760 val/acc_grapheme  0.456931 val/acc_vowel  0.576802 val/acc_consonant  0.724134 val/recall  0.497767 lr  0.000500 elapsed_time  20072.816482 mode 000 \n"
     ]
    },
    {
     "name": "stderr",
     "output_type": "stream",
     "text": [
      "100%|██████████| 1674/1674 [19:15<00:00,  1.45it/s]\n",
      "100%|██████████| 419/419 [01:34<00:00,  4.45it/s]\n",
      "  0%|          | 0/1674 [00:00<?, ?it/s]"
     ]
    },
    {
     "name": "stdout",
     "output_type": "stream",
     "text": [
      "epoch     16 train/loss  3.130586 train/loss_grapheme  2.086992 train/loss_vowel  0.636859 train/loss_consonant  0.406735 train/acc_grapheme  0.496409 train/acc_vowel  0.609397 train/acc_consonant  0.742332 train/recall  0.522062 val/loss  3.766671 val/loss_grapheme  2.529213 val/loss_vowel  0.763321 val/loss_consonant  0.474137 val/acc_grapheme  0.473138 val/acc_vowel  0.590495 val/acc_consonant  0.728814 val/recall  0.514030 lr  0.000500 elapsed_time  21323.752115 mode 000 \n"
     ]
    },
    {
     "name": "stderr",
     "output_type": "stream",
     "text": [
      "100%|██████████| 1674/1674 [19:16<00:00,  1.45it/s]\n",
      "100%|██████████| 419/419 [01:33<00:00,  4.46it/s]\n",
      "  0%|          | 0/1674 [00:00<?, ?it/s]"
     ]
    },
    {
     "name": "stdout",
     "output_type": "stream",
     "text": [
      "epoch     17 train/loss  3.327006 train/loss_grapheme  2.213189 train/loss_vowel  0.681909 train/loss_consonant  0.431907 train/acc_grapheme  0.488430 train/acc_vowel  0.607175 train/acc_consonant  0.739494 train/recall  0.514936 val/loss  3.400333 val/loss_grapheme  2.273147 val/loss_vowel  0.695345 val/loss_consonant  0.431840 val/acc_grapheme  0.485461 val/acc_vowel  0.601449 val/acc_consonant  0.740440 val/recall  0.524115 lr  0.000500 elapsed_time  22575.141172 mode 000 \n"
     ]
    },
    {
     "name": "stderr",
     "output_type": "stream",
     "text": [
      "100%|██████████| 1674/1674 [19:17<00:00,  1.45it/s]\n",
      "100%|██████████| 419/419 [01:34<00:00,  4.45it/s]\n",
      "  0%|          | 0/1674 [00:00<?, ?it/s]"
     ]
    },
    {
     "name": "stdout",
     "output_type": "stream",
     "text": [
      "epoch     18 train/loss  3.104538 train/loss_grapheme  2.055325 train/loss_vowel  0.640447 train/loss_consonant  0.408766 train/acc_grapheme  0.504469 train/acc_vowel  0.613722 train/acc_consonant  0.745245 train/recall  0.529619 val/loss  4.098111 val/loss_grapheme  2.754226 val/loss_vowel  0.839453 val/loss_consonant  0.504431 val/acc_grapheme  0.469055 val/acc_vowel  0.588902 val/acc_consonant  0.736980 val/recall  0.516016 lr  0.000350 elapsed_time  23828.682816 mode 000 \n"
     ]
    },
    {
     "name": "stderr",
     "output_type": "stream",
     "text": [
      "100%|██████████| 1674/1674 [19:13<00:00,  1.45it/s]\n",
      "100%|██████████| 419/419 [01:33<00:00,  4.46it/s]\n",
      "  0%|          | 0/1674 [00:00<?, ?it/s]"
     ]
    },
    {
     "name": "stdout",
     "output_type": "stream",
     "text": [
      "epoch     19 train/loss  3.018126 train/loss_grapheme  1.995162 train/loss_vowel  0.625718 train/loss_consonant  0.397246 train/acc_grapheme  0.523644 train/acc_vowel  0.632027 train/acc_consonant  0.755377 train/recall  0.547612 val/loss  3.522102 val/loss_grapheme  2.373495 val/loss_vowel  0.711479 val/loss_consonant  0.437127 val/acc_grapheme  0.490390 val/acc_vowel  0.602669 val/acc_consonant  0.738150 val/recall  0.526557 lr  0.000350 elapsed_time  25077.833693 mode 100 \n"
     ]
    },
    {
     "name": "stderr",
     "output_type": "stream",
     "text": [
      "100%|██████████| 1674/1674 [19:16<00:00,  1.45it/s]\n",
      "100%|██████████| 419/419 [01:33<00:00,  4.47it/s]\n",
      "  0%|          | 0/1674 [00:00<?, ?it/s]"
     ]
    },
    {
     "name": "stdout",
     "output_type": "stream",
     "text": [
      "epoch     20 train/loss  2.985461 train/loss_grapheme  1.975147 train/loss_vowel  0.615388 train/loss_consonant  0.394927 train/acc_grapheme  0.520047 train/acc_vowel  0.626438 train/acc_consonant  0.752595 train/recall  0.542924 val/loss  3.439776 val/loss_grapheme  2.311593 val/loss_vowel  0.694711 val/loss_consonant  0.433472 val/acc_grapheme  0.481104 val/acc_vowel  0.599856 val/acc_consonant  0.736507 val/recall  0.522961 lr  0.000350 elapsed_time  26328.844533 mode 000 \n"
     ]
    },
    {
     "name": "stderr",
     "output_type": "stream",
     "text": [
      "100%|██████████| 1674/1674 [19:12<00:00,  1.45it/s]\n",
      "100%|██████████| 419/419 [01:34<00:00,  4.45it/s]\n",
      "  0%|          | 0/1674 [00:00<?, ?it/s]"
     ]
    },
    {
     "name": "stdout",
     "output_type": "stream",
     "text": [
      "epoch     21 train/loss  3.022573 train/loss_grapheme  1.996819 train/loss_vowel  0.626515 train/loss_consonant  0.399239 train/acc_grapheme  0.526563 train/acc_vowel  0.633651 train/acc_consonant  0.757867 train/recall  0.550480 val/loss  3.495847 val/loss_grapheme  2.350418 val/loss_vowel  0.715542 val/loss_consonant  0.429888 val/acc_grapheme  0.508888 val/acc_vowel  0.616735 val/acc_consonant  0.751344 val/recall  0.547015 lr  0.000350 elapsed_time  27576.492818 mode 000 \n"
     ]
    },
    {
     "name": "stderr",
     "output_type": "stream",
     "text": [
      "100%|██████████| 1674/1674 [19:11<00:00,  1.45it/s]\n",
      "100%|██████████| 419/419 [01:33<00:00,  4.46it/s]\n",
      "  0%|          | 0/1674 [00:00<?, ?it/s]"
     ]
    },
    {
     "name": "stdout",
     "output_type": "stream",
     "text": [
      "epoch     22 train/loss  2.900607 train/loss_grapheme  1.915953 train/loss_vowel  0.600006 train/loss_consonant  0.384648 train/acc_grapheme  0.527267 train/acc_vowel  0.631965 train/acc_consonant  0.755906 train/recall  0.551266 val/loss  3.568169 val/loss_grapheme  2.413346 val/loss_vowel  0.710085 val/loss_consonant  0.444737 val/acc_grapheme  0.460242 val/acc_vowel  0.573964 val/acc_consonant  0.723785 val/recall  0.503160 lr  0.000350 elapsed_time  28823.531882 mode 000 \n"
     ]
    },
    {
     "name": "stderr",
     "output_type": "stream",
     "text": [
      "100%|██████████| 1674/1674 [19:15<00:00,  1.45it/s]\n",
      "100%|██████████| 419/419 [01:33<00:00,  4.46it/s]\n",
      "  0%|          | 0/1674 [00:00<?, ?it/s]"
     ]
    },
    {
     "name": "stdout",
     "output_type": "stream",
     "text": [
      "epoch     23 train/loss  3.050585 train/loss_grapheme  2.013410 train/loss_vowel  0.633700 train/loss_consonant  0.403474 train/acc_grapheme  0.508514 train/acc_vowel  0.617438 train/acc_consonant  0.748133 train/recall  0.533264 val/loss  3.444420 val/loss_grapheme  2.313560 val/loss_vowel  0.698476 val/loss_consonant  0.432384 val/acc_grapheme  0.462980 val/acc_vowel  0.578993 val/acc_consonant  0.721793 val/recall  0.503118 lr  0.000350 elapsed_time  30073.865194 mode 000 \n"
     ]
    },
    {
     "name": "stderr",
     "output_type": "stream",
     "text": [
      "100%|██████████| 1674/1674 [19:16<00:00,  1.45it/s]\n",
      "100%|██████████| 419/419 [01:34<00:00,  4.46it/s]\n",
      "  0%|          | 0/1674 [00:00<?, ?it/s]"
     ]
    },
    {
     "name": "stdout",
     "output_type": "stream",
     "text": [
      "epoch     24 train/loss  2.836720 train/loss_grapheme  1.865006 train/loss_vowel  0.592833 train/loss_consonant  0.378881 train/acc_grapheme  0.509224 train/acc_vowel  0.612503 train/acc_consonant  0.742606 train/recall  0.533268 val/loss  3.470640 val/loss_grapheme  2.324972 val/loss_vowel  0.709976 val/loss_consonant  0.435692 val/acc_grapheme  0.475254 val/acc_vowel  0.590346 val/acc_consonant  0.733519 val/recall  0.517656 lr  0.000245 elapsed_time  31325.730196 mode 000 \n"
     ]
    },
    {
     "name": "stderr",
     "output_type": "stream",
     "text": [
      "100%|██████████| 1674/1674 [19:16<00:00,  1.45it/s]\n",
      "100%|██████████| 419/419 [01:34<00:00,  4.45it/s]\n",
      "  0%|          | 0/1674 [00:00<?, ?it/s]"
     ]
    },
    {
     "name": "stdout",
     "output_type": "stream",
     "text": [
      "epoch     25 train/loss  2.841471 train/loss_grapheme  1.869516 train/loss_vowel  0.593456 train/loss_consonant  0.378499 train/acc_grapheme  0.541395 train/acc_vowel  0.642539 train/acc_consonant  0.761595 train/recall  0.564553 val/loss  3.621002 val/loss_grapheme  2.421698 val/loss_vowel  0.738586 val/loss_consonant  0.460718 val/acc_grapheme  0.503585 val/acc_vowel  0.614693 val/acc_consonant  0.752340 val/recall  0.544262 lr  0.000245 elapsed_time  32577.227927 mode 000 \n"
     ]
    },
    {
     "name": "stderr",
     "output_type": "stream",
     "text": [
      "100%|██████████| 1674/1674 [19:13<00:00,  1.45it/s]\n",
      "100%|██████████| 419/419 [01:34<00:00,  4.45it/s]\n",
      "  0%|          | 0/1674 [00:00<?, ?it/s]"
     ]
    },
    {
     "name": "stdout",
     "output_type": "stream",
     "text": [
      "epoch     26 train/loss  2.859524 train/loss_grapheme  1.877940 train/loss_vowel  0.598092 train/loss_consonant  0.383492 train/acc_grapheme  0.519705 train/acc_vowel  0.623008 train/acc_consonant  0.751195 train/recall  0.543653 val/loss  3.294477 val/loss_grapheme  2.198885 val/loss_vowel  0.678355 val/loss_consonant  0.417238 val/acc_grapheme  0.514813 val/acc_vowel  0.623133 val/acc_consonant  0.752315 val/recall  0.550728 lr  0.000245 elapsed_time  33825.767725 mode 011 \n"
     ]
    },
    {
     "name": "stderr",
     "output_type": "stream",
     "text": [
      "100%|██████████| 1674/1674 [19:12<00:00,  1.45it/s]\n",
      "100%|██████████| 419/419 [01:34<00:00,  4.45it/s]\n",
      "  0%|          | 0/1674 [00:00<?, ?it/s]"
     ]
    },
    {
     "name": "stdout",
     "output_type": "stream",
     "text": [
      "epoch     27 train/loss  2.825610 train/loss_grapheme  1.853452 train/loss_vowel  0.593499 train/loss_consonant  0.378659 train/acc_grapheme  0.531262 train/acc_vowel  0.629929 train/acc_consonant  0.753971 train/recall  0.554166 val/loss  3.659410 val/loss_grapheme  2.455832 val/loss_vowel  0.744571 val/loss_consonant  0.459007 val/acc_grapheme  0.486059 val/acc_vowel  0.599457 val/acc_consonant  0.743477 val/recall  0.527156 lr  0.000245 elapsed_time  35073.277455 mode 000 \n"
     ]
    },
    {
     "name": "stderr",
     "output_type": "stream",
     "text": [
      "100%|██████████| 1674/1674 [19:15<00:00,  1.45it/s]\n",
      "100%|██████████| 419/419 [01:34<00:00,  4.45it/s]\n",
      "  0%|          | 0/1674 [00:00<?, ?it/s]"
     ]
    },
    {
     "name": "stdout",
     "output_type": "stream",
     "text": [
      "epoch     28 train/loss  2.720220 train/loss_grapheme  1.787262 train/loss_vowel  0.567566 train/loss_consonant  0.365391 train/acc_grapheme  0.519555 train/acc_vowel  0.621216 train/acc_consonant  0.748749 train/recall  0.544032 val/loss  3.221286 val/loss_grapheme  2.134606 val/loss_vowel  0.673152 val/loss_consonant  0.413527 val/acc_grapheme  0.499129 val/acc_vowel  0.609839 val/acc_consonant  0.742606 val/recall  0.535672 lr  0.000245 elapsed_time  36324.197767 mode 010 \n"
     ]
    },
    {
     "name": "stderr",
     "output_type": "stream",
     "text": [
      "100%|██████████| 1674/1674 [19:15<00:00,  1.45it/s]\n",
      "100%|██████████| 419/419 [01:33<00:00,  4.48it/s]\n",
      "  0%|          | 0/1674 [00:00<?, ?it/s]"
     ]
    },
    {
     "name": "stdout",
     "output_type": "stream",
     "text": [
      "epoch     29 train/loss  2.969883 train/loss_grapheme  1.951493 train/loss_vowel  0.622666 train/loss_consonant  0.395723 train/acc_grapheme  0.509149 train/acc_vowel  0.613094 train/acc_consonant  0.747286 train/recall  0.534450 val/loss  3.231880 val/loss_grapheme  2.159319 val/loss_vowel  0.665194 val/loss_consonant  0.407367 val/acc_grapheme  0.475827 val/acc_vowel  0.586736 val/acc_consonant  0.729387 val/recall  0.515014 lr  0.000245 elapsed_time  37574.256170 mode 100 \n"
     ]
    },
    {
     "name": "stderr",
     "output_type": "stream",
     "text": [
      "100%|██████████| 1674/1674 [19:17<00:00,  1.45it/s]\n",
      "100%|██████████| 419/419 [01:33<00:00,  4.46it/s]\n",
      "  0%|          | 0/1674 [00:00<?, ?it/s]"
     ]
    },
    {
     "name": "stdout",
     "output_type": "stream",
     "text": [
      "epoch     30 train/loss  2.905440 train/loss_grapheme  1.905403 train/loss_vowel  0.609842 train/loss_consonant  0.390195 train/acc_grapheme  0.529140 train/acc_vowel  0.628641 train/acc_consonant  0.753828 train/recall  0.552125 val/loss  3.448225 val/loss_grapheme  2.304281 val/loss_vowel  0.710526 val/loss_consonant  0.433418 val/acc_grapheme  0.514315 val/acc_vowel  0.622535 val/acc_consonant  0.754556 val/recall  0.552850 lr  0.000245 elapsed_time  38827.222792 mode 001 \n"
     ]
    },
    {
     "name": "stderr",
     "output_type": "stream",
     "text": [
      "100%|██████████| 1674/1674 [19:15<00:00,  1.45it/s]\n",
      "100%|██████████| 419/419 [01:33<00:00,  4.47it/s]\n",
      "  0%|          | 0/1674 [00:00<?, ?it/s]"
     ]
    },
    {
     "name": "stdout",
     "output_type": "stream",
     "text": [
      "epoch     31 train/loss  2.811408 train/loss_grapheme  1.846168 train/loss_vowel  0.588253 train/loss_consonant  0.376987 train/acc_grapheme  0.522369 train/acc_vowel  0.622237 train/acc_consonant  0.750305 train/recall  0.546242 val/loss  3.263668 val/loss_grapheme  2.191322 val/loss_vowel  0.658607 val/loss_consonant  0.413739 val/acc_grapheme  0.492556 val/acc_vowel  0.599258 val/acc_consonant  0.741187 val/recall  0.532019 lr  0.000245 elapsed_time  40077.428549 mode 000 \n"
     ]
    },
    {
     "name": "stderr",
     "output_type": "stream",
     "text": [
      "100%|██████████| 1674/1674 [19:13<00:00,  1.45it/s]\n",
      "100%|██████████| 419/419 [01:34<00:00,  4.45it/s]\n",
      "  0%|          | 0/1674 [00:00<?, ?it/s]"
     ]
    },
    {
     "name": "stdout",
     "output_type": "stream",
     "text": [
      "epoch     32 train/loss  2.721844 train/loss_grapheme  1.789462 train/loss_vowel  0.566807 train/loss_consonant  0.365575 train/acc_grapheme  0.528399 train/acc_vowel  0.625622 train/acc_consonant  0.751736 train/recall  0.550959 val/loss  3.514016 val/loss_grapheme  2.336482 val/loss_vowel  0.729010 val/loss_consonant  0.448525 val/acc_grapheme  0.496390 val/acc_vowel  0.605781 val/acc_consonant  0.734913 val/recall  0.533818 lr  0.000245 elapsed_time  41326.596349 mode 000 \n"
     ]
    },
    {
     "name": "stderr",
     "output_type": "stream",
     "text": [
      "100%|██████████| 1674/1674 [19:18<00:00,  1.45it/s]\n",
      "100%|██████████| 419/419 [01:34<00:00,  4.45it/s]\n",
      "  0%|          | 0/1674 [00:00<?, ?it/s]"
     ]
    },
    {
     "name": "stdout",
     "output_type": "stream",
     "text": [
      "epoch     33 train/loss  2.786126 train/loss_grapheme  1.830410 train/loss_vowel  0.582313 train/loss_consonant  0.373403 train/acc_grapheme  0.527640 train/acc_vowel  0.630913 train/acc_consonant  0.756902 train/recall  0.553644 val/loss  3.123834 val/loss_grapheme  2.081895 val/loss_vowel  0.645956 val/loss_consonant  0.395983 val/acc_grapheme  0.509435 val/acc_vowel  0.619224 val/acc_consonant  0.754158 val/recall  0.547698 lr  0.000245 elapsed_time  42580.475754 mode 010 \n"
     ]
    },
    {
     "name": "stderr",
     "output_type": "stream",
     "text": [
      "100%|██████████| 1674/1674 [19:18<00:00,  1.45it/s]\n",
      "100%|██████████| 419/419 [01:33<00:00,  4.47it/s]\n",
      "  0%|          | 0/1674 [00:00<?, ?it/s]"
     ]
    },
    {
     "name": "stdout",
     "output_type": "stream",
     "text": [
      "epoch     34 train/loss  2.844824 train/loss_grapheme  1.868690 train/loss_vowel  0.595200 train/loss_consonant  0.380934 train/acc_grapheme  0.536422 train/acc_vowel  0.638008 train/acc_consonant  0.759435 train/recall  0.560228 val/loss  3.315099 val/loss_grapheme  2.192234 val/loss_vowel  0.692800 val/loss_consonant  0.430065 val/acc_grapheme  0.533932 val/acc_vowel  0.637672 val/acc_consonant  0.762000 val/recall  0.569284 lr  0.000245 elapsed_time  43833.784756 mode 001 \n"
     ]
    },
    {
     "name": "stderr",
     "output_type": "stream",
     "text": [
      "100%|██████████| 1674/1674 [19:17<00:00,  1.45it/s]\n",
      "100%|██████████| 419/419 [01:34<00:00,  4.45it/s]\n",
      "  0%|          | 0/1674 [00:00<?, ?it/s]"
     ]
    },
    {
     "name": "stdout",
     "output_type": "stream",
     "text": [
      "epoch     35 train/loss  2.655685 train/loss_grapheme  1.739342 train/loss_vowel  0.557029 train/loss_consonant  0.359314 train/acc_grapheme  0.535594 train/acc_vowel  0.634691 train/acc_consonant  0.758838 train/recall  0.559404 val/loss  3.915615 val/loss_grapheme  2.630677 val/loss_vowel  0.790850 val/loss_consonant  0.494088 val/acc_grapheme  0.456358 val/acc_vowel  0.575085 val/acc_consonant  0.722515 val/recall  0.500184 lr  0.000245 elapsed_time  45086.696248 mode 000 \n"
     ]
    },
    {
     "name": "stderr",
     "output_type": "stream",
     "text": [
      "100%|██████████| 1674/1674 [19:17<00:00,  1.45it/s]\n",
      "100%|██████████| 419/419 [01:33<00:00,  4.46it/s]\n",
      "  0%|          | 0/1674 [00:00<?, ?it/s]"
     ]
    },
    {
     "name": "stdout",
     "output_type": "stream",
     "text": [
      "epoch     36 train/loss  2.637713 train/loss_grapheme  1.732627 train/loss_vowel  0.548769 train/loss_consonant  0.356318 train/acc_grapheme  0.532345 train/acc_vowel  0.632518 train/acc_consonant  0.756118 train/recall  0.556790 val/loss  3.413048 val/loss_grapheme  2.283674 val/loss_vowel  0.700469 val/loss_consonant  0.428905 val/acc_grapheme  0.495594 val/acc_vowel  0.601549 val/acc_consonant  0.740639 val/recall  0.534307 lr  0.000245 elapsed_time  46339.023626 mode 000 \n"
     ]
    },
    {
     "name": "stderr",
     "output_type": "stream",
     "text": [
      "100%|██████████| 1674/1674 [19:17<00:00,  1.45it/s]\n",
      "100%|██████████| 419/419 [01:33<00:00,  4.47it/s]\n",
      "  0%|          | 0/1674 [00:00<?, ?it/s]"
     ]
    },
    {
     "name": "stdout",
     "output_type": "stream",
     "text": [
      "epoch     37 train/loss  2.732409 train/loss_grapheme  1.790971 train/loss_vowel  0.571678 train/loss_consonant  0.369760 train/acc_grapheme  0.522269 train/acc_vowel  0.621670 train/acc_consonant  0.750336 train/recall  0.545809 val/loss  3.216434 val/loss_grapheme  2.146288 val/loss_vowel  0.659605 val/loss_consonant  0.410542 val/acc_grapheme  0.503709 val/acc_vowel  0.615216 val/acc_consonant  0.744598 val/recall  0.539458 lr  0.000245 elapsed_time  47591.060690 mode 000 \n"
     ]
    },
    {
     "name": "stderr",
     "output_type": "stream",
     "text": [
      "100%|██████████| 1674/1674 [19:17<00:00,  1.45it/s]\n",
      "100%|██████████| 419/419 [01:34<00:00,  4.46it/s]\n",
      "  0%|          | 0/1674 [00:00<?, ?it/s]"
     ]
    },
    {
     "name": "stdout",
     "output_type": "stream",
     "text": [
      "epoch     38 train/loss  2.753160 train/loss_grapheme  1.805552 train/loss_vowel  0.573847 train/loss_consonant  0.373761 train/acc_grapheme  0.533764 train/acc_vowel  0.633197 train/acc_consonant  0.757556 train/recall  0.556915 val/loss  3.254144 val/loss_grapheme  2.158292 val/loss_vowel  0.679319 val/loss_consonant  0.416534 val/acc_grapheme  0.483942 val/acc_vowel  0.595599 val/acc_consonant  0.731652 val/recall  0.524101 lr  0.000245 elapsed_time  48844.090209 mode 000 \n"
     ]
    },
    {
     "name": "stderr",
     "output_type": "stream",
     "text": [
      "100%|██████████| 1674/1674 [19:17<00:00,  1.45it/s]\n",
      "100%|██████████| 419/419 [01:33<00:00,  4.46it/s]\n",
      "  0%|          | 0/1674 [00:00<?, ?it/s]"
     ]
    },
    {
     "name": "stdout",
     "output_type": "stream",
     "text": [
      "epoch     39 train/loss  2.635047 train/loss_grapheme  1.722643 train/loss_vowel  0.554494 train/loss_consonant  0.357910 train/acc_grapheme  0.543131 train/acc_vowel  0.636327 train/acc_consonant  0.759927 train/recall  0.564014 val/loss  3.298282 val/loss_grapheme  2.212447 val/loss_vowel  0.667319 val/loss_consonant  0.418516 val/acc_grapheme  0.476673 val/acc_vowel  0.586039 val/acc_consonant  0.725702 val/recall  0.515233 lr  0.000245 elapsed_time  50097.355759 mode 100 \n"
     ]
    },
    {
     "name": "stderr",
     "output_type": "stream",
     "text": [
      "100%|██████████| 1674/1674 [19:14<00:00,  1.45it/s]\n",
      "100%|██████████| 419/419 [01:34<00:00,  4.45it/s]\n",
      "  0%|          | 0/1674 [00:00<?, ?it/s]"
     ]
    },
    {
     "name": "stdout",
     "output_type": "stream",
     "text": [
      "epoch     40 train/loss  2.630234 train/loss_grapheme  1.722640 train/loss_vowel  0.551182 train/loss_consonant  0.356412 train/acc_grapheme  0.537430 train/acc_vowel  0.633981 train/acc_consonant  0.757438 train/recall  0.560669 val/loss  3.034564 val/loss_grapheme  2.009692 val/loss_vowel  0.632886 val/loss_consonant  0.391987 val/acc_grapheme  0.520340 val/acc_vowel  0.617955 val/acc_consonant  0.745096 val/recall  0.554473 lr  0.000171 elapsed_time  51347.460366 mode 010 \n"
     ]
    },
    {
     "name": "stderr",
     "output_type": "stream",
     "text": [
      "100%|██████████| 1674/1674 [19:14<00:00,  1.45it/s]\n",
      "100%|██████████| 419/419 [01:33<00:00,  4.47it/s]\n",
      "  0%|          | 0/1674 [00:00<?, ?it/s]"
     ]
    },
    {
     "name": "stdout",
     "output_type": "stream",
     "text": [
      "epoch     41 train/loss  2.704495 train/loss_grapheme  1.764434 train/loss_vowel  0.572041 train/loss_consonant  0.368020 train/acc_grapheme  0.529233 train/acc_vowel  0.626151 train/acc_consonant  0.752956 train/recall  0.552371 val/loss  3.477642 val/loss_grapheme  2.329964 val/loss_vowel  0.716222 val/loss_consonant  0.431456 val/acc_grapheme  0.494174 val/acc_vowel  0.603988 val/acc_consonant  0.742158 val/recall  0.533897 lr  0.000171 elapsed_time  52596.985303 mode 000 \n"
     ]
    },
    {
     "name": "stderr",
     "output_type": "stream",
     "text": [
      "100%|██████████| 1674/1674 [19:12<00:00,  1.45it/s]\n",
      "100%|██████████| 419/419 [01:33<00:00,  4.48it/s]\n",
      "  0%|          | 0/1674 [00:00<?, ?it/s]"
     ]
    },
    {
     "name": "stdout",
     "output_type": "stream",
     "text": [
      "epoch     42 train/loss  2.681597 train/loss_grapheme  1.753645 train/loss_vowel  0.564449 train/loss_consonant  0.363502 train/acc_grapheme  0.539914 train/acc_vowel  0.636010 train/acc_consonant  0.760157 train/recall  0.563048 val/loss  3.059144 val/loss_grapheme  2.029955 val/loss_vowel  0.637583 val/loss_consonant  0.391606 val/acc_grapheme  0.485361 val/acc_vowel  0.591989 val/acc_consonant  0.733220 val/recall  0.522824 lr  0.000171 elapsed_time  53843.823550 mode 000 \n"
     ]
    },
    {
     "name": "stderr",
     "output_type": "stream",
     "text": [
      "100%|██████████| 1674/1674 [19:12<00:00,  1.45it/s]\n",
      "100%|██████████| 419/419 [01:34<00:00,  4.44it/s]\n",
      "  0%|          | 0/1674 [00:00<?, ?it/s]"
     ]
    },
    {
     "name": "stdout",
     "output_type": "stream",
     "text": [
      "epoch     43 train/loss  2.678058 train/loss_grapheme  1.746837 train/loss_vowel  0.565217 train/loss_consonant  0.366004 train/acc_grapheme  0.550227 train/acc_vowel  0.646099 train/acc_consonant  0.764122 train/recall  0.572298 val/loss  3.140317 val/loss_grapheme  2.103945 val/loss_vowel  0.631128 val/loss_consonant  0.405244 val/acc_grapheme  0.503162 val/acc_vowel  0.606328 val/acc_consonant  0.737478 val/recall  0.541721 lr  0.000171 elapsed_time  55092.307613 mode 000 \n"
     ]
    },
    {
     "name": "stderr",
     "output_type": "stream",
     "text": [
      "100%|██████████| 1674/1674 [19:14<00:00,  1.45it/s]\n",
      "100%|██████████| 419/419 [01:33<00:00,  4.47it/s]\n",
      "  0%|          | 0/1674 [00:00<?, ?it/s]"
     ]
    },
    {
     "name": "stdout",
     "output_type": "stream",
     "text": [
      "epoch     44 train/loss  2.682595 train/loss_grapheme  1.755803 train/loss_vowel  0.563769 train/loss_consonant  0.363023 train/acc_grapheme  0.531505 train/acc_vowel  0.626027 train/acc_consonant  0.754021 train/recall  0.554718 val/loss  3.224158 val/loss_grapheme  2.130582 val/loss_vowel  0.676451 val/loss_consonant  0.417126 val/acc_grapheme  0.490067 val/acc_vowel  0.592337 val/acc_consonant  0.734191 val/recall  0.525594 lr  0.000171 elapsed_time  56342.064336 mode 000 \n"
     ]
    },
    {
     "name": "stderr",
     "output_type": "stream",
     "text": [
      "100%|██████████| 1674/1674 [19:13<00:00,  1.45it/s]\n",
      "100%|██████████| 419/419 [01:34<00:00,  4.45it/s]\n",
      "  0%|          | 0/1674 [00:00<?, ?it/s]"
     ]
    },
    {
     "name": "stdout",
     "output_type": "stream",
     "text": [
      "epoch     45 train/loss  2.687038 train/loss_grapheme  1.763566 train/loss_vowel  0.561066 train/loss_consonant  0.362407 train/acc_grapheme  0.519674 train/acc_vowel  0.617855 train/acc_consonant  0.746801 train/recall  0.543633 val/loss  3.806248 val/loss_grapheme  2.581680 val/loss_vowel  0.755541 val/loss_consonant  0.469027 val/acc_grapheme  0.471669 val/acc_vowel  0.581682 val/acc_consonant  0.730806 val/recall  0.514511 lr  0.000171 elapsed_time  57590.747623 mode 000 \n"
     ]
    },
    {
     "name": "stderr",
     "output_type": "stream",
     "text": [
      "100%|██████████| 1674/1674 [19:15<00:00,  1.45it/s]\n",
      "100%|██████████| 419/419 [01:33<00:00,  4.46it/s]\n",
      "  0%|          | 0/1674 [00:00<?, ?it/s]"
     ]
    },
    {
     "name": "stdout",
     "output_type": "stream",
     "text": [
      "epoch     46 train/loss  2.588996 train/loss_grapheme  1.691633 train/loss_vowel  0.544837 train/loss_consonant  0.352526 train/acc_grapheme  0.541725 train/acc_vowel  0.634821 train/acc_consonant  0.758645 train/recall  0.564534 val/loss  2.916528 val/loss_grapheme  1.935023 val/loss_vowel  0.604316 val/loss_consonant  0.377189 val/acc_grapheme  0.495818 val/acc_vowel  0.598611 val/acc_consonant  0.738299 val/recall  0.531996 lr  0.000171 elapsed_time  58841.946119 mode 010 \n"
     ]
    },
    {
     "name": "stderr",
     "output_type": "stream",
     "text": [
      "100%|██████████| 1674/1674 [19:16<00:00,  1.45it/s]\n",
      "100%|██████████| 419/419 [01:33<00:00,  4.46it/s]\n",
      "  0%|          | 0/1674 [00:00<?, ?it/s]"
     ]
    },
    {
     "name": "stdout",
     "output_type": "stream",
     "text": [
      "epoch     47 train/loss  2.640528 train/loss_grapheme  1.726684 train/loss_vowel  0.554556 train/loss_consonant  0.359288 train/acc_grapheme  0.546853 train/acc_vowel  0.640740 train/acc_consonant  0.761228 train/recall  0.568443 val/loss  3.421712 val/loss_grapheme  2.297412 val/loss_vowel  0.687403 val/loss_consonant  0.436897 val/acc_grapheme  0.490988 val/acc_vowel  0.602445 val/acc_consonant  0.740515 val/recall  0.532234 lr  0.000171 elapsed_time  60093.248915 mode 000 \n"
     ]
    },
    {
     "name": "stderr",
     "output_type": "stream",
     "text": [
      "100%|██████████| 1674/1674 [19:11<00:00,  1.45it/s]\n",
      "100%|██████████| 419/419 [01:33<00:00,  4.47it/s]\n",
      "  0%|          | 0/1674 [00:00<?, ?it/s]"
     ]
    },
    {
     "name": "stdout",
     "output_type": "stream",
     "text": [
      "epoch     48 train/loss  2.605392 train/loss_grapheme  1.696853 train/loss_vowel  0.552041 train/loss_consonant  0.356499 train/acc_grapheme  0.545577 train/acc_vowel  0.638244 train/acc_consonant  0.761807 train/recall  0.567354 val/loss  3.829950 val/loss_grapheme  2.561143 val/loss_vowel  0.779627 val/loss_consonant  0.489180 val/acc_grapheme  0.470623 val/acc_vowel  0.588005 val/acc_consonant  0.732349 val/recall  0.517323 lr  0.000171 elapsed_time  61339.819249 mode 000 \n"
     ]
    },
    {
     "name": "stderr",
     "output_type": "stream",
     "text": [
      "100%|██████████| 1674/1674 [19:13<00:00,  1.45it/s]\n",
      "100%|██████████| 419/419 [01:33<00:00,  4.46it/s]\n",
      "  0%|          | 0/1674 [00:00<?, ?it/s]"
     ]
    },
    {
     "name": "stdout",
     "output_type": "stream",
     "text": [
      "epoch     49 train/loss  2.548395 train/loss_grapheme  1.668096 train/loss_vowel  0.532675 train/loss_consonant  0.347624 train/acc_grapheme  0.523607 train/acc_vowel  0.620040 train/acc_consonant  0.748183 train/recall  0.547286 val/loss  3.244710 val/loss_grapheme  2.165757 val/loss_vowel  0.661032 val/loss_consonant  0.417921 val/acc_grapheme  0.539509 val/acc_vowel  0.640112 val/acc_consonant  0.764639 val/recall  0.574146 lr  0.000171 elapsed_time  62588.759063 mode 101 \n"
     ]
    },
    {
     "name": "stderr",
     "output_type": "stream",
     "text": [
      "100%|██████████| 1674/1674 [19:14<00:00,  1.45it/s]\n",
      "100%|██████████| 419/419 [01:34<00:00,  4.45it/s]\n",
      "  0%|          | 0/1674 [00:00<?, ?it/s]"
     ]
    },
    {
     "name": "stdout",
     "output_type": "stream",
     "text": [
      "epoch     50 train/loss  2.561730 train/loss_grapheme  1.677883 train/loss_vowel  0.536357 train/loss_consonant  0.347489 train/acc_grapheme  0.527329 train/acc_vowel  0.623214 train/acc_consonant  0.751071 train/recall  0.550667 val/loss  2.932096 val/loss_grapheme  1.932114 val/loss_vowel  0.612267 val/loss_consonant  0.387714 val/acc_grapheme  0.514414 val/acc_vowel  0.613797 val/acc_consonant  0.749627 val/recall  0.548720 lr  0.000171 elapsed_time  63838.828567 mode 000 \n"
     ]
    },
    {
     "name": "stderr",
     "output_type": "stream",
     "text": [
      "100%|██████████| 1674/1674 [19:12<00:00,  1.45it/s]\n",
      "100%|██████████| 419/419 [01:34<00:00,  4.46it/s]\n",
      "  0%|          | 0/1674 [00:00<?, ?it/s]"
     ]
    },
    {
     "name": "stdout",
     "output_type": "stream",
     "text": [
      "epoch     51 train/loss  2.675113 train/loss_grapheme  1.744792 train/loss_vowel  0.564196 train/loss_consonant  0.366125 train/acc_grapheme  0.540306 train/acc_vowel  0.635649 train/acc_consonant  0.758384 train/recall  0.562134 val/loss  3.171885 val/loss_grapheme  2.124633 val/loss_vowel  0.644022 val/loss_consonant  0.403229 val/acc_grapheme  0.511078 val/acc_vowel  0.618851 val/acc_consonant  0.750249 val/recall  0.550440 lr  0.000171 elapsed_time  65087.053928 mode 000 \n"
     ]
    },
    {
     "name": "stderr",
     "output_type": "stream",
     "text": [
      "100%|██████████| 1674/1674 [19:09<00:00,  1.46it/s]\n",
      "100%|██████████| 419/419 [01:33<00:00,  4.48it/s]\n",
      "  0%|          | 0/1674 [00:00<?, ?it/s]"
     ]
    },
    {
     "name": "stdout",
     "output_type": "stream",
     "text": [
      "epoch     52 train/loss  2.674922 train/loss_grapheme  1.751372 train/loss_vowel  0.561352 train/loss_consonant  0.362198 train/acc_grapheme  0.526103 train/acc_vowel  0.620936 train/acc_consonant  0.750871 train/recall  0.550406 val/loss  3.318227 val/loss_grapheme  2.199009 val/loss_vowel  0.692876 val/loss_consonant  0.426342 val/acc_grapheme  0.509734 val/acc_vowel  0.609316 val/acc_consonant  0.746365 val/recall  0.544096 lr  0.000171 elapsed_time  66331.788459 mode 000 \n"
     ]
    },
    {
     "name": "stderr",
     "output_type": "stream",
     "text": [
      "100%|██████████| 1674/1674 [19:14<00:00,  1.45it/s]\n",
      "100%|██████████| 419/419 [01:33<00:00,  4.46it/s]\n",
      "  0%|          | 0/1674 [00:00<?, ?it/s]"
     ]
    },
    {
     "name": "stdout",
     "output_type": "stream",
     "text": [
      "epoch     53 train/loss  2.742204 train/loss_grapheme  1.797824 train/loss_vowel  0.574102 train/loss_consonant  0.370277 train/acc_grapheme  0.522008 train/acc_vowel  0.618639 train/acc_consonant  0.749446 train/recall  0.546897 val/loss  3.050974 val/loss_grapheme  2.028265 val/loss_vowel  0.622749 val/loss_consonant  0.399960 val/acc_grapheme  0.531244 val/acc_vowel  0.630104 val/acc_consonant  0.755801 val/recall  0.567101 lr  0.000120 elapsed_time  67581.905187 mode 000 \n"
     ]
    },
    {
     "name": "stderr",
     "output_type": "stream",
     "text": [
      "100%|██████████| 1674/1674 [19:12<00:00,  1.45it/s]\n",
      "100%|██████████| 419/419 [01:34<00:00,  4.41it/s]\n",
      "  0%|          | 0/1674 [00:00<?, ?it/s]"
     ]
    },
    {
     "name": "stdout",
     "output_type": "stream",
     "text": [
      "epoch     54 train/loss  2.573734 train/loss_grapheme  1.674223 train/loss_vowel  0.545731 train/loss_consonant  0.353780 train/acc_grapheme  0.544550 train/acc_vowel  0.636458 train/acc_consonant  0.761010 train/recall  0.567624 val/loss  3.279380 val/loss_grapheme  2.174650 val/loss_vowel  0.678172 val/loss_consonant  0.426558 val/acc_grapheme  0.504307 val/acc_vowel  0.608743 val/acc_consonant  0.744125 val/recall  0.540573 lr  0.000120 elapsed_time  68831.169746 mode 000 \n"
     ]
    },
    {
     "name": "stderr",
     "output_type": "stream",
     "text": [
      "100%|██████████| 1674/1674 [19:15<00:00,  1.45it/s]\n",
      "100%|██████████| 419/419 [01:34<00:00,  4.46it/s]\n",
      "  0%|          | 0/1674 [00:00<?, ?it/s]"
     ]
    },
    {
     "name": "stdout",
     "output_type": "stream",
     "text": [
      "epoch     55 train/loss  2.482845 train/loss_grapheme  1.611837 train/loss_vowel  0.527345 train/loss_consonant  0.343663 train/acc_grapheme  0.562201 train/acc_vowel  0.650263 train/acc_consonant  0.767645 train/recall  0.582442 val/loss  2.970068 val/loss_grapheme  1.968093 val/loss_vowel  0.612927 val/loss_consonant  0.389048 val/acc_grapheme  0.525817 val/acc_vowel  0.622784 val/acc_consonant  0.747983 val/recall  0.557053 lr  0.000120 elapsed_time  70081.867139 mode 000 \n"
     ]
    },
    {
     "name": "stderr",
     "output_type": "stream",
     "text": [
      "100%|██████████| 1674/1674 [19:11<00:00,  1.45it/s]\n",
      "100%|██████████| 419/419 [01:33<00:00,  4.46it/s]\n",
      "  0%|          | 0/1674 [00:00<?, ?it/s]"
     ]
    },
    {
     "name": "stdout",
     "output_type": "stream",
     "text": [
      "epoch     56 train/loss  2.576162 train/loss_grapheme  1.674418 train/loss_vowel  0.546888 train/loss_consonant  0.354856 train/acc_grapheme  0.552069 train/acc_vowel  0.642514 train/acc_consonant  0.761987 train/recall  0.572197 val/loss  3.306038 val/loss_grapheme  2.205251 val/loss_vowel  0.676783 val/loss_consonant  0.424005 val/acc_grapheme  0.492880 val/acc_vowel  0.603590 val/acc_consonant  0.738050 val/recall  0.533147 lr  0.000120 elapsed_time  71328.419871 mode 000 \n"
     ]
    },
    {
     "name": "stderr",
     "output_type": "stream",
     "text": [
      "100%|██████████| 1674/1674 [19:14<00:00,  1.45it/s]\n",
      "100%|██████████| 419/419 [01:33<00:00,  4.47it/s]\n",
      "  0%|          | 0/1674 [00:00<?, ?it/s]"
     ]
    },
    {
     "name": "stdout",
     "output_type": "stream",
     "text": [
      "epoch     57 train/loss  2.551272 train/loss_grapheme  1.660240 train/loss_vowel  0.540055 train/loss_consonant  0.350977 train/acc_grapheme  0.558467 train/acc_vowel  0.646902 train/acc_consonant  0.764551 train/recall  0.578923 val/loss  3.080528 val/loss_grapheme  2.061355 val/loss_vowel  0.625794 val/loss_consonant  0.393379 val/acc_grapheme  0.489170 val/acc_vowel  0.598412 val/acc_consonant  0.728864 val/recall  0.527812 lr  0.000120 elapsed_time  72577.772096 mode 000 \n"
     ]
    },
    {
     "name": "stderr",
     "output_type": "stream",
     "text": [
      "100%|██████████| 1674/1674 [19:12<00:00,  1.45it/s]\n",
      "100%|██████████| 419/419 [01:34<00:00,  4.43it/s]\n",
      "  0%|          | 0/1674 [00:00<?, ?it/s]"
     ]
    },
    {
     "name": "stdout",
     "output_type": "stream",
     "text": [
      "epoch     58 train/loss  2.576118 train/loss_grapheme  1.680834 train/loss_vowel  0.541909 train/loss_consonant  0.353375 train/acc_grapheme  0.529781 train/acc_vowel  0.625436 train/acc_consonant  0.750691 train/recall  0.553529 val/loss  3.100988 val/loss_grapheme  2.054551 val/loss_vowel  0.641417 val/loss_consonant  0.405020 val/acc_grapheme  0.505104 val/acc_vowel  0.606353 val/acc_consonant  0.740415 val/recall  0.540650 lr  0.000120 elapsed_time  73826.263665 mode 000 \n"
     ]
    },
    {
     "name": "stderr",
     "output_type": "stream",
     "text": [
      "100%|██████████| 1674/1674 [19:15<00:00,  1.45it/s]\n",
      "100%|██████████| 419/419 [01:33<00:00,  4.46it/s]\n",
      "  0%|          | 0/1674 [00:00<?, ?it/s]"
     ]
    },
    {
     "name": "stdout",
     "output_type": "stream",
     "text": [
      "epoch     59 train/loss  2.413681 train/loss_grapheme  1.564475 train/loss_vowel  0.513871 train/loss_consonant  0.335335 train/acc_grapheme  0.539080 train/acc_vowel  0.627975 train/acc_consonant  0.752944 train/recall  0.562213 val/loss  3.090666 val/loss_grapheme  2.063718 val/loss_vowel  0.627493 val/loss_consonant  0.399454 val/acc_grapheme  0.477370 val/acc_vowel  0.592487 val/acc_consonant  0.730582 val/recall  0.519786 lr  0.000084 elapsed_time  75077.259828 mode 100 \n"
     ]
    },
    {
     "name": "stderr",
     "output_type": "stream",
     "text": [
      "100%|██████████| 1674/1674 [19:11<00:00,  1.45it/s]\n",
      "100%|██████████| 419/419 [01:34<00:00,  4.45it/s]\n",
      "  0%|          | 0/1674 [00:00<?, ?it/s]"
     ]
    },
    {
     "name": "stdout",
     "output_type": "stream",
     "text": [
      "epoch     60 train/loss  2.495635 train/loss_grapheme  1.621213 train/loss_vowel  0.528759 train/loss_consonant  0.345663 train/acc_grapheme  0.552691 train/acc_vowel  0.641524 train/acc_consonant  0.763157 train/recall  0.573727 val/loss  3.273806 val/loss_grapheme  2.189813 val/loss_vowel  0.667349 val/loss_consonant  0.416645 val/acc_grapheme  0.497187 val/acc_vowel  0.605034 val/acc_consonant  0.744100 val/recall  0.538081 lr  0.000084 elapsed_time  76323.820048 mode 000 \n"
     ]
    },
    {
     "name": "stderr",
     "output_type": "stream",
     "text": [
      "100%|██████████| 1674/1674 [19:14<00:00,  1.45it/s]\n",
      "100%|██████████| 419/419 [01:34<00:00,  4.45it/s]\n",
      "  0%|          | 0/1674 [00:00<?, ?it/s]"
     ]
    },
    {
     "name": "stdout",
     "output_type": "stream",
     "text": [
      "epoch     61 train/loss  2.454585 train/loss_grapheme  1.593323 train/loss_vowel  0.520122 train/loss_consonant  0.341141 train/acc_grapheme  0.538650 train/acc_vowel  0.629027 train/acc_consonant  0.752838 train/recall  0.562031 val/loss  3.199305 val/loss_grapheme  2.122332 val/loss_vowel  0.658490 val/loss_consonant  0.418484 val/acc_grapheme  0.499104 val/acc_vowel  0.603465 val/acc_consonant  0.738971 val/recall  0.535290 lr  0.000084 elapsed_time  77574.048108 mode 000 \n"
     ]
    },
    {
     "name": "stderr",
     "output_type": "stream",
     "text": [
      "100%|██████████| 1674/1674 [19:13<00:00,  1.45it/s]\n",
      "100%|██████████| 419/419 [01:33<00:00,  4.46it/s]\n",
      "  0%|          | 0/1674 [00:00<?, ?it/s]"
     ]
    },
    {
     "name": "stdout",
     "output_type": "stream",
     "text": [
      "epoch     62 train/loss  2.454421 train/loss_grapheme  1.595652 train/loss_vowel  0.520745 train/loss_consonant  0.338024 train/acc_grapheme  0.537517 train/acc_vowel  0.625143 train/acc_consonant  0.754058 train/recall  0.560024 val/loss  2.921615 val/loss_grapheme  1.941277 val/loss_vowel  0.601280 val/loss_consonant  0.379057 val/acc_grapheme  0.484117 val/acc_vowel  0.589375 val/acc_consonant  0.729163 val/recall  0.521642 lr  0.000084 elapsed_time  78822.525516 mode 000 \n"
     ]
    },
    {
     "name": "stderr",
     "output_type": "stream",
     "text": [
      "100%|██████████| 1674/1674 [19:15<00:00,  1.45it/s]\n",
      "100%|██████████| 419/419 [01:34<00:00,  4.42it/s]\n",
      "  0%|          | 0/1674 [00:00<?, ?it/s]"
     ]
    },
    {
     "name": "stdout",
     "output_type": "stream",
     "text": [
      "epoch     63 train/loss  2.482701 train/loss_grapheme  1.612269 train/loss_vowel  0.526173 train/loss_consonant  0.344258 train/acc_grapheme  0.539814 train/acc_vowel  0.631131 train/acc_consonant  0.755900 train/recall  0.562836 val/loss  3.543610 val/loss_grapheme  2.354729 val/loss_vowel  0.727116 val/loss_consonant  0.461764 val/acc_grapheme  0.493154 val/acc_vowel  0.604411 val/acc_consonant  0.738175 val/recall  0.533155 lr  0.000084 elapsed_time  80073.723504 mode 000 \n"
     ]
    },
    {
     "name": "stderr",
     "output_type": "stream",
     "text": [
      "  0%|          | 7/1674 [00:06<24:59,  1.11it/s]\n",
      "Traceback (most recent call last):\n",
      "  File \"/home/vemlr/anaconda3/lib/python3.7/multiprocessing/queues.py\", line 242, in _feed\n",
      "    send_bytes(obj)\n",
      "  File \"/home/vemlr/anaconda3/lib/python3.7/multiprocessing/connection.py\", line 200, in send_bytes\n",
      "    self._send_bytes(m[offset:offset + size])\n",
      "  File \"/home/vemlr/anaconda3/lib/python3.7/multiprocessing/connection.py\", line 404, in _send_bytes\n",
      "    self._send(header + buf)\n",
      "  File \"/home/vemlr/anaconda3/lib/python3.7/multiprocessing/connection.py\", line 368, in _send\n",
      "    n = write(self._handle, buf)\n",
      "BrokenPipeError: [Errno 32] Broken pipe\n",
      "Traceback (most recent call last):\n",
      "  File \"/home/vemlr/anaconda3/lib/python3.7/multiprocessing/queues.py\", line 242, in _feed\n",
      "    send_bytes(obj)\n",
      "  File \"/home/vemlr/anaconda3/lib/python3.7/multiprocessing/connection.py\", line 200, in send_bytes\n",
      "    self._send_bytes(m[offset:offset + size])\n",
      "  File \"/home/vemlr/anaconda3/lib/python3.7/multiprocessing/connection.py\", line 404, in _send_bytes\n",
      "    self._send(header + buf)\n",
      "  File \"/home/vemlr/anaconda3/lib/python3.7/multiprocessing/connection.py\", line 368, in _send\n",
      "    n = write(self._handle, buf)\n",
      "BrokenPipeError: [Errno 32] Broken pipe\n",
      "Traceback (most recent call last):\n",
      "  File \"/home/vemlr/anaconda3/lib/python3.7/multiprocessing/queues.py\", line 242, in _feed\n",
      "    send_bytes(obj)\n",
      "  File \"/home/vemlr/anaconda3/lib/python3.7/multiprocessing/connection.py\", line 200, in send_bytes\n",
      "    self._send_bytes(m[offset:offset + size])\n",
      "  File \"/home/vemlr/anaconda3/lib/python3.7/multiprocessing/connection.py\", line 404, in _send_bytes\n",
      "    self._send(header + buf)\n",
      "  File \"/home/vemlr/anaconda3/lib/python3.7/multiprocessing/connection.py\", line 368, in _send\n",
      "    n = write(self._handle, buf)\n",
      "BrokenPipeError: [Errno 32] Broken pipe\n",
      "Traceback (most recent call last):\n",
      "  File \"/home/vemlr/anaconda3/lib/python3.7/multiprocessing/queues.py\", line 242, in _feed\n",
      "    send_bytes(obj)\n",
      "  File \"/home/vemlr/anaconda3/lib/python3.7/multiprocessing/connection.py\", line 200, in send_bytes\n",
      "    self._send_bytes(m[offset:offset + size])\n",
      "  File \"/home/vemlr/anaconda3/lib/python3.7/multiprocessing/connection.py\", line 404, in _send_bytes\n",
      "    self._send(header + buf)\n",
      "  File \"/home/vemlr/anaconda3/lib/python3.7/multiprocessing/connection.py\", line 368, in _send\n",
      "    n = write(self._handle, buf)\n",
      "BrokenPipeError: [Errno 32] Broken pipe\n"
     ]
    },
    {
     "ename": "KeyboardInterrupt",
     "evalue": "",
     "output_type": "error",
     "traceback": [
      "\u001b[0;31m---------------------------------------------------------------------------\u001b[0m",
      "\u001b[0;31mKeyboardInterrupt\u001b[0m                         Traceback (most recent call last)",
      "\u001b[0;32m<ipython-input-71-044d7c8b11cd>\u001b[0m in \u001b[0;36m<module>\u001b[0;34m\u001b[0m\n\u001b[1;32m     49\u001b[0m         \u001b[0mtorch\u001b[0m\u001b[0;34m.\u001b[0m\u001b[0mcuda\u001b[0m\u001b[0;34m.\u001b[0m\u001b[0mempty_cache\u001b[0m\u001b[0;34m(\u001b[0m\u001b[0;34m)\u001b[0m\u001b[0;34m\u001b[0m\u001b[0;34m\u001b[0m\u001b[0m\n\u001b[1;32m     50\u001b[0m         \u001b[0mgc\u001b[0m\u001b[0;34m.\u001b[0m\u001b[0mcollect\u001b[0m\u001b[0;34m(\u001b[0m\u001b[0;34m)\u001b[0m\u001b[0;34m\u001b[0m\u001b[0;34m\u001b[0m\u001b[0m\n\u001b[0;32m---> 51\u001b[0;31m         \u001b[0mtrain_metrics\u001b[0m\u001b[0;34m,\u001b[0m \u001b[0mn_train_call\u001b[0m \u001b[0;34m=\u001b[0m \u001b[0mtrain_model\u001b[0m\u001b[0;34m(\u001b[0m\u001b[0mepoch\u001b[0m\u001b[0;34m,\u001b[0m \u001b[0mtrain_loader\u001b[0m\u001b[0;34m,\u001b[0m \u001b[0mlog_report\u001b[0m\u001b[0;34m,\u001b[0m \u001b[0mn_train_call\u001b[0m\u001b[0;34m)\u001b[0m\u001b[0;34m\u001b[0m\u001b[0;34m\u001b[0m\u001b[0m\n\u001b[0m\u001b[1;32m     52\u001b[0m         \u001b[0mval_metrics\u001b[0m \u001b[0;34m=\u001b[0m \u001b[0mevaluate_model\u001b[0m\u001b[0;34m(\u001b[0m\u001b[0mepoch\u001b[0m\u001b[0;34m,\u001b[0m \u001b[0mvalid_loader\u001b[0m\u001b[0;34m,\u001b[0m \u001b[0mlog_report\u001b[0m\u001b[0;34m)\u001b[0m\u001b[0;34m\u001b[0m\u001b[0;34m\u001b[0m\u001b[0m\n\u001b[1;32m     53\u001b[0m         mode, min_val_loss, max_val_recall = save_res(predictor, k, epoch, val_metrics, min_val_loss, \n",
      "\u001b[0;32m<ipython-input-66-ec467b68c965>\u001b[0m in \u001b[0;36mtrain_model\u001b[0;34m(epoch, data_loader, log_report, n_train_call)\u001b[0m\n\u001b[1;32m      9\u001b[0m \u001b[0;34m\u001b[0m\u001b[0m\n\u001b[1;32m     10\u001b[0m         \u001b[0moptimizer\u001b[0m\u001b[0;34m.\u001b[0m\u001b[0mzero_grad\u001b[0m\u001b[0;34m(\u001b[0m\u001b[0;34m)\u001b[0m\u001b[0;34m\u001b[0m\u001b[0;34m\u001b[0m\u001b[0m\n\u001b[0;32m---> 11\u001b[0;31m         \u001b[0mloss\u001b[0m\u001b[0;34m,\u001b[0m \u001b[0mmetrics\u001b[0m\u001b[0;34m,\u001b[0m \u001b[0mpred_y\u001b[0m \u001b[0;34m=\u001b[0m \u001b[0mclassifier\u001b[0m\u001b[0;34m(\u001b[0m\u001b[0mimg_batch\u001b[0m\u001b[0;34m,\u001b[0m \u001b[0mregr_batch\u001b[0m\u001b[0;34m)\u001b[0m\u001b[0;34m\u001b[0m\u001b[0;34m\u001b[0m\u001b[0m\n\u001b[0m\u001b[1;32m     12\u001b[0m \u001b[0;34m\u001b[0m\u001b[0m\n\u001b[1;32m     13\u001b[0m         \u001b[0mrecall\u001b[0m \u001b[0;34m=\u001b[0m \u001b[0mmacro_recall\u001b[0m\u001b[0;34m(\u001b[0m\u001b[0mpred_y\u001b[0m\u001b[0;34m,\u001b[0m \u001b[0mregr_batch\u001b[0m\u001b[0;34m)\u001b[0m\u001b[0;34m\u001b[0m\u001b[0;34m\u001b[0m\u001b[0m\n",
      "\u001b[0;32m~/anaconda3/lib/python3.7/site-packages/torch/nn/modules/module.py\u001b[0m in \u001b[0;36m__call__\u001b[0;34m(self, *input, **kwargs)\u001b[0m\n\u001b[1;32m    487\u001b[0m             \u001b[0mresult\u001b[0m \u001b[0;34m=\u001b[0m \u001b[0mself\u001b[0m\u001b[0;34m.\u001b[0m\u001b[0m_slow_forward\u001b[0m\u001b[0;34m(\u001b[0m\u001b[0;34m*\u001b[0m\u001b[0minput\u001b[0m\u001b[0;34m,\u001b[0m \u001b[0;34m**\u001b[0m\u001b[0mkwargs\u001b[0m\u001b[0;34m)\u001b[0m\u001b[0;34m\u001b[0m\u001b[0;34m\u001b[0m\u001b[0m\n\u001b[1;32m    488\u001b[0m         \u001b[0;32melse\u001b[0m\u001b[0;34m:\u001b[0m\u001b[0;34m\u001b[0m\u001b[0;34m\u001b[0m\u001b[0m\n\u001b[0;32m--> 489\u001b[0;31m             \u001b[0mresult\u001b[0m \u001b[0;34m=\u001b[0m \u001b[0mself\u001b[0m\u001b[0;34m.\u001b[0m\u001b[0mforward\u001b[0m\u001b[0;34m(\u001b[0m\u001b[0;34m*\u001b[0m\u001b[0minput\u001b[0m\u001b[0;34m,\u001b[0m \u001b[0;34m**\u001b[0m\u001b[0mkwargs\u001b[0m\u001b[0;34m)\u001b[0m\u001b[0;34m\u001b[0m\u001b[0;34m\u001b[0m\u001b[0m\n\u001b[0m\u001b[1;32m    490\u001b[0m         \u001b[0;32mfor\u001b[0m \u001b[0mhook\u001b[0m \u001b[0;32min\u001b[0m \u001b[0mself\u001b[0m\u001b[0;34m.\u001b[0m\u001b[0m_forward_hooks\u001b[0m\u001b[0;34m.\u001b[0m\u001b[0mvalues\u001b[0m\u001b[0;34m(\u001b[0m\u001b[0;34m)\u001b[0m\u001b[0;34m:\u001b[0m\u001b[0;34m\u001b[0m\u001b[0;34m\u001b[0m\u001b[0m\n\u001b[1;32m    491\u001b[0m             \u001b[0mhook_result\u001b[0m \u001b[0;34m=\u001b[0m \u001b[0mhook\u001b[0m\u001b[0;34m(\u001b[0m\u001b[0mself\u001b[0m\u001b[0;34m,\u001b[0m \u001b[0minput\u001b[0m\u001b[0;34m,\u001b[0m \u001b[0mresult\u001b[0m\u001b[0;34m)\u001b[0m\u001b[0;34m\u001b[0m\u001b[0;34m\u001b[0m\u001b[0m\n",
      "\u001b[0;32m<ipython-input-58-dbed68e9f656>\u001b[0m in \u001b[0;36mforward\u001b[0;34m(self, x, y)\u001b[0m\n\u001b[1;32m     47\u001b[0m         \u001b[0mloss\u001b[0m \u001b[0;34m=\u001b[0m \u001b[0mloss_grapheme\u001b[0m \u001b[0;34m+\u001b[0m \u001b[0mloss_vowel\u001b[0m \u001b[0;34m+\u001b[0m \u001b[0mloss_consonant\u001b[0m\u001b[0;34m\u001b[0m\u001b[0;34m\u001b[0m\u001b[0m\n\u001b[1;32m     48\u001b[0m         metrics = {\n\u001b[0;32m---> 49\u001b[0;31m             \u001b[0;34m'loss'\u001b[0m\u001b[0;34m:\u001b[0m \u001b[0mloss\u001b[0m\u001b[0;34m.\u001b[0m\u001b[0mitem\u001b[0m\u001b[0;34m(\u001b[0m\u001b[0;34m)\u001b[0m\u001b[0;34m,\u001b[0m\u001b[0;34m\u001b[0m\u001b[0;34m\u001b[0m\u001b[0m\n\u001b[0m\u001b[1;32m     50\u001b[0m             \u001b[0;34m'loss_grapheme'\u001b[0m\u001b[0;34m:\u001b[0m \u001b[0mloss_grapheme\u001b[0m\u001b[0;34m.\u001b[0m\u001b[0mitem\u001b[0m\u001b[0;34m(\u001b[0m\u001b[0;34m)\u001b[0m\u001b[0;34m,\u001b[0m\u001b[0;34m\u001b[0m\u001b[0;34m\u001b[0m\u001b[0m\n\u001b[1;32m     51\u001b[0m             \u001b[0;34m'loss_vowel'\u001b[0m\u001b[0;34m:\u001b[0m \u001b[0mloss_vowel\u001b[0m\u001b[0;34m.\u001b[0m\u001b[0mitem\u001b[0m\u001b[0;34m(\u001b[0m\u001b[0;34m)\u001b[0m\u001b[0;34m,\u001b[0m\u001b[0;34m\u001b[0m\u001b[0;34m\u001b[0m\u001b[0m\n",
      "\u001b[0;31mKeyboardInterrupt\u001b[0m: "
     ]
    }
   ],
   "source": [
    "import gc\n",
    "\n",
    "# train_labels_total = train[['grapheme_root', 'vowel_diacritic', 'consonant_diacritic']].values\n",
    "n_epochs = 150\n",
    "kfold = 5\n",
    "if not os.path.exists(outdir):\n",
    "    os.mkdir(outdir)\n",
    "for k in range(kfold):\n",
    "    # Set pretrained='imagenet' to download imagenet pretrained model...\n",
    "    predictor = PretrainedCNN(in_channels=1, num_class=[n_grapheme, n_vowel, n_consonant], model_name=model_name, pretrained=\"imagenet\", dropout_ratio=DP)\n",
    "    predictor.load_pretrain(is_print=False)\n",
    "    print('predictor', type(predictor))\n",
    "    start_time = perf_counter()\n",
    "    classifier = BengaliClassifier(predictor).to(device)\n",
    "    # --- Training setting ---\n",
    "    optimizer = torch.optim.Adam(classifier.parameters(), lr=LR, weight_decay=WD)\n",
    "#     optimizer = get_optimizer_adam(classifier, learning_rate=LR, weight_decay=WD)\n",
    "\n",
    "    scheduler = torch.optim.lr_scheduler.ReduceLROnPlateau(\n",
    "        optimizer, mode='min', factor=0.7, patience=5, min_lr=1e-7)\n",
    "\n",
    "    sub_dir = os.path.join(outdir,\"{}_fold\".format(k))\n",
    "    if not os.path.exists(sub_dir):\n",
    "        os.mkdir(sub_dir)\n",
    "    log_report = LogReport(dirpath=sub_dir)\n",
    "    n_train_call = [0]\n",
    "    min_val_loss = 1e10\n",
    "    max_val_recall = 0\n",
    "    val_indexes = train[train['fold']==k].index.tolist()\n",
    "    train_indexes = train[train['fold']!=k].index.tolist()\n",
    "    save_params(outdir, k, HEIGHT_NEW, WIDTH_NEW, TH, arch, batch_size)\n",
    "    if debug:\n",
    "        val_indexes = val_indexes[:100]\n",
    "        train_indexes = train_indexes[:200]\n",
    "        print(\"val_indexes:\", val_indexes[:5])\n",
    "        print(\"train_indexes:\", train_indexes[:5])\n",
    "        \n",
    "    train_dataset = BengaliAIDataset(\n",
    "        train_images, train_labels, transform=train_auto_transform,\n",
    "        indices=train_indexes)\n",
    "    valid_dataset = BengaliAIDataset(\n",
    "        train_images, train_labels, transform=AutoTransform(crop=False, size=(WIDTH_NEW, HEIGHT_NEW)),\n",
    "        indices=val_indexes)\n",
    "    \n",
    "    train_loader = DataLoader(train_dataset, batch_size=batch_size, shuffle=True, num_workers=4)\n",
    "    valid_loader = DataLoader(valid_dataset, batch_size=batch_size, shuffle=False, num_workers=0)\n",
    "    \n",
    "    for epoch in range(n_epochs):\n",
    "        torch.cuda.empty_cache()\n",
    "        gc.collect()\n",
    "        train_metrics, n_train_call = train_model(epoch, train_loader, log_report, n_train_call)\n",
    "        val_metrics = evaluate_model(epoch, valid_loader, log_report)\n",
    "        mode, min_val_loss, max_val_recall = save_res(predictor, k, epoch, val_metrics, min_val_loss, \n",
    "                                                      max_val_recall, sub_dir)\n",
    "        save_checkpoint(epoch, predictor, optimizer, scheduler, max_val_recall, min_val_loss, sub_dir, \n",
    "                                str(int(perf_counter()- start_time)))\n",
    "#         print(\"mode type:{}, mode val:{}\".format(type(mode), mode))\n",
    "#         print(\"min_val_loss = \", min_val_loss)\n",
    "#         print(\"max_val_recall = \", max_val_recall)\n",
    "        log_report(epoch, n_train_call[0], train_metrics, val_metrics, mode)\n",
    "    \n",
    "    model_file_name = os.path.join(sub_dir, 'predictor_{}_{}.pt'.format(k,epoch))\n",
    "    torch.save(predictor.state_dict(), model_file_name)"
   ]
  },
  {
   "cell_type": "code",
   "execution_count": null,
   "metadata": {
    "ExecuteTime": {
     "end_time": "2020-03-04T05:42:23.670375Z",
     "start_time": "2020-03-04T05:41:46.411Z"
    }
   },
   "outputs": [],
   "source": [
    "# print(sub_dir)\n",
    "# checkpoint_path = sub_dir\n",
    "# model =  PretrainedCNN(in_channels=1, out_dim=n_total, model_name=model_name, pretrained=None)\n",
    "# epoch, model, optimizer, scheduler, acc_Max, loss_MIN = load_checkpoint(model, checkpoint_path, optimizer)"
   ]
  },
  {
   "cell_type": "code",
   "execution_count": null,
   "metadata": {
    "ExecuteTime": {
     "end_time": "2020-03-01T03:34:04.243487Z",
     "start_time": "2020-03-01T03:34:04.227590Z"
    }
   },
   "outputs": [],
   "source": []
  },
  {
   "cell_type": "code",
   "execution_count": null,
   "metadata": {},
   "outputs": [],
   "source": []
  },
  {
   "cell_type": "code",
   "execution_count": null,
   "metadata": {},
   "outputs": [],
   "source": []
  },
  {
   "cell_type": "code",
   "execution_count": null,
   "metadata": {
    "ExecuteTime": {
     "end_time": "2020-03-04T05:42:23.671832Z",
     "start_time": "2020-03-04T05:41:46.420Z"
    }
   },
   "outputs": [],
   "source": [
    "a = torch.Tensor([0.5])\n",
    "print(a)\n",
    "if isinstance(a, torch.Tensor):\n",
    "    print(a.item())"
   ]
  },
  {
   "cell_type": "code",
   "execution_count": null,
   "metadata": {
    "ExecuteTime": {
     "end_time": "2020-03-04T05:42:23.673117Z",
     "start_time": "2020-03-04T05:41:46.423Z"
    }
   },
   "outputs": [],
   "source": [
    "train_history = log_report.get_dataframe()\n",
    "train_history.to_csv(outdir / 'log.csv', index=False)\n",
    "\n",
    "train_history"
   ]
  },
  {
   "cell_type": "markdown",
   "metadata": {},
   "source": [
    "<a id=\"pred\"></a>\n",
    "# Prediction\n",
    "\n",
    "Please refer **[Bengali: SEResNeXt prediction with pytorch](https://www.kaggle.com/corochann/bengali-seresnext-prediction-with-pytorch)** for the prediction with trained model and submission for this competition!!!"
   ]
  },
  {
   "cell_type": "markdown",
   "metadata": {},
   "source": [
    "<a id=\"ref\"></a>\n",
    "# Reference and further reading\n",
    "\n",
    "#### Kernel\n",
    "\n",
    "**[Bangali.AI super fast data loading with feather](https://www.kaggle.com/corochann/bangali-ai-super-fast-data-loading-with-feather)**<br>\n",
    "Simple example of how use feather format data to load data faster.\n",
    "\n",
    "**[Bengali: albumentations data augmentation tutorial](https://www.kaggle.com/corochann/bengali-albumentations-data-augmentation-tutorial)**<br>\n",
    "Tutorial for Data augmentations with albumentations library.\n",
    "\n",
    "**[Bengali: SEResNeXt prediction with pytorch](https://www.kaggle.com/corochann/bengali-seresnext-prediction-with-pytorch)**<br>\n",
    "**Prediction code of this kernel's trained model, please check this too!**\n",
    "\n",
    "**[Deep learning - CNN with Chainer: LB 0.99700](https://www.kaggle.com/corochann/deep-learning-cnn-with-chainer-lb-0-99700)**<br>\n",
    "Data augmentation idea is based on this kernel, which achieves quite high accuracy on MNIST task.\n",
    "\n",
    "#### Dataset\n",
    "**[bengaliai-cv19-feather](https://www.kaggle.com/corochann/bengaliaicv19feather)**<br>\n",
    "Feather format dataset\n",
    "\n",
    "**[bengaliaicv19_seresnext101_32x4d](https://www.kaggle.com/corochann/bengaliaicv19-seresnext101-32x4d)**<br>\n",
    "**Trained model weight with this kernel(v1)**\n",
    "\n",
    "**[bengaliaicv19_trainedmodels](https://www.kaggle.com/corochann/bengaliaicv19-trainedmodels)**<br>\n",
    "**Trained model weight with this kernel(v2~)**\n",
    "\n",
    "#### Library\n",
    "**https://github.com/pytorch/ignite**\n",
    "\n",
    "Used for training code abstraction. The advantage of abstracting the code is that we can re-use implemented handler class for other training, other competition.<br>\n",
    "You don't need to write code for saving models, logging training loss/metric, show progressbar etc.\n",
    "\n",
    "**https://github.com/Cadene/pretrained-models.pytorch**\n",
    "\n",
    "Many pretrained models are supported by this library, and we can switch to use them easily.\n",
    "Other model may perform better in this competition.\n",
    "\n",
    "**https://github.com/albumentations-team/albumentations**\n",
    "\n",
    "fast image augmentation library and easy to use wrapper around other libraries https://arxiv.org/abs/1809.06839<br>\n",
    "I could not show all the methods, you can find more methods in the library, check yourself!"
   ]
  },
  {
   "cell_type": "markdown",
   "metadata": {},
   "source": [
    "<h3 style=\"color:red\">If this kernel helps you, please upvote to keep me motivated :)<br>Thanks!</h3>"
   ]
  },
  {
   "cell_type": "code",
   "execution_count": null,
   "metadata": {
    "ExecuteTime": {
     "end_time": "2020-03-04T05:42:23.674480Z",
     "start_time": "2020-03-04T05:41:46.428Z"
    }
   },
   "outputs": [],
   "source": [
    "print(optimizer)"
   ]
  },
  {
   "cell_type": "code",
   "execution_count": null,
   "metadata": {},
   "outputs": [],
   "source": []
  }
 ],
 "metadata": {
  "kernelspec": {
   "display_name": "Python 3",
   "language": "python",
   "name": "python3"
  },
  "language_info": {
   "codemirror_mode": {
    "name": "ipython",
    "version": 3
   },
   "file_extension": ".py",
   "mimetype": "text/x-python",
   "name": "python",
   "nbconvert_exporter": "python",
   "pygments_lexer": "ipython3",
   "version": "3.7.4"
  }
 },
 "nbformat": 4,
 "nbformat_minor": 1
}
