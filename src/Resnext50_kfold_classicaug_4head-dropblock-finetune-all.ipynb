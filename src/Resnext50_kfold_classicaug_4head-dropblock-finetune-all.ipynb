{
 "cells": [
  {
   "cell_type": "markdown",
   "metadata": {},
   "source": [
    "# Bengali.AI SEResNeXt training with pytorch\n",
    "\n",
    "I will introduce following contents\n",
    "\n",
    " - **Fast data loading** with feather format\n",
    " - **Data augmentation** technic with affine transformation\n",
    " - **CNN SoTA models**: Use pytorch `pretrainedmodels` library, especially I use **`SEResNeXt`** in this notebook\n",
    " - **Training code abstraction**: Use `pytorch-ignite` module for the trainining abstraction\n",
    " \n",
    "### Update history\n",
    "\n",
    " - 2020/1/4 v2: Added albumentations augmentations introduced in [Bengali: albumentations data augmentation tutorial](https://www.kaggle.com/corochann/bengali-albumentations-data-augmentation-tutorial)"
   ]
  },
  {
   "cell_type": "markdown",
   "metadata": {},
   "source": [
    "# Table of Contents:\n",
    "**[Fast data loading with feather](#load)**<br>\n",
    "**[Dataset](#dataset)**<br>\n",
    "**[Data augmentation/processing](#processing)**<br>\n",
    "**[pytorch model & define classifier](#model)**<br>\n",
    "**[Training code](#train)**<br>\n",
    "**[Prediction](#pred)**<br>\n",
    "**[Reference and further reading](#ref)**<br>"
   ]
  },
  {
   "cell_type": "markdown",
   "metadata": {},
   "source": [
    "To install https://github.com/Cadene/pretrained-models.pytorch without internet connection, we can install library as \"dataset\".\n",
    "\n",
    "It is uploaded by @rishabhiitbhu : https://www.kaggle.com/rishabhiitbhu/pretrainedmodels"
   ]
  },
  {
   "cell_type": "code",
   "execution_count": 1,
   "metadata": {
    "ExecuteTime": {
     "end_time": "2020-03-09T01:36:33.156582Z",
     "start_time": "2020-03-09T01:36:30.535969Z"
    }
   },
   "outputs": [
    {
     "name": "stdout",
     "output_type": "stream",
     "text": [
      "Requirement already satisfied: pretrainedmodels in /home/chen/anaconda3/lib/python3.7/site-packages (0.7.4)\r\n",
      "Requirement already satisfied: torchvision in /home/chen/anaconda3/lib/python3.7/site-packages (from pretrainedmodels) (0.2.1)\r\n",
      "Requirement already satisfied: tqdm in /home/chen/anaconda3/lib/python3.7/site-packages (from pretrainedmodels) (4.39.0)\r\n",
      "Requirement already satisfied: munch in /home/chen/anaconda3/lib/python3.7/site-packages (from pretrainedmodels) (2.5.0)\r\n",
      "Requirement already satisfied: torch in /home/chen/anaconda3/lib/python3.7/site-packages (from pretrainedmodels) (1.0.0)\r\n",
      "Requirement already satisfied: numpy in /home/chen/anaconda3/lib/python3.7/site-packages (from torchvision->pretrainedmodels) (1.17.4)\r\n",
      "Requirement already satisfied: pillow>=4.1.1 in /home/chen/anaconda3/lib/python3.7/site-packages (from torchvision->pretrainedmodels) (6.2.1)\r\n",
      "Requirement already satisfied: six in /home/chen/anaconda3/lib/python3.7/site-packages (from torchvision->pretrainedmodels) (1.13.0)\r\n"
     ]
    }
   ],
   "source": [
    "!pip install pretrainedmodels"
   ]
  },
  {
   "cell_type": "code",
   "execution_count": null,
   "metadata": {
    "ExecuteTime": {
     "end_time": "2020-03-01T02:52:25.961805Z",
     "start_time": "2020-03-01T02:52:25.944233Z"
    }
   },
   "outputs": [],
   "source": []
  },
  {
   "cell_type": "code",
   "execution_count": 2,
   "metadata": {
    "ExecuteTime": {
     "end_time": "2020-03-09T01:36:52.348117Z",
     "start_time": "2020-03-09T01:36:52.340996Z"
    },
    "_kg_hide-input": true,
    "_kg_hide-output": true
   },
   "outputs": [
    {
     "data": {
      "text/html": [
       "        <script type=\"text/javascript\">\n",
       "        window.PlotlyConfig = {MathJaxConfig: 'local'};\n",
       "        if (window.MathJax) {MathJax.Hub.Config({SVG: {font: \"STIX-Web\"}});}\n",
       "        if (typeof require !== 'undefined') {\n",
       "        require.undef(\"plotly\");\n",
       "        requirejs.config({\n",
       "            paths: {\n",
       "                'plotly': ['https://cdn.plot.ly/plotly-latest.min']\n",
       "            }\n",
       "        });\n",
       "        require(['plotly'], function(Plotly) {\n",
       "            window._Plotly = Plotly;\n",
       "        });\n",
       "        }\n",
       "        </script>\n",
       "        "
      ]
     },
     "metadata": {},
     "output_type": "display_data"
    }
   ],
   "source": [
    "import gc\n",
    "import os\n",
    "from pathlib import Path\n",
    "import random\n",
    "import sys\n",
    "\n",
    "from tqdm.notebook import tqdm\n",
    "import numpy as np # linear algebra\n",
    "import pandas as pd # data processing, CSV file I/O (e.g. pd.read_csv)\n",
    "\n",
    "import matplotlib.pyplot as plt\n",
    "import seaborn as sns\n",
    "\n",
    "from IPython.core.display import display, HTML\n",
    "\n",
    "# --- plotly ---\n",
    "from plotly import tools, subplots\n",
    "import plotly.offline as py\n",
    "py.init_notebook_mode(connected=True)\n",
    "import plotly.graph_objs as go\n",
    "import plotly.express as px\n",
    "import plotly.figure_factory as ff\n",
    "\n",
    "# --- models ---\n",
    "from sklearn import preprocessing\n",
    "from sklearn.model_selection import KFold\n",
    "import lightgbm as lgb\n",
    "import xgboost as xgb\n",
    "import catboost as cb\n",
    "\n",
    "# --- setup ---\n",
    "pd.set_option('max_columns', 50)\n",
    "\n",
    "# PATH = \"/Users/helen/Desktop/Data/bengaliai-cv19/\"\n",
    "# FEATHER_PATH = \"/Users/helen/Desktop/Data/bengaliaicv19feather/\"\n",
    "\n",
    "PATH = \"/home/chen/Work/ly/data/Bengaliai/bengaliai-cv19/\"\n",
    "FEATHER_PATH = \"/home/chen/Work/ly/data/Bengaliai/bengaliaicv19feather/\"\n",
    "\n",
    "# PATH = \"/home/vemlr/Work/chen_huang/Data/bengaliai-cv19/\"\n",
    "# FEATHER_PATH = \"/home/vemlr/Work/chen_huang/Data/bengaliaicv19feather/\""
   ]
  },
  {
   "cell_type": "code",
   "execution_count": null,
   "metadata": {
    "ExecuteTime": {
     "end_time": "2020-03-01T03:16:32.892124Z",
     "start_time": "2020-03-01T03:16:32.889457Z"
    }
   },
   "outputs": [],
   "source": []
  },
  {
   "cell_type": "code",
   "execution_count": 3,
   "metadata": {
    "ExecuteTime": {
     "end_time": "2020-03-09T01:36:52.355979Z",
     "start_time": "2020-03-09T01:36:52.350576Z"
    },
    "_cell_guid": "b1076dfc-b9ad-4769-8c92-a6c4dae69d19",
    "_kg_hide-input": true,
    "_kg_hide-output": true,
    "_uuid": "8f2839f25d086af736a60e9eeb907d3b93b6e0e5",
    "scrolled": true
   },
   "outputs": [
    {
     "name": "stdout",
     "output_type": "stream",
     "text": [
      "/home/chen/Work/ly/data/Bengaliai/bengaliai-cv19/train.csv\n",
      "/home/chen/Work/ly/data/Bengaliai/bengaliai-cv19/train_image_data_1.parquet\n",
      "/home/chen/Work/ly/data/Bengaliai/bengaliai-cv19/train_image_data_0.parquet\n",
      "/home/chen/Work/ly/data/Bengaliai/bengaliai-cv19/test.csv\n",
      "/home/chen/Work/ly/data/Bengaliai/bengaliai-cv19/train_image_data_2.parquet\n",
      "/home/chen/Work/ly/data/Bengaliai/bengaliai-cv19/test_image_data_3.parquet\n",
      "/home/chen/Work/ly/data/Bengaliai/bengaliai-cv19/test_image_data_2.parquet\n",
      "/home/chen/Work/ly/data/Bengaliai/bengaliai-cv19/test_image_data_1.parquet\n",
      "/home/chen/Work/ly/data/Bengaliai/bengaliai-cv19/test_image_data_0.parquet\n",
      "/home/chen/Work/ly/data/Bengaliai/bengaliai-cv19/sample_submission.csv\n",
      "/home/chen/Work/ly/data/Bengaliai/bengaliai-cv19/class_map.csv\n",
      "/home/chen/Work/ly/data/Bengaliai/bengaliai-cv19/train_image_data_3.parquet\n"
     ]
    }
   ],
   "source": [
    "# This Python 3 environment comes with many helpful analytics libraries installed\n",
    "# It is defined by the kaggle/python docker image: https://github.com/kaggle/docker-python\n",
    "# For example, here's several helpful packages to load in \n",
    "\n",
    "import numpy as np # linear algebra\n",
    "import pandas as pd # data processing, CSV file I/O (e.g. pd.read_csv)\n",
    "\n",
    "# Input data files are available in the \"../input/\" directory.\n",
    "# For example, running this (by clicking run or pressing Shift+Enter) will list all files under the input directory\n",
    "\n",
    "import os\n",
    "for dirname, _, filenames in os.walk(PATH):\n",
    "    for filename in filenames:\n",
    "        print(os.path.join(dirname, filename))\n",
    "\n",
    "# Any results you write to the current directory are saved as output."
   ]
  },
  {
   "cell_type": "code",
   "execution_count": 4,
   "metadata": {
    "ExecuteTime": {
     "end_time": "2020-03-09T01:36:52.364769Z",
     "start_time": "2020-03-09T01:36:52.359386Z"
    }
   },
   "outputs": [
    {
     "name": "stdout",
     "output_type": "stream",
     "text": [
      "112 112\n"
     ]
    }
   ],
   "source": [
    "import torch\n",
    "\n",
    "debug = False\n",
    "submission=False\n",
    "batch_size= 48\n",
    "device = torch.device(\"cuda\" if torch.cuda.is_available() else \"cpu\")\n",
    "out='.'\n",
    "image_size= 128\n",
    "arch='pretrained'\n",
    "model_name='ResNext50'\n",
    "\n",
    "HEIGHT = 137\n",
    "WIDTH = 236\n",
    "# FACTOR = 0.25\n",
    "HEIGHT_NEW = 112\n",
    "WIDTH_NEW = 112\n",
    "# HEIGHT_NEW = int(HEIGHT*FACTOR)\n",
    "# WIDTH_NEW = int(WIDTH*FACTOR)\n",
    "print(WIDTH_NEW, HEIGHT_NEW)"
   ]
  },
  {
   "cell_type": "code",
   "execution_count": 5,
   "metadata": {
    "ExecuteTime": {
     "end_time": "2020-03-09T01:36:52.371749Z",
     "start_time": "2020-03-09T01:36:52.367206Z"
    },
    "_cell_guid": "79c7e3d0-c299-4dcb-8224-4455121ee9b0",
    "_kg_hide-input": false,
    "_kg_hide-output": true,
    "_uuid": "d629ff2d2480ee46fbb7e2d37f6b5fab8052498a"
   },
   "outputs": [],
   "source": [
    "datadir = Path(PATH)\n",
    "featherdir = Path(FEATHER_PATH)\n",
    "LR = 5e-5\n",
    "WD = 1e-4\n",
    "DP = 0.2\n",
    "HDIM = 1024\n",
    "outdir = Path('../res/{}_LR{}_WD{}_DP{}_IM{}-{}_bs{}_4head_c3aug-ftall'.format(model_name, LR, WD, DP, HEIGHT_NEW, WIDTH_NEW,\n",
    "                                                            batch_size))\n",
    "\n",
    "trained_model_name = \"/home/chen/Work/ly/DL/Bengali_competition/res/best/predictor_2.pt\"\n",
    "\n",
    "TH = 20.0"
   ]
  },
  {
   "cell_type": "code",
   "execution_count": null,
   "metadata": {},
   "outputs": [],
   "source": []
  },
  {
   "cell_type": "code",
   "execution_count": 6,
   "metadata": {
    "ExecuteTime": {
     "end_time": "2020-03-09T01:36:52.376576Z",
     "start_time": "2020-03-09T01:36:52.374160Z"
    },
    "_kg_hide-input": true,
    "_kg_hide-output": true
   },
   "outputs": [],
   "source": [
    "# Read in the data CSV files\n",
    "# train = pd.read_csv(datadir/'train.csv')\n",
    "# test = pd.read_csv(datadir/'test.csv')\n",
    "# sample_submission = pd.read_csv(datadir/'sample_submission.csv')\n",
    "# class_map = pd.read_csv(datadir/'class_map.csv')"
   ]
  },
  {
   "cell_type": "markdown",
   "metadata": {},
   "source": [
    "# Fast data loading with feather\n",
    "\n",
    "Refer [Bengali.AI super fast data loading with feather](https://www.kaggle.com/corochann/bengali-ai-super-fast-data-loading-with-feather) and [dataset](https://www.kaggle.com/corochann/bengaliaicv19feather) for detail.<br/>\n",
    "Original `parquet` format takes about 60 sec to load 1 data, while `feather` format takes about **2 sec to load 1 data!!!**\n",
    "\n",
    "### How to add dataset\n",
    "\n",
    "When you write kernel, click \"+ Add Data\" botton on right top.<br/>\n",
    "Then inside window pop-up, you can see \"Search Datasets\" text box on right top.<br/>\n",
    "You can type \"bengaliai-cv19-feather\" to find this dataset and press \"Add\" botton to add the data."
   ]
  },
  {
   "cell_type": "code",
   "execution_count": 7,
   "metadata": {
    "ExecuteTime": {
     "end_time": "2020-03-09T01:36:52.389529Z",
     "start_time": "2020-03-09T01:36:52.380197Z"
    }
   },
   "outputs": [],
   "source": [
    "import cv2\n",
    "def bbox(img):\n",
    "    rows = np.any(img, axis=1)\n",
    "    cols = np.any(img, axis=0)\n",
    "    rmin, rmax = np.where(rows)[0][[0, -1]]\n",
    "    cmin, cmax = np.where(cols)[0][[0, -1]]\n",
    "    return rmin, rmax, cmin, cmax\n",
    "\n",
    "def crop_resize(img0, size=image_size, pad=3, thh = 80, thl = 28):\n",
    "    #crop a box around pixels large than the threshold \n",
    "    #some images contain line at the sides\n",
    "    ymin,ymax,xmin,xmax = bbox(img0[5:-5,5:-5] > thh)\n",
    "    #cropping may cut too much, so we need to add it back\n",
    "    xmin = xmin - 13 if (xmin > 13) else 0\n",
    "    ymin = ymin - 10 if (ymin > 10) else 0\n",
    "    xmax = xmax + 13 if (xmax < WIDTH - 13) else WIDTH\n",
    "    ymax = ymax + 10 if (ymax < HEIGHT - 10) else HEIGHT\n",
    "    img = img0[ymin:ymax,xmin:xmax]\n",
    "    #remove lo intensity pixels as noise\n",
    "    img[img < thl] = 0\n",
    "    lx, ly = xmax-xmin,ymax-ymin\n",
    "    l = max(lx,ly) + pad\n",
    "    #make sure that the aspect ratio is kept in rescaling\n",
    "    img = np.pad(img, [((l-ly)//2,), ((l-lx)//2,)], mode='constant')\n",
    "    return cv2.resize(img,(size,size))\n"
   ]
  },
  {
   "cell_type": "code",
   "execution_count": 8,
   "metadata": {
    "ExecuteTime": {
     "end_time": "2020-03-09T01:36:52.398881Z",
     "start_time": "2020-03-09T01:36:52.391982Z"
    }
   },
   "outputs": [],
   "source": [
    "import numpy as np\n",
    "import pandas as pd\n",
    "import gc\n",
    "\n",
    "\n",
    "def prepare_image(datadir, featherdir, data_type='train',\n",
    "                  submission=False, indices=[0, 1, 2, 3]):\n",
    "    assert data_type in ['train', 'test']\n",
    "    if submission:\n",
    "        image_df_list = [pd.read_parquet(datadir / f'{data_type}_image_data_{i}.parquet')\n",
    "                         for i in indices]\n",
    "    else:\n",
    "        image_df_list = [pd.read_feather(featherdir / f'{data_type}_image_data_{i}.feather')\n",
    "                         for i in indices]\n",
    "\n",
    "    print('image_df_list', len(image_df_list))\n",
    "    images = [df.iloc[:, 1:].values.reshape(-1, HEIGHT, WIDTH).astype('uint8') for df in image_df_list]\n",
    "\n",
    "#     images = []\n",
    "#     for df in image_df_list:\n",
    "#         for idx in tqdm(range(len(df))):\n",
    "#             images.append(crop_resize(df.iloc[idx, 1:].values.reshape(HEIGHT, WIDTH).astype('uint8')))\n",
    "    del image_df_list\n",
    "    gc.collect()\n",
    "    images = np.concatenate(images, axis=0)\n",
    "    return images\n"
   ]
  },
  {
   "cell_type": "code",
   "execution_count": 9,
   "metadata": {
    "ExecuteTime": {
     "end_time": "2020-03-09T01:36:52.659656Z",
     "start_time": "2020-03-09T01:36:52.400923Z"
    }
   },
   "outputs": [],
   "source": [
    "# train = pd.read_csv(datadir/'train.csv')\n",
    "train = pd.read_csv('train_with_fold-comb.csv')\n",
    "train_labels = train[['grapheme_root', 'vowel_diacritic', 'consonant_diacritic', 'comb_label']].values\n",
    "n_comb_class = 1295\n",
    "# class_map = dict(pd.read_csv('grapheme_1295.csv')[['grapheme','label']].values)\n",
    "# comb_labels = np.array([class_map[itm] for ind, itm in train['grapheme'].items()]).reshape(-1,1)\n",
    "# train_labels4 = np.hstack((train_labels, comb_labels))\n",
    "# train['comb_label'] = comb_labels\n",
    "# train.to_csv('train_with_fold-comb.csv')"
   ]
  },
  {
   "cell_type": "code",
   "execution_count": 10,
   "metadata": {
    "ExecuteTime": {
     "end_time": "2020-03-09T01:36:52.666592Z",
     "start_time": "2020-03-09T01:36:52.661685Z"
    }
   },
   "outputs": [
    {
     "name": "stdout",
     "output_type": "stream",
     "text": [
      "(3, 1)\n",
      "(2,)\n",
      "(2, 1)\n"
     ]
    }
   ],
   "source": [
    "a = np.random.rand(3,1)\n",
    "print(np.shape(a))\n",
    "# b = np.random.rand(3,4)\n",
    "# print(a,b)\n",
    "# c = np.hstack((a,b))\n",
    "# print(c)\n",
    "d = np.array([1,1])\n",
    "print(np.shape(d))\n",
    "d = d.reshape(-1,1)\n",
    "print(np.shape(d))"
   ]
  },
  {
   "cell_type": "code",
   "execution_count": 11,
   "metadata": {
    "ExecuteTime": {
     "end_time": "2020-03-09T01:36:52.673092Z",
     "start_time": "2020-03-09T01:36:52.668759Z"
    }
   },
   "outputs": [],
   "source": [
    "# print(class_map)"
   ]
  },
  {
   "cell_type": "code",
   "execution_count": 12,
   "metadata": {
    "ExecuteTime": {
     "end_time": "2020-03-09T01:38:11.686474Z",
     "start_time": "2020-03-09T01:36:52.675100Z"
    }
   },
   "outputs": [
    {
     "name": "stdout",
     "output_type": "stream",
     "text": [
      "image_df_list 4\n",
      "CPU times: user 30.9 s, sys: 31.9 s, total: 1min 2s\n",
      "Wall time: 7.18 s\n"
     ]
    }
   ],
   "source": [
    "%%time\n",
    "indices = [0,1,2,3] #if debug else [0, 1, 2, 3]\n",
    "train_images = prepare_image(\n",
    "    datadir, featherdir, data_type='train', submission=False, indices=indices)"
   ]
  },
  {
   "cell_type": "code",
   "execution_count": null,
   "metadata": {},
   "outputs": [],
   "source": []
  },
  {
   "cell_type": "code",
   "execution_count": 13,
   "metadata": {
    "ExecuteTime": {
     "end_time": "2020-03-09T01:38:11.716359Z",
     "start_time": "2020-03-09T01:38:11.700340Z"
    }
   },
   "outputs": [
    {
     "name": "stdout",
     "output_type": "stream",
     "text": [
      "200840\n",
      "200840\n",
      "[127   2   0  58]\n"
     ]
    }
   ],
   "source": [
    "print(len(train_labels))\n",
    "print(len(train))\n",
    "print(train_labels[200840-1])"
   ]
  },
  {
   "cell_type": "code",
   "execution_count": 14,
   "metadata": {
    "ExecuteTime": {
     "end_time": "2020-03-09T01:38:11.725044Z",
     "start_time": "2020-03-09T01:38:11.722102Z"
    }
   },
   "outputs": [],
   "source": [
    "#  import sys \n",
    "\n",
    "# # These are the usual ipython objects, including this one you are creating \n",
    "# ipython_vars = ['In', 'Out', 'exit', 'quit', 'get_ipython', 'ipython_vars'] \n",
    "\n",
    "# # Get a sorted list of the objects and their sizes \n",
    "# sorted([(x, sys.getsizeof(globals().get(x))) for x in dir() if not x.startswith('_') and x not in sys.modules and x not in ipython_vars], key=lambda x: x[1], reverse=True) "
   ]
  },
  {
   "cell_type": "markdown",
   "metadata": {},
   "source": [
    "<a id=\"dataset\"></a>\n",
    "# Dataset"
   ]
  },
  {
   "cell_type": "code",
   "execution_count": 15,
   "metadata": {
    "ExecuteTime": {
     "end_time": "2020-03-09T01:38:11.748147Z",
     "start_time": "2020-03-09T01:38:11.729298Z"
    },
    "_kg_hide-input": true
   },
   "outputs": [],
   "source": [
    "\"\"\"\n",
    "Referenced `chainer.dataset.DatasetMixin` to work with pytorch Dataset.\n",
    "\"\"\"\n",
    "import numpy\n",
    "import six\n",
    "import torch\n",
    "from torch.utils.data.dataset import Dataset\n",
    "\n",
    "\n",
    "class DatasetMixin(Dataset):\n",
    "\n",
    "    def __init__(self, transform=None):\n",
    "        self.transform = transform\n",
    "\n",
    "    def __getitem__(self, index):\n",
    "        \"\"\"Returns an example or a sequence of examples.\"\"\"\n",
    "        if torch.is_tensor(index):\n",
    "            index = index.tolist()\n",
    "        if isinstance(index, slice):\n",
    "            current, stop, step = index.indices(len(self))\n",
    "            return [self.get_example_wrapper(i) for i in\n",
    "                    six.moves.range(current, stop, step)]\n",
    "        elif isinstance(index, list) or isinstance(index, numpy.ndarray):\n",
    "            return [self.get_example_wrapper(i) for i in index]\n",
    "        else:\n",
    "            return self.get_example_wrapper(index)\n",
    "\n",
    "    def __len__(self):\n",
    "        \"\"\"Returns the number of data points.\"\"\"\n",
    "        raise NotImplementedError\n",
    "\n",
    "    def get_example_wrapper(self, i):\n",
    "        \"\"\"Wrapper of `get_example`, to apply `transform` if necessary\"\"\"\n",
    "        example = self.get_example(i)\n",
    "        if self.transform:\n",
    "            example = self.transform(example)\n",
    "        return example\n",
    "\n",
    "    def get_example(self, i):\n",
    "        \"\"\"Returns the i-th example.\n",
    "\n",
    "        Implementations should override it. It should raise :class:`IndexError`\n",
    "        if the index is invalid.\n",
    "\n",
    "        Args:\n",
    "            i (int): The index of the example.\n",
    "\n",
    "        Returns:\n",
    "            The i-th example.\n",
    "\n",
    "        \"\"\"\n",
    "        raise NotImplementedError\n"
   ]
  },
  {
   "cell_type": "markdown",
   "metadata": {},
   "source": [
    "This `DatasetMixin` class can be used to define any custom dataset class in pytorch. We can implement `get_example(self, i)` method to return `i`-th data.\n",
    "\n",
    "Here I return i-th image `x` and `label`, with scaling image to be value ranges between 0~1."
   ]
  },
  {
   "cell_type": "code",
   "execution_count": 16,
   "metadata": {
    "ExecuteTime": {
     "end_time": "2020-03-09T01:38:11.765328Z",
     "start_time": "2020-03-09T01:38:11.754788Z"
    }
   },
   "outputs": [],
   "source": [
    "import numpy as np\n",
    "\n",
    "\n",
    "class BengaliAIDataset(DatasetMixin):\n",
    "    def __init__(self, images, labels=None, transform=None, indices=None):\n",
    "        super(BengaliAIDataset, self).__init__(transform=transform)\n",
    "        self.images = images\n",
    "        self.labels = labels\n",
    "        if indices is None:\n",
    "            indices = np.arange(len(images))\n",
    "        self.indices = indices\n",
    "        self.train = labels is not None\n",
    "\n",
    "    def __len__(self):\n",
    "        \"\"\"return length of this dataset\"\"\"\n",
    "        return len(self.indices)\n",
    "\n",
    "    def get_example(self, i):\n",
    "        \"\"\"Return i-th data\"\"\"\n",
    "        i = self.indices[i]\n",
    "        x = self.images[i]\n",
    "        # Opposite white and black: background will be white and\n",
    "        # for future Affine transformation\n",
    "        x = (255 - x).astype(np.float32) / 255.\n",
    "        if self.train:\n",
    "            y = self.labels[i]\n",
    "            return x, y\n",
    "        else:\n",
    "            return x\n"
   ]
  },
  {
   "cell_type": "markdown",
   "metadata": {},
   "source": [
    "Let's see how this `BengaliAIDataset` work"
   ]
  },
  {
   "cell_type": "code",
   "execution_count": 17,
   "metadata": {
    "ExecuteTime": {
     "end_time": "2020-03-09T01:38:11.775240Z",
     "start_time": "2020-03-09T01:38:11.768916Z"
    }
   },
   "outputs": [],
   "source": [
    "# train_dataset_noaug = BengaliAIDataset(train_images[:200], train_labels)"
   ]
  },
  {
   "cell_type": "markdown",
   "metadata": {},
   "source": [
    "`train_dataset[i]` returns i-th image array and 3 target labels (graphme_root, vowel_diacritic and consonant_diacritic)."
   ]
  },
  {
   "cell_type": "code",
   "execution_count": 18,
   "metadata": {
    "ExecuteTime": {
     "end_time": "2020-03-09T01:38:11.780807Z",
     "start_time": "2020-03-09T01:38:11.778030Z"
    }
   },
   "outputs": [],
   "source": [
    "# image, label = train_dataset_noaug[0]\n",
    "# print('image', image.shape, 'label', label)"
   ]
  },
  {
   "cell_type": "code",
   "execution_count": 19,
   "metadata": {
    "ExecuteTime": {
     "end_time": "2020-03-09T01:38:11.789971Z",
     "start_time": "2020-03-09T01:38:11.784348Z"
    }
   },
   "outputs": [],
   "source": [
    "# print(image[:5,:5])\n",
    "# print(20/255)"
   ]
  },
  {
   "cell_type": "code",
   "execution_count": 20,
   "metadata": {
    "ExecuteTime": {
     "end_time": "2020-03-09T01:38:11.797053Z",
     "start_time": "2020-03-09T01:38:11.794258Z"
    },
    "_kg_hide-input": true
   },
   "outputs": [],
   "source": [
    "# nrow, ncol = 5, 6\n",
    "\n",
    "# fig, axes = plt.subplots(nrow, ncol, figsize=(20, 8))\n",
    "# axes = axes.flatten()\n",
    "# for i, ax in tqdm(enumerate(axes)):\n",
    "#     image, label = train_dataset_noaug[i]\n",
    "#     ax.imshow(crop_resize(image, thh = TH/255, thl=28.0/255)) #, cmap='Greys'\n",
    "#     ax.set_title(f'label: {label}')\n",
    "# plt.tight_layout()\n",
    "# plt.show()\n",
    "# plt.savefig('bengaliai.png')"
   ]
  },
  {
   "cell_type": "markdown",
   "metadata": {},
   "source": [
    "<a id=\"processing\"></a>\n",
    "# Data augmentation/processing"
   ]
  },
  {
   "cell_type": "markdown",
   "metadata": {},
   "source": [
    "For CNN training, data augmentation is important to improve test accuracy (generalization performance). I will show some image preprocessing to increase the data variety."
   ]
  },
  {
   "cell_type": "code",
   "execution_count": 21,
   "metadata": {
    "ExecuteTime": {
     "end_time": "2020-03-09T01:38:11.824088Z",
     "start_time": "2020-03-09T01:38:11.799732Z"
    },
    "_kg_hide-input": true
   },
   "outputs": [],
   "source": [
    "\"\"\"\n",
    "From https://www.kaggle.com/corochann/deep-learning-cnn-with-chainer-lb-0-99700\n",
    "\"\"\"\n",
    "import cv2\n",
    "from skimage.transform import SimilarityTransform, AffineTransform, warp\n",
    "import numpy as np\n",
    "import math\n",
    "\n",
    "\n",
    "def affine_image(img):\n",
    "    \"\"\"\n",
    "\n",
    "    Args:\n",
    "        img: (h, w) or (1, h, w)\n",
    "\n",
    "    Returns:\n",
    "        img: (h, w)\n",
    "    \"\"\"\n",
    "    # ch, h, w = img.shape\n",
    "    # img = img / 255.\n",
    "    if img.ndim == 3:\n",
    "        img = img[0]\n",
    "\n",
    "    # --- scale ---\n",
    "    min_scale = 0.85\n",
    "    max_scale = 1.15\n",
    "    sx = np.random.uniform(min_scale, max_scale)\n",
    "    sy = np.random.uniform(min_scale, max_scale)\n",
    "\n",
    "    # --- rotation ---\n",
    "    max_rot_angle = 10\n",
    "    rot_angle = np.random.uniform(-max_rot_angle, max_rot_angle)*np.pi/180.0\n",
    "\n",
    "    # --- shear ---\n",
    "    max_shear_angle = 10\n",
    "    shear_angle = np.random.uniform(-max_shear_angle, max_shear_angle)*np.pi/180.0\n",
    "\n",
    "    # --- translation ---\n",
    "    max_translation = image_size*0.075\n",
    "    tx = np.random.randint(-max_translation, max_translation)\n",
    "    ty = np.random.randint(-max_translation, max_translation)\n",
    "    \n",
    "#     print(\"rot:{}, shear:{},tx:{},ty:{}\".format(rot_angle,shear_angle, tx,ty))\n",
    "    \n",
    "    shape = img.shape\n",
    "    shape_size = shape[:2]\n",
    "    center = np.float32(shape_size) / 2.\n",
    "        \n",
    "    pre = SimilarityTransform(translation=-center)\n",
    "    tform = AffineTransform(scale=(sx, sy), rotation=rot_angle, shear=shear_angle, translation=(tx,ty)) \n",
    "    after = AffineTransform(translation=center)\n",
    "    total_transform = pre+tform+after\n",
    "#     total_transform = tform\n",
    "    transformed_image = warp(img, total_transform.params, mode='constant')\n",
    "    \n",
    "    assert transformed_image.ndim == 2\n",
    "    return transformed_image\n",
    "\n",
    "def bbox(img):\n",
    "    rows = np.any(img, axis=1)\n",
    "    cols = np.any(img, axis=0)\n",
    "    rmin, rmax = np.where(rows)[0][[0, -1]]\n",
    "    cmin, cmax = np.where(cols)[0][[0, -1]]\n",
    "    return rmin, rmax, cmin, cmax\n",
    "\n",
    "def crop_char_image_thin(image, threshold=40./255., pad = 16):\n",
    "    assert image.ndim == 2\n",
    "    is_black = image > threshold\n",
    "\n",
    "    is_black_vertical = np.sum(is_black, axis=0) > 0\n",
    "    is_black_horizontal = np.sum(is_black, axis=1) > 0\n",
    "    left = np.argmax(is_black_horizontal)\n",
    "    right = np.argmax(is_black_horizontal[::-1])\n",
    "    top = np.argmax(is_black_vertical)\n",
    "    bottom = np.argmax(is_black_vertical[::-1])\n",
    "    height, width = image.shape\n",
    "    cropped_image = image[left:height - right, top:width - bottom]\n",
    "    return cropped_image\n",
    "\n",
    "def crop_char_image(img0, threshold=TH/255., pad=10):\n",
    "    ymin,ymax,xmin,xmax = bbox(img0[5:-5,5:-5] > threshold)\n",
    "    #cropping may cut too much, so we need to add it back\n",
    "#     xmin = xmin - 5 if (xmin > 5) else 0\n",
    "#     ymin = ymin - 5 if (ymin > 5) else 0\n",
    "#     xmax = xmax + 5 if (xmax < WIDTH - 5) else WIDTH\n",
    "#     ymax = ymax + 5 if (ymax < HEIGHT - 5) else HEIGHT\n",
    "    xmin = xmin - 13 if (xmin > 13) else 0\n",
    "    ymin = ymin - 10 if (ymin > 10) else 0\n",
    "    xmax = xmax + 13 if (xmax < WIDTH - 13) else WIDTH\n",
    "    ymax = ymax + 10 if (ymax < HEIGHT - 10) else HEIGHT\n",
    "    img = img0[ymin:ymax,xmin:xmax]\n",
    "    #remove lo intensity pixels as noise\n",
    "    img[img < 28./255.] = 0\n",
    "    lx, ly = xmax-xmin,ymax-ymin\n",
    "    l = max(lx,ly) + pad\n",
    "    #make sure that the aspect ratio is kept in rescaling\n",
    "    img = np.pad(img, [((l-ly)//2,), ((l-lx)//2,)], mode='constant')\n",
    "    return img\n",
    "\n",
    "# def crop_char_image_new(img0, threshold=TH/255., pad=10):\n",
    "#     ymin,ymax,xmin,xmax = bbox(img0 > threshold)\n",
    "#     #cropping may cut too much, so we need to add it back\n",
    "# #     xmin = xmin - 13 if (xmin > 13) else 0\n",
    "# #     ymin = ymin - 10 if (ymin > 10) else 0\n",
    "# #     xmax = xmax + 13 if (xmax < WIDTH - 13) else WIDTH\n",
    "# #     ymax = ymax + 10 if (ymax < HEIGHT - 10) else HEIGHT\n",
    "#     img = img0[ymin:ymax,xmin:xmax]\n",
    "#     #remove lo intensity pixels as noise\n",
    "#     img[img < 28./255.] = 0\n",
    "#     lx, ly = xmax-xmin,ymax-ymin\n",
    "#     l = max(lx,ly) + pad\n",
    "#     #make sure that the aspect ratio is kept in rescaling\n",
    "#     img = np.pad(img, [(pad//2,), (pad//2,)], mode='constant')\n",
    "#     return img\n",
    "\n",
    "def resize(image, size=(WIDTH_NEW, HEIGHT_NEW)):\n",
    "    return cv2.resize(image, size)"
   ]
  },
  {
   "cell_type": "markdown",
   "metadata": {},
   "source": [
    "## Affine transformation for data augmentation\n",
    "\n",
    "To increase validation score, the number of training data is important. When we can use more number of training data, we can reduce overfitting and validation score becomes high.\n",
    "\n",
    "\"Data augmentation\" is a technic to virtually create extra training data, based on the given training data. For this MNIST task, data augmentation can be achieved by utilizing affine transformation.\n",
    "\n",
    "1. Rotation AffineTransformation\n",
    "2. Translation\n",
    "3. Scale\n",
    "4. Shear"
   ]
  },
  {
   "cell_type": "code",
   "execution_count": 22,
   "metadata": {
    "ExecuteTime": {
     "end_time": "2020-03-09T01:38:11.829548Z",
     "start_time": "2020-03-09T01:38:11.826235Z"
    }
   },
   "outputs": [],
   "source": [
    "# nrow, ncol = 3, 6\n",
    "\n",
    "# fig, axes = plt.subplots(nrow, ncol, figsize=(20, 8))\n",
    "# axes = axes.flatten()\n",
    "# for i, ax in tqdm(enumerate(axes)):\n",
    "#     image, label = train_dataset_noaug[2]\n",
    "#     if i ==0:\n",
    "#         ax.imshow(image, cmap='Greys')\n",
    "#     else:\n",
    "#         ax.imshow(resize(crop_char_image_thin(affine_image(crop_char_image(image)))), cmap='Greys')\n",
    "#     ax.set_title(f'label: {label}')\n",
    "# plt.tight_layout()\n",
    "# # crop_resize(image, thh = 80.0/255, thl=28.0/255, pad=16)"
   ]
  },
  {
   "cell_type": "code",
   "execution_count": 23,
   "metadata": {
    "ExecuteTime": {
     "end_time": "2020-03-09T01:38:11.834239Z",
     "start_time": "2020-03-09T01:38:11.831859Z"
    }
   },
   "outputs": [],
   "source": [
    "# nrow, ncol = 3, 6\n",
    "\n",
    "# fig, axes = plt.subplots(nrow, ncol, figsize=(20, 8))\n",
    "# axes = axes.flatten()\n",
    "# PAD = 20\n",
    "# for i, ax in tqdm(enumerate(axes)):\n",
    "#     image, label = train_dataset_noaug[2]\n",
    "#     if i ==0:\n",
    "#         ax.imshow(image, cmap='Greys')\n",
    "#     elif i==1:\n",
    "#         ax.imshow(crop_char_image(image), cmap='Greys')\n",
    "#     else:\n",
    "#         ax.imshow(resize((affine_image(crop_char_image(image)))), cmap='Greys')\n",
    "#     ax.set_title(f'label: {label}')\n",
    "# plt.tight_layout()"
   ]
  },
  {
   "cell_type": "code",
   "execution_count": null,
   "metadata": {},
   "outputs": [],
   "source": []
  },
  {
   "cell_type": "code",
   "execution_count": null,
   "metadata": {},
   "outputs": [],
   "source": []
  },
  {
   "cell_type": "markdown",
   "metadata": {},
   "source": [
    "When the image is slightly rotated, shifted (transformed) or scaled, the image looks like the same label. We can virtually create another image data from one image in such a way."
   ]
  },
  {
   "cell_type": "markdown",
   "metadata": {},
   "source": [
    "## crop image\n",
    "\n",
    "Here I crop image"
   ]
  },
  {
   "cell_type": "code",
   "execution_count": 24,
   "metadata": {
    "ExecuteTime": {
     "end_time": "2020-03-09T01:38:11.838318Z",
     "start_time": "2020-03-09T01:38:11.836227Z"
    }
   },
   "outputs": [],
   "source": [
    "# nrow, ncol = 5, 6\n",
    "\n",
    "# fig, axes = plt.subplots(nrow, ncol, figsize=(20, 8))\n",
    "# axes = axes.flatten()\n",
    "# for i, ax in tqdm(enumerate(axes)):\n",
    "#     image, label = train_dataset_noaug[i]\n",
    "#     ax.imshow(crop_char_image(image, threshold=TH/255.), cmap='Greys')\n",
    "#     ax.set_title(f'label: {label}')\n",
    "# plt.tight_layout()"
   ]
  },
  {
   "cell_type": "markdown",
   "metadata": {},
   "source": [
    "## resize image\n",
    "\n",
    "We need to resize image after crop, to align image size for CNN batch training.\n",
    "\n",
    "whole process: crop_Char_imgage->affine->crop_char_image_thin->resize"
   ]
  },
  {
   "cell_type": "code",
   "execution_count": 25,
   "metadata": {
    "ExecuteTime": {
     "end_time": "2020-03-09T01:38:11.842749Z",
     "start_time": "2020-03-09T01:38:11.840453Z"
    },
    "_kg_hide-input": true
   },
   "outputs": [],
   "source": [
    "# nrow, ncol = 5, 6\n",
    "\n",
    "# fig, axes = plt.subplots(nrow, ncol, figsize=(20, 8))\n",
    "# axes = axes.flatten()\n",
    "# for i, ax in tqdm(enumerate(axes)):\n",
    "#     image, label = train_dataset_noaug[i]\n",
    "#     ax.imshow(resize((affine_image((crop_char_image(image, threshold=TH/255.))))), cmap='Greys')\n",
    "#     ax.set_title(f'label: {label}')\n",
    "# plt.tight_layout()"
   ]
  },
  {
   "cell_type": "markdown",
   "metadata": {},
   "source": [
    "Put everything together with `Transform` class. <br>\n",
    "[Update] I added **albumentations augmentations** introduced in [Bengali: albumentations data augmentation tutorial](https://www.kaggle.com/corochann/bengali-albumentations-data-augmentation-tutorial)."
   ]
  },
  {
   "cell_type": "code",
   "execution_count": 26,
   "metadata": {
    "ExecuteTime": {
     "end_time": "2020-03-09T01:38:11.849660Z",
     "start_time": "2020-03-09T01:38:11.845593Z"
    }
   },
   "outputs": [],
   "source": [
    "from albumentations import (\n",
    "    HorizontalFlip, IAAPerspective, ShiftScaleRotate, CLAHE, RandomRotate90,\n",
    "    Transpose, ShiftScaleRotate, Blur, OpticalDistortion, GridDistortion, HueSaturationValue,\n",
    "    IAAAdditiveGaussianNoise, GaussNoise, MotionBlur, MedianBlur, IAAPiecewiseAffine,IAAAffine,\n",
    "    IAASharpen, IAAEmboss, RandomBrightnessContrast, Flip, OneOf, Compose\n",
    ")"
   ]
  },
  {
   "cell_type": "code",
   "execution_count": 27,
   "metadata": {
    "ExecuteTime": {
     "end_time": "2020-03-09T01:38:11.857373Z",
     "start_time": "2020-03-09T01:38:11.851585Z"
    }
   },
   "outputs": [],
   "source": [
    "affine_train_transform = Compose([\n",
    "    OneOf([\n",
    "        ShiftScaleRotate(scale_limit=.15, rotate_limit=20, border_mode=cv2.BORDER_CONSTANT),\n",
    "        IAAAffine(shear=20, mode='constant'),\n",
    "        IAAPerspective(),\n",
    "    ])\n",
    "])"
   ]
  },
  {
   "cell_type": "code",
   "execution_count": 28,
   "metadata": {},
   "outputs": [],
   "source": [
    "import albumentations\n",
    "from albumentations.core.transforms_interface import DualTransform\n",
    "from albumentations.augmentations import functional as AF"
   ]
  },
  {
   "cell_type": "code",
   "execution_count": 29,
   "metadata": {},
   "outputs": [],
   "source": [
    "class GridMask(DualTransform):\n",
    "    \"\"\"GridMask augmentation for image classification and object detection.\n",
    "    \n",
    "    Author: Qishen Ha\n",
    "    Email: haqishen@gmail.com\n",
    "    2020/01/29\n",
    "\n",
    "    Args:\n",
    "        num_grid (int): number of grid in a row or column.\n",
    "        fill_value (int, float, lisf of int, list of float): value for dropped pixels.\n",
    "        rotate ((int, int) or int): range from which a random angle is picked. If rotate is a single int\n",
    "            an angle is picked from (-rotate, rotate). Default: (-90, 90)\n",
    "        mode (int):\n",
    "            0 - cropout a quarter of the square of each grid (left top)\n",
    "            1 - reserve a quarter of the square of each grid (left top)\n",
    "            2 - cropout 2 quarter of the square of each grid (left top & right bottom)\n",
    "\n",
    "    Targets:\n",
    "        image, mask\n",
    "\n",
    "    Image types:\n",
    "        uint8, float32\n",
    "\n",
    "    Reference:\n",
    "    |  https://arxiv.org/abs/2001.04086\n",
    "    |  https://github.com/akuxcw/GridMask\n",
    "    \"\"\"\n",
    "\n",
    "    def __init__(self, num_grid=3, fill_value=0, rotate=90, mode=0, always_apply=False, p=0.5):\n",
    "        super(GridMask, self).__init__(always_apply, p)\n",
    "        if isinstance(num_grid, int):\n",
    "            num_grid = (num_grid, num_grid)\n",
    "        if isinstance(rotate, int):\n",
    "            rotate = (-rotate, rotate)\n",
    "        self.num_grid = num_grid\n",
    "        self.fill_value = fill_value\n",
    "        self.rotate = rotate\n",
    "        self.mode = mode\n",
    "        self.masks = None\n",
    "        self.rand_h_max = []\n",
    "        self.rand_w_max = []\n",
    "\n",
    "    def init_masks(self, height, width):\n",
    "        if self.masks is None:\n",
    "            self.masks = []\n",
    "            n_masks = self.num_grid[1] - self.num_grid[0] + 1\n",
    "            for n, n_g in enumerate(range(self.num_grid[0], self.num_grid[1] + 1, 1)):\n",
    "                grid_h = height / n_g\n",
    "                grid_w = width / n_g\n",
    "                this_mask = np.ones((int((n_g + 1) * grid_h), int((n_g + 1) * grid_w))).astype(np.uint8)\n",
    "                for i in range(n_g + 1):\n",
    "                    for j in range(n_g + 1):\n",
    "                        this_mask[\n",
    "                             int(i * grid_h) : int(i * grid_h + grid_h / 2),\n",
    "                             int(j * grid_w) : int(j * grid_w + grid_w / 2)\n",
    "                        ] = self.fill_value\n",
    "                        if self.mode == 2:\n",
    "                            this_mask[\n",
    "                                 int(i * grid_h + grid_h / 2) : int(i * grid_h + grid_h),\n",
    "                                 int(j * grid_w + grid_w / 2) : int(j * grid_w + grid_w)\n",
    "                            ] = self.fill_value\n",
    "                \n",
    "                if self.mode == 1:\n",
    "                    this_mask = 1 - this_mask\n",
    "\n",
    "                self.masks.append(this_mask)\n",
    "                self.rand_h_max.append(grid_h)\n",
    "                self.rand_w_max.append(grid_w)\n",
    "\n",
    "    def apply(self, image, mask, rand_h, rand_w, angle, **params):\n",
    "        h, w = image.shape[:2]\n",
    "        mask = AF.rotate(mask, angle) if self.rotate[1] > 0 else mask\n",
    "        mask = mask[:,:,np.newaxis] if image.ndim == 3 else mask\n",
    "        image *= mask[rand_h:rand_h+h, rand_w:rand_w+w].astype(image.dtype)\n",
    "        return image\n",
    "\n",
    "    def get_params_dependent_on_targets(self, params):\n",
    "        img = params['image']\n",
    "        height, width = img.shape[:2]\n",
    "        self.init_masks(height, width)\n",
    "\n",
    "        mid = np.random.randint(len(self.masks))\n",
    "        mask = self.masks[mid]\n",
    "        rand_h = np.random.randint(self.rand_h_max[mid])\n",
    "        rand_w = np.random.randint(self.rand_w_max[mid])\n",
    "        angle = np.random.randint(self.rotate[0], self.rotate[1]) if self.rotate[1] > 0 else 0\n",
    "\n",
    "        return {'mask': mask, 'rand_h': rand_h, 'rand_w': rand_w, 'angle': angle}\n",
    "\n",
    "    @property\n",
    "    def targets_as_params(self):\n",
    "        return ['image']\n",
    "\n",
    "    def get_transform_init_args_names(self):\n",
    "        return ('num_grid', 'fill_value', 'rotate', 'mode')"
   ]
  },
  {
   "cell_type": "code",
   "execution_count": 30,
   "metadata": {},
   "outputs": [],
   "source": [
    "grid_mask_trans = Compose([\n",
    "    albumentations.OneOf([\n",
    "        GridMask(num_grid=(3,6), mode=0),\n",
    "        GridMask(num_grid=(3,6), mode=1),\n",
    "        GridMask(num_grid=(3,6), mode=2),\n",
    "    ], p=1)\n",
    "])"
   ]
  },
  {
   "cell_type": "code",
   "execution_count": 31,
   "metadata": {
    "ExecuteTime": {
     "end_time": "2020-03-09T01:38:11.884461Z",
     "start_time": "2020-03-09T01:38:11.859523Z"
    },
    "_kg_hide-input": false,
    "code_folding": []
   },
   "outputs": [],
   "source": [
    "import albumentations as A\n",
    "import numpy as np\n",
    "\n",
    "\n",
    "def add_gaussian_noise(x, sigma):\n",
    "    x += np.random.randn(*x.shape) * sigma\n",
    "    x = np.clip(x, 0., 1.)\n",
    "    return x\n",
    "\n",
    "\n",
    "def _evaluate_ratio(ratio):\n",
    "    if ratio <= 0.:\n",
    "        return False\n",
    "    return np.random.uniform() < ratio\n",
    "\n",
    "\n",
    "def apply_aug(aug, image):\n",
    "    return aug(image=image)['image']\n",
    "\n",
    "class Transform:\n",
    "    def __init__(self, affine=True, crop=True, size=(64, 64),\n",
    "                 normalize=True, train=True, threshold=TH,\n",
    "                 sigma=-1., blur_ratio=0., noise_ratio=0., cutout_ratio=0.,\n",
    "                 grid_distortion_ratio=0., elastic_distortion_ratio=0., random_brightness_ratio=0.,\n",
    "                 piece_affine_ratio=0., ssr_ratio=0.):\n",
    "        self.affine = affine\n",
    "        self.crop = crop\n",
    "        self.size = size\n",
    "        self.normalize = normalize\n",
    "        self.train = train\n",
    "        self.threshold = threshold / 255.\n",
    "        self.sigma = sigma / 255.\n",
    "\n",
    "        self.blur_ratio = blur_ratio\n",
    "        self.noise_ratio = noise_ratio\n",
    "        self.cutout_ratio = cutout_ratio\n",
    "        self.grid_distortion_ratio = grid_distortion_ratio\n",
    "        self.elastic_distortion_ratio = elastic_distortion_ratio\n",
    "        self.random_brightness_ratio = random_brightness_ratio\n",
    "        self.piece_affine_ratio = piece_affine_ratio\n",
    "        self.ssr_ratio = ssr_ratio\n",
    "\n",
    "    def __call__(self, example):\n",
    "        if self.train:\n",
    "            x, y = example\n",
    "        else:\n",
    "            x = example\n",
    "            \n",
    "        # --- Train/Test common preprocessing ---\n",
    "        if self.crop:\n",
    "            x = crop_char_image(x, threshold=self.threshold)\n",
    "            \n",
    "        # --- Augmentation ---\n",
    "#         if self.affine:\n",
    "#             x = affine_image(x)\n",
    "        if self.affine:\n",
    "            x = apply_aug(affine_train_transform, x)\n",
    "            \n",
    "#         if self.crop:\n",
    "#             x = crop_char_image_thin(x, threshold=self.threshold)        \n",
    "            \n",
    "        if self.size is not None:\n",
    "            x = resize(x, size=self.size)\n",
    "            \n",
    "        h, w = x.shape\n",
    "\n",
    "        if self.sigma > 0.:\n",
    "            x = add_gaussian_noise(x, sigma=self.sigma)\n",
    "\n",
    "        # albumentations...\n",
    "        x = x.astype(np.float32)\n",
    "        assert x.ndim == 2\n",
    "        # 1. blur\n",
    "        if _evaluate_ratio(self.blur_ratio):\n",
    "            r = np.random.uniform()\n",
    "            if r < 0.25:\n",
    "                x = apply_aug(A.Blur(p=1.0), x)\n",
    "            elif r < 0.5:\n",
    "                x = apply_aug(A.MedianBlur(blur_limit=5, p=1.0), x)\n",
    "            elif r < 0.75:\n",
    "                x = apply_aug(A.GaussianBlur(p=1.0), x)\n",
    "            else:\n",
    "                x = apply_aug(A.MotionBlur(p=1.0), x)\n",
    "\n",
    "        if _evaluate_ratio(self.noise_ratio):\n",
    "            r = np.random.uniform()\n",
    "            if r < 0.50:\n",
    "                x = apply_aug(A.GaussNoise(var_limit=5. / 255., p=1.0), x)\n",
    "            else:\n",
    "                x = apply_aug(A.MultiplicativeNoise(p=1.0), x)\n",
    "\n",
    "        if _evaluate_ratio(self.cutout_ratio):\n",
    "            r = np.random.uniform()\n",
    "            if r < 0.2:\n",
    "                x = apply_aug(A.CoarseDropout(max_holes=4, max_height=h//8, max_width=w//8, p=1.0), x)\n",
    "            elif r < 0.4:\n",
    "                x = apply_aug(A.Cutout(num_holes=1,  max_h_size=h//3, max_w_size=w//3, p=1.0),x)  # Deprecated...\n",
    "            else:\n",
    "                x = apply_aug(grid_mask_trans, x)\n",
    "                \n",
    "        if _evaluate_ratio(self.grid_distortion_ratio):\n",
    "            x = apply_aug(A.GridDistortion(p=1.0, border_mode=cv2.BORDER_CONSTANT, value=0), x)\n",
    "\n",
    "        if _evaluate_ratio(self.elastic_distortion_ratio):\n",
    "            x = apply_aug(A.ElasticTransform(\n",
    "                sigma=50, alpha=1, alpha_affine=10, p=1.0, border_mode=cv2.BORDER_CONSTANT, value=0), x)\n",
    "\n",
    "        if _evaluate_ratio(self.random_brightness_ratio):\n",
    "            # A.RandomBrightness(p=1.0)  # Deprecated...\n",
    "            # A.RandomContrast(p=1.0)    # Deprecated...\n",
    "            x = apply_aug(A.RandomBrightnessContrast(p=1.0), x)\n",
    "\n",
    "        if _evaluate_ratio(self.piece_affine_ratio):\n",
    "            x = apply_aug(A.IAAPiecewiseAffine(p=1.0, mode='constant'), x)\n",
    "\n",
    "        if _evaluate_ratio(self.ssr_ratio):\n",
    "            x = apply_aug(A.ShiftScaleRotate(\n",
    "                shift_limit=0.0625,\n",
    "                scale_limit=0.1,\n",
    "                rotate_limit=10,\n",
    "                p=1.0, border_mode=cv2.BORDER_CONSTANT, value=0), x)\n",
    "\n",
    "        if self.normalize:\n",
    "#             x = (x.astype(np.float32) - 0.0692) / 0.2051  ##ORG\n",
    "            x = (x.astype(np.float32) - 0.449) / 0.226 ##Imagenet\n",
    "        if x.ndim == 2:\n",
    "            x = x[None, :, :]\n",
    "        x = x.astype(np.float32)\n",
    "        if self.train:\n",
    "            y = y.astype(np.int64)\n",
    "            return x, y\n",
    "        else:\n",
    "            return x"
   ]
  },
  {
   "cell_type": "code",
   "execution_count": null,
   "metadata": {},
   "outputs": [],
   "source": []
  },
  {
   "cell_type": "code",
   "execution_count": 32,
   "metadata": {
    "ExecuteTime": {
     "end_time": "2020-03-09T01:38:11.892465Z",
     "start_time": "2020-03-09T01:38:11.887442Z"
    }
   },
   "outputs": [],
   "source": [
    "# train_transform = Transform(\n",
    "#     size=(image_size, image_size), \n",
    "#     sigma=-1., blur_ratio=0.2, noise_ratio=0.1, cutout_ratio=0.4,\n",
    "#     grid_distortion_ratio=0.1, random_brightness_ratio=0.3,\n",
    "#     piece_affine_ratio=0.2, ssr_ratio=0.2, elastic_distortion_ratio=0.3) #threshold=20.,\n",
    "# transform = Transform(size=(image_size, image_size)\n",
    "train_transform = Transform(affine=True,\n",
    "    crop=False, size=(WIDTH_NEW, HEIGHT_NEW), cutout_ratio=0.5, blur_ratio=0.1) #threshold=20.,\n",
    "train_dataset = BengaliAIDataset(train_images[:200], train_labels,\n",
    "                                 transform=train_transform)"
   ]
  },
  {
   "cell_type": "markdown",
   "metadata": {},
   "source": [
    "By setting `transform`, its function is called **every time** when we access to the index. Dataset returns different `image` every time! which is useful for training with data augmentation."
   ]
  },
  {
   "cell_type": "code",
   "execution_count": 33,
   "metadata": {
    "ExecuteTime": {
     "end_time": "2020-03-09T01:38:11.904666Z",
     "start_time": "2020-03-09T01:38:11.902322Z"
    },
    "_kg_hide-input": true
   },
   "outputs": [],
   "source": [
    "# nrow, ncol = 5, 6\n",
    "\n",
    "# fig, axes = plt.subplots(nrow, ncol, figsize=(20, 8))\n",
    "# axes = axes.flatten()\n",
    "# for i, ax in tqdm(enumerate(axes)):\n",
    "#     image, label = train_dataset[3]\n",
    "#     ax.imshow(image[0], cmap='Greys')\n",
    "#     ax.set_title(f'label: {label}')\n",
    "# plt.tight_layout()"
   ]
  },
  {
   "cell_type": "markdown",
   "metadata": {},
   "source": [
    "Let's final check the processed images, which will be trained by the model."
   ]
  },
  {
   "cell_type": "code",
   "execution_count": 34,
   "metadata": {
    "ExecuteTime": {
     "end_time": "2020-03-09T01:38:16.282850Z",
     "start_time": "2020-03-09T01:38:11.909159Z"
    },
    "_kg_hide-input": true
   },
   "outputs": [
    {
     "data": {
      "application/vnd.jupyter.widget-view+json": {
       "model_id": "2c5b95fbe8dd4128895b02f2d261c8b0",
       "version_major": 2,
       "version_minor": 0
      },
      "text/plain": [
       "HBox(children=(IntProgress(value=1, bar_style='info', max=1), HTML(value='')))"
      ]
     },
     "metadata": {},
     "output_type": "display_data"
    },
    {
     "name": "stdout",
     "output_type": "stream",
     "text": [
      "\n"
     ]
    },
    {
     "data": {
      "image/png": "[encoded data removed]",
      "text/plain": [
       "<Figure size 1440x576 with 30 Axes>"
      ]
     },
     "metadata": {
      "needs_background": "light"
     },
     "output_type": "display_data"
    }
   ],
   "source": [
    "nrow, ncol = 5, 6\n",
    "\n",
    "fig, axes = plt.subplots(nrow, ncol, figsize=(20, 8))\n",
    "axes = axes.flatten()\n",
    "for i, ax in tqdm(enumerate(axes)):\n",
    "    image, label = train_dataset[i+100]\n",
    "    ax.imshow(image[0], cmap='Greys')\n",
    "    ax.set_title(f'label: {label}')\n",
    "plt.tight_layout()"
   ]
  },
  {
   "cell_type": "code",
   "execution_count": 35,
   "metadata": {
    "ExecuteTime": {
     "end_time": "2020-03-09T01:38:16.288384Z",
     "start_time": "2020-03-09T01:38:16.285418Z"
    }
   },
   "outputs": [],
   "source": [
    "# nrow, ncol = 5, 6\n",
    "\n",
    "# fig, axes = plt.subplots(nrow, ncol, figsize=(20, 8))\n",
    "# axes = axes.flatten()\n",
    "# for i, ax in tqdm(enumerate(axes)):\n",
    "#     image, label = train_dataset_noaug[i+100]\n",
    "#     ax.imshow(image, cmap='Greys')\n",
    "#     ax.set_title(f'label: {label}')\n",
    "# plt.tight_layout()"
   ]
  },
  {
   "cell_type": "code",
   "execution_count": 36,
   "metadata": {
    "ExecuteTime": {
     "end_time": "2020-03-09T01:38:16.294025Z",
     "start_time": "2020-03-09T01:38:16.290882Z"
    }
   },
   "outputs": [],
   "source": [
    "# %reload_ext autoreload\n",
    "# %autoreload 2\n",
    "\n",
    "# from PIL import Image, ImageEnhance, ImageOps\n",
    "# import numpy as np\n",
    "# import matplotlib.pyplot as plt\n",
    "# import math\n",
    "# import random\n",
    "# import pdb\n",
    "# from autoaugment import ImageNetPolicy, CIFAR10Policy, SVHNPolicy, SubPolicy"
   ]
  },
  {
   "cell_type": "code",
   "execution_count": 37,
   "metadata": {
    "ExecuteTime": {
     "end_time": "2020-03-09T01:38:16.299567Z",
     "start_time": "2020-03-09T01:38:16.296662Z"
    }
   },
   "outputs": [],
   "source": [
    "# import PIL\n",
    "# print(\"Using Pillow version {}. Upgrade using 'pip install Pillow -U'\".format(PIL.__version__))"
   ]
  },
  {
   "cell_type": "code",
   "execution_count": 38,
   "metadata": {
    "ExecuteTime": {
     "end_time": "2020-03-09T01:38:16.306820Z",
     "start_time": "2020-03-09T01:38:16.302419Z"
    }
   },
   "outputs": [],
   "source": [
    "# class AutoTransform:\n",
    "#     def __init__(self, crop=True, size=(64, 64),\n",
    "#                  normalize=True, train=True, threshold=TH,\n",
    "#                  sigma=-1., blur_ratio=0., noise_ratio=0., cutout_ratio=0.,\n",
    "#                  grid_distortion_ratio=0., elastic_distortion_ratio=0., \n",
    "#                  piece_affine_ratio=0., auto_aug=False):\n",
    "#         self.crop = crop\n",
    "#         self.size = size\n",
    "#         self.normalize = normalize\n",
    "#         self.train = train\n",
    "#         self.threshold = threshold / 255.\n",
    "#         self.sigma = sigma / 255.\n",
    "\n",
    "#         self.blur_ratio = blur_ratio\n",
    "#         self.noise_ratio = noise_ratio\n",
    "#         self.cutout_ratio = cutout_ratio\n",
    "#         self.grid_distortion_ratio = grid_distortion_ratio\n",
    "#         self.elastic_distortion_ratio = elastic_distortion_ratio\n",
    "#         self.piece_affine_ratio = piece_affine_ratio\n",
    "#         self.auto_policy = SVHNPolicy()\n",
    "#         self.auto_aug = auto_aug\n",
    "\n",
    "#     def __call__(self, example):\n",
    "#         if self.train:\n",
    "#             x, y = example\n",
    "#         else:\n",
    "#             x = example\n",
    "            \n",
    "#         # --- Train/Test common preprocessing ---\n",
    "#         if self.crop:\n",
    "#             x = crop_char_image(x, threshold=self.threshold)\n",
    "            \n",
    "# #         if self.crop:\n",
    "# #             x = crop_char_image_thin(x, threshold=self.threshold)\n",
    "\n",
    "#         if self.size is not None:\n",
    "#             x = resize(x, size=self.size)\n",
    "            \n",
    "#         x = np.transpose(np.stack((x, x, x), axis=0),(1,2,0))\n",
    "        \n",
    "#         if self.auto_aug:\n",
    "#             x_int = Image.fromarray((x*255).astype(np.uint8))\n",
    "#             x_int = self.auto_policy(x_int)\n",
    "#             x = numpy.asarray(x_int).astype(np.float32) / 255.\n",
    "        \n",
    "#         if self.sigma > 0.:\n",
    "#             x = add_gaussian_noise(x, sigma=self.sigma)\n",
    "\n",
    "#         # albumentations...\n",
    "#         x = x.astype(np.float32)\n",
    "# #         assert x.ndim == 2\n",
    "#         # 1. blur\n",
    "#         if _evaluate_ratio(self.blur_ratio):\n",
    "#             r = np.random.uniform()\n",
    "#             if r < 0.25:\n",
    "#                 x = apply_aug(A.Blur(p=1.0), x)\n",
    "#             elif r < 0.5:\n",
    "#                 x = apply_aug(A.MedianBlur(blur_limit=5, p=1.0), x)\n",
    "#             elif r < 0.75:\n",
    "#                 x = apply_aug(A.GaussianBlur(p=1.0), x)\n",
    "#             else:\n",
    "#                 x = apply_aug(A.MotionBlur(p=1.0), x)\n",
    "\n",
    "#         if _evaluate_ratio(self.noise_ratio):\n",
    "#             r = np.random.uniform()\n",
    "#             if r < 0.50:\n",
    "#                 x = apply_aug(A.GaussNoise(var_limit=5. / 255., p=1.0), x)\n",
    "#             else:\n",
    "#                 x = apply_aug(A.MultiplicativeNoise(p=1.0), x)\n",
    "\n",
    "#         if _evaluate_ratio(self.cutout_ratio):\n",
    "#             r = np.random.uniform()\n",
    "#             if r < 0.5:\n",
    "#                 x = apply_aug(A.CoarseDropout(max_holes=4, max_height=image_size//8, max_width=image_size//8, p=1.0), x)\n",
    "#             else:\n",
    "#                 x = apply_aug(A.Cutout(num_holes=1,  max_h_size=image_size//3, max_w_size=image_size//3, p=1.0),x)  # Deprecated...\n",
    "\n",
    "#         if _evaluate_ratio(self.grid_distortion_ratio):\n",
    "#             x = apply_aug(A.GridDistortion(p=1.0, border_mode=cv2.BORDER_CONSTANT, value=0), x)\n",
    "\n",
    "#         if _evaluate_ratio(self.elastic_distortion_ratio):\n",
    "#             x = apply_aug(A.ElasticTransform(\n",
    "#                 sigma=50, alpha=1, alpha_affine=10, p=1.0, border_mode=cv2.BORDER_CONSTANT, value=0), x)\n",
    "\n",
    "\n",
    "#         if _evaluate_ratio(self.piece_affine_ratio):\n",
    "#             x = apply_aug(A.IAAPiecewiseAffine(p=1.0, mode='constant'), x)\n",
    "\n",
    "\n",
    "#         if self.normalize:\n",
    "# #             x = (x.astype(np.float32) - 0.0692) / 0.2051  ##ORG\n",
    "#             x = (x.astype(np.float32) - 0.449) / 0.226 ##Imagenet\n",
    "# #         if x.ndim == 2:\n",
    "# #             x = x[None, :, :]\n",
    "#         x = x.astype(np.float32)\n",
    "#         x = np.transpose(x,(2,0,1))\n",
    "#         if self.train:\n",
    "#             y = y.astype(np.int64)\n",
    "#             return x, y\n",
    "#         else:\n",
    "#             return x"
   ]
  },
  {
   "cell_type": "code",
   "execution_count": 39,
   "metadata": {
    "ExecuteTime": {
     "end_time": "2020-03-09T01:38:16.313565Z",
     "start_time": "2020-03-09T01:38:16.310364Z"
    }
   },
   "outputs": [],
   "source": [
    "# train_auto_transform = AutoTransform(auto_aug=True, crop=False,\n",
    "#     size=(WIDTH_NEW, HEIGHT_NEW), cutout_ratio=0.5) #threshold=20.,\n",
    "# train_auto_dataset = BengaliAIDataset(train_images[:200], train_labels,\n",
    "#                                  transform=train_auto_transform)\n"
   ]
  },
  {
   "cell_type": "code",
   "execution_count": 40,
   "metadata": {
    "ExecuteTime": {
     "end_time": "2020-03-09T01:38:16.318754Z",
     "start_time": "2020-03-09T01:38:16.316001Z"
    }
   },
   "outputs": [],
   "source": [
    "# nrow, ncol = 5, 6\n",
    "\n",
    "# fig, axes = plt.subpnrow, ncol = 5, 6\n",
    "\n",
    "# fig, axes = plt.subplots(nrow, ncol, figsize=(20, 8))\n",
    "# axes = axes.flatten()\n",
    "# for i, ax in tqdm(enumerate(axes)):\n",
    "#     image, label = train_auto_dataset[i+100]\n",
    "#     ax.imshow(np.transpose(image,(1,2,0)), cmap='Greys')\n",
    "#     ax.set_title(f'label: {label}')\n",
    "# plt.tight_layout()lots(nrow, ncol, figsize=(20, 8))\n",
    "# axes = axes.flatten()\n",
    "# for i, ax in tqdm(enumerate(axes)):\n",
    "#     image, label = train_auto_dataset[i+100]\n",
    "#     ax.imshow(np.transpose(image,(1,2,0)), cmap='Greys')\n",
    "#     ax.set_title(f'label: {label}')\n",
    "# plt.tight_layout()"
   ]
  },
  {
   "cell_type": "markdown",
   "metadata": {},
   "source": [
    "<a id=\"model\"></a> \n",
    "# pytorch model & define classifier"
   ]
  },
  {
   "cell_type": "code",
   "execution_count": 41,
   "metadata": {
    "ExecuteTime": {
     "end_time": "2020-03-09T01:38:16.326206Z",
     "start_time": "2020-03-09T01:38:16.320854Z"
    },
    "_kg_hide-input": true
   },
   "outputs": [],
   "source": [
    "import torch\n",
    "\n",
    "\n",
    "def residual_add(lhs, rhs):\n",
    "    lhs_ch, rhs_ch = lhs.shape[1], rhs.shape[1]\n",
    "    if lhs_ch < rhs_ch:\n",
    "        out = lhs + rhs[:, :lhs_ch]\n",
    "    elif lhs_ch > rhs_ch:\n",
    "        out = torch.cat([lhs[:, :rhs_ch] + rhs, lhs[:, rhs_ch:]], dim=1)\n",
    "    else:\n",
    "        out = lhs + rhs\n",
    "    return out\n"
   ]
  },
  {
   "cell_type": "code",
   "execution_count": 42,
   "metadata": {
    "ExecuteTime": {
     "end_time": "2020-03-09T01:38:16.337270Z",
     "start_time": "2020-03-09T01:38:16.328491Z"
    },
    "_kg_hide-input": true
   },
   "outputs": [],
   "source": [
    "from typing import List\n",
    "\n",
    "import torch\n",
    "from torch import nn\n",
    "from torch.nn.parameter import Parameter\n",
    "\n",
    "\n",
    "class LazyLoadModule(nn.Module):\n",
    "    \"\"\"Lazy buffer/parameter loading using load_state_dict_pre_hook\n",
    "\n",
    "    Define all buffer/parameter in `_lazy_buffer_keys`/`_lazy_parameter_keys` and\n",
    "    save buffer with `register_buffer`/`register_parameter`\n",
    "    method, which can be outside of __init__ method.\n",
    "    Then this module can load any shape of Tensor during de-serializing.\n",
    "\n",
    "    Note that default value of lazy buffer is torch.Tensor([]), while lazy parameter is None.\n",
    "    \"\"\"\n",
    "    _lazy_buffer_keys: List[str] = []     # It needs to be override to register lazy buffer\n",
    "    _lazy_parameter_keys: List[str] = []  # It needs to be override to register lazy parameter\n",
    "\n",
    "    def __init__(self):\n",
    "        super(LazyLoadModule, self).__init__()\n",
    "        for k in self._lazy_buffer_keys:\n",
    "            self.register_buffer(k, torch.tensor([]))\n",
    "        for k in self._lazy_parameter_keys:\n",
    "            self.register_parameter(k, None)\n",
    "        self._register_load_state_dict_pre_hook(self._hook)\n",
    "\n",
    "    def _hook(self, state_dict, prefix, local_metadata, strict, missing_keys,\n",
    "             unexpected_keys, error_msgs):\n",
    "        for key in self._lazy_buffer_keys:\n",
    "            self.register_buffer(key, state_dict[prefix + key])\n",
    "\n",
    "        for key in self._lazy_parameter_keys:\n",
    "            self.register_parameter(key, Parameter(state_dict[prefix + key]))\n"
   ]
  },
  {
   "cell_type": "code",
   "execution_count": 43,
   "metadata": {
    "ExecuteTime": {
     "end_time": "2020-03-09T01:38:16.342710Z",
     "start_time": "2020-03-09T01:38:16.339358Z"
    }
   },
   "outputs": [],
   "source": [
    "a = np.array([2,3])\n",
    "b = np.array([4,5,6])"
   ]
  },
  {
   "cell_type": "code",
   "execution_count": 44,
   "metadata": {
    "ExecuteTime": {
     "end_time": "2020-03-09T01:38:16.359476Z",
     "start_time": "2020-03-09T01:38:16.346137Z"
    },
    "_kg_hide-input": true
   },
   "outputs": [],
   "source": [
    "import math\n",
    "import torch\n",
    "from torch.nn import init\n",
    "from torch.nn.parameter import Parameter\n",
    "import torch.nn.functional as F\n",
    "\n",
    "\n",
    "class LazyLinear(LazyLoadModule):\n",
    "    \"\"\"Linear module with lazy input inference\n",
    "\n",
    "    `in_features` can be `None`, and it is determined at the first time of forward step dynamically.\n",
    "    \"\"\"\n",
    "\n",
    "    __constants__ = ['bias', 'in_features', 'out_features']\n",
    "    _lazy_parameter_keys = ['weight']\n",
    "\n",
    "    def __init__(self, in_features, out_features, bias=True):\n",
    "        super(LazyLinear, self).__init__()\n",
    "        self.in_features = in_features\n",
    "        self.out_features = out_features\n",
    "        if bias:\n",
    "            self.bias = Parameter(torch.Tensor(out_features))\n",
    "        else:\n",
    "            self.register_parameter('bias', None)\n",
    "\n",
    "        if in_features is not None:\n",
    "            self.weight = Parameter(torch.Tensor(out_features, in_features))\n",
    "            self.reset_parameters()\n",
    "\n",
    "    def reset_parameters(self):\n",
    "        init.kaiming_uniform_(self.weight, a=math.sqrt(5))\n",
    "        if self.bias is not None:\n",
    "            fan_in, _ = init._calculate_fan_in_and_fan_out(self.weight)\n",
    "            bound = 1 / math.sqrt(fan_in)\n",
    "            init.uniform_(self.bias, -bound, bound)\n",
    "\n",
    "    def forward(self, input):\n",
    "        if self.weight is None:\n",
    "            self.in_features = input.shape[-1]\n",
    "            self.weight = Parameter(torch.Tensor(self.out_features, self.in_features))\n",
    "            self.reset_parameters()\n",
    "\n",
    "            # Need to send lazy defined parameter to device...\n",
    "            self.to(input.device)\n",
    "        return F.linear(input, self.weight, self.bias)\n",
    "\n",
    "    def extra_repr(self):\n",
    "        return 'in_features={}, out_features={}, bias={}'.format(\n",
    "            self.in_features, self.out_features, self.bias is not None\n",
    "        )\n"
   ]
  },
  {
   "cell_type": "code",
   "execution_count": 45,
   "metadata": {
    "ExecuteTime": {
     "end_time": "2020-03-09T01:38:16.372566Z",
     "start_time": "2020-03-09T01:38:16.362624Z"
    },
    "_kg_hide-input": true
   },
   "outputs": [],
   "source": [
    "from torch import nn\n",
    "import torch.nn.functional as F\n",
    "\n",
    "\n",
    "class LinearBlock(nn.Module):\n",
    "\n",
    "    def __init__(self, in_features, out_features, bias=True,\n",
    "                 use_bn=True, activation=F.relu, dropout_ratio=-1, residual=False,):\n",
    "        super(LinearBlock, self).__init__()\n",
    "        if in_features is None:\n",
    "            self.linear = LazyLinear(in_features, out_features, bias=bias)\n",
    "        else:\n",
    "            self.linear = nn.Linear(in_features, out_features, bias=bias)\n",
    "        if use_bn:\n",
    "            self.bn = nn.BatchNorm1d(out_features)\n",
    "        if dropout_ratio > 0.:\n",
    "            self.dropout = nn.Dropout(p=dropout_ratio)\n",
    "        else:\n",
    "            self.dropout = None\n",
    "        self.activation = activation\n",
    "        self.use_bn = use_bn\n",
    "        self.dropout_ratio = dropout_ratio\n",
    "        self.residual = residual\n",
    "\n",
    "    def __call__(self, x):\n",
    "        h = self.linear(x)\n",
    "        if self.use_bn:\n",
    "            h = self.bn(h)\n",
    "        if self.activation is not None:\n",
    "            h = self.activation(h)\n",
    "        if self.residual:\n",
    "            h = residual_add(h, x)\n",
    "        if self.dropout_ratio > 0:\n",
    "            h = self.dropout(h)\n",
    "        return h"
   ]
  },
  {
   "cell_type": "code",
   "execution_count": 46,
   "metadata": {
    "ExecuteTime": {
     "end_time": "2020-03-09T01:38:16.384252Z",
     "start_time": "2020-03-09T01:38:16.375918Z"
    },
    "code_folding": []
   },
   "outputs": [],
   "source": [
    "class Flatten(nn.Module):\n",
    "    def forward(self, input):\n",
    "        return input.view(input.size(0), -1)\n",
    "    \n",
    "class Classifier(nn.Module):\n",
    "    def __init__(self, inp = 2048, h1=1024, num_class = [1000,1,1,1], dropout_ratio=0.35):\n",
    "        super().__init__()\n",
    "        self.ap = nn.AdaptiveAvgPool2d(1)\n",
    "        self.mp = nn.AdaptiveMaxPool2d(1)\n",
    "        self.fla = Flatten()\n",
    "#         self.bn0 = nn.BatchNorm1d(inp*2,eps=1e-05, momentum=0.1, affine=True)\n",
    "        self.dropout0 = nn.Dropout(dropout_ratio)\n",
    "        \n",
    "        self.logit = nn.ModuleList(\n",
    "            [ nn.Linear(inp, c) for c in num_class]\n",
    "        )\n",
    "#         self.fc1 = nn.Linear(inp*2, h1)\n",
    "#         self.bn1 = nn.BatchNorm1d(h1,eps=1e-05, momentum=0.1, affine=True)\n",
    "#         self.dropout1 = nn.Dropout(dropout_ratio)\n",
    "#         self.fc2 = nn.Linear(h1, out)\n",
    "        \n",
    "    def forward(self, x):\n",
    "#         ap = self.ap(x)\n",
    "#         mp = self.mp(x)\n",
    "#         x = torch.cat((ap,mp),dim=1)\n",
    "        x = self.ap(x)\n",
    "        x = self.fla(x)\n",
    "#         x = self.bn0(x)\n",
    "        x = self.dropout0(x)\n",
    "        logit = [l(x) for l in self.logit]\n",
    "#         x = F.relu(self.fc1(x))\n",
    "#         x = self.bn1(x)\n",
    "#         x = self.dropout1(x)         \n",
    "#         x = self.fc2(x)\n",
    "        return logit"
   ]
  },
  {
   "cell_type": "code",
   "execution_count": 47,
   "metadata": {
    "ExecuteTime": {
     "end_time": "2020-03-09T01:38:16.389258Z",
     "start_time": "2020-03-09T01:38:16.386905Z"
    }
   },
   "outputs": [],
   "source": [
    "# ap = nn.AdaptiveAvgPool2d((1,1))\n",
    "# mp = nn.AdaptiveMaxPool2d((1,1))\n",
    "# x = np.random.rand(5,4,4)\n",
    "# print(x)\n",
    "# print(ap)\n",
    "# x1 = torch.nn.functional.adaptive_avg_pool2d(x, (1,1))\n",
    "# print(x1)"
   ]
  },
  {
   "cell_type": "code",
   "execution_count": 48,
   "metadata": {
    "ExecuteTime": {
     "end_time": "2020-03-09T01:38:16.429684Z",
     "start_time": "2020-03-09T01:38:16.391594Z"
    }
   },
   "outputs": [
    {
     "name": "stdout",
     "output_type": "stream",
     "text": [
      "tensor(10.)\n"
     ]
    }
   ],
   "source": [
    "a = torch.Tensor([[1,2],[3,4]])\n",
    "b = torch.sum(a,dim=(-1,-2))\n",
    "print(b)"
   ]
  },
  {
   "cell_type": "code",
   "execution_count": 49,
   "metadata": {
    "ExecuteTime": {
     "end_time": "2020-03-09T01:38:16.433872Z",
     "start_time": "2020-03-09T01:38:16.431149Z"
    }
   },
   "outputs": [],
   "source": [
    "def set_parameter_requires_grad(model, feature_extracting):\n",
    "    if feature_extracting:\n",
    "        for param in model.parameters():\n",
    "            param.requires_grad = False"
   ]
  },
  {
   "cell_type": "code",
   "execution_count": 50,
   "metadata": {
    "ExecuteTime": {
     "end_time": "2020-03-09T01:38:17.546294Z",
     "start_time": "2020-03-09T01:38:16.435415Z"
    }
   },
   "outputs": [],
   "source": [
    "import pretrainedmodels\n",
    "import torch\n",
    "from torch import nn\n",
    "import torch.nn.functional as F\n",
    "from torch.nn import Sequential\n",
    "import collections\n",
    "from dropblock import *\n",
    "\n",
    "try:\n",
    "    from collections import OrderedDict\n",
    "except ImportError:\n",
    "    OrderedDict = dict\n",
    "\n",
    "from seresnext import *    \n",
    "\n",
    "class PretrainedCNN(nn.Module):\n",
    "    \n",
    "    def load_pretrain(self, skip=['block0.','logit.'], is_print=True):\n",
    "        load_pretrain(self, skip, pretrain_file=PRETRAIN_FILE, conversion=CONVERSION, is_print=is_print)\n",
    "        \n",
    "    def __init__(self, model_name='se_resnext101_32x4d',\n",
    "                 in_channels=1, num_class=[10], use_bn=True,\n",
    "                 pretrained='imagenet', dropout_ratio=0):\n",
    "        super(PretrainedCNN, self).__init__()\n",
    "#         self.conv0 = nn.Conv2d(\n",
    "#             in_channels, 3, kernel_size=3, stride=1, padding=1, bias=True)\n",
    "#         self.base_model = pretrainedmodels.__dict__[model_name](pretrained=pretrained)\n",
    "# #         print(self.base_model)\n",
    "#         names = []\n",
    "#         for name, child in self.base_model.named_children():\n",
    "#             names.append(name)\n",
    "            \n",
    "#         arch = self.base_model\n",
    "#         arch = list(arch.children())\n",
    "#         #saving the weights of the forst conv in w\n",
    "#         w = arch[0][0].weight\n",
    "#         #creating new Conv2d to accept 1 channel \n",
    "#         arch[0][0] = nn.Conv2d(1, 64, kernel_size=7, stride=2, padding=3, bias=False)\n",
    "#         #substituting weights of newly created Conv2d with w from but we have to take mean\n",
    "#         #to go from  3 channel to 1\n",
    "#         arch[0][0].weight = nn.Parameter(torch.mean(w, dim=1, keepdim=True))\n",
    "#         arch = nn.Sequential(OrderedDict([(names[k], arch[k]) for k in range(len(names))]))\n",
    "# #         print(arch)\n",
    "#         self.base_model = arch\n",
    "# #         print(\"#######################################\")\n",
    "# #         print(self.base_model)\n",
    "#         activation = F.leaky_relu\n",
    "#         self.do_pooling = True\n",
    "#         if self.do_pooling:\n",
    "#             inch = self.base_model.last_linear.in_features\n",
    "#         else:\n",
    "#             inch = None\n",
    "\n",
    "        e = ResNext50()\n",
    "\n",
    "        self.block0 = e.block0\n",
    "        self.block1 = e.block1\n",
    "        self.block2 = e.block2\n",
    "        self.block3 = e.block3\n",
    "        self.block4 = e.block4\n",
    "        e = None  #dropped\n",
    "        inch = 2048\n",
    "        hdim = HDIM\n",
    "        self.dropblock0 = DropBlock2D(drop_prob=0.2, block_size = 24)\n",
    "        self.dropblock1 = DropBlock2D(drop_prob=0.2, block_size = 12)\n",
    "        self.dropblock2 = DropBlock2D(drop_prob=0.2, block_size = 6)\n",
    "        \n",
    "        self.classifer = Classifier(inp = inch, h1=hdim, num_class = num_class, dropout_ratio=dropout_ratio)\n",
    "#         lin1 = LinearBlock(inch, hdim, use_bn=use_bn, activation=activation, residual=False)\n",
    "#         lin2 = LinearBlock(hdim, out_dim, use_bn=use_bn, activation=None, residual=False)\n",
    "#         self.lin_layers = Sequential(lin1, lin2)\n",
    "\n",
    "    def forward(self, x):\n",
    "        \n",
    "#         h = self.base_model.layer0(x)\n",
    "#         h = self.base_model.layer1(h)\n",
    "#         h = self.base_model.layer2(h)\n",
    "#         h = self.base_model.layer3(h)\n",
    "#         h = self.base_model.layer4(h) \n",
    "\n",
    "        batch_size,C,H,W = x.shape\n",
    "        if (H,W) !=(HEIGHT_NEW, WIDTH_NEW):\n",
    "            x = F.interpolate(x,size=(HEIGHT_NEW, WIDTH_NEW), mode='bilinear',align_corners=False)\n",
    "        x = x.expand(-1, 3, -1, -1)\n",
    "        x = self.block0(x)\n",
    "        x = self.dropblock0(x)\n",
    "        x = self.block1(x)\n",
    "        x = self.dropblock1(x)\n",
    "        x = self.block2(x)\n",
    "        x = self.dropblock2(x)\n",
    "        x = self.block3(x)\n",
    "        x = self.block4(x)\n",
    "        \n",
    "        h = self.classifer(x)\n",
    "\n",
    "        return h"
   ]
  },
  {
   "cell_type": "code",
   "execution_count": null,
   "metadata": {},
   "outputs": [],
   "source": []
  },
  {
   "cell_type": "code",
   "execution_count": null,
   "metadata": {
    "ExecuteTime": {
     "end_time": "2020-02-24T23:57:39.817648Z",
     "start_time": "2020-02-24T23:57:39.219998Z"
    }
   },
   "outputs": [],
   "source": []
  },
  {
   "cell_type": "code",
   "execution_count": 51,
   "metadata": {
    "ExecuteTime": {
     "end_time": "2020-03-09T01:38:17.552325Z",
     "start_time": "2020-03-09T01:38:17.547878Z"
    }
   },
   "outputs": [],
   "source": [
    "def print_base_layers(predictor):\n",
    "    print(\"base model layer names::\")\n",
    "    for name, child in predictor.base_model.named_children():\n",
    "        print(name)\n",
    "        \n",
    "def print_base_grad_status(predictor):\n",
    "    print(\"base model grad status::\")\n",
    "    for name, child in predictor.base_model.named_children():\n",
    "        print(name)\n",
    "        for param in child.parameters():\n",
    "            print(param.requires_grad)"
   ]
  },
  {
   "cell_type": "code",
   "execution_count": 52,
   "metadata": {
    "ExecuteTime": {
     "end_time": "2020-03-09T01:38:17.557248Z",
     "start_time": "2020-03-09T01:38:17.554613Z"
    }
   },
   "outputs": [],
   "source": [
    "# print_grad_status(predictortmp)"
   ]
  },
  {
   "cell_type": "code",
   "execution_count": 53,
   "metadata": {
    "ExecuteTime": {
     "end_time": "2020-03-09T01:38:17.565436Z",
     "start_time": "2020-03-09T01:38:17.560078Z"
    }
   },
   "outputs": [],
   "source": [
    "def frozen_basiclayers(predictor):\n",
    "    for name, child in predictor.base_model.named_children():\n",
    "        if name in ['layer0','layer1','layer2','layer3']:\n",
    "            print(name + ' is frozen')\n",
    "            for param in child.parameters():\n",
    "                param.requires_grad = False\n",
    "        else:\n",
    "            print(name + ' is unfrozen')\n",
    "            for param in child.parameters():\n",
    "                param.requires_grad = True"
   ]
  },
  {
   "cell_type": "code",
   "execution_count": 54,
   "metadata": {
    "ExecuteTime": {
     "end_time": "2020-03-09T01:38:17.570545Z",
     "start_time": "2020-03-09T01:38:17.567440Z"
    }
   },
   "outputs": [],
   "source": [
    "def unfrozen_basiclayers(predictor):\n",
    "    for name, child in predictor.base_model.named_children():\n",
    "        for param in child.parameters():\n",
    "            param.requires_grad = True"
   ]
  },
  {
   "cell_type": "code",
   "execution_count": 55,
   "metadata": {
    "ExecuteTime": {
     "end_time": "2020-03-09T01:38:17.574740Z",
     "start_time": "2020-03-09T01:38:17.572352Z"
    }
   },
   "outputs": [],
   "source": [
    "# frozen_basiclayers(predictortmp)\n",
    "# print_grad_status(predictortmp)"
   ]
  },
  {
   "cell_type": "code",
   "execution_count": 56,
   "metadata": {
    "ExecuteTime": {
     "end_time": "2020-03-09T01:38:17.581494Z",
     "start_time": "2020-03-09T01:38:17.577305Z"
    }
   },
   "outputs": [
    {
     "name": "stdout",
     "output_type": "stream",
     "text": [
      "n_total 186\n"
     ]
    }
   ],
   "source": [
    "n_grapheme = 168\n",
    "n_vowel = 11\n",
    "n_consonant = 7\n",
    "n_total = n_grapheme + n_vowel + n_consonant\n",
    "print('n_total', n_total)"
   ]
  },
  {
   "cell_type": "code",
   "execution_count": 57,
   "metadata": {
    "ExecuteTime": {
     "end_time": "2020-03-09T01:38:17.585417Z",
     "start_time": "2020-03-09T01:38:17.583391Z"
    }
   },
   "outputs": [],
   "source": [
    "# predictortmp = PretrainedCNN(in_channels=1, num_class=[n_grapheme, n_vowel, n_consonant], model_name=model_name, pretrained=\"imagenet\")\n",
    "# for name, child in predictortmp.named_children():\n",
    "#     print(name)\n",
    "# print_base_layers(predictortmp)"
   ]
  },
  {
   "cell_type": "code",
   "execution_count": null,
   "metadata": {},
   "outputs": [],
   "source": []
  },
  {
   "cell_type": "code",
   "execution_count": 58,
   "metadata": {
    "ExecuteTime": {
     "end_time": "2020-03-09T01:38:17.589501Z",
     "start_time": "2020-03-09T01:38:17.587267Z"
    }
   },
   "outputs": [],
   "source": [
    "# def get_optimizer_adam(classifier, learning_rate=1e-3, weight_decay=0.0):\n",
    "    \n",
    "#     base_params = list(map(id, classifier.predictor.base_model.parameters()))\n",
    "#     fast_learned_params = filter(lambda p: id(p) not in base_params, \n",
    "#                                  classifier.parameters())\n",
    "# #     print(\"base_params len:\", len(base_params))\n",
    "# #     print(\"fast_learned_params len:\", len(list(fast_learned_params)))\n",
    "#     lr_100 = max(learning_rate/100, 1e-6)\n",
    "#     lr_10 = max(learning_rate/10, 5e-6)\n",
    "#     optimizer = torch.optim.Adam(\n",
    "#     [\n",
    "#         dict(params=classifier.predictor.base_model.layer0.parameters(), lr=lr_100),\n",
    "#         dict(params=classifier.predictor.base_model.layer1.parameters(), lr=lr_100),\n",
    "#         dict(params=classifier.predictor.base_model.layer2.parameters(), lr=lr_100),\n",
    "#         dict(params=classifier.predictor.base_model.layer3.parameters(), lr=lr_100),\n",
    "#         dict(params=classifier.predictor.base_model.layer4.parameters(), lr=lr_10),        \n",
    "#         dict(params=classifier.predictor.base_model.avg_pool.parameters(), lr=lr_10),\n",
    "#         dict(params=classifier.predictor.base_model.last_linear.parameters(), lr=lr_10),\n",
    "#         {'params': fast_learned_params},\n",
    "#     ], lr = learning_rate, weight_decay=weight_decay)\n",
    "    \n",
    "#     return optimizer"
   ]
  },
  {
   "cell_type": "code",
   "execution_count": 59,
   "metadata": {
    "ExecuteTime": {
     "end_time": "2020-03-09T01:38:17.595956Z",
     "start_time": "2020-03-09T01:38:17.592694Z"
    }
   },
   "outputs": [],
   "source": [
    "# def get_optimizer_adam(classifier, learning_rate=1e-3, weight_decay=0.0):\n",
    "    \n",
    "#     base_params = list(map(id, classifier.predictor.base_model.parameters()))\n",
    "#     fast_learned_params = filter(lambda p: id(p) not in base_params, \n",
    "#                                  classifier.parameters())\n",
    "# #     print(\"base_params len:\", len(base_params))\n",
    "# #     print(\"fast_learned_params len:\", len(list(fast_learned_params)))\n",
    "#     lr_100 = max(learning_rate/100, 1e-7)\n",
    "#     lr_10 = max(learning_rate/10, 1e-7)\n",
    "#     optimizer = torch.optim.Adam(\n",
    "#     [\n",
    "#         dict(params=classifier.predictor.base_model.layer0.parameters(), lr=lr_10),\n",
    "#         dict(params=classifier.predictor.base_model.layer1.parameters(), lr=lr_10),\n",
    "#         dict(params=classifier.predictor.base_model.layer2.parameters(), lr=lr_10),\n",
    "#         dict(params=classifier.predictor.base_model.layer3.parameters(), lr=lr_10),\n",
    "#         dict(params=classifier.predictor.base_model.layer4.parameters(), lr=learning_rate),        \n",
    "#         dict(params=classifier.predictor.base_model.avg_pool.parameters(), lr=learning_rate),\n",
    "#         dict(params=classifier.predictor.base_model.last_linear.parameters(), lr=learning_rate),\n",
    "#         {'params': fast_learned_params},\n",
    "#     ], lr = learning_rate, weight_decay=weight_decay)\n",
    "    \n",
    "#     return optimizer"
   ]
  },
  {
   "cell_type": "code",
   "execution_count": 60,
   "metadata": {
    "ExecuteTime": {
     "end_time": "2020-03-09T01:38:17.605206Z",
     "start_time": "2020-03-09T01:38:17.597900Z"
    }
   },
   "outputs": [],
   "source": [
    "def get_optimizer_adam(classifier, learning_rate=1e-3, weight_decay=0.0):\n",
    "    \n",
    "    base_params = list(map(id, classifier.predictor.parameters()))\n",
    "    fast_learned_params = filter(lambda p: id(p) not in base_params, \n",
    "                                 classifier.parameters())\n",
    "#     print(\"base_params len:\", len(base_params))\n",
    "#     print(\"fast_learned_params len:\", len(list(fast_learned_params)))\n",
    "    lr_100 = max(learning_rate/100, 1e-7)\n",
    "    lr_10 = max(learning_rate/10, 1e-7)\n",
    "    optimizer = torch.optim.Adam(\n",
    "    [\n",
    "        dict(params=classifier.predictor.block0.parameters(), lr=lr_10),\n",
    "        dict(params=classifier.predictor.block1.parameters(), lr=lr_10),\n",
    "        dict(params=classifier.predictor.block2.parameters(), lr=lr_10),\n",
    "        dict(params=classifier.predictor.block3.parameters(), lr=lr_10),\n",
    "        dict(params=classifier.predictor.block4.parameters(), lr=learning_rate),\n",
    "        {'params': fast_learned_params},\n",
    "    ], lr = learning_rate, weight_decay=weight_decay)\n",
    "    \n",
    "    return optimizer"
   ]
  },
  {
   "cell_type": "markdown",
   "metadata": {},
   "source": [
    "## Classifier"
   ]
  },
  {
   "cell_type": "code",
   "execution_count": 61,
   "metadata": {
    "ExecuteTime": {
     "end_time": "2020-03-09T01:38:17.628490Z",
     "start_time": "2020-03-09T01:38:17.607806Z"
    },
    "_kg_hide-input": true
   },
   "outputs": [],
   "source": [
    "import torch\n",
    "from torch import nn\n",
    "import torch.nn.functional as F\n",
    "from tqdm import tqdm\n",
    "\n",
    "\n",
    "def accuracy(y, t):\n",
    "    pred_label = torch.argmax(y, dim=1)\n",
    "    count = pred_label.shape[0]\n",
    "    correct = (pred_label == t).sum().type(torch.float32)\n",
    "    acc = correct / count\n",
    "    if isinstance(acc, torch.Tensor):\n",
    "        acc = acc.item()\n",
    "    return acc\n",
    "\n",
    "\n",
    "class BengaliClassifier(nn.Module):\n",
    "    def __init__(self, predictor, n_grapheme=168, n_vowel=11, n_consonant=7):\n",
    "        super(BengaliClassifier, self).__init__()\n",
    "        self.n_grapheme = n_grapheme\n",
    "        self.n_vowel = n_vowel\n",
    "        self.n_consonant = n_consonant\n",
    "        self.n_total_class = self.n_grapheme + self.n_vowel + self.n_consonant\n",
    "        self.predictor = predictor\n",
    "\n",
    "        self.metrics_keys = [\n",
    "            'loss', 'loss_grapheme', 'loss_vowel', 'loss_consonant', 'loss_comb',\n",
    "            'acc_grapheme', 'acc_vowel', 'acc_consonant', 'acc_comb']\n",
    "\n",
    "    def forward(self, x, y=None):\n",
    "        pred = self.predictor(x)\n",
    "        if isinstance(pred, list):\n",
    "            preds = pred\n",
    "        else:\n",
    "            assert pred.shape[1] == self.n_total_class\n",
    "            preds = torch.split(pred, [self.n_grapheme, self.n_vowel, self.n_consonant], dim=1)\n",
    "        loss_grapheme = 2*F.cross_entropy(preds[0], y[:, 0])\n",
    "        loss_vowel = F.cross_entropy(preds[1], y[:, 1])\n",
    "        loss_consonant = F.cross_entropy(preds[2], y[:, 2])\n",
    "        loss_comb = 0.1*F.cross_entropy(preds[3], y[:, 3])\n",
    "        loss = loss_grapheme + loss_vowel + loss_consonant + loss_comb\n",
    "        metrics = {\n",
    "            'loss': loss.item(),\n",
    "            'loss_grapheme': loss_grapheme.item(),\n",
    "            'loss_vowel': loss_vowel.item(),\n",
    "            'loss_consonant': loss_consonant.item(),\n",
    "            'loss_comb': loss_comb.item(),\n",
    "            'acc_grapheme': accuracy(preds[0], y[:, 0]),\n",
    "            'acc_vowel': accuracy(preds[1], y[:, 1]),\n",
    "            'acc_consonant': accuracy(preds[2], y[:, 2]),\n",
    "            'acc_comb': accuracy(preds[3], y[:, 3]),\n",
    "        }\n",
    "        return loss, metrics, pred\n",
    "\n",
    "    def calc(self, data_loader):\n",
    "        device: torch.device = next(self.parameters()).device\n",
    "        self.eval()\n",
    "        output_list = []\n",
    "        with torch.no_grad():\n",
    "            for batch in tqdm(data_loader):\n",
    "                # TODO: support general preprocessing.\n",
    "                # If `data` is not `Data` instance, `to` method is not supported!\n",
    "                batch = batch.to(device)\n",
    "                pred = self.predictor(batch)\n",
    "                output_list.append(pred)\n",
    "        output = torch.cat(output_list, dim=0)\n",
    "        preds = torch.split(output, [self.n_grapheme, self.n_vowel, self.n_consonant], dim=1)\n",
    "        return preds\n",
    "\n",
    "    def predict_proba(self, data_loader):\n",
    "        preds = self.calc(data_loader)\n",
    "        return [F.softmax(p, dim=1) for p in preds]\n",
    "\n",
    "    def predict(self, data_loader):\n",
    "        preds = self.calc(data_loader)\n",
    "        pred_labels = [torch.argmax(p, dim=1) for p in preds]\n",
    "        return pred_labels\n"
   ]
  },
  {
   "cell_type": "code",
   "execution_count": 62,
   "metadata": {
    "ExecuteTime": {
     "end_time": "2020-03-09T01:38:17.632790Z",
     "start_time": "2020-03-09T01:38:17.630524Z"
    }
   },
   "outputs": [],
   "source": [
    "# classifiertmp = BengaliClassifier(predictortmp).to(device)\n",
    "# # for name, child in classifiertmp.named_children():\n",
    "# #     print(name)\n",
    "# # optimizertmp = get_optimizer_adam(classifiertmp)\n",
    "# # print(optimizertmp)\n",
    "\n",
    "# ctmp_params = list(map(id, classifiertmp.parameters()))\n",
    "# print(len(ctmp_params))\n",
    "\n",
    "# pbtmp_params = list(map(id, predictortmp.base_model.parameters()))\n",
    "# print(len(pbtmp_params))\n",
    "\n",
    "# pcftmp_params = list(map(id, predictortmp.classifer.parameters()))\n",
    "# print(len(pcftmp_params))\n",
    "\n",
    "# opt_tmp = get_optimizer_adam(classifiertmp)\n",
    "# print(opt_tmp)"
   ]
  },
  {
   "cell_type": "code",
   "execution_count": null,
   "metadata": {
    "ExecuteTime": {
     "end_time": "2020-02-24T23:21:24.505317Z",
     "start_time": "2020-02-24T23:21:24.500563Z"
    }
   },
   "outputs": [],
   "source": []
  },
  {
   "cell_type": "markdown",
   "metadata": {},
   "source": [
    "<a id=\"train\"></a>\n",
    "# Training code\n"
   ]
  },
  {
   "cell_type": "code",
   "execution_count": 63,
   "metadata": {
    "ExecuteTime": {
     "end_time": "2020-03-09T01:38:17.639080Z",
     "start_time": "2020-03-09T01:38:17.635679Z"
    }
   },
   "outputs": [],
   "source": [
    "# --- Model ---\n",
    "device = torch.device(device)\n",
    "\n",
    "def schedule_lr(metrics):\n",
    "    avg_mae = metrics['recall']\n",
    "    # --- update lr ---\n",
    "    lr = scheduler.optimizer.param_groups[-1]['lr']\n",
    "    scheduler.step(avg_mae)\n",
    "    log_report.report('lr', lr)"
   ]
  },
  {
   "cell_type": "markdown",
   "metadata": {},
   "source": [
    "## prepare data"
   ]
  },
  {
   "cell_type": "code",
   "execution_count": 64,
   "metadata": {
    "ExecuteTime": {
     "end_time": "2020-03-09T01:38:17.652955Z",
     "start_time": "2020-03-09T01:38:17.641744Z"
    }
   },
   "outputs": [],
   "source": [
    "from logging import getLogger\n",
    "import numpy\n",
    "import os\n",
    "from time import perf_counter\n",
    "import argparse\n",
    "from distutils.util import strtobool\n",
    "import torch\n",
    "from numpy.random.mtrand import RandomState\n",
    "from torch.utils.data.dataloader import DataLoader\n",
    "\n",
    "import pandas as pd\n",
    "import torch\n",
    "import json\n",
    "\n",
    "\n",
    "def save_json(filepath, params):\n",
    "    with open(filepath, 'w') as f:\n",
    "        json.dump(params, f, indent=4)\n",
    "\n",
    "class DictOutputTransform:\n",
    "    def __init__(self, key, index=0):\n",
    "        self.key = key\n",
    "        self.index = index\n",
    "\n",
    "    def __call__(self, x):\n",
    "        if self.index >= 0:\n",
    "            x = x[self.index]\n",
    "        return x[self.key]\n"
   ]
  },
  {
   "cell_type": "code",
   "execution_count": 65,
   "metadata": {
    "ExecuteTime": {
     "end_time": "2020-03-09T01:38:17.664154Z",
     "start_time": "2020-03-09T01:38:17.654531Z"
    }
   },
   "outputs": [],
   "source": [
    "class LogReport:\n",
    "    def __init__(self, dirpath=None, logger=None):\n",
    "        self.dirpath = str(dirpath) if dirpath is not None else None\n",
    "        self.logger = logger or getLogger(__name__)\n",
    "\n",
    "        self.reported_dict = {}  # To handle additional parameter to monitor\n",
    "        self.history = []\n",
    "        self.start_time = perf_counter()\n",
    "\n",
    "    def report(self, key, value):\n",
    "        self.reported_dict[key] = value\n",
    "\n",
    "    def __call__(self, epoch, iteration, train_metrics, val_metrics, mode):\n",
    "        elapsed_time = perf_counter() - self.start_time\n",
    "        elem = {'epoch': epoch,\n",
    "                'iteration': iteration}\n",
    "        \n",
    "        elem.update({f'train/{key}': value\n",
    "                     for key, value in train_metrics.items()})\n",
    "        \n",
    "        elem.update({f'val/{key}': value\n",
    "             for key, value in val_metrics.items()})\n",
    "        \n",
    "        elem.update(self.reported_dict)\n",
    "        elem['elapsed_time'] = elapsed_time\n",
    "#         print(\"mode in log type:{}, val:{}\".format(type(mode), mode))\n",
    "        elem['mode'] = str(mode)\n",
    "        self.history.append(elem)\n",
    "        if self.dirpath:\n",
    "            save_json(os.path.join(self.dirpath, 'log.json'), self.history)\n",
    "            self.get_dataframe().to_csv(os.path.join(self.dirpath, 'log.csv'), index=False)\n",
    "\n",
    "        # --- print ---\n",
    "        msg = ''\n",
    "        for key, value in elem.items():\n",
    "            if key in ['iteration']:\n",
    "                # skip printing some parameters...\n",
    "                continue\n",
    "            elif isinstance(value, int):\n",
    "                msg += f'{key} {value: >6d} '\n",
    "            elif isinstance(value, str):\n",
    "                msg += f'{key} {value} '\n",
    "            else:\n",
    "                msg += f'{key} {value: 8f} '\n",
    "#         self.logger.warning(msg)\n",
    "        print(msg)\n",
    "\n",
    "        # --- Reset ---\n",
    "        self.reported_dict = {}\n",
    "\n",
    "    def get_dataframe(self):\n",
    "        df = pd.DataFrame(self.history)\n",
    "        return df"
   ]
  },
  {
   "cell_type": "code",
   "execution_count": 66,
   "metadata": {
    "ExecuteTime": {
     "end_time": "2020-03-09T01:38:17.669965Z",
     "start_time": "2020-03-09T01:38:17.665710Z"
    }
   },
   "outputs": [],
   "source": [
    "class ModelSnapshotHandler:\n",
    "    def __init__(self, model, filepath='model_{count:06}.pt',\n",
    "                 interval=1, logger=None):\n",
    "        self.model = model\n",
    "        self.filepath: str = str(filepath)\n",
    "        self.interval = interval\n",
    "        self.logger = logger or getLogger(__name__)\n",
    "        self.count = 0\n",
    "\n",
    "    def __call__(self):\n",
    "        self.count += 1\n",
    "        filepath = self.filepath.format(count=self.count)\n",
    "        torch.save(self.model.state_dict(), filepath)"
   ]
  },
  {
   "cell_type": "code",
   "execution_count": 67,
   "metadata": {
    "ExecuteTime": {
     "end_time": "2020-03-09T01:38:17.679665Z",
     "start_time": "2020-03-09T01:38:17.671479Z"
    }
   },
   "outputs": [],
   "source": [
    "import numpy as np\n",
    "import sklearn.metrics\n",
    "import torch\n",
    "\n",
    "\n",
    "def macro_recall(pred_y, y, n_grapheme=168, n_vowel=11, n_consonant=7, n_comb_class = 1295):\n",
    "    if not isinstance(pred_y, list):\n",
    "        pred_y = torch.split(pred_y, [n_grapheme, n_vowel, n_consonant], dim=1)\n",
    "    pred_labels = [torch.argmax(py, dim=1).cpu().numpy() for py in pred_y]\n",
    "\n",
    "    y = y.cpu().numpy()\n",
    "    # pred_y = [p.cpu().numpy() for p in pred_y]\n",
    "\n",
    "    recall_grapheme = sklearn.metrics.recall_score(y[:, 0], pred_labels[0],average='macro')\n",
    "    recall_vowel = sklearn.metrics.recall_score(y[:, 1], pred_labels[1], average='macro')\n",
    "    recall_consonant = sklearn.metrics.recall_score(y[:, 2], pred_labels[2], average='macro')\n",
    "    recall_comb = sklearn.metrics.recall_score(y[:, 3], pred_labels[3], average='macro')    \n",
    "    scores = [recall_grapheme, recall_vowel, recall_consonant, recall_comb]\n",
    "    final_score = np.average(scores, weights=[2, 1, 1, 0])\n",
    "    # print(f'recall: grapheme {recall_grapheme}, vowel {recall_vowel}, consonant {recall_consonant}, '\n",
    "    #       f'total {final_score}, y {y.shape}')\n",
    "    return final_score\n",
    "\n",
    "\n",
    "def calc_macro_recall(solution, submission):\n",
    "    # solution df, submission df\n",
    "    scores = []\n",
    "    for component in ['grapheme_root', 'consonant_diacritic', 'vowel_diacritic']:\n",
    "        y_true_subset = solution[solution[component] == component]['target'].values\n",
    "        y_pred_subset = submission[submission[component] == component]['target'].values\n",
    "        scores.append(sklearn.metrics.recall_score(\n",
    "            y_true_subset, y_pred_subset, average='macro'))\n",
    "    final_score = np.average(scores, weights=[2, 1, 1])\n",
    "    return final_score"
   ]
  },
  {
   "cell_type": "code",
   "execution_count": 68,
   "metadata": {
    "ExecuteTime": {
     "end_time": "2020-03-09T01:38:17.683886Z",
     "start_time": "2020-03-09T01:38:17.681554Z"
    }
   },
   "outputs": [],
   "source": [
    "loss_recall_names =  ['loss', 'loss_grapheme', 'loss_vowel', 'loss_consonant','loss_comb',\n",
    "            'acc_grapheme', 'acc_vowel', 'acc_consonant','acc_comb', 'recall']"
   ]
  },
  {
   "cell_type": "code",
   "execution_count": 69,
   "metadata": {
    "ExecuteTime": {
     "end_time": "2020-03-09T01:38:17.692250Z",
     "start_time": "2020-03-09T01:38:17.685727Z"
    }
   },
   "outputs": [],
   "source": [
    "def train_model(epoch, data_loader, log_report, n_train_call):\n",
    "    classifier.train()\n",
    "    metrics_total = dict(zip(loss_recall_names, np.zeros([len(loss_recall_names)], dtype='float32')))\n",
    "    n_tag = 0\n",
    "    for batch_idx, (img_batch, regr_batch) in enumerate(tqdm(data_loader)):\n",
    "        n_sub = img_batch.shape[0]\n",
    "        img_batch = img_batch.to(device)\n",
    "        regr_batch = regr_batch.to(device)\n",
    "        \n",
    "        optimizer.zero_grad()\n",
    "        loss, metrics, pred_y = classifier(img_batch, regr_batch)\n",
    "        \n",
    "        recall = macro_recall(pred_y, regr_batch)\n",
    "        metrics_total[\"recall\"] = (metrics_total[\"recall\"]*n_tag+recall*n_sub)/(n_tag+n_sub)\n",
    "        for key, val in metrics.items():\n",
    "                metrics_total[key] = (metrics_total[key]*n_tag+val*n_sub)/(n_tag+n_sub)\n",
    "                \n",
    "        n_tag = n_tag + n_sub\n",
    "        n_train_call[0] += n_sub\n",
    "        \n",
    "        loss.backward()\n",
    "        optimizer.step()\n",
    "        \n",
    "    return metrics_total, n_train_call"
   ]
  },
  {
   "cell_type": "code",
   "execution_count": 70,
   "metadata": {
    "ExecuteTime": {
     "end_time": "2020-03-09T01:38:17.700291Z",
     "start_time": "2020-03-09T01:38:17.694385Z"
    }
   },
   "outputs": [],
   "source": [
    "def evaluate_model(epoch, data_loader, log_report):\n",
    "    classifier.eval()\n",
    "    n_tag = 0\n",
    "    metrics_total = dict(zip(loss_recall_names, np.zeros([len(loss_recall_names)], dtype='float32')))\n",
    "    with torch.no_grad():\n",
    "        for batch_idx, (img_batch, regr_batch) in enumerate(tqdm(data_loader)):\n",
    "            n_sub = img_batch.shape[0]\n",
    "            img_batch = img_batch.to(device)\n",
    "            regr_batch = regr_batch.to(device)\n",
    "\n",
    "            _, metrics, pred_y = classifier(img_batch, regr_batch)\n",
    "        \n",
    "            recall = macro_recall(pred_y, regr_batch)\n",
    "            metrics_total[\"recall\"] = (metrics_total[\"recall\"]*n_tag+recall*n_sub)/(n_tag+n_sub)\n",
    "            for key, val in metrics.items():\n",
    "                    metrics_total[key] = (metrics_total[key]*n_tag+val*n_sub)/(n_tag+n_sub)\n",
    "\n",
    "            n_tag = n_tag + n_sub\n",
    "        \n",
    "        schedule_lr(metrics_total)   \n",
    "        return metrics_total\n"
   ]
  },
  {
   "cell_type": "markdown",
   "metadata": {},
   "source": [
    "## Train\n"
   ]
  },
  {
   "cell_type": "code",
   "execution_count": 71,
   "metadata": {
    "ExecuteTime": {
     "end_time": "2020-03-09T01:38:17.708171Z",
     "start_time": "2020-03-09T01:38:17.702213Z"
    }
   },
   "outputs": [],
   "source": [
    "def save_res(predictor, l1, epoch, val_metrics, min_val_loss, max_val_recall, outdir):\n",
    "    mode = list(\"000\")\n",
    "    if((epoch+1)%10==0):\n",
    "        model_file_name = os.path.join(outdir, 'predictor_{}_{}.pt'.format(l1,epoch))\n",
    "        torch.save(predictor.state_dict(), model_file_name)\n",
    "        mode[0] = \"1\"\n",
    "    if(val_metrics['loss']<min_val_loss):\n",
    "        min_val_loss = val_metrics['loss']\n",
    "        if mode[0] is \"0\":\n",
    "            model_file_name = os.path.join(outdir, 'predictor_min_loss.pt')\n",
    "            torch.save(predictor.state_dict(), model_file_name)\n",
    "        mode[1] = \"1\"\n",
    "    if(val_metrics['recall']>max_val_recall):\n",
    "        max_val_recall = val_metrics['recall']\n",
    "        if mode[0] is not \"1\" and mode[1] is not \"1\":\n",
    "            model_file_name = os.path.join(outdir, 'predictor_max_recall.pt')\n",
    "            torch.save(predictor.state_dict(), model_file_name)\n",
    "        mode[2] = \"1\"\n",
    "    mode = ''.join(mode)\n",
    "    return mode, min_val_loss, max_val_recall"
   ]
  },
  {
   "cell_type": "code",
   "execution_count": 72,
   "metadata": {
    "ExecuteTime": {
     "end_time": "2020-03-09T01:38:17.714339Z",
     "start_time": "2020-03-09T01:38:17.710295Z"
    }
   },
   "outputs": [],
   "source": [
    "def save_params(outdir, k, img_h, img_w, th, arch, batchsize):\n",
    "    save_json(os.path.join(outdir, 'args_{}.json'.format(k)), \n",
    "              {'image_w': img_w,\n",
    "               'image_h': img_h,\n",
    "               'threshold': th, \n",
    "               'batch_size':batchsize,\n",
    "               'arch': arch, \n",
    "               'model_name': model_name,\n",
    "               'learning_rate': LR,\n",
    "               'weight_decay': WD,\n",
    "               'dropout_ratio': DP,\n",
    "               'hidden_dim':HDIM\n",
    "              }\n",
    "             )"
   ]
  },
  {
   "cell_type": "code",
   "execution_count": 73,
   "metadata": {
    "ExecuteTime": {
     "end_time": "2020-03-09T01:38:17.721956Z",
     "start_time": "2020-03-09T01:38:17.716294Z"
    }
   },
   "outputs": [],
   "source": [
    "def save_checkpoint(epochID, model, optimizer, scheduler, accMax, lossMIN, checkpoint_path, launchTimestamp):\n",
    "    torch.save({'epoch': epochID + 1, 'state_dict': model.state_dict(), 'max_recall': accMax, 'loss_min': lossMIN,\n",
    "                            'optimizer': optimizer.state_dict(), 'scheduler':scheduler.state_dict()},\n",
    "                           checkpoint_path + '/m-checkpoint.pth.tar')\n",
    "#      launchTimestamp + '-' + str(\"%.4f\" % lossMIN) +\n",
    "    \n",
    "def load_checkpoint(model, checkpoint_path, optimizer):\n",
    "    if checkpoint_path != None:\n",
    "        checkpoint_path += '/m-checkpoint.pth.tar'\n",
    "        model_CKPT = torch.load(checkpoint_path)\n",
    "        model.load_state_dict(model_CKPT['state_dict'])\n",
    "        print('loading checkpoint!')\n",
    "        optimizer.load_state_dict(model_CKPT['optimizer'])\n",
    "        epoch = model_CKPT['epoch']\n",
    "        acc_Max = model_CKPT['max_recall']\n",
    "        loss_MIN = model_CKPT['loss_min']\n",
    "        scheduler.load_state_dict(model_CKPT['scheduler'])\n",
    "    return epoch, model, optimizer, scheduler, acc_Max, loss_MIN"
   ]
  },
  {
   "cell_type": "code",
   "execution_count": 74,
   "metadata": {
    "ExecuteTime": {
     "end_time": "2020-03-09T01:41:21.108461Z",
     "start_time": "2020-03-09T01:41:20.791995Z"
    },
    "scrolled": true
   },
   "outputs": [
    {
     "name": "stderr",
     "output_type": "stream",
     "text": [
      "\r",
      "  0%|          | 0/4185 [00:00<?, ?it/s]"
     ]
    },
    {
     "name": "stdout",
     "output_type": "stream",
     "text": [
      "predictor <class '__main__.PretrainedCNN'>\n"
     ]
    },
    {
     "name": "stderr",
     "output_type": "stream",
     "text": [
      "/home/chen/anaconda3/lib/python3.7/site-packages/sklearn/metrics/classification.py:1439: UndefinedMetricWarning:\n",
      "\n",
      "Recall is ill-defined and being set to 0.0 in labels with no true samples.\n",
      "\n",
      "100%|██████████| 4185/4185 [1:18:36<00:00,  1.13s/it]\n",
      "100%|██████████| 837/837 [05:11<00:00,  2.69it/s]\n",
      "  0%|          | 0/4185 [00:00<?, ?it/s]"
     ]
    },
    {
     "name": "stdout",
     "output_type": "stream",
     "text": [
      "epoch      0 train/loss  0.956593 train/loss_grapheme  0.672215 train/loss_vowel  0.116653 train/loss_consonant  0.099601 train/loss_comb  0.068124 train/acc_grapheme  0.911830 train/acc_vowel  0.963379 train/acc_consonant  0.967865 train/acc_comb  0.895121 train/recall  0.901074 val/loss  0.155013 val/loss_grapheme  0.095760 val/loss_vowel  0.023630 val/loss_consonant  0.022347 val/loss_comb  0.013276 val/acc_grapheme  0.986880 val/acc_vowel  0.994523 val/acc_consonant  0.993751 val/acc_comb  0.981876 val/recall  0.983196 lr  0.000050 elapsed_time  5028.515102 mode 011 \n"
     ]
    },
    {
     "name": "stderr",
     "output_type": "stream",
     "text": [
      "100%|██████████| 4185/4185 [1:18:59<00:00,  1.13s/it]\n",
      "100%|██████████| 837/837 [05:09<00:00,  2.70it/s]\n",
      "  0%|          | 0/4185 [00:00<?, ?it/s]"
     ]
    },
    {
     "name": "stdout",
     "output_type": "stream",
     "text": [
      "epoch      1 train/loss  0.827280 train/loss_grapheme  0.579111 train/loss_vowel  0.100444 train/loss_consonant  0.087051 train/loss_comb  0.060674 train/acc_grapheme  0.921440 train/acc_vowel  0.968029 train/acc_consonant  0.970942 train/acc_comb  0.906040 train/recall  0.911178 val/loss  0.132283 val/loss_grapheme  0.080258 val/loss_vowel  0.020687 val/loss_consonant  0.019146 val/loss_comb  0.012193 val/acc_grapheme  0.988324 val/acc_vowel  0.995046 val/acc_consonant  0.994448 val/acc_comb  0.983942 val/recall  0.985222 lr  0.000050 elapsed_time  10079.126690 mode 011 \n"
     ]
    },
    {
     "name": "stderr",
     "output_type": "stream",
     "text": [
      "100%|██████████| 4185/4185 [1:18:56<00:00,  1.13s/it]\n",
      "100%|██████████| 837/837 [05:08<00:00,  2.72it/s]\n",
      "  0%|          | 0/4185 [00:00<?, ?it/s]"
     ]
    },
    {
     "name": "stdout",
     "output_type": "stream",
     "text": [
      "epoch      2 train/loss  0.787062 train/loss_grapheme  0.549248 train/loss_vowel  0.094662 train/loss_consonant  0.084888 train/loss_comb  0.058264 train/acc_grapheme  0.925344 train/acc_vowel  0.969986 train/acc_consonant  0.972057 train/acc_comb  0.909729 train/recall  0.915067 val/loss  0.121675 val/loss_grapheme  0.072437 val/loss_vowel  0.019812 val/loss_consonant  0.016939 val/loss_comb  0.012488 val/acc_grapheme  0.989818 val/acc_vowel  0.995046 val/acc_consonant  0.995071 val/acc_comb  0.984341 val/recall  0.986860 lr  0.000050 elapsed_time  15125.614864 mode 011 \n"
     ]
    },
    {
     "name": "stderr",
     "output_type": "stream",
     "text": [
      "100%|██████████| 4185/4185 [1:18:39<00:00,  1.13s/it]\n",
      "100%|██████████| 837/837 [05:11<00:00,  2.69it/s]\n",
      "  0%|          | 0/4185 [00:00<?, ?it/s]"
     ]
    },
    {
     "name": "stdout",
     "output_type": "stream",
     "text": [
      "epoch      3 train/loss  0.764258 train/loss_grapheme  0.531728 train/loss_vowel  0.093216 train/loss_consonant  0.082527 train/loss_comb  0.056787 train/acc_grapheme  0.926832 train/acc_vowel  0.970638 train/acc_consonant  0.972376 train/acc_comb  0.910735 train/recall  0.917096 val/loss  0.104724 val/loss_grapheme  0.061795 val/loss_vowel  0.017024 val/loss_consonant  0.014652 val/loss_comb  0.011254 val/acc_grapheme  0.991162 val/acc_vowel  0.995419 val/acc_consonant  0.995594 val/acc_comb  0.985561 val/recall  0.988389 lr  0.000050 elapsed_time  20157.874181 mode 011 \n"
     ]
    },
    {
     "name": "stderr",
     "output_type": "stream",
     "text": [
      "100%|██████████| 4185/4185 [1:18:38<00:00,  1.13s/it]\n",
      "100%|██████████| 837/837 [05:11<00:00,  2.68it/s]\n",
      "  0%|          | 0/4185 [00:00<?, ?it/s]"
     ]
    },
    {
     "name": "stdout",
     "output_type": "stream",
     "text": [
      "epoch      4 train/loss  0.743936 train/loss_grapheme  0.516300 train/loss_vowel  0.090986 train/loss_consonant  0.081087 train/loss_comb  0.055563 train/acc_grapheme  0.928899 train/acc_vowel  0.971072 train/acc_consonant  0.972799 train/acc_comb  0.913897 train/recall  0.918603 val/loss  0.102093 val/loss_grapheme  0.060102 val/loss_vowel  0.016198 val/loss_consonant  0.013386 val/loss_comb  0.012406 val/acc_grapheme  0.991336 val/acc_vowel  0.995992 val/acc_consonant  0.995942 val/acc_comb  0.985361 val/recall  0.988611 lr  0.000050 elapsed_time  25189.653900 mode 011 \n"
     ]
    },
    {
     "name": "stderr",
     "output_type": "stream",
     "text": [
      "100%|██████████| 4185/4185 [1:18:36<00:00,  1.13s/it]\n",
      "100%|██████████| 837/837 [05:11<00:00,  2.69it/s]\n",
      "  0%|          | 0/4185 [00:00<?, ?it/s]"
     ]
    },
    {
     "name": "stdout",
     "output_type": "stream",
     "text": [
      "epoch      5 train/loss  0.724247 train/loss_grapheme  0.502083 train/loss_vowel  0.088263 train/loss_consonant  0.079264 train/loss_comb  0.054636 train/acc_grapheme  0.929889 train/acc_vowel  0.971863 train/acc_consonant  0.973511 train/acc_comb  0.914180 train/recall  0.920028 val/loss  0.095968 val/loss_grapheme  0.055055 val/loss_vowel  0.016075 val/loss_consonant  0.013467 val/loss_comb  0.011372 val/acc_grapheme  0.991984 val/acc_vowel  0.995693 val/acc_consonant  0.995768 val/acc_comb  0.986781 val/recall  0.988754 lr  0.000050 elapsed_time  30218.637517 mode 011 \n"
     ]
    },
    {
     "name": "stderr",
     "output_type": "stream",
     "text": [
      "100%|██████████| 4185/4185 [1:18:35<00:00,  1.13s/it]\n",
      "100%|██████████| 837/837 [05:10<00:00,  2.69it/s]\n",
      "  0%|          | 0/4185 [00:00<?, ?it/s]"
     ]
    },
    {
     "name": "stdout",
     "output_type": "stream",
     "text": [
      "epoch      6 train/loss  0.725691 train/loss_grapheme  0.504335 train/loss_vowel  0.088200 train/loss_consonant  0.078678 train/loss_comb  0.054479 train/acc_grapheme  0.930243 train/acc_vowel  0.971883 train/acc_consonant  0.973476 train/acc_comb  0.914868 train/recall  0.920172 val/loss  0.087752 val/loss_grapheme  0.049236 val/loss_vowel  0.015164 val/loss_consonant  0.011998 val/loss_comb  0.011354 val/acc_grapheme  0.992656 val/acc_vowel  0.995768 val/acc_consonant  0.996315 val/acc_comb  0.988125 val/recall  0.990017 lr  0.000050 elapsed_time  35246.611470 mode 011 \n"
     ]
    },
    {
     "name": "stderr",
     "output_type": "stream",
     "text": [
      "100%|██████████| 4185/4185 [1:18:36<00:00,  1.13s/it]\n",
      "100%|██████████| 837/837 [05:10<00:00,  2.69it/s]\n",
      "  0%|          | 0/4185 [00:00<?, ?it/s]"
     ]
    },
    {
     "name": "stdout",
     "output_type": "stream",
     "text": [
      "epoch      7 train/loss  0.717274 train/loss_grapheme  0.499302 train/loss_vowel  0.086804 train/loss_consonant  0.077051 train/loss_comb  0.054117 train/acc_grapheme  0.929949 train/acc_vowel  0.972491 train/acc_consonant  0.974323 train/acc_comb  0.915291 train/recall  0.920599 val/loss  0.121566 val/loss_grapheme  0.074736 val/loss_vowel  0.016425 val/loss_consonant  0.015360 val/loss_comb  0.015045 val/acc_grapheme  0.988374 val/acc_vowel  0.995519 val/acc_consonant  0.995494 val/acc_comb  0.983046 val/recall  0.985639 lr  0.000050 elapsed_time  40275.828327 mode 000 \n"
     ]
    },
    {
     "name": "stderr",
     "output_type": "stream",
     "text": [
      "100%|██████████| 4185/4185 [1:18:37<00:00,  1.13s/it]\n",
      "100%|██████████| 837/837 [05:10<00:00,  2.70it/s]\n",
      "  0%|          | 0/4185 [00:00<?, ?it/s]"
     ]
    },
    {
     "name": "stdout",
     "output_type": "stream",
     "text": [
      "epoch      8 train/loss  0.698379 train/loss_grapheme  0.484652 train/loss_vowel  0.085157 train/loss_consonant  0.075567 train/loss_comb  0.053003 train/acc_grapheme  0.932543 train/acc_vowel  0.972670 train/acc_consonant  0.974786 train/acc_comb  0.917850 train/recall  0.922913 val/loss  0.089685 val/loss_grapheme  0.051046 val/loss_vowel  0.014822 val/loss_consonant  0.011964 val/loss_comb  0.011852 val/acc_grapheme  0.992581 val/acc_vowel  0.996191 val/acc_consonant  0.996390 val/acc_comb  0.986606 val/recall  0.989954 lr  0.000050 elapsed_time  45305.308800 mode 000 \n"
     ]
    },
    {
     "name": "stderr",
     "output_type": "stream",
     "text": [
      "100%|██████████| 4185/4185 [1:18:34<00:00,  1.13s/it]\n",
      "100%|██████████| 837/837 [05:08<00:00,  2.71it/s]\n",
      "  0%|          | 0/4185 [00:00<?, ?it/s]"
     ]
    },
    {
     "name": "stdout",
     "output_type": "stream",
     "text": [
      "epoch      9 train/loss  0.694565 train/loss_grapheme  0.481766 train/loss_vowel  0.083461 train/loss_consonant  0.076481 train/loss_comb  0.052857 train/acc_grapheme  0.933156 train/acc_vowel  0.973128 train/acc_consonant  0.974716 train/acc_comb  0.918114 train/recall  0.923863 val/loss  0.077324 val/loss_grapheme  0.043346 val/loss_vowel  0.012221 val/loss_consonant  0.011036 val/loss_comb  0.010721 val/acc_grapheme  0.993652 val/acc_vowel  0.996739 val/acc_consonant  0.996515 val/acc_comb  0.988598 val/recall  0.991399 lr  0.000050 elapsed_time  50330.279552 mode 111 \n"
     ]
    },
    {
     "name": "stderr",
     "output_type": "stream",
     "text": [
      "100%|██████████| 4185/4185 [1:18:44<00:00,  1.13s/it]\n",
      "100%|██████████| 837/837 [05:09<00:00,  2.70it/s]\n",
      "  0%|          | 0/4185 [00:00<?, ?it/s]"
     ]
    },
    {
     "name": "stdout",
     "output_type": "stream",
     "text": [
      "epoch     10 train/loss  0.682083 train/loss_grapheme  0.471245 train/loss_vowel  0.084572 train/loss_consonant  0.073882 train/loss_comb  0.052385 train/acc_grapheme  0.933674 train/acc_vowel  0.972764 train/acc_consonant  0.974796 train/acc_comb  0.918687 train/recall  0.923589 val/loss  0.074544 val/loss_grapheme  0.041542 val/loss_vowel  0.011811 val/loss_consonant  0.010682 val/loss_comb  0.010510 val/acc_grapheme  0.994150 val/acc_vowel  0.996813 val/acc_consonant  0.996714 val/acc_comb  0.989195 val/recall  0.992083 lr  0.000050 elapsed_time  55366.124587 mode 011 \n"
     ]
    },
    {
     "name": "stderr",
     "output_type": "stream",
     "text": [
      "100%|██████████| 4185/4185 [1:18:49<00:00,  1.13s/it]\n",
      "100%|██████████| 837/837 [05:09<00:00,  2.70it/s]\n",
      "  0%|          | 0/4185 [00:00<?, ?it/s]"
     ]
    },
    {
     "name": "stdout",
     "output_type": "stream",
     "text": [
      "epoch     11 train/loss  0.671921 train/loss_grapheme  0.463765 train/loss_vowel  0.083069 train/loss_consonant  0.073445 train/loss_comb  0.051642 train/acc_grapheme  0.935322 train/acc_vowel  0.973750 train/acc_consonant  0.975538 train/acc_comb  0.919926 train/recall  0.925436 val/loss  0.072302 val/loss_grapheme  0.039655 val/loss_vowel  0.011830 val/loss_consonant  0.010147 val/loss_comb  0.010670 val/acc_grapheme  0.993950 val/acc_vowel  0.996664 val/acc_consonant  0.996813 val/acc_comb  0.989345 val/recall  0.991857 lr  0.000050 elapsed_time  60407.263745 mode 010 \n"
     ]
    },
    {
     "name": "stderr",
     "output_type": "stream",
     "text": [
      "100%|██████████| 4185/4185 [1:18:50<00:00,  1.13s/it]\n",
      "100%|██████████| 837/837 [05:09<00:00,  2.70it/s]\n",
      "  0%|          | 0/4185 [00:00<?, ?it/s]"
     ]
    },
    {
     "name": "stdout",
     "output_type": "stream",
     "text": [
      "epoch     12 train/loss  0.674474 train/loss_grapheme  0.464893 train/loss_vowel  0.083050 train/loss_consonant  0.074506 train/loss_comb  0.052024 train/acc_grapheme  0.935172 train/acc_vowel  0.973138 train/acc_consonant  0.974980 train/acc_comb  0.919618 train/recall  0.925117 val/loss  0.120536 val/loss_grapheme  0.074444 val/loss_vowel  0.016341 val/loss_consonant  0.014224 val/loss_comb  0.015527 val/acc_grapheme  0.988299 val/acc_vowel  0.995469 val/acc_consonant  0.995494 val/acc_comb  0.981777 val/recall  0.985485 lr  0.000050 elapsed_time  65449.097867 mode 000 \n"
     ]
    },
    {
     "name": "stderr",
     "output_type": "stream",
     "text": [
      "100%|██████████| 4185/4185 [1:18:43<00:00,  1.13s/it]\n",
      "100%|██████████| 837/837 [05:09<00:00,  2.71it/s]\n",
      "  0%|          | 0/4185 [00:00<?, ?it/s]"
     ]
    },
    {
     "name": "stdout",
     "output_type": "stream",
     "text": [
      "epoch     13 train/loss  0.659939 train/loss_grapheme  0.455757 train/loss_vowel  0.080726 train/loss_consonant  0.072207 train/loss_comb  0.051249 train/acc_grapheme  0.936024 train/acc_vowel  0.974233 train/acc_consonant  0.976225 train/acc_comb  0.921370 train/recall  0.926675 val/loss  0.071715 val/loss_grapheme  0.039710 val/loss_vowel  0.011483 val/loss_consonant  0.009658 val/loss_comb  0.010864 val/acc_grapheme  0.994224 val/acc_vowel  0.996938 val/acc_consonant  0.996913 val/acc_comb  0.988772 val/recall  0.992329 lr  0.000050 elapsed_time  70483.618474 mode 011 \n"
     ]
    },
    {
     "name": "stderr",
     "output_type": "stream",
     "text": [
      "100%|██████████| 4185/4185 [1:18:55<00:00,  1.13s/it]\n",
      "100%|██████████| 837/837 [05:11<00:00,  2.69it/s]\n",
      "  0%|          | 0/4185 [00:00<?, ?it/s]"
     ]
    },
    {
     "name": "stdout",
     "output_type": "stream",
     "text": [
      "epoch     14 train/loss  0.657829 train/loss_grapheme  0.453336 train/loss_vowel  0.080118 train/loss_consonant  0.073342 train/loss_comb  0.051033 train/acc_grapheme  0.936527 train/acc_vowel  0.974198 train/acc_consonant  0.975593 train/acc_comb  0.921639 train/recall  0.926784 val/loss  0.066382 val/loss_grapheme  0.037725 val/loss_vowel  0.010307 val/loss_consonant  0.007907 val/loss_comb  0.010444 val/acc_grapheme  0.994224 val/acc_vowel  0.997237 val/acc_consonant  0.997535 val/acc_comb  0.989892 val/recall  0.992673 lr  0.000050 elapsed_time  75531.826956 mode 011 \n"
     ]
    },
    {
     "name": "stderr",
     "output_type": "stream",
     "text": [
      "100%|██████████| 4185/4185 [1:18:48<00:00,  1.13s/it]\n",
      "100%|██████████| 837/837 [05:08<00:00,  2.71it/s]\n",
      "  0%|          | 0/4185 [00:00<?, ?it/s]"
     ]
    },
    {
     "name": "stdout",
     "output_type": "stream",
     "text": [
      "epoch     15 train/loss  0.654384 train/loss_grapheme  0.450901 train/loss_vowel  0.080259 train/loss_consonant  0.072303 train/loss_comb  0.050922 train/acc_grapheme  0.937059 train/acc_vowel  0.974403 train/acc_consonant  0.975822 train/acc_comb  0.921893 train/recall  0.927467 val/loss  0.064597 val/loss_grapheme  0.032857 val/loss_vowel  0.011285 val/loss_consonant  0.009656 val/loss_comb  0.010800 val/acc_grapheme  0.995270 val/acc_vowel  0.996739 val/acc_consonant  0.997112 val/acc_comb  0.990067 val/recall  0.993421 lr  0.000050 elapsed_time  80570.748567 mode 011 \n"
     ]
    },
    {
     "name": "stderr",
     "output_type": "stream",
     "text": [
      "100%|██████████| 4185/4185 [1:18:48<00:00,  1.13s/it]\n",
      "100%|██████████| 837/837 [05:09<00:00,  2.71it/s]\n",
      "  0%|          | 0/4185 [00:00<?, ?it/s]"
     ]
    },
    {
     "name": "stdout",
     "output_type": "stream",
     "text": [
      "epoch     16 train/loss  0.650509 train/loss_grapheme  0.447805 train/loss_vowel  0.080249 train/loss_consonant  0.071562 train/loss_comb  0.050892 train/acc_grapheme  0.936746 train/acc_vowel  0.973755 train/acc_consonant  0.976061 train/acc_comb  0.921435 train/recall  0.927505 val/loss  0.068684 val/loss_grapheme  0.036323 val/loss_vowel  0.010729 val/loss_consonant  0.009830 val/loss_comb  0.011802 val/acc_grapheme  0.994722 val/acc_vowel  0.997087 val/acc_consonant  0.996938 val/acc_comb  0.988847 val/recall  0.992713 lr  0.000050 elapsed_time  85610.269564 mode 000 \n"
     ]
    },
    {
     "name": "stderr",
     "output_type": "stream",
     "text": [
      "100%|██████████| 4185/4185 [1:18:46<00:00,  1.13s/it]\n",
      "100%|██████████| 837/837 [05:11<00:00,  2.69it/s]\n",
      "  0%|          | 0/4185 [00:00<?, ?it/s]"
     ]
    },
    {
     "name": "stdout",
     "output_type": "stream",
     "text": [
      "epoch     17 train/loss  0.639599 train/loss_grapheme  0.440844 train/loss_vowel  0.078067 train/loss_consonant  0.070453 train/loss_comb  0.050235 train/acc_grapheme  0.938224 train/acc_vowel  0.975050 train/acc_consonant  0.976404 train/acc_comb  0.922436 train/recall  0.928792 val/loss  0.059496 val/loss_grapheme  0.030568 val/loss_vowel  0.010624 val/loss_consonant  0.008082 val/loss_comb  0.010222 val/acc_grapheme  0.995693 val/acc_vowel  0.996988 val/acc_consonant  0.997386 val/acc_comb  0.990888 val/recall  0.993946 lr  0.000050 elapsed_time  90649.745270 mode 011 \n"
     ]
    },
    {
     "name": "stderr",
     "output_type": "stream",
     "text": [
      "100%|██████████| 4185/4185 [1:18:44<00:00,  1.13s/it]\n",
      "100%|██████████| 837/837 [05:12<00:00,  2.68it/s]\n",
      "  0%|          | 0/4185 [00:00<?, ?it/s]"
     ]
    },
    {
     "name": "stdout",
     "output_type": "stream",
     "text": [
      "epoch     18 train/loss  0.644018 train/loss_grapheme  0.442676 train/loss_vowel  0.079951 train/loss_consonant  0.070904 train/loss_comb  0.050487 train/acc_grapheme  0.937552 train/acc_vowel  0.974537 train/acc_consonant  0.976474 train/acc_comb  0.922237 train/recall  0.928392 val/loss  0.061112 val/loss_grapheme  0.033287 val/loss_vowel  0.009342 val/loss_consonant  0.008058 val/loss_comb  0.010426 val/acc_grapheme  0.994921 val/acc_vowel  0.997311 val/acc_consonant  0.997386 val/acc_comb  0.989892 val/recall  0.993085 lr  0.000050 elapsed_time  95687.736640 mode 000 \n"
     ]
    },
    {
     "name": "stderr",
     "output_type": "stream",
     "text": [
      "100%|██████████| 4185/4185 [1:18:53<00:00,  1.13s/it]\n",
      "100%|██████████| 837/837 [05:10<00:00,  2.69it/s]\n",
      "  0%|          | 0/4185 [00:00<?, ?it/s]"
     ]
    },
    {
     "name": "stdout",
     "output_type": "stream",
     "text": [
      "epoch     19 train/loss  0.634022 train/loss_grapheme  0.436944 train/loss_vowel  0.077478 train/loss_consonant  0.069687 train/loss_comb  0.049913 train/acc_grapheme  0.938145 train/acc_vowel  0.975005 train/acc_consonant  0.976708 train/acc_comb  0.923546 train/recall  0.929094 val/loss  0.058319 val/loss_grapheme  0.029712 val/loss_vowel  0.009625 val/loss_consonant  0.008553 val/loss_comb  0.010429 val/acc_grapheme  0.996216 val/acc_vowel  0.997237 val/acc_consonant  0.997262 val/acc_comb  0.990913 val/recall  0.994277 lr  0.000050 elapsed_time  100733.411153 mode 111 \n"
     ]
    },
    {
     "name": "stderr",
     "output_type": "stream",
     "text": [
      "100%|██████████| 4185/4185 [1:18:43<00:00,  1.13s/it]\n",
      "100%|██████████| 837/837 [05:10<00:00,  2.69it/s]\n",
      "  0%|          | 0/4185 [00:00<?, ?it/s]"
     ]
    },
    {
     "name": "stdout",
     "output_type": "stream",
     "text": [
      "epoch     20 train/loss  0.635807 train/loss_grapheme  0.436675 train/loss_vowel  0.077945 train/loss_consonant  0.071066 train/loss_comb  0.050121 train/acc_grapheme  0.938528 train/acc_vowel  0.974876 train/acc_consonant  0.976225 train/acc_comb  0.923681 train/recall  0.929009 val/loss  0.062223 val/loss_grapheme  0.033455 val/loss_vowel  0.009689 val/loss_consonant  0.008523 val/loss_comb  0.010557 val/acc_grapheme  0.995245 val/acc_vowel  0.997336 val/acc_consonant  0.997187 val/acc_comb  0.990440 val/recall  0.993326 lr  0.000050 elapsed_time  105769.534011 mode 000 \n"
     ]
    },
    {
     "name": "stderr",
     "output_type": "stream",
     "text": [
      "100%|██████████| 4185/4185 [1:18:42<00:00,  1.13s/it]\n",
      "100%|██████████| 837/837 [05:07<00:00,  2.72it/s]\n",
      "  0%|          | 0/4185 [00:00<?, ?it/s]"
     ]
    },
    {
     "name": "stdout",
     "output_type": "stream",
     "text": [
      "epoch     21 train/loss  0.625932 train/loss_grapheme  0.429717 train/loss_vowel  0.076224 train/loss_consonant  0.070387 train/loss_comb  0.049605 train/acc_grapheme  0.939419 train/acc_vowel  0.975637 train/acc_consonant  0.976439 train/acc_comb  0.924617 train/recall  0.930156 val/loss  0.058963 val/loss_grapheme  0.032018 val/loss_vowel  0.008735 val/loss_consonant  0.007819 val/loss_comb  0.010391 val/acc_grapheme  0.995270 val/acc_vowel  0.997610 val/acc_consonant  0.997610 val/acc_comb  0.990415 val/recall  0.993849 lr  0.000050 elapsed_time  110800.711728 mode 000 \n"
     ]
    },
    {
     "name": "stderr",
     "output_type": "stream",
     "text": [
      "100%|██████████| 4185/4185 [1:18:52<00:00,  1.13s/it]\n",
      "100%|██████████| 837/837 [05:11<00:00,  2.69it/s]\n",
      "  0%|          | 0/4185 [00:00<?, ?it/s]"
     ]
    },
    {
     "name": "stdout",
     "output_type": "stream",
     "text": [
      "epoch     22 train/loss  0.624161 train/loss_grapheme  0.427861 train/loss_vowel  0.077650 train/loss_consonant  0.069252 train/loss_comb  0.049398 train/acc_grapheme  0.939484 train/acc_vowel  0.974990 train/acc_consonant  0.976783 train/acc_comb  0.924816 train/recall  0.930232 val/loss  0.054180 val/loss_grapheme  0.027639 val/loss_vowel  0.008509 val/loss_consonant  0.007874 val/loss_comb  0.010158 val/acc_grapheme  0.996315 val/acc_vowel  0.997486 val/acc_consonant  0.997436 val/acc_comb  0.990913 val/recall  0.994525 lr  0.000050 elapsed_time  115846.416825 mode 011 \n"
     ]
    },
    {
     "name": "stderr",
     "output_type": "stream",
     "text": [
      "100%|██████████| 4185/4185 [1:18:54<00:00,  1.13s/it]\n",
      "100%|██████████| 837/837 [05:09<00:00,  2.70it/s]\n",
      "  0%|          | 0/4185 [00:00<?, ?it/s]"
     ]
    },
    {
     "name": "stdout",
     "output_type": "stream",
     "text": [
      "epoch     23 train/loss  0.616832 train/loss_grapheme  0.423292 train/loss_vowel  0.076157 train/loss_consonant  0.068293 train/loss_comb  0.049090 train/acc_grapheme  0.940540 train/acc_vowel  0.975642 train/acc_consonant  0.977370 train/acc_comb  0.925622 train/recall  0.931479 val/loss  0.054983 val/loss_grapheme  0.028929 val/loss_vowel  0.008716 val/loss_consonant  0.007230 val/loss_comb  0.010107 val/acc_grapheme  0.995743 val/acc_vowel  0.997336 val/acc_consonant  0.997585 val/acc_comb  0.990963 val/recall  0.994079 lr  0.000050 elapsed_time  120892.366992 mode 000 \n"
     ]
    },
    {
     "name": "stderr",
     "output_type": "stream",
     "text": [
      "100%|██████████| 4185/4185 [1:18:48<00:00,  1.13s/it]\n",
      "100%|██████████| 837/837 [05:09<00:00,  2.70it/s]\n",
      "  0%|          | 0/4185 [00:00<?, ?it/s]"
     ]
    },
    {
     "name": "stdout",
     "output_type": "stream",
     "text": [
      "epoch     24 train/loss  0.621071 train/loss_grapheme  0.426117 train/loss_vowel  0.077296 train/loss_consonant  0.068223 train/loss_comb  0.049435 train/acc_grapheme  0.940017 train/acc_vowel  0.975324 train/acc_consonant  0.977370 train/acc_comb  0.925294 train/recall  0.931162 val/loss  0.055212 val/loss_grapheme  0.028229 val/loss_vowel  0.009005 val/loss_consonant  0.007994 val/loss_comb  0.009984 val/acc_grapheme  0.995942 val/acc_vowel  0.997386 val/acc_consonant  0.997336 val/acc_comb  0.990913 val/recall  0.993987 lr  0.000050 elapsed_time  125932.297471 mode 000 \n"
     ]
    },
    {
     "name": "stderr",
     "output_type": "stream",
     "text": [
      "100%|██████████| 4185/4185 [1:18:45<00:00,  1.13s/it]\n",
      "100%|██████████| 837/837 [05:10<00:00,  2.69it/s]\n",
      "  0%|          | 0/4185 [00:00<?, ?it/s]"
     ]
    },
    {
     "name": "stdout",
     "output_type": "stream",
     "text": [
      "epoch     25 train/loss  0.621159 train/loss_grapheme  0.426094 train/loss_vowel  0.077463 train/loss_consonant  0.068353 train/loss_comb  0.049250 train/acc_grapheme  0.940022 train/acc_vowel  0.974816 train/acc_consonant  0.976922 train/acc_comb  0.925264 train/recall  0.930581 val/loss  0.063965 val/loss_grapheme  0.033832 val/loss_vowel  0.009408 val/loss_consonant  0.008769 val/loss_comb  0.011956 val/acc_grapheme  0.994448 val/acc_vowel  0.997286 val/acc_consonant  0.996938 val/acc_comb  0.989718 val/recall  0.992739 lr  0.000050 elapsed_time  130969.615615 mode 000 \n"
     ]
    },
    {
     "name": "stderr",
     "output_type": "stream",
     "text": [
      "100%|██████████| 4185/4185 [1:18:46<00:00,  1.13s/it]\n",
      "100%|██████████| 837/837 [05:10<00:00,  2.70it/s]\n",
      "  0%|          | 0/4185 [00:00<?, ?it/s]"
     ]
    },
    {
     "name": "stdout",
     "output_type": "stream",
     "text": [
      "epoch     26 train/loss  0.608827 train/loss_grapheme  0.418069 train/loss_vowel  0.075035 train/loss_consonant  0.067083 train/loss_comb  0.048640 train/acc_grapheme  0.940580 train/acc_vowel  0.975433 train/acc_consonant  0.977768 train/acc_comb  0.925921 train/recall  0.932174 val/loss  0.053861 val/loss_grapheme  0.029324 val/loss_vowel  0.007971 val/loss_consonant  0.006785 val/loss_comb  0.009780 val/acc_grapheme  0.995668 val/acc_vowel  0.997859 val/acc_consonant  0.997859 val/acc_comb  0.991087 val/recall  0.994706 lr  0.000050 elapsed_time  136007.964330 mode 011 \n"
     ]
    },
    {
     "name": "stderr",
     "output_type": "stream",
     "text": [
      "100%|██████████| 4185/4185 [1:18:51<00:00,  1.13s/it]\n",
      "100%|██████████| 837/837 [05:10<00:00,  2.70it/s]\n"
     ]
    },
    {
     "name": "stdout",
     "output_type": "stream",
     "text": [
      "epoch     27 train/loss  0.606804 train/loss_grapheme  0.419179 train/loss_vowel  0.072921 train/loss_consonant  0.066046 train/loss_comb  0.048658 train/acc_grapheme  0.940336 train/acc_vowel  0.976822 train/acc_consonant  0.978112 train/acc_comb  0.926359 train/recall  0.931691 val/loss  0.051183 val/loss_grapheme  0.026638 val/loss_vowel  0.007394 val/loss_consonant  0.006545 val/loss_comb  0.010607 val/acc_grapheme  0.996241 val/acc_vowel  0.998158 val/acc_consonant  0.997983 val/acc_comb  0.990789 val/recall  0.994899 lr  0.000050 elapsed_time  141051.854919 mode 011 \n"
     ]
    },
    {
     "name": "stderr",
     "output_type": "stream",
     "text": [
      "100%|██████████| 4185/4185 [1:18:44<00:00,  1.13s/it]\n",
      "100%|██████████| 837/837 [05:11<00:00,  2.69it/s]\n",
      "  0%|          | 0/4185 [00:00<?, ?it/s]"
     ]
    },
    {
     "name": "stdout",
     "output_type": "stream",
     "text": [
      "epoch     28 train/loss  0.605724 train/loss_grapheme  0.416944 train/loss_vowel  0.073806 train/loss_consonant  0.066492 train/loss_comb  0.048481 train/acc_grapheme  0.941018 train/acc_vowel  0.976285 train/acc_consonant  0.978107 train/acc_comb  0.926768 train/recall  0.932586 val/loss  0.050551 val/loss_grapheme  0.026097 val/loss_vowel  0.007683 val/loss_consonant  0.006855 val/loss_comb  0.009916 val/acc_grapheme  0.995992 val/acc_vowel  0.997809 val/acc_consonant  0.997859 val/acc_comb  0.991336 val/recall  0.994765 lr  0.000050 elapsed_time  146089.423537 mode 010 \n"
     ]
    },
    {
     "name": "stderr",
     "output_type": "stream",
     "text": [
      "100%|██████████| 4185/4185 [1:18:54<00:00,  1.13s/it]\n",
      "100%|██████████| 837/837 [05:10<00:00,  2.70it/s]\n",
      "  0%|          | 0/4185 [00:00<?, ?it/s]"
     ]
    },
    {
     "name": "stdout",
     "output_type": "stream",
     "text": [
      "epoch     29 train/loss  0.606357 train/loss_grapheme  0.414254 train/loss_vowel  0.076000 train/loss_consonant  0.067469 train/loss_comb  0.048634 train/acc_grapheme  0.941336 train/acc_vowel  0.975841 train/acc_consonant  0.977400 train/acc_comb  0.926902 train/recall  0.932478 val/loss  0.052845 val/loss_grapheme  0.027865 val/loss_vowel  0.008016 val/loss_consonant  0.006683 val/loss_comb  0.010281 val/acc_grapheme  0.996042 val/acc_vowel  0.997834 val/acc_consonant  0.998033 val/acc_comb  0.990888 val/recall  0.994353 lr  0.000050 elapsed_time  151135.777479 mode 100 \n"
     ]
    },
    {
     "name": "stderr",
     "output_type": "stream",
     "text": [
      "100%|██████████| 4185/4185 [1:19:00<00:00,  1.13s/it]\n",
      "100%|██████████| 837/837 [05:10<00:00,  2.70it/s]\n",
      "  0%|          | 0/4185 [00:00<?, ?it/s]"
     ]
    },
    {
     "name": "stdout",
     "output_type": "stream",
     "text": [
      "epoch     30 train/loss  0.593058 train/loss_grapheme  0.405929 train/loss_vowel  0.073450 train/loss_consonant  0.065718 train/loss_comb  0.047962 train/acc_grapheme  0.942188 train/acc_vowel  0.976339 train/acc_consonant  0.977734 train/acc_comb  0.927465 train/recall  0.933447 val/loss  0.050496 val/loss_grapheme  0.026231 val/loss_vowel  0.007379 val/loss_consonant  0.007308 val/loss_comb  0.009579 val/acc_grapheme  0.995992 val/acc_vowel  0.997909 val/acc_consonant  0.997660 val/acc_comb  0.991112 val/recall  0.994459 lr  0.000050 elapsed_time  156188.426348 mode 010 \n"
     ]
    },
    {
     "name": "stderr",
     "output_type": "stream",
     "text": [
      "100%|██████████| 4185/4185 [1:18:53<00:00,  1.13s/it]\n",
      "100%|██████████| 837/837 [05:07<00:00,  2.72it/s]\n",
      "  0%|          | 0/4185 [00:00<?, ?it/s]"
     ]
    },
    {
     "name": "stdout",
     "output_type": "stream",
     "text": [
      "epoch     31 train/loss  0.598056 train/loss_grapheme  0.411831 train/loss_vowel  0.072510 train/loss_consonant  0.065560 train/loss_comb  0.048155 train/acc_grapheme  0.941974 train/acc_vowel  0.976783 train/acc_consonant  0.977992 train/acc_comb  0.927604 train/recall  0.933221 val/loss  0.058490 val/loss_grapheme  0.031089 val/loss_vowel  0.007928 val/loss_consonant  0.007294 val/loss_comb  0.012178 val/acc_grapheme  0.995120 val/acc_vowel  0.997311 val/acc_consonant  0.997660 val/acc_comb  0.989419 val/recall  0.993481 lr  0.000050 elapsed_time  161231.229495 mode 000 \n"
     ]
    },
    {
     "name": "stderr",
     "output_type": "stream",
     "text": [
      "100%|██████████| 4185/4185 [1:18:47<00:00,  1.13s/it]\n",
      "100%|██████████| 837/837 [05:13<00:00,  2.67it/s]\n",
      "  0%|          | 0/4185 [00:00<?, ?it/s]"
     ]
    },
    {
     "name": "stdout",
     "output_type": "stream",
     "text": [
      "epoch     32 train/loss  0.597718 train/loss_grapheme  0.409316 train/loss_vowel  0.074218 train/loss_consonant  0.066045 train/loss_comb  0.048139 train/acc_grapheme  0.942506 train/acc_vowel  0.976205 train/acc_consonant  0.978072 train/acc_comb  0.928047 train/recall  0.933801 val/loss  0.049397 val/loss_grapheme  0.025175 val/loss_vowel  0.007476 val/loss_consonant  0.006436 val/loss_comb  0.010310 val/acc_grapheme  0.996415 val/acc_vowel  0.997909 val/acc_consonant  0.997635 val/acc_comb  0.991336 val/recall  0.995006 lr  0.000050 elapsed_time  166273.613161 mode 011 \n"
     ]
    },
    {
     "name": "stderr",
     "output_type": "stream",
     "text": [
      "100%|██████████| 4185/4185 [1:18:50<00:00,  1.13s/it]\n",
      "100%|██████████| 837/837 [05:12<00:00,  2.68it/s]\n"
     ]
    },
    {
     "name": "stdout",
     "output_type": "stream",
     "text": [
      "epoch     33 train/loss  0.595711 train/loss_grapheme  0.408983 train/loss_vowel  0.073112 train/loss_consonant  0.065535 train/loss_comb  0.048081 train/acc_grapheme  0.941675 train/acc_vowel  0.976075 train/acc_consonant  0.977634 train/acc_comb  0.926992 train/recall  0.932883 val/loss  0.042845 val/loss_grapheme  0.021418 val/loss_vowel  0.006492 val/loss_consonant  0.005414 val/loss_comb  0.009521 val/acc_grapheme  0.997037 val/acc_vowel  0.998232 val/acc_consonant  0.998432 val/acc_comb  0.992855 val/recall  0.996049 lr  0.000050 elapsed_time  171318.511351 mode 011 \n"
     ]
    },
    {
     "name": "stderr",
     "output_type": "stream",
     "text": [
      "100%|██████████| 4185/4185 [1:18:45<00:00,  1.13s/it]\n",
      "100%|██████████| 837/837 [05:12<00:00,  2.68it/s]\n",
      "  0%|          | 0/4185 [00:00<?, ?it/s]"
     ]
    },
    {
     "name": "stdout",
     "output_type": "stream",
     "text": [
      "epoch     34 train/loss  0.592365 train/loss_grapheme  0.403211 train/loss_vowel  0.074087 train/loss_consonant  0.067058 train/loss_comb  0.048009 train/acc_grapheme  0.943403 train/acc_vowel  0.975762 train/acc_consonant  0.977704 train/acc_comb  0.927898 train/recall  0.933953 val/loss  0.038625 val/loss_grapheme  0.017588 val/loss_vowel  0.006413 val/loss_consonant  0.005856 val/loss_comb  0.008767 val/acc_grapheme  0.997710 val/acc_vowel  0.998232 val/acc_consonant  0.998208 val/acc_comb  0.992880 val/recall  0.996476 lr  0.000050 elapsed_time  176358.536461 mode 011 \n"
     ]
    },
    {
     "name": "stderr",
     "output_type": "stream",
     "text": [
      "100%|██████████| 4185/4185 [1:18:51<00:00,  1.13s/it]\n",
      "100%|██████████| 837/837 [05:11<00:00,  2.68it/s]\n",
      "  0%|          | 0/4185 [00:00<?, ?it/s]"
     ]
    },
    {
     "name": "stdout",
     "output_type": "stream",
     "text": [
      "epoch     35 train/loss  0.582281 train/loss_grapheme  0.398396 train/loss_vowel  0.071447 train/loss_consonant  0.065040 train/loss_comb  0.047398 train/acc_grapheme  0.943288 train/acc_vowel  0.977007 train/acc_consonant  0.978515 train/acc_comb  0.928665 train/recall  0.934949 val/loss  0.046132 val/loss_grapheme  0.023448 val/loss_vowel  0.006162 val/loss_consonant  0.006239 val/loss_comb  0.010283 val/acc_grapheme  0.996689 val/acc_vowel  0.998183 val/acc_consonant  0.998307 val/acc_comb  0.992332 val/recall  0.995367 lr  0.000050 elapsed_time  181403.159617 mode 000 \n"
     ]
    },
    {
     "name": "stderr",
     "output_type": "stream",
     "text": [
      "100%|██████████| 4185/4185 [1:19:04<00:00,  1.13s/it]\n",
      "100%|██████████| 837/837 [05:13<00:00,  2.67it/s]\n",
      "  0%|          | 0/4185 [00:00<?, ?it/s]"
     ]
    },
    {
     "name": "stdout",
     "output_type": "stream",
     "text": [
      "epoch     36 train/loss  0.589696 train/loss_grapheme  0.404060 train/loss_vowel  0.072780 train/loss_consonant  0.065131 train/loss_comb  0.047724 train/acc_grapheme  0.942745 train/acc_vowel  0.976539 train/acc_consonant  0.978321 train/acc_comb  0.929227 train/recall  0.933498 val/loss  0.044026 val/loss_grapheme  0.021519 val/loss_vowel  0.006615 val/loss_consonant  0.006020 val/loss_comb  0.009872 val/acc_grapheme  0.997037 val/acc_vowel  0.998058 val/acc_consonant  0.998232 val/acc_comb  0.992108 val/recall  0.995803 lr  0.000050 elapsed_time  186463.197923 mode 000 \n"
     ]
    },
    {
     "name": "stderr",
     "output_type": "stream",
     "text": [
      "100%|██████████| 4185/4185 [1:18:51<00:00,  1.13s/it]\n",
      "100%|██████████| 837/837 [05:11<00:00,  2.69it/s]\n",
      "  0%|          | 0/4185 [00:00<?, ?it/s]"
     ]
    },
    {
     "name": "stdout",
     "output_type": "stream",
     "text": [
      "epoch     37 train/loss  0.590225 train/loss_grapheme  0.404186 train/loss_vowel  0.072693 train/loss_consonant  0.065573 train/loss_comb  0.047774 train/acc_grapheme  0.942955 train/acc_vowel  0.976653 train/acc_consonant  0.978162 train/acc_comb  0.928212 train/recall  0.934392 val/loss  0.035916 val/loss_grapheme  0.016642 val/loss_vowel  0.005583 val/loss_consonant  0.004865 val/loss_comb  0.008826 val/acc_grapheme  0.997909 val/acc_vowel  0.998382 val/acc_consonant  0.998681 val/acc_comb  0.993228 val/recall  0.996853 lr  0.000050 elapsed_time  191507.880874 mode 011 \n"
     ]
    },
    {
     "name": "stderr",
     "output_type": "stream",
     "text": [
      "100%|██████████| 4185/4185 [1:18:56<00:00,  1.13s/it]\n",
      "100%|██████████| 837/837 [05:11<00:00,  2.69it/s]\n",
      "  0%|          | 0/4185 [00:00<?, ?it/s]"
     ]
    },
    {
     "name": "stdout",
     "output_type": "stream",
     "text": [
      "epoch     38 train/loss  0.585904 train/loss_grapheme  0.400227 train/loss_vowel  0.071929 train/loss_consonant  0.066063 train/loss_comb  0.047685 train/acc_grapheme  0.943119 train/acc_vowel  0.976738 train/acc_consonant  0.977674 train/acc_comb  0.928436 train/recall  0.934276 val/loss  0.042152 val/loss_grapheme  0.020179 val/loss_vowel  0.006353 val/loss_consonant  0.005454 val/loss_comb  0.010166 val/acc_grapheme  0.997411 val/acc_vowel  0.998257 val/acc_consonant  0.998456 val/acc_comb  0.992805 val/recall  0.996380 lr  0.000050 elapsed_time  196557.185907 mode 000 \n"
     ]
    },
    {
     "name": "stderr",
     "output_type": "stream",
     "text": [
      "100%|██████████| 4185/4185 [1:18:46<00:00,  1.13s/it]\n",
      "100%|██████████| 837/837 [05:10<00:00,  2.69it/s]\n",
      "  0%|          | 0/4185 [00:00<?, ?it/s]"
     ]
    },
    {
     "name": "stdout",
     "output_type": "stream",
     "text": [
      "epoch     39 train/loss  0.583266 train/loss_grapheme  0.399100 train/loss_vowel  0.070896 train/loss_consonant  0.065716 train/loss_comb  0.047554 train/acc_grapheme  0.943423 train/acc_vowel  0.977290 train/acc_consonant  0.977624 train/acc_comb  0.928879 train/recall  0.935063 val/loss  0.039358 val/loss_grapheme  0.018824 val/loss_vowel  0.005867 val/loss_consonant  0.005600 val/loss_comb  0.009067 val/acc_grapheme  0.997361 val/acc_vowel  0.998307 val/acc_consonant  0.998282 val/acc_comb  0.992830 val/recall  0.995984 lr  0.000050 elapsed_time  201596.353884 mode 100 \n"
     ]
    },
    {
     "name": "stderr",
     "output_type": "stream",
     "text": [
      "100%|██████████| 4185/4185 [1:18:48<00:00,  1.13s/it]\n",
      "100%|██████████| 837/837 [05:10<00:00,  2.69it/s]\n",
      "  0%|          | 0/4185 [00:00<?, ?it/s]"
     ]
    },
    {
     "name": "stdout",
     "output_type": "stream",
     "text": [
      "epoch     40 train/loss  0.578599 train/loss_grapheme  0.396185 train/loss_vowel  0.071306 train/loss_consonant  0.064009 train/loss_comb  0.047100 train/acc_grapheme  0.943771 train/acc_vowel  0.977116 train/acc_consonant  0.978615 train/acc_comb  0.929387 train/recall  0.935226 val/loss  0.038124 val/loss_grapheme  0.017670 val/loss_vowel  0.005655 val/loss_consonant  0.005462 val/loss_comb  0.009337 val/acc_grapheme  0.997610 val/acc_vowel  0.998382 val/acc_consonant  0.998357 val/acc_comb  0.992979 val/recall  0.996378 lr  0.000050 elapsed_time  206637.364238 mode 000 \n"
     ]
    },
    {
     "name": "stderr",
     "output_type": "stream",
     "text": [
      "100%|██████████| 4185/4185 [1:18:47<00:00,  1.13s/it]\n",
      "100%|██████████| 837/837 [05:09<00:00,  2.70it/s]\n",
      "  0%|          | 0/4185 [00:00<?, ?it/s]"
     ]
    },
    {
     "name": "stdout",
     "output_type": "stream",
     "text": [
      "epoch     41 train/loss  0.572731 train/loss_grapheme  0.391653 train/loss_vowel  0.069681 train/loss_consonant  0.064475 train/loss_comb  0.046922 train/acc_grapheme  0.943731 train/acc_vowel  0.977544 train/acc_consonant  0.978580 train/acc_comb  0.929456 train/recall  0.935103 val/loss  0.047995 val/loss_grapheme  0.023586 val/loss_vowel  0.006963 val/loss_consonant  0.006610 val/loss_comb  0.010836 val/acc_grapheme  0.996813 val/acc_vowel  0.997959 val/acc_consonant  0.997983 val/acc_comb  0.991162 val/recall  0.995547 lr  0.000050 elapsed_time  211676.188501 mode 000 \n"
     ]
    },
    {
     "name": "stderr",
     "output_type": "stream",
     "text": [
      "100%|██████████| 4185/4185 [1:18:46<00:00,  1.13s/it]\n",
      "100%|██████████| 837/837 [05:12<00:00,  2.68it/s]\n",
      "  0%|          | 0/4185 [00:00<?, ?it/s]"
     ]
    },
    {
     "name": "stdout",
     "output_type": "stream",
     "text": [
      "epoch     42 train/loss  0.577143 train/loss_grapheme  0.396008 train/loss_vowel  0.070607 train/loss_consonant  0.063376 train/loss_comb  0.047152 train/acc_grapheme  0.944005 train/acc_vowel  0.977280 train/acc_consonant  0.978754 train/acc_comb  0.929113 train/recall  0.935379 val/loss  0.037496 val/loss_grapheme  0.016871 val/loss_vowel  0.006102 val/loss_consonant  0.005305 val/loss_comb  0.009216 val/acc_grapheme  0.997685 val/acc_vowel  0.998183 val/acc_consonant  0.998307 val/acc_comb  0.992731 val/recall  0.996640 lr  0.000050 elapsed_time  216717.527729 mode 000 \n"
     ]
    },
    {
     "name": "stderr",
     "output_type": "stream",
     "text": [
      "100%|██████████| 4185/4185 [1:18:51<00:00,  1.13s/it]\n",
      "100%|██████████| 837/837 [05:12<00:00,  2.68it/s]\n",
      "  0%|          | 0/4185 [00:00<?, ?it/s]"
     ]
    },
    {
     "name": "stdout",
     "output_type": "stream",
     "text": [
      "epoch     43 train/loss  0.570783 train/loss_grapheme  0.389805 train/loss_vowel  0.069959 train/loss_consonant  0.064378 train/loss_comb  0.046641 train/acc_grapheme  0.944558 train/acc_vowel  0.977763 train/acc_consonant  0.978560 train/acc_comb  0.930228 train/recall  0.936279 val/loss  0.037512 val/loss_grapheme  0.017992 val/loss_vowel  0.005753 val/loss_consonant  0.004755 val/loss_comb  0.009011 val/acc_grapheme  0.997486 val/acc_vowel  0.998382 val/acc_consonant  0.998805 val/acc_comb  0.993204 val/recall  0.996521 lr  0.000050 elapsed_time  221763.116192 mode 000 \n"
     ]
    },
    {
     "name": "stderr",
     "output_type": "stream",
     "text": [
      "100%|██████████| 4185/4185 [1:18:45<00:00,  1.13s/it]\n",
      "100%|██████████| 837/837 [05:11<00:00,  2.69it/s]\n",
      "  0%|          | 0/4185 [00:00<?, ?it/s]"
     ]
    },
    {
     "name": "stdout",
     "output_type": "stream",
     "text": [
      "epoch     44 train/loss  0.535770 train/loss_grapheme  0.364176 train/loss_vowel  0.067016 train/loss_consonant  0.060150 train/loss_comb  0.044428 train/acc_grapheme  0.948362 train/acc_vowel  0.978117 train/acc_consonant  0.979924 train/acc_comb  0.934420 train/recall  0.939691 val/loss  0.036792 val/loss_grapheme  0.017578 val/loss_vowel  0.005348 val/loss_consonant  0.004566 val/loss_comb  0.009299 val/acc_grapheme  0.997585 val/acc_vowel  0.998481 val/acc_consonant  0.998780 val/acc_comb  0.992307 val/recall  0.996338 lr  0.000035 elapsed_time  226802.055539 mode 000 \n"
     ]
    },
    {
     "name": "stderr",
     "output_type": "stream",
     "text": [
      "100%|██████████| 4185/4185 [1:18:51<00:00,  1.13s/it]\n",
      "100%|██████████| 837/837 [05:10<00:00,  2.70it/s]\n",
      "  0%|          | 0/4185 [00:00<?, ?it/s]"
     ]
    },
    {
     "name": "stdout",
     "output_type": "stream",
     "text": [
      "epoch     45 train/loss  0.529218 train/loss_grapheme  0.361425 train/loss_vowel  0.064007 train/loss_consonant  0.059507 train/loss_comb  0.044278 train/acc_grapheme  0.948740 train/acc_vowel  0.979317 train/acc_consonant  0.980104 train/acc_comb  0.934625 train/recall  0.940830 val/loss  0.034097 val/loss_grapheme  0.016051 val/loss_vowel  0.005357 val/loss_consonant  0.003814 val/loss_comb  0.008876 val/acc_grapheme  0.997784 val/acc_vowel  0.998407 val/acc_consonant  0.998780 val/acc_comb  0.993129 val/recall  0.996789 lr  0.000035 elapsed_time  231845.752187 mode 010 \n"
     ]
    },
    {
     "name": "stderr",
     "output_type": "stream",
     "text": [
      "100%|██████████| 4185/4185 [1:18:43<00:00,  1.13s/it]\n",
      "100%|██████████| 837/837 [05:13<00:00,  2.67it/s]\n"
     ]
    },
    {
     "name": "stdout",
     "output_type": "stream",
     "text": [
      "epoch     46 train/loss  0.530170 train/loss_grapheme  0.361580 train/loss_vowel  0.065072 train/loss_consonant  0.059214 train/loss_comb  0.044304 train/acc_grapheme  0.948222 train/acc_vowel  0.978610 train/acc_consonant  0.979760 train/acc_comb  0.934625 train/recall  0.940100 val/loss  0.029639 val/loss_grapheme  0.013015 val/loss_vowel  0.004485 val/loss_consonant  0.003483 val/loss_comb  0.008656 val/acc_grapheme  0.998382 val/acc_vowel  0.998631 val/acc_consonant  0.999178 val/acc_comb  0.994399 val/recall  0.997770 lr  0.000035 elapsed_time  236884.301324 mode 011 \n"
     ]
    },
    {
     "name": "stderr",
     "output_type": "stream",
     "text": [
      "100%|██████████| 4185/4185 [1:18:41<00:00,  1.13s/it]\n",
      "100%|██████████| 837/837 [05:12<00:00,  2.67it/s]\n",
      "  0%|          | 0/4185 [00:00<?, ?it/s]"
     ]
    },
    {
     "name": "stdout",
     "output_type": "stream",
     "text": [
      "epoch     47 train/loss  0.513346 train/loss_grapheme  0.350078 train/loss_vowel  0.062208 train/loss_consonant  0.057652 train/loss_comb  0.043408 train/acc_grapheme  0.950274 train/acc_vowel  0.979456 train/acc_consonant  0.980626 train/acc_comb  0.936910 train/recall  0.942697 val/loss  0.027249 val/loss_grapheme  0.011572 val/loss_vowel  0.004393 val/loss_consonant  0.003157 val/loss_comb  0.008127 val/acc_grapheme  0.998730 val/acc_vowel  0.998830 val/acc_consonant  0.999079 val/acc_comb  0.994374 val/recall  0.997957 lr  0.000035 elapsed_time  241920.585045 mode 011 \n"
     ]
    },
    {
     "name": "stderr",
     "output_type": "stream",
     "text": [
      "100%|██████████| 4185/4185 [1:18:46<00:00,  1.13s/it]\n",
      "100%|██████████| 837/837 [05:11<00:00,  2.68it/s]\n",
      "  0%|          | 0/4185 [00:00<?, ?it/s]"
     ]
    },
    {
     "name": "stdout",
     "output_type": "stream",
     "text": [
      "epoch     48 train/loss  0.520228 train/loss_grapheme  0.355797 train/loss_vowel  0.062988 train/loss_consonant  0.057792 train/loss_comb  0.043651 train/acc_grapheme  0.948800 train/acc_vowel  0.979730 train/acc_consonant  0.980397 train/acc_comb  0.936293 train/recall  0.941350 val/loss  0.029897 val/loss_grapheme  0.013103 val/loss_vowel  0.004710 val/loss_consonant  0.003436 val/loss_comb  0.008648 val/acc_grapheme  0.998432 val/acc_vowel  0.998681 val/acc_consonant  0.999178 val/acc_comb  0.994274 val/recall  0.997702 lr  0.000035 elapsed_time  246960.647651 mode 000 \n"
     ]
    },
    {
     "name": "stderr",
     "output_type": "stream",
     "text": [
      "100%|██████████| 4185/4185 [1:18:45<00:00,  1.13s/it]\n",
      "100%|██████████| 837/837 [05:12<00:00,  2.68it/s]\n",
      "  0%|          | 0/4185 [00:00<?, ?it/s]"
     ]
    },
    {
     "name": "stdout",
     "output_type": "stream",
     "text": [
      "epoch     49 train/loss  0.521242 train/loss_grapheme  0.358035 train/loss_vowel  0.062124 train/loss_consonant  0.057329 train/loss_comb  0.043753 train/acc_grapheme  0.949004 train/acc_vowel  0.979675 train/acc_consonant  0.980631 train/acc_comb  0.935815 train/recall  0.940953 val/loss  0.028773 val/loss_grapheme  0.012308 val/loss_vowel  0.004502 val/loss_consonant  0.003138 val/loss_comb  0.008825 val/acc_grapheme  0.998531 val/acc_vowel  0.998805 val/acc_consonant  0.999129 val/acc_comb  0.994224 val/recall  0.997700 lr  0.000035 elapsed_time  252000.020773 mode 100 \n"
     ]
    },
    {
     "name": "stderr",
     "output_type": "stream",
     "text": [
      "100%|██████████| 4185/4185 [1:18:50<00:00,  1.13s/it]\n",
      "100%|██████████| 837/837 [05:11<00:00,  2.68it/s]\n",
      "  0%|          | 0/4185 [00:00<?, ?it/s]"
     ]
    },
    {
     "name": "stdout",
     "output_type": "stream",
     "text": [
      "epoch     50 train/loss  0.517681 train/loss_grapheme  0.352187 train/loss_vowel  0.063724 train/loss_consonant  0.058132 train/loss_comb  0.043638 train/acc_grapheme  0.949582 train/acc_vowel  0.979491 train/acc_consonant  0.980676 train/acc_comb  0.935974 train/recall  0.941512 val/loss  0.029542 val/loss_grapheme  0.013073 val/loss_vowel  0.004502 val/loss_consonant  0.003259 val/loss_comb  0.008708 val/acc_grapheme  0.998133 val/acc_vowel  0.998830 val/acc_consonant  0.999477 val/acc_comb  0.994399 val/recall  0.997612 lr  0.000035 elapsed_time  257043.993851 mode 000 \n"
     ]
    },
    {
     "name": "stderr",
     "output_type": "stream",
     "text": [
      "100%|██████████| 4185/4185 [1:18:50<00:00,  1.13s/it]\n",
      "100%|██████████| 837/837 [05:11<00:00,  2.69it/s]\n",
      "  0%|          | 0/4185 [00:00<?, ?it/s]"
     ]
    },
    {
     "name": "stdout",
     "output_type": "stream",
     "text": [
      "epoch     51 train/loss  0.507504 train/loss_grapheme  0.346046 train/loss_vowel  0.061907 train/loss_consonant  0.056404 train/loss_comb  0.043147 train/acc_grapheme  0.950299 train/acc_vowel  0.980243 train/acc_consonant  0.981015 train/acc_comb  0.936646 train/recall  0.942914 val/loss  0.032029 val/loss_grapheme  0.014623 val/loss_vowel  0.004689 val/loss_consonant  0.003393 val/loss_comb  0.009324 val/acc_grapheme  0.998208 val/acc_vowel  0.998705 val/acc_consonant  0.999203 val/acc_comb  0.993950 val/recall  0.997524 lr  0.000035 elapsed_time  262087.501990 mode 000 \n"
     ]
    },
    {
     "name": "stderr",
     "output_type": "stream",
     "text": [
      "100%|██████████| 4185/4185 [1:18:45<00:00,  1.13s/it]\n",
      "100%|██████████| 837/837 [05:11<00:00,  2.69it/s]\n",
      "  0%|          | 0/4185 [00:00<?, ?it/s]"
     ]
    },
    {
     "name": "stdout",
     "output_type": "stream",
     "text": [
      "epoch     52 train/loss  0.509352 train/loss_grapheme  0.347108 train/loss_vowel  0.062897 train/loss_consonant  0.056249 train/loss_comb  0.043098 train/acc_grapheme  0.950528 train/acc_vowel  0.979591 train/acc_consonant  0.980890 train/acc_comb  0.937224 train/recall  0.942711 val/loss  0.026046 val/loss_grapheme  0.011518 val/loss_vowel  0.003765 val/loss_consonant  0.002754 val/loss_comb  0.008009 val/acc_grapheme  0.998531 val/acc_vowel  0.999004 val/acc_consonant  0.999378 val/acc_comb  0.994548 val/recall  0.997783 lr  0.000035 elapsed_time  267126.340263 mode 010 \n"
     ]
    },
    {
     "name": "stderr",
     "output_type": "stream",
     "text": [
      "100%|██████████| 4185/4185 [1:18:46<00:00,  1.13s/it]\n",
      "100%|██████████| 837/837 [05:10<00:00,  2.69it/s]\n",
      "  0%|          | 0/4185 [00:00<?, ?it/s]"
     ]
    },
    {
     "name": "stdout",
     "output_type": "stream",
     "text": [
      "epoch     53 train/loss  0.514261 train/loss_grapheme  0.351194 train/loss_vowel  0.062254 train/loss_consonant  0.057484 train/loss_comb  0.043329 train/acc_grapheme  0.949920 train/acc_vowel  0.979621 train/acc_consonant  0.980726 train/acc_comb  0.936736 train/recall  0.942188 val/loss  0.027554 val/loss_grapheme  0.011901 val/loss_vowel  0.004103 val/loss_consonant  0.003055 val/loss_comb  0.008495 val/acc_grapheme  0.998656 val/acc_vowel  0.999004 val/acc_consonant  0.999303 val/acc_comb  0.994672 val/recall  0.997990 lr  0.000035 elapsed_time  272165.327368 mode 001 \n"
     ]
    },
    {
     "name": "stderr",
     "output_type": "stream",
     "text": [
      "100%|██████████| 4185/4185 [1:18:46<00:00,  1.13s/it]\n",
      "100%|██████████| 837/837 [05:09<00:00,  2.70it/s]\n",
      "  0%|          | 0/4185 [00:00<?, ?it/s]"
     ]
    },
    {
     "name": "stdout",
     "output_type": "stream",
     "text": [
      "epoch     54 train/loss  0.498129 train/loss_grapheme  0.339969 train/loss_vowel  0.061337 train/loss_consonant  0.054506 train/loss_comb  0.042318 train/acc_grapheme  0.951200 train/acc_vowel  0.980313 train/acc_consonant  0.981607 train/acc_comb  0.938115 train/recall  0.943459 val/loss  0.023802 val/loss_grapheme  0.009634 val/loss_vowel  0.003335 val/loss_consonant  0.002774 val/loss_comb  0.008059 val/acc_grapheme  0.999054 val/acc_vowel  0.999079 val/acc_consonant  0.999353 val/acc_comb  0.995096 val/recall  0.998355 lr  0.000024 elapsed_time  277203.056099 mode 011 \n"
     ]
    },
    {
     "name": "stderr",
     "output_type": "stream",
     "text": [
      "100%|██████████| 4185/4185 [1:18:43<00:00,  1.13s/it]\n",
      "100%|██████████| 837/837 [05:12<00:00,  2.68it/s]\n",
      "  0%|          | 0/4185 [00:00<?, ?it/s]"
     ]
    },
    {
     "name": "stdout",
     "output_type": "stream",
     "text": [
      "epoch     55 train/loss  0.479955 train/loss_grapheme  0.325511 train/loss_vowel  0.059824 train/loss_consonant  0.053382 train/loss_comb  0.041238 train/acc_grapheme  0.952674 train/acc_vowel  0.980407 train/acc_consonant  0.982274 train/acc_comb  0.939813 train/recall  0.945012 val/loss  0.024839 val/loss_grapheme  0.010772 val/loss_vowel  0.003547 val/loss_consonant  0.002571 val/loss_comb  0.007948 val/acc_grapheme  0.998755 val/acc_vowel  0.999004 val/acc_consonant  0.999427 val/acc_comb  0.995021 val/recall  0.998203 lr  0.000024 elapsed_time  282239.987265 mode 000 \n"
     ]
    },
    {
     "name": "stderr",
     "output_type": "stream",
     "text": [
      "100%|██████████| 4185/4185 [1:18:52<00:00,  1.13s/it]\n",
      "100%|██████████| 837/837 [05:09<00:00,  2.71it/s]\n",
      "  0%|          | 0/4185 [00:00<?, ?it/s]"
     ]
    },
    {
     "name": "stdout",
     "output_type": "stream",
     "text": [
      "epoch     56 train/loss  0.482493 train/loss_grapheme  0.328576 train/loss_vowel  0.059107 train/loss_consonant  0.053305 train/loss_comb  0.041506 train/acc_grapheme  0.953406 train/acc_vowel  0.980736 train/acc_consonant  0.982045 train/acc_comb  0.940435 train/recall  0.945954 val/loss  0.022750 val/loss_grapheme  0.008949 val/loss_vowel  0.003510 val/loss_consonant  0.002255 val/loss_comb  0.008036 val/acc_grapheme  0.999029 val/acc_vowel  0.999029 val/acc_consonant  0.999502 val/acc_comb  0.995345 val/recall  0.998649 lr  0.000024 elapsed_time  287283.454544 mode 011 \n"
     ]
    },
    {
     "name": "stderr",
     "output_type": "stream",
     "text": [
      "100%|██████████| 4185/4185 [1:18:51<00:00,  1.13s/it]\n",
      "100%|██████████| 837/837 [05:11<00:00,  2.69it/s]\n",
      "  0%|          | 0/4185 [00:00<?, ?it/s]"
     ]
    },
    {
     "name": "stdout",
     "output_type": "stream",
     "text": [
      "epoch     57 train/loss  0.476641 train/loss_grapheme  0.323135 train/loss_vowel  0.058944 train/loss_consonant  0.053277 train/loss_comb  0.041285 train/acc_grapheme  0.953993 train/acc_vowel  0.980726 train/acc_consonant  0.981816 train/acc_comb  0.940679 train/recall  0.945611 val/loss  0.023799 val/loss_grapheme  0.009880 val/loss_vowel  0.003215 val/loss_consonant  0.002771 val/loss_comb  0.007934 val/acc_grapheme  0.998880 val/acc_vowel  0.999203 val/acc_consonant  0.999353 val/acc_comb  0.994598 val/recall  0.998420 lr  0.000024 elapsed_time  292328.023375 mode 000 \n"
     ]
    },
    {
     "name": "stderr",
     "output_type": "stream",
     "text": [
      "100%|██████████| 4185/4185 [1:18:49<00:00,  1.13s/it]\n",
      "100%|██████████| 837/837 [05:09<00:00,  2.70it/s]\n",
      "  0%|          | 0/4185 [00:00<?, ?it/s]"
     ]
    },
    {
     "name": "stdout",
     "output_type": "stream",
     "text": [
      "epoch     58 train/loss  0.474441 train/loss_grapheme  0.323289 train/loss_vowel  0.057248 train/loss_consonant  0.052826 train/loss_comb  0.041077 train/acc_grapheme  0.953769 train/acc_vowel  0.981204 train/acc_consonant  0.982374 train/acc_comb  0.940789 train/recall  0.946614 val/loss  0.022563 val/loss_grapheme  0.009317 val/loss_vowel  0.003130 val/loss_consonant  0.002316 val/loss_comb  0.007801 val/acc_grapheme  0.998780 val/acc_vowel  0.999203 val/acc_consonant  0.999452 val/acc_comb  0.994996 val/recall  0.998258 lr  0.000024 elapsed_time  297369.233291 mode 010 \n"
     ]
    },
    {
     "name": "stderr",
     "output_type": "stream",
     "text": [
      "100%|██████████| 4185/4185 [1:18:47<00:00,  1.13s/it]\n",
      "100%|██████████| 837/837 [05:08<00:00,  2.71it/s]\n",
      "  0%|          | 0/4185 [00:00<?, ?it/s]"
     ]
    },
    {
     "name": "stdout",
     "output_type": "stream",
     "text": [
      "epoch     59 train/loss  0.466565 train/loss_grapheme  0.317437 train/loss_vowel  0.056801 train/loss_consonant  0.051811 train/loss_comb  0.040515 train/acc_grapheme  0.954606 train/acc_vowel  0.981582 train/acc_consonant  0.982449 train/acc_comb  0.941949 train/recall  0.947476 val/loss  0.019963 val/loss_grapheme  0.008029 val/loss_vowel  0.002654 val/loss_consonant  0.002088 val/loss_comb  0.007191 val/acc_grapheme  0.999079 val/acc_vowel  0.999353 val/acc_consonant  0.999527 val/acc_comb  0.995768 val/recall  0.998608 lr  0.000024 elapsed_time  302406.997853 mode 110 \n"
     ]
    },
    {
     "name": "stderr",
     "output_type": "stream",
     "text": [
      "100%|██████████| 4185/4185 [1:18:50<00:00,  1.13s/it]\n",
      "100%|██████████| 837/837 [05:11<00:00,  2.69it/s]\n",
      "  0%|          | 0/4185 [00:00<?, ?it/s]"
     ]
    },
    {
     "name": "stdout",
     "output_type": "stream",
     "text": [
      "epoch     60 train/loss  0.465402 train/loss_grapheme  0.317074 train/loss_vowel  0.056820 train/loss_consonant  0.050970 train/loss_comb  0.040539 train/acc_grapheme  0.954705 train/acc_vowel  0.981533 train/acc_consonant  0.982852 train/acc_comb  0.942004 train/recall  0.948011 val/loss  0.021764 val/loss_grapheme  0.008696 val/loss_vowel  0.002938 val/loss_consonant  0.002388 val/loss_comb  0.007742 val/acc_grapheme  0.998780 val/acc_vowel  0.999278 val/acc_consonant  0.999527 val/acc_comb  0.995120 val/recall  0.998188 lr  0.000024 elapsed_time  307450.051990 mode 000 \n"
     ]
    },
    {
     "name": "stderr",
     "output_type": "stream",
     "text": [
      "100%|██████████| 4185/4185 [1:18:52<00:00,  1.13s/it]\n",
      "100%|██████████| 837/837 [05:11<00:00,  2.68it/s]\n"
     ]
    },
    {
     "name": "stdout",
     "output_type": "stream",
     "text": [
      "epoch     61 train/loss  0.469260 train/loss_grapheme  0.318707 train/loss_vowel  0.057467 train/loss_consonant  0.052452 train/loss_comb  0.040634 train/acc_grapheme  0.954207 train/acc_vowel  0.981099 train/acc_consonant  0.982339 train/acc_comb  0.942213 train/recall  0.946812 val/loss  0.023965 val/loss_grapheme  0.009513 val/loss_vowel  0.003350 val/loss_consonant  0.002799 val/loss_comb  0.008304 val/acc_grapheme  0.998979 val/acc_vowel  0.999104 val/acc_consonant  0.999328 val/acc_comb  0.995444 val/recall  0.998443 lr  0.000024 elapsed_time  312496.020553 mode 000 \n"
     ]
    },
    {
     "name": "stderr",
     "output_type": "stream",
     "text": [
      "100%|██████████| 4185/4185 [1:18:51<00:00,  1.13s/it]\n",
      "100%|██████████| 837/837 [05:11<00:00,  2.69it/s]\n",
      "  0%|          | 0/4185 [00:00<?, ?it/s]"
     ]
    },
    {
     "name": "stdout",
     "output_type": "stream",
     "text": [
      "epoch     62 train/loss  0.464387 train/loss_grapheme  0.315467 train/loss_vowel  0.057344 train/loss_consonant  0.051149 train/loss_comb  0.040426 train/acc_grapheme  0.954780 train/acc_vowel  0.981249 train/acc_consonant  0.982513 train/acc_comb  0.942193 train/recall  0.947403 val/loss  0.021819 val/loss_grapheme  0.008630 val/loss_vowel  0.003128 val/loss_consonant  0.002314 val/loss_comb  0.007747 val/acc_grapheme  0.999054 val/acc_vowel  0.999178 val/acc_consonant  0.999577 val/acc_comb  0.995519 val/recall  0.998658 lr  0.000024 elapsed_time  317540.758126 mode 001 \n"
     ]
    },
    {
     "name": "stderr",
     "output_type": "stream",
     "text": [
      "100%|██████████| 4185/4185 [1:18:48<00:00,  1.13s/it]\n",
      "100%|██████████| 837/837 [05:12<00:00,  2.68it/s]\n",
      "  0%|          | 0/4185 [00:00<?, ?it/s]"
     ]
    },
    {
     "name": "stdout",
     "output_type": "stream",
     "text": [
      "epoch     63 train/loss  0.444308 train/loss_grapheme  0.301882 train/loss_vowel  0.054115 train/loss_consonant  0.049076 train/loss_comb  0.039235 train/acc_grapheme  0.956617 train/acc_vowel  0.982419 train/acc_consonant  0.983360 train/acc_comb  0.943935 train/recall  0.949661 val/loss  0.018985 val/loss_grapheme  0.007067 val/loss_vowel  0.002624 val/loss_consonant  0.001899 val/loss_comb  0.007395 val/acc_grapheme  0.999452 val/acc_vowel  0.999228 val/acc_consonant  0.999751 val/acc_comb  0.995917 val/recall  0.999126 lr  0.000017 elapsed_time  322582.876346 mode 011 \n"
     ]
    },
    {
     "name": "stderr",
     "output_type": "stream",
     "text": [
      "100%|██████████| 4185/4185 [1:18:59<00:00,  1.13s/it]\n",
      "100%|██████████| 837/837 [05:12<00:00,  2.68it/s]\n",
      "  0%|          | 0/4185 [00:00<?, ?it/s]"
     ]
    },
    {
     "name": "stdout",
     "output_type": "stream",
     "text": [
      "epoch     64 train/loss  0.452984 train/loss_grapheme  0.307343 train/loss_vowel  0.055615 train/loss_consonant  0.050505 train/loss_comb  0.039521 train/acc_grapheme  0.956323 train/acc_vowel  0.981991 train/acc_consonant  0.982733 train/acc_comb  0.943204 train/recall  0.949293 val/loss  0.018280 val/loss_grapheme  0.006622 val/loss_vowel  0.002458 val/loss_consonant  0.001944 val/loss_comb  0.007256 val/acc_grapheme  0.999403 val/acc_vowel  0.999328 val/acc_consonant  0.999651 val/acc_comb  0.995818 val/recall  0.999001 lr  0.000017 elapsed_time  327636.877587 mode 010 \n"
     ]
    },
    {
     "name": "stderr",
     "output_type": "stream",
     "text": [
      "100%|██████████| 4185/4185 [1:18:52<00:00,  1.13s/it]\n",
      "100%|██████████| 837/837 [05:12<00:00,  2.68it/s]\n",
      "  0%|          | 0/4185 [00:00<?, ?it/s]"
     ]
    },
    {
     "name": "stdout",
     "output_type": "stream",
     "text": [
      "epoch     65 train/loss  0.441696 train/loss_grapheme  0.299528 train/loss_vowel  0.054367 train/loss_consonant  0.048816 train/loss_comb  0.038984 train/acc_grapheme  0.957708 train/acc_vowel  0.982698 train/acc_consonant  0.983011 train/acc_comb  0.944991 train/recall  0.950847 val/loss  0.019363 val/loss_grapheme  0.007279 val/loss_vowel  0.002494 val/loss_consonant  0.001990 val/loss_comb  0.007599 val/acc_grapheme  0.999303 val/acc_vowel  0.999278 val/acc_consonant  0.999577 val/acc_comb  0.995992 val/recall  0.998877 lr  0.000017 elapsed_time  332683.605760 mode 000 \n"
     ]
    },
    {
     "name": "stderr",
     "output_type": "stream",
     "text": [
      "100%|██████████| 4185/4185 [1:18:50<00:00,  1.13s/it]\n",
      "100%|██████████| 837/837 [05:11<00:00,  2.69it/s]\n",
      "  0%|          | 0/4185 [00:00<?, ?it/s]"
     ]
    },
    {
     "name": "stdout",
     "output_type": "stream",
     "text": [
      "epoch     66 train/loss  0.431146 train/loss_grapheme  0.290565 train/loss_vowel  0.054065 train/loss_consonant  0.047947 train/loss_comb  0.038569 train/acc_grapheme  0.958639 train/acc_vowel  0.982414 train/acc_consonant  0.983848 train/acc_comb  0.945768 train/recall  0.951219 val/loss  0.017161 val/loss_grapheme  0.005889 val/loss_vowel  0.002348 val/loss_consonant  0.001740 val/loss_comb  0.007183 val/acc_grapheme  0.999527 val/acc_vowel  0.999353 val/acc_consonant  0.999627 val/acc_comb  0.996340 val/recall  0.999142 lr  0.000017 elapsed_time  337727.477904 mode 011 \n"
     ]
    },
    {
     "name": "stderr",
     "output_type": "stream",
     "text": [
      "100%|██████████| 4185/4185 [1:18:48<00:00,  1.13s/it]\n",
      "100%|██████████| 837/837 [05:12<00:00,  2.67it/s]\n"
     ]
    },
    {
     "name": "stdout",
     "output_type": "stream",
     "text": [
      "epoch     67 train/loss  0.439050 train/loss_grapheme  0.297915 train/loss_vowel  0.053410 train/loss_consonant  0.048793 train/loss_comb  0.038931 train/acc_grapheme  0.957324 train/acc_vowel  0.982907 train/acc_consonant  0.983559 train/acc_comb  0.944239 train/recall  0.950317 val/loss  0.020316 val/loss_grapheme  0.008044 val/loss_vowel  0.002624 val/loss_consonant  0.001806 val/loss_comb  0.007842 val/acc_grapheme  0.999104 val/acc_vowel  0.999278 val/acc_consonant  0.999651 val/acc_comb  0.995444 val/recall  0.998798 lr  0.000017 elapsed_time  342770.493147 mode 000 \n"
     ]
    },
    {
     "name": "stderr",
     "output_type": "stream",
     "text": [
      "100%|██████████| 4185/4185 [1:18:46<00:00,  1.13s/it]\n",
      "100%|██████████| 837/837 [05:11<00:00,  2.69it/s]\n",
      "  0%|          | 0/4185 [00:00<?, ?it/s]"
     ]
    },
    {
     "name": "stdout",
     "output_type": "stream",
     "text": [
      "epoch     68 train/loss  0.437847 train/loss_grapheme  0.296632 train/loss_vowel  0.052885 train/loss_consonant  0.049455 train/loss_comb  0.038874 train/acc_grapheme  0.957673 train/acc_vowel  0.982618 train/acc_consonant  0.983265 train/acc_comb  0.945479 train/recall  0.950793 val/loss  0.018953 val/loss_grapheme  0.007072 val/loss_vowel  0.002441 val/loss_consonant  0.001955 val/loss_comb  0.007486 val/acc_grapheme  0.999403 val/acc_vowel  0.999353 val/acc_consonant  0.999726 val/acc_comb  0.995768 val/recall  0.999189 lr  0.000017 elapsed_time  347809.933464 mode 001 \n"
     ]
    },
    {
     "name": "stderr",
     "output_type": "stream",
     "text": [
      "100%|██████████| 4185/4185 [1:18:44<00:00,  1.13s/it]\n",
      "100%|██████████| 837/837 [05:11<00:00,  2.69it/s]\n",
      "  0%|          | 0/4185 [00:00<?, ?it/s]"
     ]
    },
    {
     "name": "stdout",
     "output_type": "stream",
     "text": [
      "epoch     69 train/loss  0.434346 train/loss_grapheme  0.295829 train/loss_vowel  0.052405 train/loss_consonant  0.047393 train/loss_comb  0.038719 train/acc_grapheme  0.957762 train/acc_vowel  0.982857 train/acc_consonant  0.984321 train/acc_comb  0.945773 train/recall  0.951373 val/loss  0.018658 val/loss_grapheme  0.006900 val/loss_vowel  0.002310 val/loss_consonant  0.001839 val/loss_comb  0.007609 val/acc_grapheme  0.999403 val/acc_vowel  0.999452 val/acc_consonant  0.999602 val/acc_comb  0.995643 val/recall  0.999085 lr  0.000017 elapsed_time  352848.127863 mode 100 \n"
     ]
    },
    {
     "name": "stderr",
     "output_type": "stream",
     "text": [
      "100%|██████████| 4185/4185 [1:18:51<00:00,  1.13s/it]\n",
      "100%|██████████| 837/837 [05:12<00:00,  2.67it/s]\n",
      "  0%|          | 0/4185 [00:00<?, ?it/s]"
     ]
    },
    {
     "name": "stdout",
     "output_type": "stream",
     "text": [
      "epoch     70 train/loss  0.431195 train/loss_grapheme  0.291890 train/loss_vowel  0.052509 train/loss_consonant  0.048434 train/loss_comb  0.038362 train/acc_grapheme  0.958435 train/acc_vowel  0.982892 train/acc_consonant  0.983619 train/acc_comb  0.945623 train/recall  0.951053 val/loss  0.018049 val/loss_grapheme  0.006538 val/loss_vowel  0.002321 val/loss_consonant  0.001893 val/loss_comb  0.007296 val/acc_grapheme  0.999477 val/acc_vowel  0.999378 val/acc_consonant  0.999602 val/acc_comb  0.995643 val/recall  0.999139 lr  0.000012 elapsed_time  357893.755404 mode 000 \n"
     ]
    },
    {
     "name": "stderr",
     "output_type": "stream",
     "text": [
      "100%|██████████| 4185/4185 [1:18:48<00:00,  1.13s/it]\n",
      "100%|██████████| 837/837 [05:11<00:00,  2.68it/s]\n",
      "  0%|          | 0/4185 [00:00<?, ?it/s]"
     ]
    },
    {
     "name": "stdout",
     "output_type": "stream",
     "text": [
      "epoch     71 train/loss  0.421547 train/loss_grapheme  0.285392 train/loss_vowel  0.051291 train/loss_consonant  0.046960 train/loss_comb  0.037903 train/acc_grapheme  0.958992 train/acc_vowel  0.983265 train/acc_consonant  0.984067 train/acc_comb  0.946301 train/recall  0.952516 val/loss  0.020092 val/loss_grapheme  0.007744 val/loss_vowel  0.002481 val/loss_consonant  0.001977 val/loss_comb  0.007890 val/acc_grapheme  0.999079 val/acc_vowel  0.999353 val/acc_consonant  0.999527 val/acc_comb  0.995394 val/recall  0.998732 lr  0.000012 elapsed_time  362935.503806 mode 000 \n"
     ]
    },
    {
     "name": "stderr",
     "output_type": "stream",
     "text": [
      "100%|██████████| 4185/4185 [1:18:52<00:00,  1.13s/it]\n",
      "100%|██████████| 837/837 [05:12<00:00,  2.68it/s]\n",
      "  0%|          | 0/4185 [00:00<?, ?it/s]"
     ]
    },
    {
     "name": "stdout",
     "output_type": "stream",
     "text": [
      "epoch     72 train/loss  0.421502 train/loss_grapheme  0.285244 train/loss_vowel  0.051260 train/loss_consonant  0.047128 train/loss_comb  0.037869 train/acc_grapheme  0.959157 train/acc_vowel  0.983524 train/acc_consonant  0.984216 train/acc_comb  0.946679 train/recall  0.952562 val/loss  0.016633 val/loss_grapheme  0.005700 val/loss_vowel  0.002124 val/loss_consonant  0.001706 val/loss_comb  0.007103 val/acc_grapheme  0.999452 val/acc_vowel  0.999502 val/acc_consonant  0.999701 val/acc_comb  0.996440 val/recall  0.999136 lr  0.000012 elapsed_time  367982.262414 mode 010 \n"
     ]
    },
    {
     "name": "stderr",
     "output_type": "stream",
     "text": [
      "100%|██████████| 4185/4185 [1:18:47<00:00,  1.13s/it]\n",
      "100%|██████████| 837/837 [05:11<00:00,  2.69it/s]\n",
      "  0%|          | 0/4185 [00:00<?, ?it/s]"
     ]
    },
    {
     "name": "stdout",
     "output_type": "stream",
     "text": [
      "epoch     73 train/loss  0.418973 train/loss_grapheme  0.283171 train/loss_vowel  0.050723 train/loss_consonant  0.047419 train/loss_comb  0.037660 train/acc_grapheme  0.959321 train/acc_vowel  0.983499 train/acc_consonant  0.983818 train/acc_comb  0.947202 train/recall  0.952628 val/loss  0.015820 val/loss_grapheme  0.005405 val/loss_vowel  0.001956 val/loss_consonant  0.001431 val/loss_comb  0.007028 val/acc_grapheme  0.999477 val/acc_vowel  0.999502 val/acc_consonant  0.999826 val/acc_comb  0.996390 val/recall  0.999292 lr  0.000012 elapsed_time  373022.353547 mode 011 \n"
     ]
    },
    {
     "name": "stderr",
     "output_type": "stream",
     "text": [
      "100%|██████████| 4185/4185 [1:18:53<00:00,  1.13s/it]\n",
      "100%|██████████| 837/837 [05:09<00:00,  2.71it/s]\n",
      "  0%|          | 0/4185 [00:00<?, ?it/s]"
     ]
    },
    {
     "name": "stdout",
     "output_type": "stream",
     "text": [
      "epoch     74 train/loss  0.409396 train/loss_grapheme  0.276901 train/loss_vowel  0.049386 train/loss_consonant  0.045850 train/loss_comb  0.037259 train/acc_grapheme  0.960451 train/acc_vowel  0.983997 train/acc_consonant  0.984520 train/acc_comb  0.948232 train/recall  0.953834 val/loss  0.015729 val/loss_grapheme  0.005487 val/loss_vowel  0.002074 val/loss_consonant  0.001465 val/loss_comb  0.006703 val/acc_grapheme  0.999427 val/acc_vowel  0.999403 val/acc_consonant  0.999726 val/acc_comb  0.996390 val/recall  0.998996 lr  0.000012 elapsed_time  378066.374270 mode 010 \n"
     ]
    },
    {
     "name": "stderr",
     "output_type": "stream",
     "text": [
      "100%|██████████| 4185/4185 [1:18:50<00:00,  1.13s/it]\n",
      "100%|██████████| 837/837 [05:10<00:00,  2.69it/s]\n",
      "  0%|          | 0/4185 [00:00<?, ?it/s]"
     ]
    },
    {
     "name": "stdout",
     "output_type": "stream",
     "text": [
      "epoch     75 train/loss  0.411798 train/loss_grapheme  0.277952 train/loss_vowel  0.050577 train/loss_consonant  0.045929 train/loss_comb  0.037340 train/acc_grapheme  0.960237 train/acc_vowel  0.983599 train/acc_consonant  0.984674 train/acc_comb  0.947809 train/recall  0.953357 val/loss  0.016510 val/loss_grapheme  0.005748 val/loss_vowel  0.002101 val/loss_consonant  0.001620 val/loss_comb  0.007041 val/acc_grapheme  0.999378 val/acc_vowel  0.999378 val/acc_consonant  0.999676 val/acc_comb  0.996067 val/recall  0.999020 lr  0.000012 elapsed_time  383109.433356 mode 000 \n"
     ]
    },
    {
     "name": "stderr",
     "output_type": "stream",
     "text": [
      "100%|██████████| 4185/4185 [1:18:43<00:00,  1.13s/it]\n",
      "100%|██████████| 837/837 [05:11<00:00,  2.69it/s]\n",
      "  0%|          | 0/4185 [00:00<?, ?it/s]"
     ]
    },
    {
     "name": "stdout",
     "output_type": "stream",
     "text": [
      "epoch     76 train/loss  0.419301 train/loss_grapheme  0.285338 train/loss_vowel  0.050767 train/loss_consonant  0.045534 train/loss_comb  0.037662 train/acc_grapheme  0.959127 train/acc_vowel  0.983315 train/acc_consonant  0.984455 train/acc_comb  0.947028 train/recall  0.952483 val/loss  0.016610 val/loss_grapheme  0.006155 val/loss_vowel  0.002059 val/loss_consonant  0.001507 val/loss_comb  0.006889 val/acc_grapheme  0.999452 val/acc_vowel  0.999328 val/acc_consonant  0.999751 val/acc_comb  0.996166 val/recall  0.999130 lr  0.000012 elapsed_time  388145.396531 mode 000 \n"
     ]
    },
    {
     "name": "stderr",
     "output_type": "stream",
     "text": [
      "100%|██████████| 4185/4185 [1:18:44<00:00,  1.13s/it]\n",
      "100%|██████████| 837/837 [05:12<00:00,  2.68it/s]\n",
      "  0%|          | 0/4185 [00:00<?, ?it/s]"
     ]
    },
    {
     "name": "stdout",
     "output_type": "stream",
     "text": [
      "epoch     77 train/loss  0.414413 train/loss_grapheme  0.282168 train/loss_vowel  0.049475 train/loss_consonant  0.045448 train/loss_comb  0.037323 train/acc_grapheme  0.960048 train/acc_vowel  0.983664 train/acc_consonant  0.984829 train/acc_comb  0.948307 train/recall  0.953570 val/loss  0.015111 val/loss_grapheme  0.005100 val/loss_vowel  0.001847 val/loss_consonant  0.001305 val/loss_comb  0.006859 val/acc_grapheme  0.999527 val/acc_vowel  0.999502 val/acc_consonant  0.999801 val/acc_comb  0.996515 val/recall  0.999277 lr  0.000012 elapsed_time  393184.117198 mode 010 \n"
     ]
    },
    {
     "name": "stderr",
     "output_type": "stream",
     "text": [
      "100%|██████████| 4185/4185 [1:18:56<00:00,  1.13s/it]\n",
      "100%|██████████| 837/837 [05:10<00:00,  2.70it/s]\n",
      "  0%|          | 0/4185 [00:00<?, ?it/s]"
     ]
    },
    {
     "name": "stdout",
     "output_type": "stream",
     "text": [
      "epoch     78 train/loss  0.409945 train/loss_grapheme  0.276798 train/loss_vowel  0.050389 train/loss_consonant  0.045511 train/loss_comb  0.037247 train/acc_grapheme  0.960566 train/acc_vowel  0.983624 train/acc_consonant  0.984515 train/acc_comb  0.948372 train/recall  0.953669 val/loss  0.015006 val/loss_grapheme  0.004902 val/loss_vowel  0.001999 val/loss_consonant  0.001339 val/loss_comb  0.006766 val/acc_grapheme  0.999577 val/acc_vowel  0.999477 val/acc_consonant  0.999851 val/acc_comb  0.996689 val/recall  0.999344 lr  0.000012 elapsed_time  398232.615607 mode 011 \n"
     ]
    },
    {
     "name": "stderr",
     "output_type": "stream",
     "text": [
      "100%|██████████| 4185/4185 [1:18:47<00:00,  1.13s/it]\n",
      "100%|██████████| 837/837 [05:12<00:00,  2.68it/s]\n",
      "  0%|          | 0/4185 [00:00<?, ?it/s]"
     ]
    },
    {
     "name": "stdout",
     "output_type": "stream",
     "text": [
      "epoch     79 train/loss  0.412108 train/loss_grapheme  0.278539 train/loss_vowel  0.050485 train/loss_consonant  0.045898 train/loss_comb  0.037186 train/acc_grapheme  0.959844 train/acc_vowel  0.983225 train/acc_consonant  0.984445 train/acc_comb  0.947486 train/recall  0.953074 val/loss  0.014513 val/loss_grapheme  0.004819 val/loss_vowel  0.001813 val/loss_consonant  0.001414 val/loss_comb  0.006468 val/acc_grapheme  0.999602 val/acc_vowel  0.999502 val/acc_consonant  0.999876 val/acc_comb  0.996589 val/recall  0.999462 lr  0.000012 elapsed_time  403274.541400 mode 111 \n"
     ]
    },
    {
     "name": "stderr",
     "output_type": "stream",
     "text": [
      "100%|██████████| 4185/4185 [1:18:43<00:00,  1.13s/it]\n",
      "100%|██████████| 837/837 [05:10<00:00,  2.69it/s]\n",
      "  0%|          | 0/4185 [00:00<?, ?it/s]"
     ]
    },
    {
     "name": "stdout",
     "output_type": "stream",
     "text": [
      "epoch     80 train/loss  0.416195 train/loss_grapheme  0.281493 train/loss_vowel  0.051231 train/loss_consonant  0.046097 train/loss_comb  0.037374 train/acc_grapheme  0.960023 train/acc_vowel  0.983061 train/acc_consonant  0.984575 train/acc_comb  0.948093 train/recall  0.953120 val/loss  0.013340 val/loss_grapheme  0.004216 val/loss_vowel  0.001699 val/loss_consonant  0.001256 val/loss_comb  0.006169 val/acc_grapheme  0.999527 val/acc_vowel  0.999602 val/acc_consonant  0.999925 val/acc_comb  0.996838 val/recall  0.999392 lr  0.000012 elapsed_time  408310.886898 mode 010 \n"
     ]
    },
    {
     "name": "stderr",
     "output_type": "stream",
     "text": [
      "100%|██████████| 4185/4185 [1:18:45<00:00,  1.13s/it]\n",
      "100%|██████████| 837/837 [05:10<00:00,  2.70it/s]\n",
      "  0%|          | 0/4185 [00:00<?, ?it/s]"
     ]
    },
    {
     "name": "stdout",
     "output_type": "stream",
     "text": [
      "epoch     81 train/loss  0.406526 train/loss_grapheme  0.274272 train/loss_vowel  0.049986 train/loss_consonant  0.045200 train/loss_comb  0.037067 train/acc_grapheme  0.960172 train/acc_vowel  0.984102 train/acc_consonant  0.984649 train/acc_comb  0.948601 train/recall  0.953589 val/loss  0.018327 val/loss_grapheme  0.006606 val/loss_vowel  0.002137 val/loss_consonant  0.001837 val/loss_comb  0.007746 val/acc_grapheme  0.999328 val/acc_vowel  0.999502 val/acc_consonant  0.999602 val/acc_comb  0.995693 val/recall  0.998970 lr  0.000012 elapsed_time  413348.539154 mode 000 \n"
     ]
    },
    {
     "name": "stderr",
     "output_type": "stream",
     "text": [
      "100%|██████████| 4185/4185 [1:18:43<00:00,  1.13s/it]\n",
      "100%|██████████| 837/837 [05:10<00:00,  2.70it/s]\n",
      "  0%|          | 0/4185 [00:00<?, ?it/s]"
     ]
    },
    {
     "name": "stdout",
     "output_type": "stream",
     "text": [
      "epoch     82 train/loss  0.407435 train/loss_grapheme  0.275252 train/loss_vowel  0.049626 train/loss_consonant  0.045687 train/loss_comb  0.036869 train/acc_grapheme  0.960665 train/acc_vowel  0.983838 train/acc_consonant  0.984704 train/acc_comb  0.948765 train/recall  0.954158 val/loss  0.015707 val/loss_grapheme  0.005349 val/loss_vowel  0.001850 val/loss_consonant  0.001514 val/loss_comb  0.006994 val/acc_grapheme  0.999502 val/acc_vowel  0.999577 val/acc_consonant  0.999726 val/acc_comb  0.996291 val/recall  0.999281 lr  0.000012 elapsed_time  418383.946436 mode 000 \n"
     ]
    },
    {
     "name": "stderr",
     "output_type": "stream",
     "text": [
      "100%|██████████| 4185/4185 [1:18:46<00:00,  1.13s/it]\n",
      "100%|██████████| 837/837 [05:12<00:00,  2.68it/s]\n",
      "  0%|          | 0/4185 [00:00<?, ?it/s]"
     ]
    },
    {
     "name": "stdout",
     "output_type": "stream",
     "text": [
      "epoch     83 train/loss  0.407816 train/loss_grapheme  0.275226 train/loss_vowel  0.049934 train/loss_consonant  0.045602 train/loss_comb  0.037055 train/acc_grapheme  0.960750 train/acc_vowel  0.983708 train/acc_consonant  0.984759 train/acc_comb  0.949303 train/recall  0.953923 val/loss  0.016918 val/loss_grapheme  0.006020 val/loss_vowel  0.001979 val/loss_consonant  0.001637 val/loss_comb  0.007283 val/acc_grapheme  0.999353 val/acc_vowel  0.999502 val/acc_consonant  0.999801 val/acc_comb  0.996166 val/recall  0.999089 lr  0.000012 elapsed_time  423424.438424 mode 000 \n"
     ]
    },
    {
     "name": "stderr",
     "output_type": "stream",
     "text": [
      "100%|██████████| 4185/4185 [1:18:53<00:00,  1.13s/it]\n",
      "100%|██████████| 837/837 [05:13<00:00,  2.67it/s]\n",
      "  0%|          | 0/4185 [00:00<?, ?it/s]"
     ]
    },
    {
     "name": "stdout",
     "output_type": "stream",
     "text": [
      "epoch     84 train/loss  0.408946 train/loss_grapheme  0.277208 train/loss_vowel  0.049987 train/loss_consonant  0.044777 train/loss_comb  0.036975 train/acc_grapheme  0.960610 train/acc_vowel  0.983748 train/acc_consonant  0.985028 train/acc_comb  0.948302 train/recall  0.954023 val/loss  0.014407 val/loss_grapheme  0.004472 val/loss_vowel  0.001835 val/loss_consonant  0.001390 val/loss_comb  0.006711 val/acc_grapheme  0.999627 val/acc_vowel  0.999577 val/acc_consonant  0.999801 val/acc_comb  0.996689 val/recall  0.999403 lr  0.000012 elapsed_time  428472.546879 mode 000 \n"
     ]
    },
    {
     "name": "stderr",
     "output_type": "stream",
     "text": [
      "  3%|▎         | 119/4185 [02:15<1:16:58,  1.14s/it]Traceback (most recent call last):\n",
      "  File \"/home/chen/anaconda3/lib/python3.7/multiprocessing/queues.py\", line 242, in _feed\n",
      "    send_bytes(obj)\n",
      "  File \"/home/chen/anaconda3/lib/python3.7/multiprocessing/connection.py\", line 200, in send_bytes\n",
      "    self._send_bytes(m[offset:offset + size])\n",
      "  File \"/home/chen/anaconda3/lib/python3.7/multiprocessing/connection.py\", line 404, in _send_bytes\n",
      "    self._send(header + buf)\n",
      "  File \"/home/chen/anaconda3/lib/python3.7/multiprocessing/connection.py\", line 368, in _send\n",
      "    n = write(self._handle, buf)\n",
      "BrokenPipeError: [Errno 32] Broken pipe\n",
      "Traceback (most recent call last):\n",
      "  File \"/home/chen/anaconda3/lib/python3.7/multiprocessing/queues.py\", line 242, in _feed\n",
      "    send_bytes(obj)\n",
      "  File \"/home/chen/anaconda3/lib/python3.7/multiprocessing/connection.py\", line 200, in send_bytes\n",
      "    self._send_bytes(m[offset:offset + size])\n",
      "Traceback (most recent call last):\n",
      "  File \"/home/chen/anaconda3/lib/python3.7/multiprocessing/queues.py\", line 242, in _feed\n",
      "    send_bytes(obj)\n",
      "  File \"/home/chen/anaconda3/lib/python3.7/multiprocessing/connection.py\", line 200, in send_bytes\n",
      "    self._send_bytes(m[offset:offset + size])\n",
      "  File \"/home/chen/anaconda3/lib/python3.7/multiprocessing/connection.py\", line 404, in _send_bytes\n",
      "    self._send(header + buf)\n",
      "  File \"/home/chen/anaconda3/lib/python3.7/multiprocessing/connection.py\", line 368, in _send\n",
      "    n = write(self._handle, buf)\n",
      "BrokenPipeError: [Errno 32] Broken pipe\n",
      "  File \"/home/chen/anaconda3/lib/python3.7/multiprocessing/connection.py\", line 404, in _send_bytes\n",
      "    self._send(header + buf)\n",
      "  File \"/home/chen/anaconda3/lib/python3.7/multiprocessing/connection.py\", line 368, in _send\n",
      "    n = write(self._handle, buf)\n",
      "BrokenPipeError: [Errno 32] Broken pipe\n",
      "Traceback (most recent call last):\n",
      "  File \"/home/chen/anaconda3/lib/python3.7/multiprocessing/queues.py\", line 242, in _feed\n",
      "    send_bytes(obj)\n",
      "  File \"/home/chen/anaconda3/lib/python3.7/multiprocessing/connection.py\", line 200, in send_bytes\n",
      "    self._send_bytes(m[offset:offset + size])\n",
      "  File \"/home/chen/anaconda3/lib/python3.7/multiprocessing/connection.py\", line 404, in _send_bytes\n",
      "    self._send(header + buf)\n",
      "  File \"/home/chen/anaconda3/lib/python3.7/multiprocessing/connection.py\", line 368, in _send\n",
      "    n = write(self._handle, buf)\n",
      "BrokenPipeError: [Errno 32] Broken pipe\n"
     ]
    },
    {
     "ename": "KeyboardInterrupt",
     "evalue": "",
     "output_type": "error",
     "traceback": [
      "\u001b[0;31m---------------------------------------------------------------------------\u001b[0m",
      "\u001b[0;31mKeyboardInterrupt\u001b[0m                         Traceback (most recent call last)",
      "\u001b[0;32m<ipython-input-74-7fed29aba279>\u001b[0m in \u001b[0;36m<module>\u001b[0;34m\u001b[0m\n\u001b[1;32m     51\u001b[0m         \u001b[0mtorch\u001b[0m\u001b[0;34m.\u001b[0m\u001b[0mcuda\u001b[0m\u001b[0;34m.\u001b[0m\u001b[0mempty_cache\u001b[0m\u001b[0;34m(\u001b[0m\u001b[0;34m)\u001b[0m\u001b[0;34m\u001b[0m\u001b[0;34m\u001b[0m\u001b[0m\n\u001b[1;32m     52\u001b[0m         \u001b[0mgc\u001b[0m\u001b[0;34m.\u001b[0m\u001b[0mcollect\u001b[0m\u001b[0;34m(\u001b[0m\u001b[0;34m)\u001b[0m\u001b[0;34m\u001b[0m\u001b[0;34m\u001b[0m\u001b[0m\n\u001b[0;32m---> 53\u001b[0;31m         \u001b[0mtrain_metrics\u001b[0m\u001b[0;34m,\u001b[0m \u001b[0mn_train_call\u001b[0m \u001b[0;34m=\u001b[0m \u001b[0mtrain_model\u001b[0m\u001b[0;34m(\u001b[0m\u001b[0mepoch\u001b[0m\u001b[0;34m,\u001b[0m \u001b[0mtrain_loader\u001b[0m\u001b[0;34m,\u001b[0m \u001b[0mlog_report\u001b[0m\u001b[0;34m,\u001b[0m \u001b[0mn_train_call\u001b[0m\u001b[0;34m)\u001b[0m\u001b[0;34m\u001b[0m\u001b[0;34m\u001b[0m\u001b[0m\n\u001b[0m\u001b[1;32m     54\u001b[0m         \u001b[0mval_metrics\u001b[0m \u001b[0;34m=\u001b[0m \u001b[0mevaluate_model\u001b[0m\u001b[0;34m(\u001b[0m\u001b[0mepoch\u001b[0m\u001b[0;34m,\u001b[0m \u001b[0mvalid_loader\u001b[0m\u001b[0;34m,\u001b[0m \u001b[0mlog_report\u001b[0m\u001b[0;34m)\u001b[0m\u001b[0;34m\u001b[0m\u001b[0;34m\u001b[0m\u001b[0m\n\u001b[1;32m     55\u001b[0m         mode, min_val_loss, max_val_recall = save_res(predictor, k, epoch, val_metrics, min_val_loss, \n",
      "\u001b[0;32m<ipython-input-69-ec467b68c965>\u001b[0m in \u001b[0;36mtrain_model\u001b[0;34m(epoch, data_loader, log_report, n_train_call)\u001b[0m\n\u001b[1;32m     19\u001b[0m         \u001b[0mn_train_call\u001b[0m\u001b[0;34m[\u001b[0m\u001b[0;36m0\u001b[0m\u001b[0;34m]\u001b[0m \u001b[0;34m+=\u001b[0m \u001b[0mn_sub\u001b[0m\u001b[0;34m\u001b[0m\u001b[0;34m\u001b[0m\u001b[0m\n\u001b[1;32m     20\u001b[0m \u001b[0;34m\u001b[0m\u001b[0m\n\u001b[0;32m---> 21\u001b[0;31m         \u001b[0mloss\u001b[0m\u001b[0;34m.\u001b[0m\u001b[0mbackward\u001b[0m\u001b[0;34m(\u001b[0m\u001b[0;34m)\u001b[0m\u001b[0;34m\u001b[0m\u001b[0;34m\u001b[0m\u001b[0m\n\u001b[0m\u001b[1;32m     22\u001b[0m         \u001b[0moptimizer\u001b[0m\u001b[0;34m.\u001b[0m\u001b[0mstep\u001b[0m\u001b[0;34m(\u001b[0m\u001b[0;34m)\u001b[0m\u001b[0;34m\u001b[0m\u001b[0;34m\u001b[0m\u001b[0m\n\u001b[1;32m     23\u001b[0m \u001b[0;34m\u001b[0m\u001b[0m\n",
      "\u001b[0;32m~/anaconda3/lib/python3.7/site-packages/torch/tensor.py\u001b[0m in \u001b[0;36mbackward\u001b[0;34m(self, gradient, retain_graph, create_graph)\u001b[0m\n\u001b[1;32m    100\u001b[0m                 \u001b[0mproducts\u001b[0m\u001b[0;34m.\u001b[0m \u001b[0mDefaults\u001b[0m \u001b[0mto\u001b[0m\u001b[0;31m \u001b[0m\u001b[0;31m`\u001b[0m\u001b[0;31m`\u001b[0m\u001b[0;32mFalse\u001b[0m\u001b[0;31m`\u001b[0m\u001b[0;31m`\u001b[0m\u001b[0;34m.\u001b[0m\u001b[0;34m\u001b[0m\u001b[0;34m\u001b[0m\u001b[0m\n\u001b[1;32m    101\u001b[0m         \"\"\"\n\u001b[0;32m--> 102\u001b[0;31m         \u001b[0mtorch\u001b[0m\u001b[0;34m.\u001b[0m\u001b[0mautograd\u001b[0m\u001b[0;34m.\u001b[0m\u001b[0mbackward\u001b[0m\u001b[0;34m(\u001b[0m\u001b[0mself\u001b[0m\u001b[0;34m,\u001b[0m \u001b[0mgradient\u001b[0m\u001b[0;34m,\u001b[0m \u001b[0mretain_graph\u001b[0m\u001b[0;34m,\u001b[0m \u001b[0mcreate_graph\u001b[0m\u001b[0;34m)\u001b[0m\u001b[0;34m\u001b[0m\u001b[0;34m\u001b[0m\u001b[0m\n\u001b[0m\u001b[1;32m    103\u001b[0m \u001b[0;34m\u001b[0m\u001b[0m\n\u001b[1;32m    104\u001b[0m     \u001b[0;32mdef\u001b[0m \u001b[0mregister_hook\u001b[0m\u001b[0;34m(\u001b[0m\u001b[0mself\u001b[0m\u001b[0;34m,\u001b[0m \u001b[0mhook\u001b[0m\u001b[0;34m)\u001b[0m\u001b[0;34m:\u001b[0m\u001b[0;34m\u001b[0m\u001b[0;34m\u001b[0m\u001b[0m\n",
      "\u001b[0;32m~/anaconda3/lib/python3.7/site-packages/torch/autograd/__init__.py\u001b[0m in \u001b[0;36mbackward\u001b[0;34m(tensors, grad_tensors, retain_graph, create_graph, grad_variables)\u001b[0m\n\u001b[1;32m     88\u001b[0m     Variable._execution_engine.run_backward(\n\u001b[1;32m     89\u001b[0m         \u001b[0mtensors\u001b[0m\u001b[0;34m,\u001b[0m \u001b[0mgrad_tensors\u001b[0m\u001b[0;34m,\u001b[0m \u001b[0mretain_graph\u001b[0m\u001b[0;34m,\u001b[0m \u001b[0mcreate_graph\u001b[0m\u001b[0;34m,\u001b[0m\u001b[0;34m\u001b[0m\u001b[0;34m\u001b[0m\u001b[0m\n\u001b[0;32m---> 90\u001b[0;31m         allow_unreachable=True)  # allow_unreachable flag\n\u001b[0m\u001b[1;32m     91\u001b[0m \u001b[0;34m\u001b[0m\u001b[0m\n\u001b[1;32m     92\u001b[0m \u001b[0;34m\u001b[0m\u001b[0m\n",
      "\u001b[0;31mKeyboardInterrupt\u001b[0m: "
     ]
    }
   ],
   "source": [
    "import gc\n",
    "\n",
    "# train_labels_total = train[['grapheme_root', 'vowel_diacritic', 'consonant_diacritic']].values\n",
    "n_epochs = 150\n",
    "kfold = 5\n",
    "if not os.path.exists(outdir):\n",
    "    os.mkdir(outdir)\n",
    "for k in range(kfold):\n",
    "    # Set pretrained='imagenet' to download imagenet pretrained model...\n",
    "    predictor = PretrainedCNN(in_channels=1, num_class=[n_grapheme, n_vowel, n_consonant, n_comb_class], \n",
    "                              model_name=model_name, pretrained=\"imagenet\", dropout_ratio=DP)\n",
    "#     predictor.load_pretrain(is_print=False)\n",
    "    predictor.load_state_dict(torch.load(trained_model_name))\n",
    "    print('predictor', type(predictor))\n",
    "    start_time = perf_counter()\n",
    "    classifier = BengaliClassifier(predictor).to(device)\n",
    "    # --- Training setting ---\n",
    "    optimizer = torch.optim.Adam(classifier.parameters(), lr=LR, weight_decay=WD)\n",
    "#     optimizer = get_optimizer_adam(classifier, learning_rate=LR, weight_decay=WD)\n",
    "\n",
    "    scheduler = torch.optim.lr_scheduler.ReduceLROnPlateau(\n",
    "        optimizer, mode='max', factor=0.7, patience=5, min_lr=1e-7)\n",
    "\n",
    "    sub_dir = os.path.join(outdir,\"{}_fold\".format(k))\n",
    "    if not os.path.exists(sub_dir):\n",
    "        os.mkdir(sub_dir)\n",
    "    log_report = LogReport(dirpath=sub_dir)\n",
    "    n_train_call = [0]\n",
    "    min_val_loss = 1e10\n",
    "    max_val_recall = 0\n",
    "    val_indexes = train[train['fold']==k].index.tolist()\n",
    "#     train_indexes = train[train['fold']!=k].index.tolist()\n",
    "    train_indexes = train.index.tolist()\n",
    "    save_params(outdir, k, HEIGHT_NEW, WIDTH_NEW, TH, arch, batch_size)\n",
    "    if debug:\n",
    "        val_indexes = val_indexes[:100]\n",
    "        train_indexes = train_indexes[:200]\n",
    "#         print(\"val_indexes:\", val_indexes[:5])\n",
    "#     print(\"train_indexes:\", len(np.unique(train_indexes)))\n",
    "    train_dataset = BengaliAIDataset(\n",
    "        train_images, train_labels, transform=train_transform,\n",
    "        indices=train_indexes)\n",
    "    valid_dataset = BengaliAIDataset(\n",
    "        train_images, train_labels, transform=Transform(affine=False, crop=False, size=(WIDTH_NEW, HEIGHT_NEW)),\n",
    "        indices=val_indexes)\n",
    "    \n",
    "    train_loader = DataLoader(train_dataset, batch_size=batch_size, shuffle=True, num_workers=4)\n",
    "    valid_loader = DataLoader(valid_dataset, batch_size=batch_size, shuffle=False, num_workers=0)\n",
    "    \n",
    "    for epoch in range(n_epochs):\n",
    "        torch.cuda.empty_cache()\n",
    "        gc.collect()\n",
    "        train_metrics, n_train_call = train_model(epoch, train_loader, log_report, n_train_call)\n",
    "        val_metrics = evaluate_model(epoch, valid_loader, log_report)\n",
    "        mode, min_val_loss, max_val_recall = save_res(predictor, k, epoch, val_metrics, min_val_loss, \n",
    "                                                      max_val_recall, sub_dir)\n",
    "        save_checkpoint(epoch, predictor, optimizer, scheduler, max_val_recall, min_val_loss, sub_dir, \n",
    "                                str(int(perf_counter()- start_time)))\n",
    "#         print(\"mode type:{}, mode val:{}\".format(type(mode), mode))\n",
    "#         print(\"min_val_loss = \", min_val_loss)\n",
    "#         print(\"max_val_recall = \", max_val_recall)\n",
    "        log_report(epoch, n_train_call[0], train_metrics, val_metrics, mode)\n",
    "    \n",
    "    model_file_name = os.path.join(sub_dir, 'predictor_{}_{}.pt'.format(k,epoch))\n",
    "    torch.save(predictor.state_dict(), model_file_name)"
   ]
  },
  {
   "cell_type": "code",
   "execution_count": null,
   "metadata": {
    "ExecuteTime": {
     "end_time": "2020-03-09T01:41:21.111317Z",
     "start_time": "2020-03-09T01:41:20.793Z"
    }
   },
   "outputs": [],
   "source": [
    "# print(sub_dir)\n",
    "# checkpoint_path = sub_dir\n",
    "# model =  PretrainedCNN(in_channels=1, out_dim=n_total, model_name=model_name, pretrained=None)\n",
    "# epoch, model, optimizer, scheduler, acc_Max, loss_MIN = load_checkpoint(model, checkpoint_path, optimizer)"
   ]
  },
  {
   "cell_type": "code",
   "execution_count": null,
   "metadata": {
    "ExecuteTime": {
     "end_time": "2020-03-01T03:34:04.243487Z",
     "start_time": "2020-03-01T03:34:04.227590Z"
    }
   },
   "outputs": [],
   "source": []
  },
  {
   "cell_type": "code",
   "execution_count": null,
   "metadata": {},
   "outputs": [],
   "source": []
  },
  {
   "cell_type": "code",
   "execution_count": null,
   "metadata": {},
   "outputs": [],
   "source": []
  },
  {
   "cell_type": "code",
   "execution_count": null,
   "metadata": {
    "ExecuteTime": {
     "end_time": "2020-03-09T01:41:21.112630Z",
     "start_time": "2020-03-09T01:41:20.805Z"
    }
   },
   "outputs": [],
   "source": [
    "a = torch.Tensor([0.5])\n",
    "print(a)\n",
    "if isinstance(a, torch.Tensor):\n",
    "    print(a.item())"
   ]
  },
  {
   "cell_type": "code",
   "execution_count": null,
   "metadata": {
    "ExecuteTime": {
     "end_time": "2020-03-09T01:41:21.113742Z",
     "start_time": "2020-03-09T01:41:20.808Z"
    }
   },
   "outputs": [],
   "source": [
    "train_history = log_report.get_dataframe()\n",
    "train_history.to_csv(outdir / 'log.csv', index=False)\n",
    "\n",
    "train_history"
   ]
  },
  {
   "cell_type": "markdown",
   "metadata": {},
   "source": [
    "<a id=\"pred\"></a>\n",
    "# Prediction\n",
    "\n",
    "Please refer **[Bengali: SEResNeXt prediction with pytorch](https://www.kaggle.com/corochann/bengali-seresnext-prediction-with-pytorch)** for the prediction with trained model and submission for this competition!!!"
   ]
  },
  {
   "cell_type": "markdown",
   "metadata": {},
   "source": [
    "<a id=\"ref\"></a>\n",
    "# Reference and further reading\n",
    "\n",
    "#### Kernel\n",
    "\n",
    "**[Bangali.AI super fast data loading with feather](https://www.kaggle.com/corochann/bangali-ai-super-fast-data-loading-with-feather)**<br>\n",
    "Simple example of how use feather format data to load data faster.\n",
    "\n",
    "**[Bengali: albumentations data augmentation tutorial](https://www.kaggle.com/corochann/bengali-albumentations-data-augmentation-tutorial)**<br>\n",
    "Tutorial for Data augmentations with albumentations library.\n",
    "\n",
    "**[Bengali: SEResNeXt prediction with pytorch](https://www.kaggle.com/corochann/bengali-seresnext-prediction-with-pytorch)**<br>\n",
    "**Prediction code of this kernel's trained model, please check this too!**\n",
    "\n",
    "**[Deep learning - CNN with Chainer: LB 0.99700](https://www.kaggle.com/corochann/deep-learning-cnn-with-chainer-lb-0-99700)**<br>\n",
    "Data augmentation idea is based on this kernel, which achieves quite high accuracy on MNIST task.\n",
    "\n",
    "#### Dataset\n",
    "**[bengaliai-cv19-feather](https://www.kaggle.com/corochann/bengaliaicv19feather)**<br>\n",
    "Feather format dataset\n",
    "\n",
    "**[bengaliaicv19_seresnext101_32x4d](https://www.kaggle.com/corochann/bengaliaicv19-seresnext101-32x4d)**<br>\n",
    "**Trained model weight with this kernel(v1)**\n",
    "\n",
    "**[bengaliaicv19_trainedmodels](https://www.kaggle.com/corochann/bengaliaicv19-trainedmodels)**<br>\n",
    "**Trained model weight with this kernel(v2~)**\n",
    "\n",
    "#### Library\n",
    "**https://github.com/pytorch/ignite**\n",
    "\n",
    "Used for training code abstraction. The advantage of abstracting the code is that we can re-use implemented handler class for other training, other competition.<br>\n",
    "You don't need to write code for saving models, logging training loss/metric, show progressbar etc.\n",
    "\n",
    "**https://github.com/Cadene/pretrained-models.pytorch**\n",
    "\n",
    "Many pretrained models are supported by this library, and we can switch to use them easily.\n",
    "Other model may perform better in this competition.\n",
    "\n",
    "**https://github.com/albumentations-team/albumentations**\n",
    "\n",
    "fast image augmentation library and easy to use wrapper around other libraries https://arxiv.org/abs/1809.06839<br>\n",
    "I could not show all the methods, you can find more methods in the library, check yourself!"
   ]
  },
  {
   "cell_type": "markdown",
   "metadata": {},
   "source": [
    "<h3 style=\"color:red\">If this kernel helps you, please upvote to keep me motivated :)<br>Thanks!</h3>"
   ]
  },
  {
   "cell_type": "code",
   "execution_count": null,
   "metadata": {
    "ExecuteTime": {
     "end_time": "2020-03-09T01:41:21.115164Z",
     "start_time": "2020-03-09T01:41:20.813Z"
    }
   },
   "outputs": [],
   "source": [
    "print(optimizer)"
   ]
  },
  {
   "cell_type": "code",
   "execution_count": 75,
   "metadata": {},
   "outputs": [],
   "source": [
    "model_file_name = os.path.join(outdir, 'predictor_{}_{}.pt'.format(0,epoch))\n",
    "torch.save(predictor.state_dict(), model_file_name)"
   ]
  },
  {
   "cell_type": "code",
   "execution_count": 76,
   "metadata": {},
   "outputs": [
    {
     "name": "stdout",
     "output_type": "stream",
     "text": [
      "../res/ResNext50_LR5e-05_WD0.0001_DP0.2_IM112-112_bs48_4head_c3aug-ftall/predictor_0_85.pt\n"
     ]
    }
   ],
   "source": [
    "print(model_file_name)"
   ]
  }
 ],
 "metadata": {
  "kernelspec": {
   "display_name": "Python 3",
   "language": "python",
   "name": "python3"
  },
  "language_info": {
   "codemirror_mode": {
    "name": "ipython",
    "version": 3
   },
   "file_extension": ".py",
   "mimetype": "text/x-python",
   "name": "python",
   "nbconvert_exporter": "python",
   "pygments_lexer": "ipython3",
   "version": "3.7.5"
  }
 },
 "nbformat": 4,
 "nbformat_minor": 1
}
