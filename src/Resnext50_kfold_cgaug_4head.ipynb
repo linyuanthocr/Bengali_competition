{
 "cells": [
  {
   "cell_type": "markdown",
   "metadata": {},
   "source": [
    "# Bengali.AI ResNeXt training with pytorch\n",
    "\n",
    "I will introduce following contents\n",
    "\n",
    " - **Fast data loading** with feather format\n",
    " - **Data augmentation** technic with affine transformation: 3basic classic affine+ gridmask\n",
    " - **CNN SoTA models**: Use pytorch `pretrainedmodels` library, especially I use **`SEResNeXt`** in this notebook\n",
    " - **Training code abstraction**: Use `pytorch-ignite` module for the trainining abstraction\n",
    " \n",
    "### Update history\n",
    "\n",
    " - 2020/1/4 v2: Added albumentations augmentations introduced in [Bengali: albumentations data augmentation tutorial](https://www.kaggle.com/corochann/bengali-albumentations-data-augmentation-tutorial)"
   ]
  },
  {
   "cell_type": "markdown",
   "metadata": {},
   "source": [
    "# Table of Contents:\n",
    "**[Fast data loading with feather](#load)**<br>\n",
    "**[Dataset](#dataset)**<br>\n",
    "**[Data augmentation/processing](#processing)**<br>\n",
    "**[pytorch model & define classifier](#model)**<br>\n",
    "**[Training code](#train)**<br>\n",
    "**[Prediction](#pred)**<br>\n",
    "**[Reference and further reading](#ref)**<br>"
   ]
  },
  {
   "cell_type": "markdown",
   "metadata": {},
   "source": [
    "To install https://github.com/Cadene/pretrained-models.pytorch without internet connection, we can install library as \"dataset\".\n",
    "\n",
    "It is uploaded by @rishabhiitbhu : https://www.kaggle.com/rishabhiitbhu/pretrainedmodels"
   ]
  },
  {
   "cell_type": "code",
   "execution_count": 2,
   "metadata": {
    "ExecuteTime": {
     "end_time": "2020-03-06T01:16:58.199148Z",
     "start_time": "2020-03-06T01:16:55.820704Z"
    }
   },
   "outputs": [
    {
     "name": "stdout",
     "output_type": "stream",
     "text": [
      "Requirement already satisfied: pretrainedmodels in /Users/helen/anaconda3/lib/python3.7/site-packages (0.7.4)\n",
      "Requirement already satisfied: torch in /Users/helen/anaconda3/lib/python3.7/site-packages (from pretrainedmodels) (1.3.1)\n",
      "Requirement already satisfied: munch in /Users/helen/anaconda3/lib/python3.7/site-packages (from pretrainedmodels) (2.5.0)\n",
      "Requirement already satisfied: torchvision in /Users/helen/anaconda3/lib/python3.7/site-packages (from pretrainedmodels) (0.4.2)\n",
      "Requirement already satisfied: tqdm in /Users/helen/anaconda3/lib/python3.7/site-packages (from pretrainedmodels) (4.36.1)\n",
      "Requirement already satisfied: numpy in /Users/helen/anaconda3/lib/python3.7/site-packages (from torch->pretrainedmodels) (1.17.3)\n",
      "Requirement already satisfied: six in /Users/helen/anaconda3/lib/python3.7/site-packages (from munch->pretrainedmodels) (1.12.0)\n",
      "Requirement already satisfied: pillow>=4.1.1 in /Users/helen/anaconda3/lib/python3.7/site-packages (from torchvision->pretrainedmodels) (6.2.1)\n"
     ]
    }
   ],
   "source": [
    "!pip install pretrainedmodels"
   ]
  },
  {
   "cell_type": "code",
   "execution_count": null,
   "metadata": {
    "ExecuteTime": {
     "end_time": "2020-03-01T02:52:25.961805Z",
     "start_time": "2020-03-01T02:52:25.944233Z"
    }
   },
   "outputs": [],
   "source": []
  },
  {
   "cell_type": "code",
   "execution_count": 3,
   "metadata": {
    "ExecuteTime": {
     "end_time": "2020-03-06T01:17:01.084529Z",
     "start_time": "2020-03-06T01:16:58.202281Z"
    },
    "_kg_hide-input": true,
    "_kg_hide-output": true
   },
   "outputs": [
    {
     "data": {
      "text/html": [
       "        <script type=\"text/javascript\">\n",
       "        window.PlotlyConfig = {MathJaxConfig: 'local'};\n",
       "        if (window.MathJax) {MathJax.Hub.Config({SVG: {font: \"STIX-Web\"}});}\n",
       "        if (typeof require !== 'undefined') {\n",
       "        require.undef(\"plotly\");\n",
       "        requirejs.config({\n",
       "            paths: {\n",
       "                'plotly': ['https://cdn.plot.ly/plotly-latest.min']\n",
       "            }\n",
       "        });\n",
       "        require(['plotly'], function(Plotly) {\n",
       "            window._Plotly = Plotly;\n",
       "        });\n",
       "        }\n",
       "        </script>\n",
       "        "
      ]
     },
     "metadata": {},
     "output_type": "display_data"
    }
   ],
   "source": [
    "import gc\n",
    "import os\n",
    "from pathlib import Path\n",
    "import random\n",
    "import sys\n",
    "\n",
    "from tqdm.notebook import tqdm\n",
    "import numpy as np # linear algebra\n",
    "import pandas as pd # data processing, CSV file I/O (e.g. pd.read_csv)\n",
    "\n",
    "import matplotlib.pyplot as plt\n",
    "import seaborn as sns\n",
    "\n",
    "from IPython.core.display import display, HTML\n",
    "\n",
    "# --- plotly ---\n",
    "from plotly import tools, subplots\n",
    "import plotly.offline as py\n",
    "py.init_notebook_mode(connected=True)\n",
    "import plotly.graph_objs as go\n",
    "import plotly.express as px\n",
    "import plotly.figure_factory as ff\n",
    "\n",
    "# --- models ---\n",
    "from sklearn import preprocessing\n",
    "from sklearn.model_selection import KFold\n",
    "import lightgbm as lgb\n",
    "import xgboost as xgb\n",
    "import catboost as cb\n",
    "\n",
    "# --- setup ---\n",
    "pd.set_option('max_columns', 50)\n",
    "\n",
    "PATH = \"/Users/helen/Desktop/Data/bengaliai-cv19/\"\n",
    "FEATHER_PATH = \"/Users/helen/Desktop/Data/bengaliaicv19feather/\"\n",
    "\n",
    "# PATH = \"/home/chen/Work/ly/data/Bengaliai/bengaliai-cv19/\"\n",
    "# FEATHER_PATH = \"/home/chen/Work/ly/data/Bengaliai/bengaliaicv19feather/\"\n",
    "\n",
    "# PATH = \"/home/vemlr/Work/chen_huang/Data/bengaliai-cv19/\"\n",
    "# FEATHER_PATH = \"/home/vemlr/Work/chen_huang/Data/bengaliaicv19feather/\""
   ]
  },
  {
   "cell_type": "code",
   "execution_count": null,
   "metadata": {
    "ExecuteTime": {
     "end_time": "2020-03-01T03:16:32.892124Z",
     "start_time": "2020-03-01T03:16:32.889457Z"
    }
   },
   "outputs": [],
   "source": []
  },
  {
   "cell_type": "code",
   "execution_count": 4,
   "metadata": {
    "ExecuteTime": {
     "end_time": "2020-03-06T01:17:01.091684Z",
     "start_time": "2020-03-06T01:17:01.086787Z"
    },
    "_cell_guid": "b1076dfc-b9ad-4769-8c92-a6c4dae69d19",
    "_kg_hide-input": true,
    "_kg_hide-output": true,
    "_uuid": "8f2839f25d086af736a60e9eeb907d3b93b6e0e5",
    "scrolled": true
   },
   "outputs": [
    {
     "name": "stdout",
     "output_type": "stream",
     "text": [
      "/Users/helen/Desktop/Data/bengaliai-cv19/train_image_data_2.parquet\n",
      "/Users/helen/Desktop/Data/bengaliai-cv19/train_image_data_3.parquet\n",
      "/Users/helen/Desktop/Data/bengaliai-cv19/train_image_data_1.parquet\n",
      "/Users/helen/Desktop/Data/bengaliai-cv19/test.csv\n",
      "/Users/helen/Desktop/Data/bengaliai-cv19/train_image_data_0.parquet\n",
      "/Users/helen/Desktop/Data/bengaliai-cv19/test_image_data_1.parquet\n",
      "/Users/helen/Desktop/Data/bengaliai-cv19/test_image_data_0.parquet\n",
      "/Users/helen/Desktop/Data/bengaliai-cv19/train.csv\n",
      "/Users/helen/Desktop/Data/bengaliai-cv19/test_image_data_2.parquet\n",
      "/Users/helen/Desktop/Data/bengaliai-cv19/class_map.csv\n",
      "/Users/helen/Desktop/Data/bengaliai-cv19/test_image_data_3.parquet\n",
      "/Users/helen/Desktop/Data/bengaliai-cv19/sample_submission.csv\n"
     ]
    }
   ],
   "source": [
    "# This Python 3 environment comes with many helpful analytics libraries installed\n",
    "# It is defined by the kaggle/python docker image: https://github.com/kaggle/docker-python\n",
    "# For example, here's several helpful packages to load in \n",
    "\n",
    "import numpy as np # linear algebra\n",
    "import pandas as pd # data processing, CSV file I/O (e.g. pd.read_csv)\n",
    "\n",
    "# Input data files are available in the \"../input/\" directory.\n",
    "# For example, running this (by clicking run or pressing Shift+Enter) will list all files under the input directory\n",
    "\n",
    "import os\n",
    "for dirname, _, filenames in os.walk(PATH):\n",
    "    for filename in filenames:\n",
    "        print(os.path.join(dirname, filename))\n",
    "\n",
    "# Any results you write to the current directory are saved as output."
   ]
  },
  {
   "cell_type": "code",
   "execution_count": 5,
   "metadata": {
    "ExecuteTime": {
     "end_time": "2020-03-06T01:17:01.098966Z",
     "start_time": "2020-03-06T01:17:01.094273Z"
    }
   },
   "outputs": [
    {
     "name": "stdout",
     "output_type": "stream",
     "text": [
      "128 128\n"
     ]
    }
   ],
   "source": [
    "import torch\n",
    "\n",
    "debug = False\n",
    "submission=False\n",
    "batch_size=96\n",
    "device = torch.device(\"cuda\" if torch.cuda.is_available() else \"cpu\")\n",
    "out='.'\n",
    "image_size= 128\n",
    "arch='pretrained'\n",
    "model_name='ResNext50'\n",
    "\n",
    "HEIGHT = 137\n",
    "WIDTH = 236\n",
    "# FACTOR = 0.5\n",
    "# HEIGHT_NEW = 112\n",
    "# WIDTH_NEW = 112\n",
    "HEIGHT_NEW = 128\n",
    "WIDTH_NEW = 128\n",
    "# HEIGHT_NEW = int(HEIGHT*FACTOR)\n",
    "# WIDTH_NEW = int(WIDTH*FACTOR)\n",
    "print(WIDTH_NEW, HEIGHT_NEW)"
   ]
  },
  {
   "cell_type": "code",
   "execution_count": 6,
   "metadata": {
    "ExecuteTime": {
     "end_time": "2020-03-06T01:17:01.104533Z",
     "start_time": "2020-03-06T01:17:01.101053Z"
    },
    "_cell_guid": "79c7e3d0-c299-4dcb-8224-4455121ee9b0",
    "_kg_hide-input": false,
    "_kg_hide-output": true,
    "_uuid": "d629ff2d2480ee46fbb7e2d37f6b5fab8052498a"
   },
   "outputs": [],
   "source": [
    "datadir = Path(PATH)\n",
    "featherdir = Path(FEATHER_PATH)\n",
    "LR = 5e-4\n",
    "WD = 1e-4\n",
    "DP = 0.35\n",
    "HDIM = 1024\n",
    "outdir = Path('{}_LR{}_WD{}_DP{}_IM{}-{}_bs{}_c3aug'.format(model_name, LR, WD, DP, HEIGHT_NEW, WIDTH_NEW,\n",
    "                                                            batch_size))\n",
    "\n",
    "TH = 20.0"
   ]
  },
  {
   "cell_type": "code",
   "execution_count": 7,
   "metadata": {
    "ExecuteTime": {
     "end_time": "2020-03-06T01:17:01.109103Z",
     "start_time": "2020-03-06T01:17:01.106669Z"
    },
    "_kg_hide-input": true,
    "_kg_hide-output": true
   },
   "outputs": [],
   "source": [
    "# Read in the data CSV files\n",
    "# train = pd.read_csv(datadir/'train.csv')\n",
    "# test = pd.read_csv(datadir/'test.csv')\n",
    "# sample_submission = pd.read_csv(datadir/'sample_submission.csv')\n",
    "# class_map = pd.read_csv(datadir/'class_map.csv')"
   ]
  },
  {
   "cell_type": "markdown",
   "metadata": {},
   "source": [
    "# Fast data loading with feather\n",
    "\n",
    "Refer [Bengali.AI super fast data loading with feather](https://www.kaggle.com/corochann/bengali-ai-super-fast-data-loading-with-feather) and [dataset](https://www.kaggle.com/corochann/bengaliaicv19feather) for detail.<br/>\n",
    "Original `parquet` format takes about 60 sec to load 1 data, while `feather` format takes about **2 sec to load 1 data!!!**\n",
    "\n",
    "### How to add dataset\n",
    "\n",
    "When you write kernel, click \"+ Add Data\" botton on right top.<br/>\n",
    "Then inside window pop-up, you can see \"Search Datasets\" text box on right top.<br/>\n",
    "You can type \"bengaliai-cv19-feather\" to find this dataset and press \"Add\" botton to add the data."
   ]
  },
  {
   "cell_type": "code",
   "execution_count": 8,
   "metadata": {
    "ExecuteTime": {
     "end_time": "2020-03-06T01:17:01.215636Z",
     "start_time": "2020-03-06T01:17:01.111342Z"
    }
   },
   "outputs": [],
   "source": [
    "import cv2\n",
    "def bbox(img):\n",
    "    rows = np.any(img, axis=1)\n",
    "    cols = np.any(img, axis=0)\n",
    "    rmin, rmax = np.where(rows)[0][[0, -1]]\n",
    "    cmin, cmax = np.where(cols)[0][[0, -1]]\n",
    "    return rmin, rmax, cmin, cmax\n",
    "\n",
    "def crop_resize(img0, size=image_size, pad=3, thh = 80, thl = 28):\n",
    "    #crop a box around pixels large than the threshold \n",
    "    #some images contain line at the sides\n",
    "    ymin,ymax,xmin,xmax = bbox(img0[5:-5,5:-5] > thh)\n",
    "    #cropping may cut too much, so we need to add it back\n",
    "    xmin = xmin - 13 if (xmin > 13) else 0\n",
    "    ymin = ymin - 10 if (ymin > 10) else 0\n",
    "    xmax = xmax + 13 if (xmax < WIDTH - 13) else WIDTH\n",
    "    ymax = ymax + 10 if (ymax < HEIGHT - 10) else HEIGHT\n",
    "    img = img0[ymin:ymax,xmin:xmax]\n",
    "    #remove lo intensity pixels as noise\n",
    "    img[img < thl] = 0\n",
    "    lx, ly = xmax-xmin,ymax-ymin\n",
    "    l = max(lx,ly) + pad\n",
    "    #make sure that the aspect ratio is kept in rescaling\n",
    "    img = np.pad(img, [((l-ly)//2,), ((l-lx)//2,)], mode='constant')\n",
    "    return cv2.resize(img,(size,size))\n"
   ]
  },
  {
   "cell_type": "code",
   "execution_count": 9,
   "metadata": {
    "ExecuteTime": {
     "end_time": "2020-03-06T01:17:01.224967Z",
     "start_time": "2020-03-06T01:17:01.219284Z"
    }
   },
   "outputs": [],
   "source": [
    "import numpy as np\n",
    "import pandas as pd\n",
    "import gc\n",
    "\n",
    "\n",
    "def prepare_image(datadir, featherdir, data_type='train',\n",
    "                  submission=False, indices=[0, 1, 2, 3]):\n",
    "    assert data_type in ['train', 'test']\n",
    "    if submission:\n",
    "        image_df_list = [pd.read_parquet(datadir / f'{data_type}_image_data_{i}.parquet')\n",
    "                         for i in indices]\n",
    "    else:\n",
    "        image_df_list = [pd.read_feather(featherdir / f'{data_type}_image_data_{i}.feather')\n",
    "                         for i in indices]\n",
    "\n",
    "    print('image_df_list', len(image_df_list))\n",
    "    images = [df.iloc[:, 1:].values.reshape(-1, HEIGHT, WIDTH).astype('uint8') for df in image_df_list]\n",
    "\n",
    "#     images = []\n",
    "#     for df in image_df_list:\n",
    "#         for idx in tqdm(range(len(df))):\n",
    "#             images.append(crop_resize(df.iloc[idx, 1:].values.reshape(HEIGHT, WIDTH).astype('uint8')))\n",
    "    del image_df_list\n",
    "    gc.collect()\n",
    "    images = np.concatenate(images, axis=0)\n",
    "    return images\n"
   ]
  },
  {
   "cell_type": "code",
   "execution_count": 10,
   "metadata": {
    "ExecuteTime": {
     "end_time": "2020-03-06T01:17:01.451747Z",
     "start_time": "2020-03-06T01:17:01.228110Z"
    }
   },
   "outputs": [],
   "source": [
    "# train = pd.read_csv(datadir/'train.csv')\n",
    "train = pd.read_csv('train_with_fold-comb.csv')\n",
    "train_labels = train[['grapheme_root', 'vowel_diacritic', 'consonant_diacritic', 'comb_label']].values\n",
    "n_comb_class = 1295\n",
    "# class_map = dict(pd.read_csv('grapheme_1295.csv')[['grapheme','label']].values)\n",
    "# comb_labels = np.array([class_map[itm] for ind, itm in train['grapheme'].items()]).reshape(-1,1)\n",
    "# train_labels4 = np.hstack((train_labels, comb_labels))\n",
    "# train['comb_label'] = comb_labels\n",
    "# train.to_csv('train_with_fold-comb.csv')"
   ]
  },
  {
   "cell_type": "code",
   "execution_count": 11,
   "metadata": {
    "ExecuteTime": {
     "end_time": "2020-03-06T01:17:01.458655Z",
     "start_time": "2020-03-06T01:17:01.454364Z"
    }
   },
   "outputs": [
    {
     "name": "stdout",
     "output_type": "stream",
     "text": [
      "(3, 1)\n",
      "(2,)\n",
      "(2, 1)\n"
     ]
    }
   ],
   "source": [
    "a = np.random.rand(3,1)\n",
    "print(np.shape(a))\n",
    "# b = np.random.rand(3,4)\n",
    "# print(a,b)\n",
    "# c = np.hstack((a,b))\n",
    "# print(c)\n",
    "d = np.array([1,1])\n",
    "print(np.shape(d))\n",
    "d = d.reshape(-1,1)\n",
    "print(np.shape(d))"
   ]
  },
  {
   "cell_type": "code",
   "execution_count": 12,
   "metadata": {
    "ExecuteTime": {
     "end_time": "2020-03-06T01:17:01.463154Z",
     "start_time": "2020-03-06T01:17:01.460815Z"
    }
   },
   "outputs": [],
   "source": [
    "# print(class_map)"
   ]
  },
  {
   "cell_type": "code",
   "execution_count": 13,
   "metadata": {
    "ExecuteTime": {
     "end_time": "2020-03-06T01:18:28.717080Z",
     "start_time": "2020-03-06T01:17:01.465704Z"
    }
   },
   "outputs": [
    {
     "name": "stdout",
     "output_type": "stream",
     "text": [
      "image_df_list 4\n",
      "CPU times: user 26.6 s, sys: 54.9 s, total: 1min 21s\n",
      "Wall time: 1min 27s\n"
     ]
    }
   ],
   "source": [
    "%%time\n",
    "indices = [0,1,2,3] #if debug else [0, 1, 2, 3]\n",
    "train_images = prepare_image(\n",
    "    datadir, featherdir, data_type='train', submission=False, indices=indices)"
   ]
  },
  {
   "cell_type": "code",
   "execution_count": null,
   "metadata": {},
   "outputs": [],
   "source": []
  },
  {
   "cell_type": "code",
   "execution_count": 14,
   "metadata": {
    "ExecuteTime": {
     "end_time": "2020-03-06T01:18:28.757780Z",
     "start_time": "2020-03-06T01:18:28.729135Z"
    }
   },
   "outputs": [
    {
     "name": "stdout",
     "output_type": "stream",
     "text": [
      "200840\n",
      "200840\n",
      "[127   2   0  58]\n"
     ]
    }
   ],
   "source": [
    "print(len(train_labels))\n",
    "print(len(train))\n",
    "print(train_labels[200840-1])"
   ]
  },
  {
   "cell_type": "code",
   "execution_count": 15,
   "metadata": {
    "ExecuteTime": {
     "end_time": "2020-03-06T01:18:28.763985Z",
     "start_time": "2020-03-06T01:18:28.760329Z"
    }
   },
   "outputs": [],
   "source": [
    "#  import sys \n",
    "\n",
    "# # These are the usual ipython objects, including this one you are creating \n",
    "# ipython_vars = ['In', 'Out', 'exit', 'quit', 'get_ipython', 'ipython_vars'] \n",
    "\n",
    "# # Get a sorted list of the objects and their sizes \n",
    "# sorted([(x, sys.getsizeof(globals().get(x))) for x in dir() if not x.startswith('_') and x not in sys.modules and x not in ipython_vars], key=lambda x: x[1], reverse=True) "
   ]
  },
  {
   "cell_type": "markdown",
   "metadata": {},
   "source": [
    "<a id=\"dataset\"></a>\n",
    "# Dataset"
   ]
  },
  {
   "cell_type": "code",
   "execution_count": 16,
   "metadata": {
    "ExecuteTime": {
     "end_time": "2020-03-06T01:18:28.803834Z",
     "start_time": "2020-03-06T01:18:28.766734Z"
    },
    "_kg_hide-input": true
   },
   "outputs": [],
   "source": [
    "\"\"\"\n",
    "Referenced `chainer.dataset.DatasetMixin` to work with pytorch Dataset.\n",
    "\"\"\"\n",
    "import numpy\n",
    "import six\n",
    "import torch\n",
    "from torch.utils.data.dataset import Dataset\n",
    "\n",
    "\n",
    "class DatasetMixin(Dataset):\n",
    "\n",
    "    def __init__(self, transform=None):\n",
    "        self.transform = transform\n",
    "\n",
    "    def __getitem__(self, index):\n",
    "        \"\"\"Returns an example or a sequence of examples.\"\"\"\n",
    "        if torch.is_tensor(index):\n",
    "            index = index.tolist()\n",
    "        if isinstance(index, slice):\n",
    "            current, stop, step = index.indices(len(self))\n",
    "            return [self.get_example_wrapper(i) for i in\n",
    "                    six.moves.range(current, stop, step)]\n",
    "        elif isinstance(index, list) or isinstance(index, numpy.ndarray):\n",
    "            return [self.get_example_wrapper(i) for i in index]\n",
    "        else:\n",
    "            return self.get_example_wrapper(index)\n",
    "\n",
    "    def __len__(self):\n",
    "        \"\"\"Returns the number of data points.\"\"\"\n",
    "        raise NotImplementedError\n",
    "\n",
    "    def get_example_wrapper(self, i):\n",
    "        \"\"\"Wrapper of `get_example`, to apply `transform` if necessary\"\"\"\n",
    "        example = self.get_example(i)\n",
    "        if self.transform:\n",
    "            example = self.transform(example)\n",
    "        return example\n",
    "\n",
    "    def get_example(self, i):\n",
    "        \"\"\"Returns the i-th example.\n",
    "\n",
    "        Implementations should override it. It should raise :class:`IndexError`\n",
    "        if the index is invalid.\n",
    "\n",
    "        Args:\n",
    "            i (int): The index of the example.\n",
    "\n",
    "        Returns:\n",
    "            The i-th example.\n",
    "\n",
    "        \"\"\"\n",
    "        raise NotImplementedError\n"
   ]
  },
  {
   "cell_type": "markdown",
   "metadata": {},
   "source": [
    "This `DatasetMixin` class can be used to define any custom dataset class in pytorch. We can implement `get_example(self, i)` method to return `i`-th data.\n",
    "\n",
    "Here I return i-th image `x` and `label`, with scaling image to be value ranges between 0~1."
   ]
  },
  {
   "cell_type": "code",
   "execution_count": 17,
   "metadata": {
    "ExecuteTime": {
     "end_time": "2020-03-06T01:18:28.814446Z",
     "start_time": "2020-03-06T01:18:28.806545Z"
    }
   },
   "outputs": [],
   "source": [
    "import numpy as np\n",
    "\n",
    "\n",
    "class BengaliAIDataset(DatasetMixin):\n",
    "    def __init__(self, images, labels=None, transform=None, indices=None):\n",
    "        super(BengaliAIDataset, self).__init__(transform=transform)\n",
    "        self.images = images\n",
    "        self.labels = labels\n",
    "        if indices is None:\n",
    "            indices = np.arange(len(images))\n",
    "        self.indices = indices\n",
    "        self.train = labels is not None\n",
    "\n",
    "    def __len__(self):\n",
    "        \"\"\"return length of this dataset\"\"\"\n",
    "        return len(self.indices)\n",
    "\n",
    "    def get_example(self, i):\n",
    "        \"\"\"Return i-th data\"\"\"\n",
    "        i = self.indices[i]\n",
    "        x = self.images[i]\n",
    "        # Opposite white and black: background will be white and\n",
    "        # for future Affine transformation\n",
    "        x = (255 - x).astype(np.float32) / 255.\n",
    "        if self.train:\n",
    "            y = self.labels[i]\n",
    "            return x, y\n",
    "        else:\n",
    "            return x\n"
   ]
  },
  {
   "cell_type": "markdown",
   "metadata": {},
   "source": [
    "Let's see how this `BengaliAIDataset` work"
   ]
  },
  {
   "cell_type": "code",
   "execution_count": 18,
   "metadata": {
    "ExecuteTime": {
     "end_time": "2020-03-06T01:18:28.820835Z",
     "start_time": "2020-03-06T01:18:28.816752Z"
    }
   },
   "outputs": [],
   "source": [
    "train_dataset_noaug = BengaliAIDataset(train_images[:200], train_labels)"
   ]
  },
  {
   "cell_type": "markdown",
   "metadata": {},
   "source": [
    "`train_dataset[i]` returns i-th image array and 3 target labels (graphme_root, vowel_diacritic and consonant_diacritic)."
   ]
  },
  {
   "cell_type": "code",
   "execution_count": 19,
   "metadata": {
    "ExecuteTime": {
     "end_time": "2020-03-06T01:18:28.824463Z",
     "start_time": "2020-03-06T01:18:28.822817Z"
    }
   },
   "outputs": [],
   "source": [
    "# image, label = train_dataset_noaug[0]\n",
    "# print('image', image.shape, 'label', label)"
   ]
  },
  {
   "cell_type": "code",
   "execution_count": 20,
   "metadata": {
    "ExecuteTime": {
     "end_time": "2020-03-06T01:18:28.831195Z",
     "start_time": "2020-03-06T01:18:28.828769Z"
    }
   },
   "outputs": [],
   "source": [
    "# print(image[:5,:5])\n",
    "# print(20/255)"
   ]
  },
  {
   "cell_type": "code",
   "execution_count": 21,
   "metadata": {
    "ExecuteTime": {
     "end_time": "2020-03-06T01:18:28.835251Z",
     "start_time": "2020-03-06T01:18:28.832827Z"
    },
    "_kg_hide-input": true
   },
   "outputs": [],
   "source": [
    "# nrow, ncol = 5, 6\n",
    "\n",
    "# fig, axes = plt.subplots(nrow, ncol, figsize=(20, 8))\n",
    "# axes = axes.flatten()\n",
    "# for i, ax in tqdm(enumerate(axes)):\n",
    "#     image, label = train_dataset_noaug[i]\n",
    "#     ax.imshow(crop_resize(image, thh = TH/255, thl=28.0/255)) #, cmap='Greys'\n",
    "#     ax.set_title(f'label: {label}')\n",
    "# plt.tight_layout()\n",
    "# plt.show()\n",
    "# plt.savefig('bengaliai.png')"
   ]
  },
  {
   "cell_type": "markdown",
   "metadata": {},
   "source": [
    "<a id=\"processing\"></a>\n",
    "# Data augmentation/processing"
   ]
  },
  {
   "cell_type": "markdown",
   "metadata": {},
   "source": [
    "For CNN training, data augmentation is important to improve test accuracy (generalization performance). I will show some image preprocessing to increase the data variety."
   ]
  },
  {
   "cell_type": "code",
   "execution_count": 22,
   "metadata": {
    "ExecuteTime": {
     "end_time": "2020-03-06T01:18:28.856860Z",
     "start_time": "2020-03-06T01:18:28.837030Z"
    },
    "_kg_hide-input": true
   },
   "outputs": [],
   "source": [
    "\"\"\"\n",
    "From https://www.kaggle.com/corochann/deep-learning-cnn-with-chainer-lb-0-99700\n",
    "\"\"\"\n",
    "import cv2\n",
    "from skimage.transform import SimilarityTransform, AffineTransform, warp\n",
    "import numpy as np\n",
    "import math\n",
    "\n",
    "\n",
    "def affine_image(img):\n",
    "    \"\"\"\n",
    "\n",
    "    Args:\n",
    "        img: (h, w) or (1, h, w)\n",
    "\n",
    "    Returns:\n",
    "        img: (h, w)\n",
    "    \"\"\"\n",
    "    # ch, h, w = img.shape\n",
    "    # img = img / 255.\n",
    "    if img.ndim == 3:\n",
    "        img = img[0]\n",
    "\n",
    "    # --- scale ---\n",
    "    min_scale = 0.85\n",
    "    max_scale = 1.15\n",
    "    sx = np.random.uniform(min_scale, max_scale)\n",
    "    sy = np.random.uniform(min_scale, max_scale)\n",
    "\n",
    "    # --- rotation ---\n",
    "    max_rot_angle = 10\n",
    "    rot_angle = np.random.uniform(-max_rot_angle, max_rot_angle)*np.pi/180.0\n",
    "\n",
    "    # --- shear ---\n",
    "    max_shear_angle = 10\n",
    "    shear_angle = np.random.uniform(-max_shear_angle, max_shear_angle)*np.pi/180.0\n",
    "\n",
    "    # --- translation ---\n",
    "    max_translation = image_size*0.075\n",
    "    tx = np.random.randint(-max_translation, max_translation)\n",
    "    ty = np.random.randint(-max_translation, max_translation)\n",
    "    \n",
    "#     print(\"rot:{}, shear:{},tx:{},ty:{}\".format(rot_angle,shear_angle, tx,ty))\n",
    "    \n",
    "    shape = img.shape\n",
    "    shape_size = shape[:2]\n",
    "    center = np.float32(shape_size) / 2.\n",
    "        \n",
    "    pre = SimilarityTransform(translation=-center)\n",
    "    tform = AffineTransform(scale=(sx, sy), rotation=rot_angle, shear=shear_angle, translation=(tx,ty)) \n",
    "    after = AffineTransform(translation=center)\n",
    "    total_transform = pre+tform+after\n",
    "#     total_transform = tform\n",
    "    transformed_image = warp(img, total_transform.params, mode='constant')\n",
    "    \n",
    "    assert transformed_image.ndim == 2\n",
    "    return transformed_image\n",
    "\n",
    "def bbox(img):\n",
    "    rows = np.any(img, axis=1)\n",
    "    cols = np.any(img, axis=0)\n",
    "    rmin, rmax = np.where(rows)[0][[0, -1]]\n",
    "    cmin, cmax = np.where(cols)[0][[0, -1]]\n",
    "    return rmin, rmax, cmin, cmax\n",
    "\n",
    "def crop_char_image_thin(image, threshold=40./255., pad = 16):\n",
    "    assert image.ndim == 2\n",
    "    is_black = image > threshold\n",
    "\n",
    "    is_black_vertical = np.sum(is_black, axis=0) > 0\n",
    "    is_black_horizontal = np.sum(is_black, axis=1) > 0\n",
    "    left = np.argmax(is_black_horizontal)\n",
    "    right = np.argmax(is_black_horizontal[::-1])\n",
    "    top = np.argmax(is_black_vertical)\n",
    "    bottom = np.argmax(is_black_vertical[::-1])\n",
    "    height, width = image.shape\n",
    "    cropped_image = image[left:height - right, top:width - bottom]\n",
    "    return cropped_image\n",
    "\n",
    "def crop_char_image(img0, threshold=TH/255., pad=10):\n",
    "    ymin,ymax,xmin,xmax = bbox(img0[5:-5,5:-5] > threshold)\n",
    "    #cropping may cut too much, so we need to add it back\n",
    "#     xmin = xmin - 5 if (xmin > 5) else 0\n",
    "#     ymin = ymin - 5 if (ymin > 5) else 0\n",
    "#     xmax = xmax + 5 if (xmax < WIDTH - 5) else WIDTH\n",
    "#     ymax = ymax + 5 if (ymax < HEIGHT - 5) else HEIGHT\n",
    "    xmin = xmin - 13 if (xmin > 13) else 0\n",
    "    ymin = ymin - 10 if (ymin > 10) else 0\n",
    "    xmax = xmax + 13 if (xmax < WIDTH - 13) else WIDTH\n",
    "    ymax = ymax + 10 if (ymax < HEIGHT - 10) else HEIGHT\n",
    "    img = img0[ymin:ymax,xmin:xmax]\n",
    "    #remove lo intensity pixels as noise\n",
    "    img[img < 28./255.] = 0\n",
    "    lx, ly = xmax-xmin,ymax-ymin\n",
    "    l = max(lx,ly) + pad\n",
    "    #make sure that the aspect ratio is kept in rescaling\n",
    "    img = np.pad(img, [((l-ly)//2,), ((l-lx)//2,)], mode='constant')\n",
    "    return img\n",
    "\n",
    "# def crop_char_image_new(img0, threshold=TH/255., pad=10):\n",
    "#     ymin,ymax,xmin,xmax = bbox(img0 > threshold)\n",
    "#     #cropping may cut too much, so we need to add it back\n",
    "# #     xmin = xmin - 13 if (xmin > 13) else 0\n",
    "# #     ymin = ymin - 10 if (ymin > 10) else 0\n",
    "# #     xmax = xmax + 13 if (xmax < WIDTH - 13) else WIDTH\n",
    "# #     ymax = ymax + 10 if (ymax < HEIGHT - 10) else HEIGHT\n",
    "#     img = img0[ymin:ymax,xmin:xmax]\n",
    "#     #remove lo intensity pixels as noise\n",
    "#     img[img < 28./255.] = 0\n",
    "#     lx, ly = xmax-xmin,ymax-ymin\n",
    "#     l = max(lx,ly) + pad\n",
    "#     #make sure that the aspect ratio is kept in rescaling\n",
    "#     img = np.pad(img, [(pad//2,), (pad//2,)], mode='constant')\n",
    "#     return img\n",
    "\n",
    "def resize(image, size=(WIDTH_NEW, HEIGHT_NEW)):\n",
    "    return cv2.resize(image, size)"
   ]
  },
  {
   "cell_type": "markdown",
   "metadata": {},
   "source": [
    "## Affine transformation for data augmentation\n",
    "\n",
    "To increase validation score, the number of training data is important. When we can use more number of training data, we can reduce overfitting and validation score becomes high.\n",
    "\n",
    "\"Data augmentation\" is a technic to virtually create extra training data, based on the given training data. For this MNIST task, data augmentation can be achieved by utilizing affine transformation.\n",
    "\n",
    "1. Rotation AffineTransformation\n",
    "2. Translation\n",
    "3. Scale\n",
    "4. Shear"
   ]
  },
  {
   "cell_type": "code",
   "execution_count": 23,
   "metadata": {
    "ExecuteTime": {
     "end_time": "2020-03-06T01:18:28.861548Z",
     "start_time": "2020-03-06T01:18:28.859127Z"
    }
   },
   "outputs": [],
   "source": [
    "# nrow, ncol = 3, 6\n",
    "\n",
    "# fig, axes = plt.subplots(nrow, ncol, figsize=(20, 8))\n",
    "# axes = axes.flatten()\n",
    "# for i, ax in tqdm(enumerate(axes)):\n",
    "#     image, label = train_dataset_noaug[2]\n",
    "#     if i ==0:\n",
    "#         ax.imshow(image, cmap='Greys')\n",
    "#     else:\n",
    "#         ax.imshow(resize(crop_char_image_thin(affine_image(crop_char_image(image)))), cmap='Greys')\n",
    "#     ax.set_title(f'label: {label}')\n",
    "# plt.tight_layout()\n",
    "# # crop_resize(image, thh = 80.0/255, thl=28.0/255, pad=16)"
   ]
  },
  {
   "cell_type": "code",
   "execution_count": 24,
   "metadata": {
    "ExecuteTime": {
     "end_time": "2020-03-06T01:18:28.874210Z",
     "start_time": "2020-03-06T01:18:28.871362Z"
    }
   },
   "outputs": [],
   "source": [
    "# nrow, ncol = 3, 6\n",
    "\n",
    "# fig, axes = plt.subplots(nrow, ncol, figsize=(20, 8))\n",
    "# axes = axes.flatten()\n",
    "# PAD = 20\n",
    "# for i, ax in tqdm(enumerate(axes)):\n",
    "#     image, label = train_dataset_noaug[2]\n",
    "#     if i ==0:\n",
    "#         ax.imshow(image, cmap='Greys')\n",
    "#     elif i==1:\n",
    "#         ax.imshow(crop_char_image(image), cmap='Greys')\n",
    "#     else:\n",
    "#         ax.imshow(resize((affine_image(crop_char_image(image)))), cmap='Greys')\n",
    "#     ax.set_title(f'label: {label}')\n",
    "# plt.tight_layout()"
   ]
  },
  {
   "cell_type": "code",
   "execution_count": null,
   "metadata": {},
   "outputs": [],
   "source": []
  },
  {
   "cell_type": "code",
   "execution_count": null,
   "metadata": {},
   "outputs": [],
   "source": []
  },
  {
   "cell_type": "markdown",
   "metadata": {},
   "source": [
    "When the image is slightly rotated, shifted (transformed) or scaled, the image looks like the same label. We can virtually create another image data from one image in such a way."
   ]
  },
  {
   "cell_type": "markdown",
   "metadata": {},
   "source": [
    "## crop image\n",
    "\n",
    "Here I crop image"
   ]
  },
  {
   "cell_type": "code",
   "execution_count": 25,
   "metadata": {
    "ExecuteTime": {
     "end_time": "2020-03-06T01:18:28.879706Z",
     "start_time": "2020-03-06T01:18:28.877522Z"
    }
   },
   "outputs": [],
   "source": [
    "# nrow, ncol = 5, 6\n",
    "\n",
    "# fig, axes = plt.subplots(nrow, ncol, figsize=(20, 8))\n",
    "# axes = axes.flatten()\n",
    "# for i, ax in tqdm(enumerate(axes)):\n",
    "#     image, label = train_dataset_noaug[i]\n",
    "#     ax.imshow(crop_char_image(image, threshold=TH/255.), cmap='Greys')\n",
    "#     ax.set_title(f'label: {label}')\n",
    "# plt.tight_layout()"
   ]
  },
  {
   "cell_type": "markdown",
   "metadata": {},
   "source": [
    "## resize image\n",
    "\n",
    "We need to resize image after crop, to align image size for CNN batch training.\n",
    "\n",
    "whole process: crop_Char_imgage->affine->crop_char_image_thin->resize"
   ]
  },
  {
   "cell_type": "code",
   "execution_count": 26,
   "metadata": {
    "ExecuteTime": {
     "end_time": "2020-03-06T01:18:28.884220Z",
     "start_time": "2020-03-06T01:18:28.881525Z"
    },
    "_kg_hide-input": true
   },
   "outputs": [],
   "source": [
    "# nrow, ncol = 5, 6\n",
    "\n",
    "# fig, axes = plt.subplots(nrow, ncol, figsize=(20, 8))\n",
    "# axes = axes.flatten()\n",
    "# for i, ax in tqdm(enumerate(axes)):\n",
    "#     image, label = train_dataset_noaug[i]\n",
    "#     ax.imshow(resize((affine_image((crop_char_image(image, threshold=TH/255.))))), cmap='Greys')\n",
    "#     ax.set_title(f'label: {label}')\n",
    "# plt.tight_layout()"
   ]
  },
  {
   "cell_type": "markdown",
   "metadata": {},
   "source": [
    "Put everything together with `Transform` class. <br>\n",
    "[Update] I added **albumentations augmentations** introduced in [Bengali: albumentations data augmentation tutorial](https://www.kaggle.com/corochann/bengali-albumentations-data-augmentation-tutorial)."
   ]
  },
  {
   "cell_type": "code",
   "execution_count": 27,
   "metadata": {
    "ExecuteTime": {
     "end_time": "2020-03-06T01:18:29.025321Z",
     "start_time": "2020-03-06T01:18:28.886138Z"
    }
   },
   "outputs": [],
   "source": [
    "from albumentations import (\n",
    "    HorizontalFlip, IAAPerspective, ShiftScaleRotate, CLAHE, RandomRotate90,\n",
    "    Transpose, ShiftScaleRotate, Blur, OpticalDistortion, GridDistortion, HueSaturationValue,\n",
    "    IAAAdditiveGaussianNoise, GaussNoise, MotionBlur, MedianBlur, IAAPiecewiseAffine,IAAAffine,\n",
    "    IAASharpen, IAAEmboss, RandomBrightnessContrast, Flip, OneOf, Compose\n",
    ")"
   ]
  },
  {
   "cell_type": "code",
   "execution_count": 28,
   "metadata": {
    "ExecuteTime": {
     "end_time": "2020-03-06T01:18:29.029986Z",
     "start_time": "2020-03-06T01:18:29.026795Z"
    }
   },
   "outputs": [],
   "source": [
    "affine_train_transform = Compose([\n",
    "    OneOf([\n",
    "        ShiftScaleRotate(scale_limit=.15, rotate_limit=20, border_mode=cv2.BORDER_CONSTANT),\n",
    "        IAAAffine(shear=20, mode='constant'),\n",
    "        IAAPerspective(),\n",
    "    ])\n",
    "])"
   ]
  },
  {
   "cell_type": "code",
   "execution_count": 29,
   "metadata": {
    "ExecuteTime": {
     "end_time": "2020-03-06T01:18:29.033906Z",
     "start_time": "2020-03-06T01:18:29.031564Z"
    }
   },
   "outputs": [],
   "source": [
    "import albumentations\n",
    "from albumentations.core.transforms_interface import DualTransform\n",
    "from albumentations.augmentations import functional as AF"
   ]
  },
  {
   "cell_type": "code",
   "execution_count": 30,
   "metadata": {
    "ExecuteTime": {
     "end_time": "2020-03-06T01:18:29.051859Z",
     "start_time": "2020-03-06T01:18:29.035516Z"
    }
   },
   "outputs": [],
   "source": [
    "class GridMask(DualTransform):\n",
    "    \"\"\"GridMask augmentation for image classification and object detection.\n",
    "    \n",
    "    Author: Qishen Ha\n",
    "    Email: haqishen@gmail.com\n",
    "    2020/01/29\n",
    "\n",
    "    Args:\n",
    "        num_grid (int): number of grid in a row or column.\n",
    "        fill_value (int, float, lisf of int, list of float): value for dropped pixels.\n",
    "        rotate ((int, int) or int): range from which a random angle is picked. If rotate is a single int\n",
    "            an angle is picked from (-rotate, rotate). Default: (-90, 90)\n",
    "        mode (int):\n",
    "            0 - cropout a quarter of the square of each grid (left top)\n",
    "            1 - reserve a quarter of the square of each grid (left top)\n",
    "            2 - cropout 2 quarter of the square of each grid (left top & right bottom)\n",
    "\n",
    "    Targets:\n",
    "        image, mask\n",
    "\n",
    "    Image types:\n",
    "        uint8, float32\n",
    "\n",
    "    Reference:\n",
    "    |  https://arxiv.org/abs/2001.04086\n",
    "    |  https://github.com/akuxcw/GridMask\n",
    "    \"\"\"\n",
    "\n",
    "    def __init__(self, num_grid=3, fill_value=0, rotate=90, mode=0, always_apply=False, p=0.5):\n",
    "        super(GridMask, self).__init__(always_apply, p)\n",
    "        if isinstance(num_grid, int):\n",
    "            num_grid = (num_grid, num_grid)\n",
    "        if isinstance(rotate, int):\n",
    "            rotate = (-rotate, rotate)\n",
    "        self.num_grid = num_grid\n",
    "        self.fill_value = fill_value\n",
    "        self.rotate = rotate\n",
    "        self.mode = mode\n",
    "        self.masks = None\n",
    "        self.rand_h_max = []\n",
    "        self.rand_w_max = []\n",
    "\n",
    "    def init_masks(self, height, width):\n",
    "        if self.masks is None:\n",
    "            self.masks = []\n",
    "            n_masks = self.num_grid[1] - self.num_grid[0] + 1\n",
    "            for n, n_g in enumerate(range(self.num_grid[0], self.num_grid[1] + 1, 1)):\n",
    "                grid_h = height / n_g\n",
    "                grid_w = width / n_g\n",
    "                this_mask = np.ones((int((n_g + 1) * grid_h), int((n_g + 1) * grid_w))).astype(np.uint8)\n",
    "                for i in range(n_g + 1):\n",
    "                    for j in range(n_g + 1):\n",
    "                        this_mask[\n",
    "                             int(i * grid_h) : int(i * grid_h + grid_h / 2),\n",
    "                             int(j * grid_w) : int(j * grid_w + grid_w / 2)\n",
    "                        ] = self.fill_value\n",
    "                        if self.mode == 2:\n",
    "                            this_mask[\n",
    "                                 int(i * grid_h + grid_h / 2) : int(i * grid_h + grid_h),\n",
    "                                 int(j * grid_w + grid_w / 2) : int(j * grid_w + grid_w)\n",
    "                            ] = self.fill_value\n",
    "                \n",
    "                if self.mode == 1:\n",
    "                    this_mask = 1 - this_mask\n",
    "\n",
    "                self.masks.append(this_mask)\n",
    "                self.rand_h_max.append(grid_h)\n",
    "                self.rand_w_max.append(grid_w)\n",
    "\n",
    "    def apply(self, image, mask, rand_h, rand_w, angle, **params):\n",
    "        h, w = image.shape[:2]\n",
    "        mask = AF.rotate(mask, angle) if self.rotate[1] > 0 else mask\n",
    "        mask = mask[:,:,np.newaxis] if image.ndim == 3 else mask\n",
    "        image *= mask[rand_h:rand_h+h, rand_w:rand_w+w].astype(image.dtype)\n",
    "        return image\n",
    "\n",
    "    def get_params_dependent_on_targets(self, params):\n",
    "        img = params['image']\n",
    "        height, width = img.shape[:2]\n",
    "        self.init_masks(height, width)\n",
    "\n",
    "        mid = np.random.randint(len(self.masks))\n",
    "        mask = self.masks[mid]\n",
    "        rand_h = np.random.randint(self.rand_h_max[mid])\n",
    "        rand_w = np.random.randint(self.rand_w_max[mid])\n",
    "        angle = np.random.randint(self.rotate[0], self.rotate[1]) if self.rotate[1] > 0 else 0\n",
    "\n",
    "        return {'mask': mask, 'rand_h': rand_h, 'rand_w': rand_w, 'angle': angle}\n",
    "\n",
    "    @property\n",
    "    def targets_as_params(self):\n",
    "        return ['image']\n",
    "\n",
    "    def get_transform_init_args_names(self):\n",
    "        return ('num_grid', 'fill_value', 'rotate', 'mode')"
   ]
  },
  {
   "cell_type": "code",
   "execution_count": 31,
   "metadata": {
    "ExecuteTime": {
     "end_time": "2020-03-06T01:18:29.057456Z",
     "start_time": "2020-03-06T01:18:29.053953Z"
    }
   },
   "outputs": [],
   "source": [
    "grid_mask_trans = Compose([\n",
    "    albumentations.OneOf([\n",
    "        GridMask(num_grid=(3,6), mode=0),\n",
    "        GridMask(num_grid=(3,6), mode=1),\n",
    "        GridMask(num_grid=(3,6), mode=2),\n",
    "    ], p=1)\n",
    "])"
   ]
  },
  {
   "cell_type": "code",
   "execution_count": 32,
   "metadata": {
    "ExecuteTime": {
     "end_time": "2020-03-06T01:18:29.064292Z",
     "start_time": "2020-03-06T01:18:29.059796Z"
    }
   },
   "outputs": [],
   "source": [
    "def plot_imgs(dataset_show):\n",
    "    from pylab import rcParams\n",
    "    rcParams['figure.figsize'] = 20,10\n",
    "    for i in range(2):\n",
    "        f, axarr = plt.subplots(1,5)\n",
    "        for p in range(5):\n",
    "            idx = np.random.randint(0, len(dataset_show))\n",
    "            img, label = dataset_show[idx]\n",
    "            axarr[p].imshow(img.transpose(0, 1).transpose(1,2).squeeze())\n",
    "            axarr[p].set_title(idx)"
   ]
  },
  {
   "cell_type": "code",
   "execution_count": 33,
   "metadata": {
    "ExecuteTime": {
     "end_time": "2020-03-06T01:18:29.087846Z",
     "start_time": "2020-03-06T01:18:29.066267Z"
    },
    "_kg_hide-input": false,
    "code_folding": []
   },
   "outputs": [],
   "source": [
    "import albumentations as A\n",
    "import numpy as np\n",
    "\n",
    "\n",
    "def add_gaussian_noise(x, sigma):\n",
    "    x += np.random.randn(*x.shape) * sigma\n",
    "    x = np.clip(x, 0., 1.)\n",
    "    return x\n",
    "\n",
    "\n",
    "def _evaluate_ratio(ratio):\n",
    "    if ratio <= 0.:\n",
    "        return False\n",
    "    return np.random.uniform() < ratio\n",
    "\n",
    "\n",
    "def apply_aug(aug, image):\n",
    "    return aug(image=image)['image']\n",
    "\n",
    "class Transform:\n",
    "    def __init__(self, affine=True, crop=True, size=(64, 64),\n",
    "                 normalize=True, train=True, threshold=TH,\n",
    "                 sigma=-1., blur_ratio=0., noise_ratio=0., cutout_ratio=0.,\n",
    "                 grid_distortion_ratio=0., elastic_distortion_ratio=0., random_brightness_ratio=0.,\n",
    "                 piece_affine_ratio=0., ssr_ratio=0.):\n",
    "        self.affine = affine\n",
    "        self.crop = crop\n",
    "        self.size = size\n",
    "        self.normalize = normalize\n",
    "        self.train = train\n",
    "        self.threshold = threshold / 255.\n",
    "        self.sigma = sigma / 255.\n",
    "\n",
    "        self.blur_ratio = blur_ratio\n",
    "        self.noise_ratio = noise_ratio\n",
    "        self.cutout_ratio = cutout_ratio\n",
    "        self.grid_distortion_ratio = grid_distortion_ratio\n",
    "        self.elastic_distortion_ratio = elastic_distortion_ratio\n",
    "        self.random_brightness_ratio = random_brightness_ratio\n",
    "        self.piece_affine_ratio = piece_affine_ratio\n",
    "        self.ssr_ratio = ssr_ratio\n",
    "\n",
    "    def __call__(self, example):\n",
    "        if self.train:\n",
    "            x, y = example\n",
    "        else:\n",
    "            x = example\n",
    "            \n",
    "        # --- Train/Test common preprocessing ---\n",
    "        if self.crop:\n",
    "            x = crop_char_image(x, threshold=self.threshold)\n",
    "            \n",
    "        # --- Augmentation ---\n",
    "#         if self.affine:\n",
    "#             x = affine_image(x)\n",
    "        if self.affine:\n",
    "            x = apply_aug(affine_train_transform, x)\n",
    "            \n",
    "#         if self.crop:\n",
    "#             x = crop_char_image_thin(x, threshold=self.threshold)        \n",
    "            \n",
    "        if self.size is not None:\n",
    "            x = resize(x, size=self.size)\n",
    "            \n",
    "        h, w = x.shape\n",
    "\n",
    "        if self.sigma > 0.:\n",
    "            x = add_gaussian_noise(x, sigma=self.sigma)\n",
    "\n",
    "        # albumentations...\n",
    "        x = x.astype(np.float32)\n",
    "        assert x.ndim == 2\n",
    "        # 1. blur\n",
    "        if _evaluate_ratio(self.blur_ratio):\n",
    "            r = np.random.uniform()\n",
    "            if r < 0.25:\n",
    "                x = apply_aug(A.Blur(p=1.0), x)\n",
    "            elif r < 0.5:\n",
    "                x = apply_aug(A.MedianBlur(blur_limit=5, p=1.0), x)\n",
    "            elif r < 0.75:\n",
    "                x = apply_aug(A.GaussianBlur(p=1.0), x)\n",
    "            else:\n",
    "                x = apply_aug(A.MotionBlur(p=1.0), x)\n",
    "\n",
    "        if _evaluate_ratio(self.noise_ratio):\n",
    "            r = np.random.uniform()\n",
    "            if r < 0.50:\n",
    "                x = apply_aug(A.GaussNoise(var_limit=5. / 255., p=1.0), x)\n",
    "            else:\n",
    "                x = apply_aug(A.MultiplicativeNoise(p=1.0), x)\n",
    "\n",
    "        if _evaluate_ratio(self.cutout_ratio):\n",
    "            r = np.random.uniform()\n",
    "            if r < 0.2:\n",
    "                x = apply_aug(A.CoarseDropout(max_holes=4, max_height=h//8, max_width=w//8, p=1.0), x)\n",
    "            elif r < 0.4:\n",
    "                x = apply_aug(A.Cutout(num_holes=1,  max_h_size=h//3, max_w_size=w//3, p=1.0),x)  # Deprecated...\n",
    "            else:\n",
    "                x = apply_aug(grid_mask_trans, x)\n",
    "\n",
    "        if _evaluate_ratio(self.grid_distortion_ratio):\n",
    "            x = apply_aug(A.GridDistortion(p=1.0, border_mode=cv2.BORDER_CONSTANT, value=0), x)\n",
    "\n",
    "        if _evaluate_ratio(self.elastic_distortion_ratio):\n",
    "            x = apply_aug(A.ElasticTransform(\n",
    "                sigma=50, alpha=1, alpha_affine=10, p=1.0, border_mode=cv2.BORDER_CONSTANT, value=0), x)\n",
    "\n",
    "        if _evaluate_ratio(self.random_brightness_ratio):\n",
    "            # A.RandomBrightness(p=1.0)  # Deprecated...\n",
    "            # A.RandomContrast(p=1.0)    # Deprecated...\n",
    "            x = apply_aug(A.RandomBrightnessContrast(p=1.0), x)\n",
    "\n",
    "        if _evaluate_ratio(self.piece_affine_ratio):\n",
    "            x = apply_aug(A.IAAPiecewiseAffine(p=1.0, mode='constant'), x)\n",
    "\n",
    "        if _evaluate_ratio(self.ssr_ratio):\n",
    "            x = apply_aug(A.ShiftScaleRotate(\n",
    "                shift_limit=0.0625,\n",
    "                scale_limit=0.1,\n",
    "                rotate_limit=10,\n",
    "                p=1.0, border_mode=cv2.BORDER_CONSTANT, value=0), x)\n",
    "\n",
    "        if self.normalize:\n",
    "#             x = (x.astype(np.float32) - 0.0692) / 0.2051  ##ORG\n",
    "            x = (x.astype(np.float32) - 0.449) / 0.226 ##Imagenet\n",
    "        if x.ndim == 2:\n",
    "            x = x[None, :, :]\n",
    "        x = x.astype(np.float32)\n",
    "        if self.train:\n",
    "            y = y.astype(np.int64)\n",
    "            return x, y\n",
    "        else:\n",
    "            return x"
   ]
  },
  {
   "cell_type": "code",
   "execution_count": null,
   "metadata": {},
   "outputs": [],
   "source": []
  },
  {
   "cell_type": "code",
   "execution_count": 34,
   "metadata": {
    "ExecuteTime": {
     "end_time": "2020-03-06T01:18:29.092376Z",
     "start_time": "2020-03-06T01:18:29.089422Z"
    }
   },
   "outputs": [],
   "source": [
    "# train_transform = Transform(\n",
    "#     size=(image_size, image_size), \n",
    "#     sigma=-1., blur_ratio=0.2, noise_ratio=0.1, cutout_ratio=0.4,\n",
    "#     grid_distortion_ratio=0.1, random_brightness_ratio=0.3,\n",
    "#     piece_affine_ratio=0.2, ssr_ratio=0.2, elastic_distortion_ratio=0.3) #threshold=20.,\n",
    "# transform = Transform(size=(image_size, image_size)\n",
    "train_transform = Transform(affine=True,\n",
    "    crop=False, size=(WIDTH_NEW, HEIGHT_NEW), cutout_ratio=0.5) #threshold=20.,\n",
    "train_dataset = BengaliAIDataset(train_images[:200], train_labels,\n",
    "                                 transform=train_transform)\n"
   ]
  },
  {
   "cell_type": "code",
   "execution_count": 35,
   "metadata": {
    "ExecuteTime": {
     "end_time": "2020-03-06T01:18:29.097109Z",
     "start_time": "2020-03-06T01:18:29.093956Z"
    }
   },
   "outputs": [],
   "source": [
    "rs_transform = Transform(affine=False,\n",
    "    crop=False, size=(WIDTH_NEW, HEIGHT_NEW)) #threshold=20.,\n",
    "train_dataset_rs = BengaliAIDataset(train_images[:200], train_labels,transform=rs_transform)"
   ]
  },
  {
   "cell_type": "markdown",
   "metadata": {},
   "source": [
    "By setting `transform`, its function is called **every time** when we access to the index. Dataset returns different `image` every time! which is useful for training with data augmentation."
   ]
  },
  {
   "cell_type": "code",
   "execution_count": 36,
   "metadata": {
    "ExecuteTime": {
     "end_time": "2020-03-06T01:18:29.100730Z",
     "start_time": "2020-03-06T01:18:29.098680Z"
    },
    "_kg_hide-input": true
   },
   "outputs": [],
   "source": [
    "# nrow, ncol = 5, 6\n",
    "\n",
    "# fig, axes = plt.subplots(nrow, ncol, figsize=(20, 8))\n",
    "# axes = axes.flatten()\n",
    "# for i, ax in tqdm(enumerate(axes)):\n",
    "#     image, label = train_dataset[3]\n",
    "#     ax.imshow(image[0], cmap='Greys')\n",
    "#     ax.set_title(f'label: {label}')\n",
    "# plt.tight_layout()"
   ]
  },
  {
   "cell_type": "markdown",
   "metadata": {},
   "source": [
    "Let's final check the processed images, which will be trained by the model."
   ]
  },
  {
   "cell_type": "code",
   "execution_count": 37,
   "metadata": {
    "ExecuteTime": {
     "end_time": "2020-03-06T01:18:32.505144Z",
     "start_time": "2020-03-06T01:18:29.102287Z"
    },
    "_kg_hide-input": true
   },
   "outputs": [
    {
     "data": {
      "application/vnd.jupyter.widget-view+json": {
       "model_id": "28f344ce93b743c184d175ff3a23a29b",
       "version_major": 2,
       "version_minor": 0
      },
      "text/plain": [
       "HBox(children=(IntProgress(value=1, bar_style='info', max=1), HTML(value='')))"
      ]
     },
     "metadata": {},
     "output_type": "display_data"
    },
    {
     "name": "stdout",
     "output_type": "stream",
     "text": [
      "\n"
     ]
    },
    {
     "data": {
      "image/png": "[encoded data removed]",
      "text/plain": [
       "<Figure size 1440x576 with 30 Axes>"
      ]
     },
     "metadata": {
      "needs_background": "light"
     },
     "output_type": "display_data"
    }
   ],
   "source": [
    "nrow, ncol = 5, 6\n",
    "\n",
    "fig, axes = plt.subplots(nrow, ncol, figsize=(20, 8))\n",
    "axes = axes.flatten()\n",
    "for i, ax in tqdm(enumerate(axes)):\n",
    "    image, label = train_dataset[i+100]\n",
    "    ax.imshow(image[0])\n",
    "    ax.set_title(f'label: {label}')\n",
    "plt.tight_layout()"
   ]
  },
  {
   "cell_type": "code",
   "execution_count": 38,
   "metadata": {
    "ExecuteTime": {
     "end_time": "2020-03-06T01:18:35.345774Z",
     "start_time": "2020-03-06T01:18:32.507002Z"
    }
   },
   "outputs": [
    {
     "data": {
      "application/vnd.jupyter.widget-view+json": {
       "model_id": "c57632da2bfa4f3eb248c10f5375fd84",
       "version_major": 2,
       "version_minor": 0
      },
      "text/plain": [
       "HBox(children=(IntProgress(value=1, bar_style='info', max=1), HTML(value='')))"
      ]
     },
     "metadata": {},
     "output_type": "display_data"
    },
    {
     "name": "stdout",
     "output_type": "stream",
     "text": [
      "\n"
     ]
    },
    {
     "data": {
      "image/png": "[encoded data removed]",
      "text/plain": [
       "<Figure size 1440x576 with 30 Axes>"
      ]
     },
     "metadata": {
      "needs_background": "light"
     },
     "output_type": "display_data"
    }
   ],
   "source": [
    "nrow, ncol = 5, 6\n",
    "\n",
    "fig, axes = plt.subplots(nrow, ncol, figsize=(20, 8))\n",
    "axes = axes.flatten()\n",
    "for i, ax in tqdm(enumerate(axes)):\n",
    "    image, label = train_dataset_rs[i+100]\n",
    "    ax.imshow(image[0])\n",
    "    ax.set_title(f'label: {label}')\n",
    "plt.tight_layout()"
   ]
  },
  {
   "cell_type": "code",
   "execution_count": 39,
   "metadata": {
    "ExecuteTime": {
     "end_time": "2020-03-06T01:18:35.349672Z",
     "start_time": "2020-03-06T01:18:35.347493Z"
    }
   },
   "outputs": [],
   "source": [
    "# %reload_ext autoreload\n",
    "# %autoreload 2\n",
    "\n",
    "# from PIL import Image, ImageEnhance, ImageOps\n",
    "# import numpy as np\n",
    "# import matplotlib.pyplot as plt\n",
    "# import math\n",
    "# import random\n",
    "# import pdb\n",
    "# from autoaugment import ImageNetPolicy, CIFAR10Policy, SVHNPolicy, SubPolicy"
   ]
  },
  {
   "cell_type": "code",
   "execution_count": 40,
   "metadata": {
    "ExecuteTime": {
     "end_time": "2020-03-06T01:18:35.353544Z",
     "start_time": "2020-03-06T01:18:35.351359Z"
    }
   },
   "outputs": [],
   "source": [
    "# import PIL\n",
    "# print(\"Using Pillow version {}. Upgrade using 'pip install Pillow -U'\".format(PIL.__version__))"
   ]
  },
  {
   "cell_type": "code",
   "execution_count": 41,
   "metadata": {
    "ExecuteTime": {
     "end_time": "2020-03-06T01:18:35.359629Z",
     "start_time": "2020-03-06T01:18:35.355736Z"
    }
   },
   "outputs": [],
   "source": [
    "# class AutoTransform:\n",
    "#     def __init__(self, crop=True, size=(64, 64),\n",
    "#                  normalize=True, train=True, threshold=TH,\n",
    "#                  sigma=-1., blur_ratio=0., noise_ratio=0., cutout_ratio=0.,\n",
    "#                  grid_distortion_ratio=0., elastic_distortion_ratio=0., \n",
    "#                  piece_affine_ratio=0., auto_aug=False):\n",
    "#         self.crop = crop\n",
    "#         self.size = size\n",
    "#         self.normalize = normalize\n",
    "#         self.train = train\n",
    "#         self.threshold = threshold / 255.\n",
    "#         self.sigma = sigma / 255.\n",
    "\n",
    "#         self.blur_ratio = blur_ratio\n",
    "#         self.noise_ratio = noise_ratio\n",
    "#         self.cutout_ratio = cutout_ratio\n",
    "#         self.grid_distortion_ratio = grid_distortion_ratio\n",
    "#         self.elastic_distortion_ratio = elastic_distortion_ratio\n",
    "#         self.piece_affine_ratio = piece_affine_ratio\n",
    "#         self.auto_policy = SVHNPolicy()\n",
    "#         self.auto_aug = auto_aug\n",
    "\n",
    "#     def __call__(self, example):\n",
    "#         if self.train:\n",
    "#             x, y = example\n",
    "#         else:\n",
    "#             x = example\n",
    "            \n",
    "#         # --- Train/Test common preprocessing ---\n",
    "#         if self.crop:\n",
    "#             x = crop_char_image(x, threshold=self.threshold)\n",
    "            \n",
    "# #         if self.crop:\n",
    "# #             x = crop_char_image_thin(x, threshold=self.threshold)\n",
    "\n",
    "#         if self.size is not None:\n",
    "#             x = resize(x, size=self.size)\n",
    "            \n",
    "#         x = np.transpose(np.stack((x, x, x), axis=0),(1,2,0))\n",
    "        \n",
    "#         if self.auto_aug:\n",
    "#             x_int = Image.fromarray((x*255).astype(np.uint8))\n",
    "#             x_int = self.auto_policy(x_int)\n",
    "#             x = numpy.asarray(x_int).astype(np.float32) / 255.\n",
    "        \n",
    "#         if self.sigma > 0.:\n",
    "#             x = add_gaussian_noise(x, sigma=self.sigma)\n",
    "\n",
    "#         # albumentations...\n",
    "#         x = x.astype(np.float32)\n",
    "# #         assert x.ndim == 2\n",
    "#         # 1. blur\n",
    "#         if _evaluate_ratio(self.blur_ratio):\n",
    "#             r = np.random.uniform()\n",
    "#             if r < 0.25:\n",
    "#                 x = apply_aug(A.Blur(p=1.0), x)\n",
    "#             elif r < 0.5:\n",
    "#                 x = apply_aug(A.MedianBlur(blur_limit=5, p=1.0), x)\n",
    "#             elif r < 0.75:\n",
    "#                 x = apply_aug(A.GaussianBlur(p=1.0), x)\n",
    "#             else:\n",
    "#                 x = apply_aug(A.MotionBlur(p=1.0), x)\n",
    "\n",
    "#         if _evaluate_ratio(self.noise_ratio):\n",
    "#             r = np.random.uniform()\n",
    "#             if r < 0.50:\n",
    "#                 x = apply_aug(A.GaussNoise(var_limit=5. / 255., p=1.0), x)\n",
    "#             else:\n",
    "#                 x = apply_aug(A.MultiplicativeNoise(p=1.0), x)\n",
    "\n",
    "#         if _evaluate_ratio(self.cutout_ratio):\n",
    "#             r = np.random.uniform()\n",
    "#             if r < 0.5:\n",
    "#                 x = apply_aug(A.CoarseDropout(max_holes=4, max_height=image_size//8, max_width=image_size//8, p=1.0), x)\n",
    "#             else:\n",
    "#                 x = apply_aug(A.Cutout(num_holes=1,  max_h_size=image_size//3, max_w_size=image_size//3, p=1.0),x)  # Deprecated...\n",
    "\n",
    "#         if _evaluate_ratio(self.grid_distortion_ratio):\n",
    "#             x = apply_aug(A.GridDistortion(p=1.0, border_mode=cv2.BORDER_CONSTANT, value=0), x)\n",
    "\n",
    "#         if _evaluate_ratio(self.elastic_distortion_ratio):\n",
    "#             x = apply_aug(A.ElasticTransform(\n",
    "#                 sigma=50, alpha=1, alpha_affine=10, p=1.0, border_mode=cv2.BORDER_CONSTANT, value=0), x)\n",
    "\n",
    "\n",
    "#         if _evaluate_ratio(self.piece_affine_ratio):\n",
    "#             x = apply_aug(A.IAAPiecewiseAffine(p=1.0, mode='constant'), x)\n",
    "\n",
    "\n",
    "#         if self.normalize:\n",
    "# #             x = (x.astype(np.float32) - 0.0692) / 0.2051  ##ORG\n",
    "#             x = (x.astype(np.float32) - 0.449) / 0.226 ##Imagenet\n",
    "# #         if x.ndim == 2:\n",
    "# #             x = x[None, :, :]\n",
    "#         x = x.astype(np.float32)\n",
    "#         x = np.transpose(x,(2,0,1))\n",
    "#         if self.train:\n",
    "#             y = y.astype(np.int64)\n",
    "#             return x, y\n",
    "#         else:\n",
    "#             return x"
   ]
  },
  {
   "cell_type": "code",
   "execution_count": 42,
   "metadata": {
    "ExecuteTime": {
     "end_time": "2020-03-06T01:18:35.363924Z",
     "start_time": "2020-03-06T01:18:35.361473Z"
    }
   },
   "outputs": [],
   "source": [
    "# train_auto_transform = AutoTransform(auto_aug=True, crop=False,\n",
    "#     size=(WIDTH_NEW, HEIGHT_NEW), cutout_ratio=0.5) #threshold=20.,\n",
    "# train_auto_dataset = BengaliAIDataset(train_images[:200], train_labels,\n",
    "#                                  transform=train_auto_transform)\n"
   ]
  },
  {
   "cell_type": "code",
   "execution_count": 43,
   "metadata": {
    "ExecuteTime": {
     "end_time": "2020-03-06T01:18:35.369418Z",
     "start_time": "2020-03-06T01:18:35.366599Z"
    }
   },
   "outputs": [],
   "source": [
    "# nrow, ncol = 5, 6\n",
    "\n",
    "# fig, axes = plt.subpnrow, ncol = 5, 6\n",
    "\n",
    "# fig, axes = plt.subplots(nrow, ncol, figsize=(20, 8))\n",
    "# axes = axes.flatten()\n",
    "# for i, ax in tqdm(enumerate(axes)):\n",
    "#     image, label = train_auto_dataset[i+100]\n",
    "#     ax.imshow(np.transpose(image,(1,2,0)), cmap='Greys')\n",
    "#     ax.set_title(f'label: {label}')\n",
    "# plt.tight_layout()lots(nrow, ncol, figsize=(20, 8))\n",
    "# axes = axes.flatten()\n",
    "# for i, ax in tqdm(enumerate(axes)):\n",
    "#     image, label = train_auto_dataset[i+100]\n",
    "#     ax.imshow(np.transpose(image,(1,2,0)), cmap='Greys')\n",
    "#     ax.set_title(f'label: {label}')\n",
    "# plt.tight_layout()"
   ]
  },
  {
   "cell_type": "markdown",
   "metadata": {},
   "source": [
    "<a id=\"model\"></a> \n",
    "# pytorch model & define classifier"
   ]
  },
  {
   "cell_type": "code",
   "execution_count": 44,
   "metadata": {
    "ExecuteTime": {
     "end_time": "2020-03-06T01:18:35.376517Z",
     "start_time": "2020-03-06T01:18:35.371823Z"
    },
    "_kg_hide-input": true
   },
   "outputs": [],
   "source": [
    "import torch\n",
    "\n",
    "\n",
    "def residual_add(lhs, rhs):\n",
    "    lhs_ch, rhs_ch = lhs.shape[1], rhs.shape[1]\n",
    "    if lhs_ch < rhs_ch:\n",
    "        out = lhs + rhs[:, :lhs_ch]\n",
    "    elif lhs_ch > rhs_ch:\n",
    "        out = torch.cat([lhs[:, :rhs_ch] + rhs, lhs[:, rhs_ch:]], dim=1)\n",
    "    else:\n",
    "        out = lhs + rhs\n",
    "    return out\n"
   ]
  },
  {
   "cell_type": "code",
   "execution_count": 45,
   "metadata": {
    "ExecuteTime": {
     "end_time": "2020-03-06T01:18:35.385226Z",
     "start_time": "2020-03-06T01:18:35.378428Z"
    },
    "_kg_hide-input": true
   },
   "outputs": [],
   "source": [
    "from typing import List\n",
    "\n",
    "import torch\n",
    "from torch import nn\n",
    "from torch.nn.parameter import Parameter\n",
    "\n",
    "\n",
    "class LazyLoadModule(nn.Module):\n",
    "    \"\"\"Lazy buffer/parameter loading using load_state_dict_pre_hook\n",
    "\n",
    "    Define all buffer/parameter in `_lazy_buffer_keys`/`_lazy_parameter_keys` and\n",
    "    save buffer with `register_buffer`/`register_parameter`\n",
    "    method, which can be outside of __init__ method.\n",
    "    Then this module can load any shape of Tensor during de-serializing.\n",
    "\n",
    "    Note that default value of lazy buffer is torch.Tensor([]), while lazy parameter is None.\n",
    "    \"\"\"\n",
    "    _lazy_buffer_keys: List[str] = []     # It needs to be override to register lazy buffer\n",
    "    _lazy_parameter_keys: List[str] = []  # It needs to be override to register lazy parameter\n",
    "\n",
    "    def __init__(self):\n",
    "        super(LazyLoadModule, self).__init__()\n",
    "        for k in self._lazy_buffer_keys:\n",
    "            self.register_buffer(k, torch.tensor([]))\n",
    "        for k in self._lazy_parameter_keys:\n",
    "            self.register_parameter(k, None)\n",
    "        self._register_load_state_dict_pre_hook(self._hook)\n",
    "\n",
    "    def _hook(self, state_dict, prefix, local_metadata, strict, missing_keys,\n",
    "             unexpected_keys, error_msgs):\n",
    "        for key in self._lazy_buffer_keys:\n",
    "            self.register_buffer(key, state_dict[prefix + key])\n",
    "\n",
    "        for key in self._lazy_parameter_keys:\n",
    "            self.register_parameter(key, Parameter(state_dict[prefix + key]))\n"
   ]
  },
  {
   "cell_type": "code",
   "execution_count": 46,
   "metadata": {
    "ExecuteTime": {
     "end_time": "2020-03-06T01:18:35.390337Z",
     "start_time": "2020-03-06T01:18:35.387590Z"
    }
   },
   "outputs": [],
   "source": [
    "a = np.array([2,3])\n",
    "b = np.array([4,5,6])"
   ]
  },
  {
   "cell_type": "code",
   "execution_count": 47,
   "metadata": {
    "ExecuteTime": {
     "end_time": "2020-03-06T01:18:35.401127Z",
     "start_time": "2020-03-06T01:18:35.392266Z"
    },
    "_kg_hide-input": true
   },
   "outputs": [],
   "source": [
    "import math\n",
    "import torch\n",
    "from torch.nn import init\n",
    "from torch.nn.parameter import Parameter\n",
    "import torch.nn.functional as F\n",
    "\n",
    "\n",
    "class LazyLinear(LazyLoadModule):\n",
    "    \"\"\"Linear module with lazy input inference\n",
    "\n",
    "    `in_features` can be `None`, and it is determined at the first time of forward step dynamically.\n",
    "    \"\"\"\n",
    "\n",
    "    __constants__ = ['bias', 'in_features', 'out_features']\n",
    "    _lazy_parameter_keys = ['weight']\n",
    "\n",
    "    def __init__(self, in_features, out_features, bias=True):\n",
    "        super(LazyLinear, self).__init__()\n",
    "        self.in_features = in_features\n",
    "        self.out_features = out_features\n",
    "        if bias:\n",
    "            self.bias = Parameter(torch.Tensor(out_features))\n",
    "        else:\n",
    "            self.register_parameter('bias', None)\n",
    "\n",
    "        if in_features is not None:\n",
    "            self.weight = Parameter(torch.Tensor(out_features, in_features))\n",
    "            self.reset_parameters()\n",
    "\n",
    "    def reset_parameters(self):\n",
    "        init.kaiming_uniform_(self.weight, a=math.sqrt(5))\n",
    "        if self.bias is not None:\n",
    "            fan_in, _ = init._calculate_fan_in_and_fan_out(self.weight)\n",
    "            bound = 1 / math.sqrt(fan_in)\n",
    "            init.uniform_(self.bias, -bound, bound)\n",
    "\n",
    "    def forward(self, input):\n",
    "        if self.weight is None:\n",
    "            self.in_features = input.shape[-1]\n",
    "            self.weight = Parameter(torch.Tensor(self.out_features, self.in_features))\n",
    "            self.reset_parameters()\n",
    "\n",
    "            # Need to send lazy defined parameter to device...\n",
    "            self.to(input.device)\n",
    "        return F.linear(input, self.weight, self.bias)\n",
    "\n",
    "    def extra_repr(self):\n",
    "        return 'in_features={}, out_features={}, bias={}'.format(\n",
    "            self.in_features, self.out_features, self.bias is not None\n",
    "        )\n"
   ]
  },
  {
   "cell_type": "code",
   "execution_count": 48,
   "metadata": {
    "ExecuteTime": {
     "end_time": "2020-03-06T01:18:35.410665Z",
     "start_time": "2020-03-06T01:18:35.402637Z"
    },
    "_kg_hide-input": true
   },
   "outputs": [],
   "source": [
    "from torch import nn\n",
    "import torch.nn.functional as F\n",
    "\n",
    "\n",
    "class LinearBlock(nn.Module):\n",
    "\n",
    "    def __init__(self, in_features, out_features, bias=True,\n",
    "                 use_bn=True, activation=F.relu, dropout_ratio=-1, residual=False,):\n",
    "        super(LinearBlock, self).__init__()\n",
    "        if in_features is None:\n",
    "            self.linear = LazyLinear(in_features, out_features, bias=bias)\n",
    "        else:\n",
    "            self.linear = nn.Linear(in_features, out_features, bias=bias)\n",
    "        if use_bn:\n",
    "            self.bn = nn.BatchNorm1d(out_features)\n",
    "        if dropout_ratio > 0.:\n",
    "            self.dropout = nn.Dropout(p=dropout_ratio)\n",
    "        else:\n",
    "            self.dropout = None\n",
    "        self.activation = activation\n",
    "        self.use_bn = use_bn\n",
    "        self.dropout_ratio = dropout_ratio\n",
    "        self.residual = residual\n",
    "\n",
    "    def __call__(self, x):\n",
    "        h = self.linear(x)\n",
    "        if self.use_bn:\n",
    "            h = self.bn(h)\n",
    "        if self.activation is not None:\n",
    "            h = self.activation(h)\n",
    "        if self.residual:\n",
    "            h = residual_add(h, x)\n",
    "        if self.dropout_ratio > 0:\n",
    "            h = self.dropout(h)\n",
    "        return h"
   ]
  },
  {
   "cell_type": "code",
   "execution_count": 50,
   "metadata": {
    "ExecuteTime": {
     "end_time": "2020-03-06T01:22:14.973272Z",
     "start_time": "2020-03-06T01:22:14.965407Z"
    }
   },
   "outputs": [],
   "source": [
    "from torch.nn.parameter import Parameter\n",
    "def gem(x, p=3, eps=1e-6):\n",
    "    return F.avg_pool2d(x.clamp(min=eps).pow(p), (x.size(-2), x.size(-1))).pow(1./p)\n",
    "class GeM(nn.Module):\n",
    "    def __init__(self, p=3, eps=1e-6):\n",
    "        super(GeM,self).__init__()\n",
    "        self.p = Parameter(torch.ones(1)*p)\n",
    "        self.eps = eps\n",
    "    def forward(self, x):\n",
    "        return gem(x, p=self.p, eps=self.eps)       \n",
    "    def __repr__(self):\n",
    "        return (self.__class__.__name__ + '(' + 'p=' + '{:.4f}'.format(self.p.data.tolist()[0]) \n",
    "                + ', ' + 'eps=' + str(self.eps) + ')')"
   ]
  },
  {
   "cell_type": "code",
   "execution_count": 51,
   "metadata": {
    "ExecuteTime": {
     "end_time": "2020-03-06T01:24:00.962539Z",
     "start_time": "2020-03-06T01:24:00.954425Z"
    },
    "code_folding": []
   },
   "outputs": [],
   "source": [
    "class Flatten(nn.Module):\n",
    "    def forward(self, input):\n",
    "        return input.view(input.size(0), -1)\n",
    "    \n",
    "class ClassifierNew(nn.Module):\n",
    "    def __init__(self, inp = 2048, h1=1024, num_class = [1000,1,1], dropout_ratio=0.35):\n",
    "        super().__init__()\n",
    "        self.ap = nn.AdaptiveAvgPool2d(1)\n",
    "        self.mp = nn.AdaptiveMaxPool2d(1)\n",
    "        self.fla = Flatten()\n",
    "#         self.bn0 = nn.BatchNorm1d(inp*2,eps=1e-05, momentum=0.1, affine=True)\n",
    "        self.dropout0 = nn.Dropout(dropout_ratio)\n",
    "        \n",
    "        self.logit = nn.ModuleList(\n",
    "            [ nn.Linear(inp, c) for c in num_class]\n",
    "        )\n",
    "        self.gem = GeM()\n",
    "#         self.fc1 = nn.Linear(inp*2, h1)\n",
    "#         self.bn1 = nn.BatchNorm1d(h1,eps=1e-05, momentum=0.1, affine=True)\n",
    "#         self.dropout1 = nn.Dropout(dropout_ratio)\n",
    "#         self.fc2 = nn.Linear(h1, out)\n",
    "        \n",
    "    def forward(self, x):\n",
    "#         ap = self.ap(x)\n",
    "#         mp = self.mp(x)\n",
    "#         x = torch.cat((ap,mp),dim=1)\n",
    "        x = self.gem(x)\n",
    "        x = self.fla(x)\n",
    "#         x = self.bn0(x)\n",
    "        x = self.dropout0(x)\n",
    "        logit = [l(x) for l in self.logit]\n",
    "#         x = F.relu(self.fc1(x))\n",
    "#         x = self.bn1(x)\n",
    "#         x = self.dropout1(x)         \n",
    "#         x = self.fc2(x)\n",
    "        return logit"
   ]
  },
  {
   "cell_type": "code",
   "execution_count": 49,
   "metadata": {
    "ExecuteTime": {
     "end_time": "2020-03-05T23:49:01.339087Z",
     "start_time": "2020-03-05T23:49:01.337084Z"
    }
   },
   "outputs": [],
   "source": [
    "# ap = nn.AdaptiveAvgPool2d((1,1))\n",
    "# mp = nn.AdaptiveMaxPool2d((1,1))\n",
    "# x = np.random.rand(5,4,4)\n",
    "# print(x)\n",
    "# print(ap)\n",
    "# x1 = torch.nn.functional.adaptive_avg_pool2d(x, (1,1))\n",
    "# print(x1)"
   ]
  },
  {
   "cell_type": "code",
   "execution_count": 52,
   "metadata": {
    "ExecuteTime": {
     "end_time": "2020-03-06T01:24:08.748217Z",
     "start_time": "2020-03-06T01:24:08.731976Z"
    }
   },
   "outputs": [
    {
     "name": "stdout",
     "output_type": "stream",
     "text": [
      "tensor(10.)\n"
     ]
    }
   ],
   "source": [
    "a = torch.Tensor([[1,2],[3,4]])\n",
    "b = torch.sum(a,dim=(-1,-2))\n",
    "print(b)"
   ]
  },
  {
   "cell_type": "code",
   "execution_count": 53,
   "metadata": {
    "ExecuteTime": {
     "end_time": "2020-03-06T01:24:08.754051Z",
     "start_time": "2020-03-06T01:24:08.750658Z"
    }
   },
   "outputs": [],
   "source": [
    "def set_parameter_requires_grad(model, feature_extracting):\n",
    "    if feature_extracting:\n",
    "        for param in model.parameters():\n",
    "            param.requires_grad = False"
   ]
  },
  {
   "cell_type": "code",
   "execution_count": 54,
   "metadata": {
    "ExecuteTime": {
     "end_time": "2020-03-06T01:24:10.095256Z",
     "start_time": "2020-03-06T01:24:08.757223Z"
    }
   },
   "outputs": [],
   "source": [
    "import pretrainedmodels\n",
    "import torch\n",
    "from torch import nn\n",
    "import torch.nn.functional as F\n",
    "from torch.nn import Sequential\n",
    "import collections\n",
    "try:\n",
    "    from collections import OrderedDict\n",
    "except ImportError:\n",
    "    OrderedDict = dict\n",
    "\n",
    "from seresnext import *    \n",
    "\n",
    "class PretrainedCNN(nn.Module):\n",
    "    \n",
    "    def load_pretrain(self, skip=['block0.','logit.'], is_print=True):\n",
    "        load_pretrain(self, skip, pretrain_file=PRETRAIN_FILE, conversion=CONVERSION, is_print=is_print)\n",
    "        \n",
    "    def __init__(self, model_name='se_resnext101_32x4d',\n",
    "                 in_channels=1, num_class=[10], use_bn=True,\n",
    "                 pretrained='imagenet', dropout_ratio=0):\n",
    "        super(PretrainedCNN, self).__init__()\n",
    "#         self.conv0 = nn.Conv2d(\n",
    "#             in_channels, 3, kernel_size=3, stride=1, padding=1, bias=True)\n",
    "#         self.base_model = pretrainedmodels.__dict__[model_name](pretrained=pretrained)\n",
    "# #         print(self.base_model)\n",
    "#         names = []\n",
    "#         for name, child in self.base_model.named_children():\n",
    "#             names.append(name)\n",
    "            \n",
    "#         arch = self.base_model\n",
    "#         arch = list(arch.children())\n",
    "#         #saving the weights of the forst conv in w\n",
    "#         w = arch[0][0].weight\n",
    "#         #creating new Conv2d to accept 1 channel \n",
    "#         arch[0][0] = nn.Conv2d(1, 64, kernel_size=7, stride=2, padding=3, bias=False)\n",
    "#         #substituting weights of newly created Conv2d with w from but we have to take mean\n",
    "#         #to go from  3 channel to 1\n",
    "#         arch[0][0].weight = nn.Parameter(torch.mean(w, dim=1, keepdim=True))\n",
    "#         arch = nn.Sequential(OrderedDict([(names[k], arch[k]) for k in range(len(names))]))\n",
    "# #         print(arch)\n",
    "#         self.base_model = arch\n",
    "# #         print(\"#######################################\")\n",
    "# #         print(self.base_model)\n",
    "#         activation = F.leaky_relu\n",
    "#         self.do_pooling = True\n",
    "#         if self.do_pooling:\n",
    "#             inch = self.base_model.last_linear.in_features\n",
    "#         else:\n",
    "#             inch = None\n",
    "\n",
    "        e = ResNext50()\n",
    "\n",
    "        self.block0 = e.block0\n",
    "        self.block1 = e.block1\n",
    "        self.block2 = e.block2\n",
    "        self.block3 = e.block3\n",
    "        self.block4 = e.block4\n",
    "        e = None  #dropped\n",
    "        inch = 2048\n",
    "        hdim = HDIM\n",
    "        self.classifer = ClassifierNew(inp = inch, h1=hdim, num_class = num_class, dropout_ratio=dropout_ratio)\n",
    "#         lin1 = LinearBlock(inch, hdim, use_bn=use_bn, activation=activation, residual=False)\n",
    "#         lin2 = LinearBlock(hdim, out_dim, use_bn=use_bn, activation=None, residual=False)\n",
    "#         self.lin_layers = Sequential(lin1, lin2)\n",
    "\n",
    "    def forward(self, x):\n",
    "        \n",
    "#         h = self.base_model.layer0(x)\n",
    "#         h = self.base_model.layer1(h)\n",
    "#         h = self.base_model.layer2(h)\n",
    "#         h = self.base_model.layer3(h)\n",
    "#         h = self.base_model.layer4(h) \n",
    "\n",
    "        batch_size,C,H,W = x.shape\n",
    "        if (H,W) !=(HEIGHT_NEW, WIDTH_NEW):\n",
    "            x = F.interpolate(x,size=(HEIGHT_NEW, WIDTH_NEW), mode='bilinear',align_corners=False)\n",
    "            \n",
    "        x = x.repeat(1,3,1,1)\n",
    "        x = self.block0(x)\n",
    "        x = self.block1(x)\n",
    "        x = self.block2(x)\n",
    "        x = self.block3(x)\n",
    "        x = self.block4(x)\n",
    "        \n",
    "        h = self.classifer(x)\n",
    "\n",
    "        return h"
   ]
  },
  {
   "cell_type": "code",
   "execution_count": null,
   "metadata": {},
   "outputs": [],
   "source": []
  },
  {
   "cell_type": "code",
   "execution_count": null,
   "metadata": {
    "ExecuteTime": {
     "end_time": "2020-02-24T23:57:39.817648Z",
     "start_time": "2020-02-24T23:57:39.219998Z"
    }
   },
   "outputs": [],
   "source": []
  },
  {
   "cell_type": "code",
   "execution_count": 55,
   "metadata": {
    "ExecuteTime": {
     "end_time": "2020-03-06T01:24:10.102451Z",
     "start_time": "2020-03-06T01:24:10.097593Z"
    }
   },
   "outputs": [],
   "source": [
    "def print_base_layers(predictor):\n",
    "    print(\"base model layer names::\")\n",
    "    for name, child in predictor.base_model.named_children():\n",
    "        print(name)\n",
    "        \n",
    "def print_base_grad_status(predictor):\n",
    "    print(\"base model grad status::\")\n",
    "    for name, child in predictor.base_model.named_children():\n",
    "        print(name)\n",
    "        for param in child.parameters():\n",
    "            print(param.requires_grad)"
   ]
  },
  {
   "cell_type": "code",
   "execution_count": 56,
   "metadata": {
    "ExecuteTime": {
     "end_time": "2020-03-06T01:24:10.107241Z",
     "start_time": "2020-03-06T01:24:10.104222Z"
    }
   },
   "outputs": [],
   "source": [
    "# print_grad_status(predictortmp)"
   ]
  },
  {
   "cell_type": "code",
   "execution_count": 57,
   "metadata": {
    "ExecuteTime": {
     "end_time": "2020-03-06T01:24:10.112633Z",
     "start_time": "2020-03-06T01:24:10.108816Z"
    }
   },
   "outputs": [],
   "source": [
    "def frozen_basiclayers(predictor):\n",
    "    for name, child in predictor.base_model.named_children():\n",
    "        if name in ['layer0','layer1','layer2','layer3']:\n",
    "            print(name + ' is frozen')\n",
    "            for param in child.parameters():\n",
    "                param.requires_grad = False\n",
    "        else:\n",
    "            print(name + ' is unfrozen')\n",
    "            for param in child.parameters():\n",
    "                param.requires_grad = True"
   ]
  },
  {
   "cell_type": "code",
   "execution_count": 58,
   "metadata": {
    "ExecuteTime": {
     "end_time": "2020-03-06T01:24:10.117047Z",
     "start_time": "2020-03-06T01:24:10.114233Z"
    }
   },
   "outputs": [],
   "source": [
    "def unfrozen_basiclayers(predictor):\n",
    "    for name, child in predictor.base_model.named_children():\n",
    "        for param in child.parameters():\n",
    "            param.requires_grad = True"
   ]
  },
  {
   "cell_type": "code",
   "execution_count": 59,
   "metadata": {
    "ExecuteTime": {
     "end_time": "2020-03-06T01:24:10.122773Z",
     "start_time": "2020-03-06T01:24:10.120855Z"
    }
   },
   "outputs": [],
   "source": [
    "# frozen_basiclayers(predictortmp)\n",
    "# print_grad_status(predictortmp)"
   ]
  },
  {
   "cell_type": "code",
   "execution_count": 60,
   "metadata": {
    "ExecuteTime": {
     "end_time": "2020-03-06T01:24:10.128663Z",
     "start_time": "2020-03-06T01:24:10.125554Z"
    }
   },
   "outputs": [
    {
     "name": "stdout",
     "output_type": "stream",
     "text": [
      "n_total 186\n"
     ]
    }
   ],
   "source": [
    "n_grapheme = 168\n",
    "n_vowel = 11\n",
    "n_consonant = 7\n",
    "n_total = n_grapheme + n_vowel + n_consonant\n",
    "print('n_total', n_total)"
   ]
  },
  {
   "cell_type": "code",
   "execution_count": 61,
   "metadata": {
    "ExecuteTime": {
     "end_time": "2020-03-06T01:24:10.133062Z",
     "start_time": "2020-03-06T01:24:10.130494Z"
    }
   },
   "outputs": [],
   "source": [
    "# predictortmp = PretrainedCNN(in_channels=1, num_class=[n_grapheme, n_vowel, n_consonant], model_name=model_name, pretrained=\"imagenet\")\n",
    "# for name, child in predictortmp.named_children():\n",
    "#     print(name)\n",
    "# print_base_layers(predictortmp)"
   ]
  },
  {
   "cell_type": "code",
   "execution_count": null,
   "metadata": {},
   "outputs": [],
   "source": []
  },
  {
   "cell_type": "code",
   "execution_count": 62,
   "metadata": {
    "ExecuteTime": {
     "end_time": "2020-03-06T01:24:10.137301Z",
     "start_time": "2020-03-06T01:24:10.134831Z"
    }
   },
   "outputs": [],
   "source": [
    "# def get_optimizer_adam(classifier, learning_rate=1e-3, weight_decay=0.0):\n",
    "    \n",
    "#     base_params = list(map(id, classifier.predictor.base_model.parameters()))\n",
    "#     fast_learned_params = filter(lambda p: id(p) not in base_params, \n",
    "#                                  classifier.parameters())\n",
    "# #     print(\"base_params len:\", len(base_params))\n",
    "# #     print(\"fast_learned_params len:\", len(list(fast_learned_params)))\n",
    "#     lr_100 = max(learning_rate/100, 1e-6)\n",
    "#     lr_10 = max(learning_rate/10, 5e-6)\n",
    "#     optimizer = torch.optim.Adam(\n",
    "#     [\n",
    "#         dict(params=classifier.predictor.base_model.layer0.parameters(), lr=lr_100),\n",
    "#         dict(params=classifier.predictor.base_model.layer1.parameters(), lr=lr_100),\n",
    "#         dict(params=classifier.predictor.base_model.layer2.parameters(), lr=lr_100),\n",
    "#         dict(params=classifier.predictor.base_model.layer3.parameters(), lr=lr_100),\n",
    "#         dict(params=classifier.predictor.base_model.layer4.parameters(), lr=lr_10),        \n",
    "#         dict(params=classifier.predictor.base_model.avg_pool.parameters(), lr=lr_10),\n",
    "#         dict(params=classifier.predictor.base_model.last_linear.parameters(), lr=lr_10),\n",
    "#         {'params': fast_learned_params},\n",
    "#     ], lr = learning_rate, weight_decay=weight_decay)\n",
    "    \n",
    "#     return optimizer"
   ]
  },
  {
   "cell_type": "code",
   "execution_count": 63,
   "metadata": {
    "ExecuteTime": {
     "end_time": "2020-03-06T01:24:10.141175Z",
     "start_time": "2020-03-06T01:24:10.138957Z"
    }
   },
   "outputs": [],
   "source": [
    "# def get_optimizer_adam(classifier, learning_rate=1e-3, weight_decay=0.0):\n",
    "    \n",
    "#     base_params = list(map(id, classifier.predictor.base_model.parameters()))\n",
    "#     fast_learned_params = filter(lambda p: id(p) not in base_params, \n",
    "#                                  classifier.parameters())\n",
    "# #     print(\"base_params len:\", len(base_params))\n",
    "# #     print(\"fast_learned_params len:\", len(list(fast_learned_params)))\n",
    "#     lr_100 = max(learning_rate/100, 1e-7)\n",
    "#     lr_10 = max(learning_rate/10, 1e-7)\n",
    "#     optimizer = torch.optim.Adam(\n",
    "#     [\n",
    "#         dict(params=classifier.predictor.base_model.layer0.parameters(), lr=lr_10),\n",
    "#         dict(params=classifier.predictor.base_model.layer1.parameters(), lr=lr_10),\n",
    "#         dict(params=classifier.predictor.base_model.layer2.parameters(), lr=lr_10),\n",
    "#         dict(params=classifier.predictor.base_model.layer3.parameters(), lr=lr_10),\n",
    "#         dict(params=classifier.predictor.base_model.layer4.parameters(), lr=learning_rate),        \n",
    "#         dict(params=classifier.predictor.base_model.avg_pool.parameters(), lr=learning_rate),\n",
    "#         dict(params=classifier.predictor.base_model.last_linear.parameters(), lr=learning_rate),\n",
    "#         {'params': fast_learned_params},\n",
    "#     ], lr = learning_rate, weight_decay=weight_decay)\n",
    "    \n",
    "#     return optimizer"
   ]
  },
  {
   "cell_type": "code",
   "execution_count": 64,
   "metadata": {
    "ExecuteTime": {
     "end_time": "2020-03-06T01:24:10.152357Z",
     "start_time": "2020-03-06T01:24:10.143253Z"
    }
   },
   "outputs": [],
   "source": [
    "def get_optimizer_adam(classifier, learning_rate=1e-3, weight_decay=0.0):\n",
    "    \n",
    "    base_params = list(map(id, classifier.predictor.parameters()))\n",
    "    fast_learned_params = filter(lambda p: id(p) not in base_params, \n",
    "                                 classifier.parameters())\n",
    "#     print(\"base_params len:\", len(base_params))\n",
    "#     print(\"fast_learned_params len:\", len(list(fast_learned_params)))\n",
    "    lr_100 = max(learning_rate/100, 1e-7)\n",
    "    lr_10 = max(learning_rate/10, 1e-7)\n",
    "    optimizer = torch.optim.Adam(\n",
    "    [\n",
    "        dict(params=classifier.predictor.block0.parameters(), lr=lr_10),\n",
    "        dict(params=classifier.predictor.block1.parameters(), lr=lr_10),\n",
    "        dict(params=classifier.predictor.block2.parameters(), lr=lr_10),\n",
    "        dict(params=classifier.predictor.block3.parameters(), lr=lr_10),\n",
    "        dict(params=classifier.predictor.block4.parameters(), lr=learning_rate),\n",
    "        {'params': fast_learned_params},\n",
    "    ], lr = learning_rate, weight_decay=weight_decay)\n",
    "    \n",
    "    return optimizer"
   ]
  },
  {
   "cell_type": "markdown",
   "metadata": {},
   "source": [
    "## Classifier"
   ]
  },
  {
   "cell_type": "code",
   "execution_count": 65,
   "metadata": {
    "ExecuteTime": {
     "end_time": "2020-03-06T01:24:10.173194Z",
     "start_time": "2020-03-06T01:24:10.154310Z"
    },
    "_kg_hide-input": true
   },
   "outputs": [],
   "source": [
    "import torch\n",
    "from torch import nn\n",
    "import torch.nn.functional as F\n",
    "from tqdm import tqdm\n",
    "\n",
    "\n",
    "def accuracy(y, t):\n",
    "    pred_label = torch.argmax(y, dim=1)\n",
    "    count = pred_label.shape[0]\n",
    "    correct = (pred_label == t).sum().type(torch.float32)\n",
    "    acc = correct / count\n",
    "    if isinstance(acc, torch.Tensor):\n",
    "        acc = acc.item()\n",
    "    return acc\n",
    "\n",
    "\n",
    "class BengaliClassifier(nn.Module):\n",
    "    def __init__(self, predictor, n_grapheme=168, n_vowel=11, n_consonant=7):\n",
    "        super(BengaliClassifier, self).__init__()\n",
    "        self.n_grapheme = n_grapheme\n",
    "        self.n_vowel = n_vowel\n",
    "        self.n_consonant = n_consonant\n",
    "        self.n_total_class = self.n_grapheme + self.n_vowel + self.n_consonant\n",
    "        self.predictor = predictor\n",
    "\n",
    "        self.metrics_keys = [\n",
    "            'loss', 'loss_grapheme', 'loss_vowel', 'loss_consonant', 'loss_comb',\n",
    "            'acc_grapheme', 'acc_vowel', 'acc_consonant', 'acc_comb']\n",
    "\n",
    "    def forward(self, x, y=None):\n",
    "        pred = self.predictor(x)\n",
    "        if isinstance(pred, list):\n",
    "            preds = pred\n",
    "        else:\n",
    "            assert pred.shape[1] == self.n_total_class\n",
    "            preds = torch.split(pred, [self.n_grapheme, self.n_vowel, self.n_consonant], dim=1)\n",
    "        loss_grapheme = 2*F.cross_entropy(preds[0], y[:, 0])\n",
    "        loss_vowel = F.cross_entropy(preds[1], y[:, 1])\n",
    "        loss_consonant = F.cross_entropy(preds[2], y[:, 2])\n",
    "        loss_comb = 0.1*F.cross_entropy(preds[3], y[:, 3])\n",
    "        loss = loss_grapheme + loss_vowel + loss_consonant + loss_comb\n",
    "        metrics = {\n",
    "            'loss': loss.item(),\n",
    "            'loss_grapheme': loss_grapheme.item(),\n",
    "            'loss_vowel': loss_vowel.item(),\n",
    "            'loss_consonant': loss_consonant.item(),\n",
    "            'loss_comb': loss_comb.item(),\n",
    "            'acc_grapheme': accuracy(preds[0], y[:, 0]),\n",
    "            'acc_vowel': accuracy(preds[1], y[:, 1]),\n",
    "            'acc_consonant': accuracy(preds[2], y[:, 2]),\n",
    "            'acc_comb': accuracy(preds[3], y[:, 3]),\n",
    "        }\n",
    "        return loss, metrics, pred\n",
    "\n",
    "    def calc(self, data_loader):\n",
    "        device: torch.device = next(self.parameters()).device\n",
    "        self.eval()\n",
    "        output_list = []\n",
    "        with torch.no_grad():\n",
    "            for batch in tqdm(data_loader):\n",
    "                # TODO: support general preprocessing.\n",
    "                # If `data` is not `Data` instance, `to` method is not supported!\n",
    "                batch = batch.to(device)\n",
    "                pred = self.predictor(batch)\n",
    "                output_list.append(pred)\n",
    "        output = torch.cat(output_list, dim=0)\n",
    "        preds = torch.split(output, [self.n_grapheme, self.n_vowel, self.n_consonant], dim=1)\n",
    "        return preds\n",
    "\n",
    "    def predict_proba(self, data_loader):\n",
    "        preds = self.calc(data_loader)\n",
    "        return [F.softmax(p, dim=1) for p in preds]\n",
    "\n",
    "    def predict(self, data_loader):\n",
    "        preds = self.calc(data_loader)\n",
    "        pred_labels = [torch.argmax(p, dim=1) for p in preds]\n",
    "        return pred_labels\n"
   ]
  },
  {
   "cell_type": "code",
   "execution_count": 66,
   "metadata": {
    "ExecuteTime": {
     "end_time": "2020-03-06T01:24:10.177984Z",
     "start_time": "2020-03-06T01:24:10.175636Z"
    }
   },
   "outputs": [],
   "source": [
    "# classifiertmp = BengaliClassifier(predictortmp).to(device)\n",
    "# # for name, child in classifiertmp.named_children():\n",
    "# #     print(name)\n",
    "# # optimizertmp = get_optimizer_adam(classifiertmp)\n",
    "# # print(optimizertmp)\n",
    "\n",
    "# ctmp_params = list(map(id, classifiertmp.parameters()))\n",
    "# print(len(ctmp_params))\n",
    "\n",
    "# pbtmp_params = list(map(id, predictortmp.base_model.parameters()))\n",
    "# print(len(pbtmp_params))\n",
    "\n",
    "# pcftmp_params = list(map(id, predictortmp.classifer.parameters()))\n",
    "# print(len(pcftmp_params))\n",
    "\n",
    "# opt_tmp = get_optimizer_adam(classifiertmp)\n",
    "# print(opt_tmp)"
   ]
  },
  {
   "cell_type": "code",
   "execution_count": null,
   "metadata": {
    "ExecuteTime": {
     "end_time": "2020-02-24T23:21:24.505317Z",
     "start_time": "2020-02-24T23:21:24.500563Z"
    }
   },
   "outputs": [],
   "source": []
  },
  {
   "cell_type": "markdown",
   "metadata": {},
   "source": [
    "<a id=\"train\"></a>\n",
    "# Training code\n"
   ]
  },
  {
   "cell_type": "code",
   "execution_count": 67,
   "metadata": {
    "ExecuteTime": {
     "end_time": "2020-03-06T01:24:10.184359Z",
     "start_time": "2020-03-06T01:24:10.179897Z"
    }
   },
   "outputs": [],
   "source": [
    "# --- Model ---\n",
    "device = torch.device(device)\n",
    "\n",
    "def schedule_lr(metrics):\n",
    "    avg_mae = metrics['loss']\n",
    "    # --- update lr ---\n",
    "    lr = scheduler.optimizer.param_groups[-1]['lr']\n",
    "    scheduler.step(avg_mae)\n",
    "    log_report.report('lr', lr)"
   ]
  },
  {
   "cell_type": "markdown",
   "metadata": {},
   "source": [
    "## prepare data"
   ]
  },
  {
   "cell_type": "code",
   "execution_count": 68,
   "metadata": {
    "ExecuteTime": {
     "end_time": "2020-03-06T01:24:10.202883Z",
     "start_time": "2020-03-06T01:24:10.186999Z"
    }
   },
   "outputs": [],
   "source": [
    "from logging import getLogger\n",
    "import numpy\n",
    "import os\n",
    "from time import perf_counter\n",
    "import argparse\n",
    "from distutils.util import strtobool\n",
    "import torch\n",
    "from numpy.random.mtrand import RandomState\n",
    "from torch.utils.data.dataloader import DataLoader\n",
    "\n",
    "import pandas as pd\n",
    "import torch\n",
    "import json\n",
    "\n",
    "\n",
    "def save_json(filepath, params):\n",
    "    with open(filepath, 'w') as f:\n",
    "        json.dump(params, f, indent=4)\n",
    "\n",
    "class DictOutputTransform:\n",
    "    def __init__(self, key, index=0):\n",
    "        self.key = key\n",
    "        self.index = index\n",
    "\n",
    "    def __call__(self, x):\n",
    "        if self.index >= 0:\n",
    "            x = x[self.index]\n",
    "        return x[self.key]\n"
   ]
  },
  {
   "cell_type": "code",
   "execution_count": 69,
   "metadata": {
    "ExecuteTime": {
     "end_time": "2020-03-06T01:24:10.217017Z",
     "start_time": "2020-03-06T01:24:10.205043Z"
    }
   },
   "outputs": [],
   "source": [
    "class LogReport:\n",
    "    def __init__(self, dirpath=None, logger=None):\n",
    "        self.dirpath = str(dirpath) if dirpath is not None else None\n",
    "        self.logger = logger or getLogger(__name__)\n",
    "\n",
    "        self.reported_dict = {}  # To handle additional parameter to monitor\n",
    "        self.history = []\n",
    "        self.start_time = perf_counter()\n",
    "\n",
    "    def report(self, key, value):\n",
    "        self.reported_dict[key] = value\n",
    "\n",
    "    def __call__(self, epoch, iteration, train_metrics, val_metrics, mode):\n",
    "        elapsed_time = perf_counter() - self.start_time\n",
    "        elem = {'epoch': epoch,\n",
    "                'iteration': iteration}\n",
    "        \n",
    "        elem.update({f'train/{key}': value\n",
    "                     for key, value in train_metrics.items()})\n",
    "        \n",
    "        elem.update({f'val/{key}': value\n",
    "             for key, value in val_metrics.items()})\n",
    "        \n",
    "        elem.update(self.reported_dict)\n",
    "        elem['elapsed_time'] = elapsed_time\n",
    "#         print(\"mode in log type:{}, val:{}\".format(type(mode), mode))\n",
    "        elem['mode'] = str(mode)\n",
    "        self.history.append(elem)\n",
    "        if self.dirpath:\n",
    "            save_json(os.path.join(self.dirpath, 'log.json'), self.history)\n",
    "            self.get_dataframe().to_csv(os.path.join(self.dirpath, 'log.csv'), index=False)\n",
    "\n",
    "        # --- print ---\n",
    "        msg = ''\n",
    "        for key, value in elem.items():\n",
    "            if key in ['iteration']:\n",
    "                # skip printing some parameters...\n",
    "                continue\n",
    "            elif isinstance(value, int):\n",
    "                msg += f'{key} {value: >6d} '\n",
    "            elif isinstance(value, str):\n",
    "                msg += f'{key} {value} '\n",
    "            else:\n",
    "                msg += f'{key} {value: 8f} '\n",
    "#         self.logger.warning(msg)\n",
    "        print(msg)\n",
    "\n",
    "        # --- Reset ---\n",
    "        self.reported_dict = {}\n",
    "\n",
    "    def get_dataframe(self):\n",
    "        df = pd.DataFrame(self.history)\n",
    "        return df"
   ]
  },
  {
   "cell_type": "code",
   "execution_count": 70,
   "metadata": {
    "ExecuteTime": {
     "end_time": "2020-03-06T01:24:10.223069Z",
     "start_time": "2020-03-06T01:24:10.219095Z"
    }
   },
   "outputs": [],
   "source": [
    "class ModelSnapshotHandler:\n",
    "    def __init__(self, model, filepath='model_{count:06}.pt',\n",
    "                 interval=1, logger=None):\n",
    "        self.model = model\n",
    "        self.filepath: str = str(filepath)\n",
    "        self.interval = interval\n",
    "        self.logger = logger or getLogger(__name__)\n",
    "        self.count = 0\n",
    "\n",
    "    def __call__(self):\n",
    "        self.count += 1\n",
    "        filepath = self.filepath.format(count=self.count)\n",
    "        torch.save(self.model.state_dict(), filepath)"
   ]
  },
  {
   "cell_type": "code",
   "execution_count": 71,
   "metadata": {
    "ExecuteTime": {
     "end_time": "2020-03-06T01:24:10.233184Z",
     "start_time": "2020-03-06T01:24:10.224956Z"
    }
   },
   "outputs": [],
   "source": [
    "import numpy as np\n",
    "import sklearn.metrics\n",
    "import torch\n",
    "\n",
    "\n",
    "def macro_recall(pred_y, y, n_grapheme=168, n_vowel=11, n_consonant=7, n_comb_class = 1295):\n",
    "    if not isinstance(pred_y, list):\n",
    "        pred_y = torch.split(pred_y, [n_grapheme, n_vowel, n_consonant], dim=1)\n",
    "    pred_labels = [torch.argmax(py, dim=1).cpu().numpy() for py in pred_y]\n",
    "\n",
    "    y = y.cpu().numpy()\n",
    "    # pred_y = [p.cpu().numpy() for p in pred_y]\n",
    "\n",
    "    recall_grapheme = sklearn.metrics.recall_score(y[:, 0], pred_labels[0],average='macro')\n",
    "    recall_vowel = sklearn.metrics.recall_score(y[:, 1], pred_labels[1], average='macro')\n",
    "    recall_consonant = sklearn.metrics.recall_score(y[:, 2], pred_labels[2], average='macro')\n",
    "    recall_comb = sklearn.metrics.recall_score(y[:, 3], pred_labels[3], average='macro')    \n",
    "    scores = [recall_grapheme, recall_vowel, recall_consonant, recall_comb]\n",
    "    final_score = np.average(scores, weights=[2, 1, 1, 0])\n",
    "    # print(f'recall: grapheme {recall_grapheme}, vowel {recall_vowel}, consonant {recall_consonant}, '\n",
    "    #       f'total {final_score}, y {y.shape}')\n",
    "    return final_score\n",
    "\n",
    "\n",
    "def calc_macro_recall(solution, submission):\n",
    "    # solution df, submission df\n",
    "    scores = []\n",
    "    for component in ['grapheme_root', 'consonant_diacritic', 'vowel_diacritic']:\n",
    "        y_true_subset = solution[solution[component] == component]['target'].values\n",
    "        y_pred_subset = submission[submission[component] == component]['target'].values\n",
    "        scores.append(sklearn.metrics.recall_score(\n",
    "            y_true_subset, y_pred_subset, average='macro'))\n",
    "    final_score = np.average(scores, weights=[2, 1, 1])\n",
    "    return final_score"
   ]
  },
  {
   "cell_type": "code",
   "execution_count": 72,
   "metadata": {
    "ExecuteTime": {
     "end_time": "2020-03-06T01:24:10.237197Z",
     "start_time": "2020-03-06T01:24:10.234824Z"
    }
   },
   "outputs": [],
   "source": [
    "loss_recall_names =  ['loss', 'loss_grapheme', 'loss_vowel', 'loss_consonant','loss_comb',\n",
    "            'acc_grapheme', 'acc_vowel', 'acc_consonant','acc_comb', 'recall']"
   ]
  },
  {
   "cell_type": "code",
   "execution_count": 73,
   "metadata": {
    "ExecuteTime": {
     "end_time": "2020-03-06T01:24:10.247799Z",
     "start_time": "2020-03-06T01:24:10.241927Z"
    }
   },
   "outputs": [],
   "source": [
    "def train_model(epoch, data_loader, log_report, n_train_call):\n",
    "    classifier.train()\n",
    "    metrics_total = dict(zip(loss_recall_names, np.zeros([len(loss_recall_names)], dtype='float32')))\n",
    "    n_tag = 0\n",
    "    for batch_idx, (img_batch, regr_batch) in enumerate(tqdm(data_loader)):\n",
    "        n_sub = img_batch.shape[0]\n",
    "        img_batch = img_batch.to(device)\n",
    "        regr_batch = regr_batch.to(device)\n",
    "        \n",
    "        optimizer.zero_grad()\n",
    "        loss, metrics, pred_y = classifier(img_batch, regr_batch)\n",
    "        \n",
    "        recall = macro_recall(pred_y, regr_batch)\n",
    "        metrics_total[\"recall\"] = (metrics_total[\"recall\"]*n_tag+recall*n_sub)/(n_tag+n_sub)\n",
    "        for key, val in metrics.items():\n",
    "                metrics_total[key] = (metrics_total[key]*n_tag+val*n_sub)/(n_tag+n_sub)\n",
    "                \n",
    "        n_tag = n_tag + n_sub\n",
    "        n_train_call[0] += n_sub\n",
    "        \n",
    "        loss.backward()\n",
    "        optimizer.step()\n",
    "        \n",
    "    return metrics_total, n_train_call"
   ]
  },
  {
   "cell_type": "code",
   "execution_count": 74,
   "metadata": {
    "ExecuteTime": {
     "end_time": "2020-03-06T01:24:10.256405Z",
     "start_time": "2020-03-06T01:24:10.250639Z"
    }
   },
   "outputs": [],
   "source": [
    "def evaluate_model(epoch, data_loader, log_report):\n",
    "    classifier.eval()\n",
    "    n_tag = 0\n",
    "    metrics_total = dict(zip(loss_recall_names, np.zeros([len(loss_recall_names)], dtype='float32')))\n",
    "    with torch.no_grad():\n",
    "        for batch_idx, (img_batch, regr_batch) in enumerate(tqdm(data_loader)):\n",
    "            n_sub = img_batch.shape[0]\n",
    "            img_batch = img_batch.to(device)\n",
    "            regr_batch = regr_batch.to(device)\n",
    "\n",
    "            _, metrics, pred_y = classifier(img_batch, regr_batch)\n",
    "        \n",
    "            recall = macro_recall(pred_y, regr_batch)\n",
    "            metrics_total[\"recall\"] = (metrics_total[\"recall\"]*n_tag+recall*n_sub)/(n_tag+n_sub)\n",
    "            for key, val in metrics.items():\n",
    "                    metrics_total[key] = (metrics_total[key]*n_tag+val*n_sub)/(n_tag+n_sub)\n",
    "\n",
    "            n_tag = n_tag + n_sub\n",
    "        \n",
    "        schedule_lr(metrics_total)   \n",
    "        return metrics_total\n"
   ]
  },
  {
   "cell_type": "markdown",
   "metadata": {},
   "source": [
    "## Train\n"
   ]
  },
  {
   "cell_type": "code",
   "execution_count": 75,
   "metadata": {
    "ExecuteTime": {
     "end_time": "2020-03-06T01:24:10.264805Z",
     "start_time": "2020-03-06T01:24:10.258672Z"
    }
   },
   "outputs": [],
   "source": [
    "def save_res(predictor, l1, epoch, val_metrics, min_val_loss, max_val_recall, outdir):\n",
    "    mode = list(\"000\")\n",
    "    if((epoch+1)%10==0):\n",
    "        model_file_name = os.path.join(outdir, 'predictor_{}_{}.pt'.format(l1,epoch))\n",
    "        torch.save(predictor.state_dict(), model_file_name)\n",
    "        mode[0] = \"1\"\n",
    "    if(val_metrics['loss']<min_val_loss):\n",
    "        min_val_loss = val_metrics['loss']\n",
    "        if mode[0] is \"0\":\n",
    "            model_file_name = os.path.join(outdir, 'predictor_min_loss.pt')\n",
    "            torch.save(predictor.state_dict(), model_file_name)\n",
    "        mode[1] = \"1\"\n",
    "    if(val_metrics['recall']>max_val_recall):\n",
    "        max_val_recall = val_metrics['recall']\n",
    "        if mode[0] is not \"1\" and mode[1] is not \"1\":\n",
    "            model_file_name = os.path.join(outdir, 'predictor_max_recall.pt')\n",
    "            torch.save(predictor.state_dict(), model_file_name)\n",
    "        mode[2] = \"1\"\n",
    "    mode = ''.join(mode)\n",
    "    return mode, min_val_loss, max_val_recall"
   ]
  },
  {
   "cell_type": "code",
   "execution_count": 76,
   "metadata": {
    "ExecuteTime": {
     "end_time": "2020-03-06T01:24:10.269823Z",
     "start_time": "2020-03-06T01:24:10.266433Z"
    }
   },
   "outputs": [],
   "source": [
    "def save_params(outdir, k, img_h, img_w, th, arch, batchsize):\n",
    "    save_json(os.path.join(outdir, 'args_{}.json'.format(k)), \n",
    "              {'image_w': img_w,\n",
    "               'image_h': img_h,\n",
    "               'threshold': th, \n",
    "               'batch_size':batchsize,\n",
    "               'arch': arch, \n",
    "               'model_name': model_name,\n",
    "               'learning_rate': LR,\n",
    "               'weight_decay': WD,\n",
    "               'dropout_ratio': DP,\n",
    "               'hidden_dim':HDIM\n",
    "              }\n",
    "             )"
   ]
  },
  {
   "cell_type": "code",
   "execution_count": 77,
   "metadata": {
    "ExecuteTime": {
     "end_time": "2020-03-06T01:24:10.277698Z",
     "start_time": "2020-03-06T01:24:10.272014Z"
    }
   },
   "outputs": [],
   "source": [
    "def save_checkpoint(epochID, model, optimizer, scheduler, accMax, lossMIN, checkpoint_path, launchTimestamp):\n",
    "    torch.save({'epoch': epochID + 1, 'state_dict': model.state_dict(), 'max_recall': accMax, 'loss_min': lossMIN,\n",
    "                            'optimizer': optimizer.state_dict(), 'scheduler':scheduler.state_dict()},\n",
    "                           checkpoint_path + '/m-checkpoint.pth.tar')\n",
    "#      launchTimestamp + '-' + str(\"%.4f\" % lossMIN) +\n",
    "    \n",
    "def load_checkpoint(model, checkpoint_path, optimizer):\n",
    "    if checkpoint_path != None:\n",
    "        checkpoint_path += '/m-checkpoint.pth.tar'\n",
    "        model_CKPT = torch.load(checkpoint_path)\n",
    "        model.load_state_dict(model_CKPT['state_dict'])\n",
    "        print('loading checkpoint!')\n",
    "        optimizer.load_state_dict(model_CKPT['optimizer'])\n",
    "        epoch = model_CKPT['epoch']\n",
    "        acc_Max = model_CKPT['max_recall']\n",
    "        loss_MIN = model_CKPT['loss_min']\n",
    "        scheduler.load_state_dict(model_CKPT['scheduler'])\n",
    "    return epoch, model, optimizer, scheduler, acc_Max, loss_MIN"
   ]
  },
  {
   "cell_type": "code",
   "execution_count": 78,
   "metadata": {
    "ExecuteTime": {
     "end_time": "2020-03-06T01:28:16.516242Z",
     "start_time": "2020-03-06T01:24:10.279854Z"
    },
    "scrolled": true
   },
   "outputs": [
    {
     "name": "stdout",
     "output_type": "stream",
     "text": [
      "\tload pretrain_file: se_resnext50_32x4d-a260b3a4.pth\n",
      "\n",
      "len(pretrain_state_dict.keys()) = 331\n",
      "len(state_dict.keys())          = 403\n",
      "loaded    = 324\n",
      "\n",
      "predictor <class '__main__.PretrainedCNN'>\n"
     ]
    },
    {
     "name": "stderr",
     "output_type": "stream",
     "text": [
      "  0%|          | 0/1674 [00:00<?, ?it/s]/Users/helen/anaconda3/lib/python3.7/site-packages/sklearn/metrics/classification.py:1439: UndefinedMetricWarning:\n",
      "\n",
      "Recall is ill-defined and being set to 0.0 in labels with no true samples.\n",
      "\n",
      "  0%|          | 1/1674 [03:59<111:24:10, 239.72s/it]Traceback (most recent call last):\n",
      "Traceback (most recent call last):\n",
      "  File \"/Users/helen/anaconda3/lib/python3.7/multiprocessing/queues.py\", line 242, in _feed\n",
      "    send_bytes(obj)\n",
      "Traceback (most recent call last):\n",
      "  File \"/Users/helen/anaconda3/lib/python3.7/multiprocessing/queues.py\", line 242, in _feed\n",
      "    send_bytes(obj)\n",
      "  File \"/Users/helen/anaconda3/lib/python3.7/multiprocessing/connection.py\", line 200, in send_bytes\n",
      "    self._send_bytes(m[offset:offset + size])\n",
      "  File \"/Users/helen/anaconda3/lib/python3.7/multiprocessing/connection.py\", line 404, in _send_bytes\n",
      "    self._send(header + buf)\n",
      "Traceback (most recent call last):\n",
      "  File \"/Users/helen/anaconda3/lib/python3.7/multiprocessing/connection.py\", line 200, in send_bytes\n",
      "    self._send_bytes(m[offset:offset + size])\n",
      "  File \"/Users/helen/anaconda3/lib/python3.7/multiprocessing/queues.py\", line 242, in _feed\n",
      "    send_bytes(obj)\n",
      "  File \"/Users/helen/anaconda3/lib/python3.7/multiprocessing/connection.py\", line 200, in send_bytes\n",
      "    self._send_bytes(m[offset:offset + size])\n",
      "  File \"/Users/helen/anaconda3/lib/python3.7/multiprocessing/connection.py\", line 404, in _send_bytes\n",
      "    self._send(header + buf)\n",
      "  File \"/Users/helen/anaconda3/lib/python3.7/multiprocessing/connection.py\", line 368, in _send\n",
      "    n = write(self._handle, buf)\n",
      "BrokenPipeError: [Errno 32] Broken pipe\n",
      "  File \"/Users/helen/anaconda3/lib/python3.7/multiprocessing/queues.py\", line 242, in _feed\n",
      "    send_bytes(obj)\n",
      "  File \"/Users/helen/anaconda3/lib/python3.7/multiprocessing/connection.py\", line 200, in send_bytes\n",
      "    self._send_bytes(m[offset:offset + size])\n",
      "  File \"/Users/helen/anaconda3/lib/python3.7/multiprocessing/connection.py\", line 404, in _send_bytes\n",
      "    self._send(header + buf)\n",
      "  File \"/Users/helen/anaconda3/lib/python3.7/multiprocessing/connection.py\", line 368, in _send\n",
      "    n = write(self._handle, buf)\n",
      "BrokenPipeError: [Errno 32] Broken pipe\n",
      "  File \"/Users/helen/anaconda3/lib/python3.7/multiprocessing/connection.py\", line 404, in _send_bytes\n",
      "    self._send(header + buf)\n",
      "  File \"/Users/helen/anaconda3/lib/python3.7/multiprocessing/connection.py\", line 368, in _send\n",
      "    n = write(self._handle, buf)\n",
      "  File \"/Users/helen/anaconda3/lib/python3.7/multiprocessing/connection.py\", line 368, in _send\n",
      "    n = write(self._handle, buf)\n",
      "BrokenPipeError: [Errno 32] Broken pipe\n",
      "BrokenPipeError: [Errno 32] Broken pipe\n"
     ]
    },
    {
     "ename": "KeyboardInterrupt",
     "evalue": "",
     "output_type": "error",
     "traceback": [
      "\u001b[0;31m---------------------------------------------------------------------------\u001b[0m",
      "\u001b[0;31mKeyboardInterrupt\u001b[0m                         Traceback (most recent call last)",
      "\u001b[0;32m<ipython-input-78-aa4d1f65f300>\u001b[0m in \u001b[0;36m<module>\u001b[0;34m\u001b[0m\n\u001b[1;32m     50\u001b[0m         \u001b[0mtorch\u001b[0m\u001b[0;34m.\u001b[0m\u001b[0mcuda\u001b[0m\u001b[0;34m.\u001b[0m\u001b[0mempty_cache\u001b[0m\u001b[0;34m(\u001b[0m\u001b[0;34m)\u001b[0m\u001b[0;34m\u001b[0m\u001b[0;34m\u001b[0m\u001b[0m\n\u001b[1;32m     51\u001b[0m         \u001b[0mgc\u001b[0m\u001b[0;34m.\u001b[0m\u001b[0mcollect\u001b[0m\u001b[0;34m(\u001b[0m\u001b[0;34m)\u001b[0m\u001b[0;34m\u001b[0m\u001b[0;34m\u001b[0m\u001b[0m\n\u001b[0;32m---> 52\u001b[0;31m         \u001b[0mtrain_metrics\u001b[0m\u001b[0;34m,\u001b[0m \u001b[0mn_train_call\u001b[0m \u001b[0;34m=\u001b[0m \u001b[0mtrain_model\u001b[0m\u001b[0;34m(\u001b[0m\u001b[0mepoch\u001b[0m\u001b[0;34m,\u001b[0m \u001b[0mtrain_loader\u001b[0m\u001b[0;34m,\u001b[0m \u001b[0mlog_report\u001b[0m\u001b[0;34m,\u001b[0m \u001b[0mn_train_call\u001b[0m\u001b[0;34m)\u001b[0m\u001b[0;34m\u001b[0m\u001b[0;34m\u001b[0m\u001b[0m\n\u001b[0m\u001b[1;32m     53\u001b[0m         \u001b[0mval_metrics\u001b[0m \u001b[0;34m=\u001b[0m \u001b[0mevaluate_model\u001b[0m\u001b[0;34m(\u001b[0m\u001b[0mepoch\u001b[0m\u001b[0;34m,\u001b[0m \u001b[0mvalid_loader\u001b[0m\u001b[0;34m,\u001b[0m \u001b[0mlog_report\u001b[0m\u001b[0;34m)\u001b[0m\u001b[0;34m\u001b[0m\u001b[0;34m\u001b[0m\u001b[0m\n\u001b[1;32m     54\u001b[0m         mode, min_val_loss, max_val_recall = save_res(predictor, k, epoch, val_metrics, min_val_loss, \n",
      "\u001b[0;32m<ipython-input-73-ec467b68c965>\u001b[0m in \u001b[0;36mtrain_model\u001b[0;34m(epoch, data_loader, log_report, n_train_call)\u001b[0m\n\u001b[1;32m      9\u001b[0m \u001b[0;34m\u001b[0m\u001b[0m\n\u001b[1;32m     10\u001b[0m         \u001b[0moptimizer\u001b[0m\u001b[0;34m.\u001b[0m\u001b[0mzero_grad\u001b[0m\u001b[0;34m(\u001b[0m\u001b[0;34m)\u001b[0m\u001b[0;34m\u001b[0m\u001b[0;34m\u001b[0m\u001b[0m\n\u001b[0;32m---> 11\u001b[0;31m         \u001b[0mloss\u001b[0m\u001b[0;34m,\u001b[0m \u001b[0mmetrics\u001b[0m\u001b[0;34m,\u001b[0m \u001b[0mpred_y\u001b[0m \u001b[0;34m=\u001b[0m \u001b[0mclassifier\u001b[0m\u001b[0;34m(\u001b[0m\u001b[0mimg_batch\u001b[0m\u001b[0;34m,\u001b[0m \u001b[0mregr_batch\u001b[0m\u001b[0;34m)\u001b[0m\u001b[0;34m\u001b[0m\u001b[0;34m\u001b[0m\u001b[0m\n\u001b[0m\u001b[1;32m     12\u001b[0m \u001b[0;34m\u001b[0m\u001b[0m\n\u001b[1;32m     13\u001b[0m         \u001b[0mrecall\u001b[0m \u001b[0;34m=\u001b[0m \u001b[0mmacro_recall\u001b[0m\u001b[0;34m(\u001b[0m\u001b[0mpred_y\u001b[0m\u001b[0;34m,\u001b[0m \u001b[0mregr_batch\u001b[0m\u001b[0;34m)\u001b[0m\u001b[0;34m\u001b[0m\u001b[0;34m\u001b[0m\u001b[0m\n",
      "\u001b[0;32m~/anaconda3/lib/python3.7/site-packages/torch/nn/modules/module.py\u001b[0m in \u001b[0;36m__call__\u001b[0;34m(self, *input, **kwargs)\u001b[0m\n\u001b[1;32m    539\u001b[0m             \u001b[0mresult\u001b[0m \u001b[0;34m=\u001b[0m \u001b[0mself\u001b[0m\u001b[0;34m.\u001b[0m\u001b[0m_slow_forward\u001b[0m\u001b[0;34m(\u001b[0m\u001b[0;34m*\u001b[0m\u001b[0minput\u001b[0m\u001b[0;34m,\u001b[0m \u001b[0;34m**\u001b[0m\u001b[0mkwargs\u001b[0m\u001b[0;34m)\u001b[0m\u001b[0;34m\u001b[0m\u001b[0;34m\u001b[0m\u001b[0m\n\u001b[1;32m    540\u001b[0m         \u001b[0;32melse\u001b[0m\u001b[0;34m:\u001b[0m\u001b[0;34m\u001b[0m\u001b[0;34m\u001b[0m\u001b[0m\n\u001b[0;32m--> 541\u001b[0;31m             \u001b[0mresult\u001b[0m \u001b[0;34m=\u001b[0m \u001b[0mself\u001b[0m\u001b[0;34m.\u001b[0m\u001b[0mforward\u001b[0m\u001b[0;34m(\u001b[0m\u001b[0;34m*\u001b[0m\u001b[0minput\u001b[0m\u001b[0;34m,\u001b[0m \u001b[0;34m**\u001b[0m\u001b[0mkwargs\u001b[0m\u001b[0;34m)\u001b[0m\u001b[0;34m\u001b[0m\u001b[0;34m\u001b[0m\u001b[0m\n\u001b[0m\u001b[1;32m    542\u001b[0m         \u001b[0;32mfor\u001b[0m \u001b[0mhook\u001b[0m \u001b[0;32min\u001b[0m \u001b[0mself\u001b[0m\u001b[0;34m.\u001b[0m\u001b[0m_forward_hooks\u001b[0m\u001b[0;34m.\u001b[0m\u001b[0mvalues\u001b[0m\u001b[0;34m(\u001b[0m\u001b[0;34m)\u001b[0m\u001b[0;34m:\u001b[0m\u001b[0;34m\u001b[0m\u001b[0;34m\u001b[0m\u001b[0m\n\u001b[1;32m    543\u001b[0m             \u001b[0mhook_result\u001b[0m \u001b[0;34m=\u001b[0m \u001b[0mhook\u001b[0m\u001b[0;34m(\u001b[0m\u001b[0mself\u001b[0m\u001b[0;34m,\u001b[0m \u001b[0minput\u001b[0m\u001b[0;34m,\u001b[0m \u001b[0mresult\u001b[0m\u001b[0;34m)\u001b[0m\u001b[0;34m\u001b[0m\u001b[0;34m\u001b[0m\u001b[0m\n",
      "\u001b[0;32m<ipython-input-65-38b513444d23>\u001b[0m in \u001b[0;36mforward\u001b[0;34m(self, x, y)\u001b[0m\n\u001b[1;32m     29\u001b[0m \u001b[0;34m\u001b[0m\u001b[0m\n\u001b[1;32m     30\u001b[0m     \u001b[0;32mdef\u001b[0m \u001b[0mforward\u001b[0m\u001b[0;34m(\u001b[0m\u001b[0mself\u001b[0m\u001b[0;34m,\u001b[0m \u001b[0mx\u001b[0m\u001b[0;34m,\u001b[0m \u001b[0my\u001b[0m\u001b[0;34m=\u001b[0m\u001b[0;32mNone\u001b[0m\u001b[0;34m)\u001b[0m\u001b[0;34m:\u001b[0m\u001b[0;34m\u001b[0m\u001b[0;34m\u001b[0m\u001b[0m\n\u001b[0;32m---> 31\u001b[0;31m         \u001b[0mpred\u001b[0m \u001b[0;34m=\u001b[0m \u001b[0mself\u001b[0m\u001b[0;34m.\u001b[0m\u001b[0mpredictor\u001b[0m\u001b[0;34m(\u001b[0m\u001b[0mx\u001b[0m\u001b[0;34m)\u001b[0m\u001b[0;34m\u001b[0m\u001b[0;34m\u001b[0m\u001b[0m\n\u001b[0m\u001b[1;32m     32\u001b[0m         \u001b[0;32mif\u001b[0m \u001b[0misinstance\u001b[0m\u001b[0;34m(\u001b[0m\u001b[0mpred\u001b[0m\u001b[0;34m,\u001b[0m \u001b[0mlist\u001b[0m\u001b[0;34m)\u001b[0m\u001b[0;34m:\u001b[0m\u001b[0;34m\u001b[0m\u001b[0;34m\u001b[0m\u001b[0m\n\u001b[1;32m     33\u001b[0m             \u001b[0mpreds\u001b[0m \u001b[0;34m=\u001b[0m \u001b[0mpred\u001b[0m\u001b[0;34m\u001b[0m\u001b[0;34m\u001b[0m\u001b[0m\n",
      "\u001b[0;32m~/anaconda3/lib/python3.7/site-packages/torch/nn/modules/module.py\u001b[0m in \u001b[0;36m__call__\u001b[0;34m(self, *input, **kwargs)\u001b[0m\n\u001b[1;32m    539\u001b[0m             \u001b[0mresult\u001b[0m \u001b[0;34m=\u001b[0m \u001b[0mself\u001b[0m\u001b[0;34m.\u001b[0m\u001b[0m_slow_forward\u001b[0m\u001b[0;34m(\u001b[0m\u001b[0;34m*\u001b[0m\u001b[0minput\u001b[0m\u001b[0;34m,\u001b[0m \u001b[0;34m**\u001b[0m\u001b[0mkwargs\u001b[0m\u001b[0;34m)\u001b[0m\u001b[0;34m\u001b[0m\u001b[0;34m\u001b[0m\u001b[0m\n\u001b[1;32m    540\u001b[0m         \u001b[0;32melse\u001b[0m\u001b[0;34m:\u001b[0m\u001b[0;34m\u001b[0m\u001b[0;34m\u001b[0m\u001b[0m\n\u001b[0;32m--> 541\u001b[0;31m             \u001b[0mresult\u001b[0m \u001b[0;34m=\u001b[0m \u001b[0mself\u001b[0m\u001b[0;34m.\u001b[0m\u001b[0mforward\u001b[0m\u001b[0;34m(\u001b[0m\u001b[0;34m*\u001b[0m\u001b[0minput\u001b[0m\u001b[0;34m,\u001b[0m \u001b[0;34m**\u001b[0m\u001b[0mkwargs\u001b[0m\u001b[0;34m)\u001b[0m\u001b[0;34m\u001b[0m\u001b[0;34m\u001b[0m\u001b[0m\n\u001b[0m\u001b[1;32m    542\u001b[0m         \u001b[0;32mfor\u001b[0m \u001b[0mhook\u001b[0m \u001b[0;32min\u001b[0m \u001b[0mself\u001b[0m\u001b[0;34m.\u001b[0m\u001b[0m_forward_hooks\u001b[0m\u001b[0;34m.\u001b[0m\u001b[0mvalues\u001b[0m\u001b[0;34m(\u001b[0m\u001b[0;34m)\u001b[0m\u001b[0;34m:\u001b[0m\u001b[0;34m\u001b[0m\u001b[0;34m\u001b[0m\u001b[0m\n\u001b[1;32m    543\u001b[0m             \u001b[0mhook_result\u001b[0m \u001b[0;34m=\u001b[0m \u001b[0mhook\u001b[0m\u001b[0;34m(\u001b[0m\u001b[0mself\u001b[0m\u001b[0;34m,\u001b[0m \u001b[0minput\u001b[0m\u001b[0;34m,\u001b[0m \u001b[0mresult\u001b[0m\u001b[0;34m)\u001b[0m\u001b[0;34m\u001b[0m\u001b[0;34m\u001b[0m\u001b[0m\n",
      "\u001b[0;32m<ipython-input-54-c60d764ef3ba>\u001b[0m in \u001b[0;36mforward\u001b[0;34m(self, x)\u001b[0m\n\u001b[1;32m     78\u001b[0m \u001b[0;34m\u001b[0m\u001b[0m\n\u001b[1;32m     79\u001b[0m         \u001b[0mx\u001b[0m \u001b[0;34m=\u001b[0m \u001b[0mx\u001b[0m\u001b[0;34m.\u001b[0m\u001b[0mrepeat\u001b[0m\u001b[0;34m(\u001b[0m\u001b[0;36m1\u001b[0m\u001b[0;34m,\u001b[0m\u001b[0;36m3\u001b[0m\u001b[0;34m,\u001b[0m\u001b[0;36m1\u001b[0m\u001b[0;34m,\u001b[0m\u001b[0;36m1\u001b[0m\u001b[0;34m)\u001b[0m\u001b[0;34m\u001b[0m\u001b[0;34m\u001b[0m\u001b[0m\n\u001b[0;32m---> 80\u001b[0;31m         \u001b[0mx\u001b[0m \u001b[0;34m=\u001b[0m \u001b[0mself\u001b[0m\u001b[0;34m.\u001b[0m\u001b[0mblock0\u001b[0m\u001b[0;34m(\u001b[0m\u001b[0mx\u001b[0m\u001b[0;34m)\u001b[0m\u001b[0;34m\u001b[0m\u001b[0;34m\u001b[0m\u001b[0m\n\u001b[0m\u001b[1;32m     81\u001b[0m         \u001b[0mx\u001b[0m \u001b[0;34m=\u001b[0m \u001b[0mself\u001b[0m\u001b[0;34m.\u001b[0m\u001b[0mblock1\u001b[0m\u001b[0;34m(\u001b[0m\u001b[0mx\u001b[0m\u001b[0;34m)\u001b[0m\u001b[0;34m\u001b[0m\u001b[0;34m\u001b[0m\u001b[0m\n\u001b[1;32m     82\u001b[0m         \u001b[0mx\u001b[0m \u001b[0;34m=\u001b[0m \u001b[0mself\u001b[0m\u001b[0;34m.\u001b[0m\u001b[0mblock2\u001b[0m\u001b[0;34m(\u001b[0m\u001b[0mx\u001b[0m\u001b[0;34m)\u001b[0m\u001b[0;34m\u001b[0m\u001b[0;34m\u001b[0m\u001b[0m\n",
      "\u001b[0;32m~/anaconda3/lib/python3.7/site-packages/torch/nn/modules/module.py\u001b[0m in \u001b[0;36m__call__\u001b[0;34m(self, *input, **kwargs)\u001b[0m\n\u001b[1;32m    539\u001b[0m             \u001b[0mresult\u001b[0m \u001b[0;34m=\u001b[0m \u001b[0mself\u001b[0m\u001b[0;34m.\u001b[0m\u001b[0m_slow_forward\u001b[0m\u001b[0;34m(\u001b[0m\u001b[0;34m*\u001b[0m\u001b[0minput\u001b[0m\u001b[0;34m,\u001b[0m \u001b[0;34m**\u001b[0m\u001b[0mkwargs\u001b[0m\u001b[0;34m)\u001b[0m\u001b[0;34m\u001b[0m\u001b[0;34m\u001b[0m\u001b[0m\n\u001b[1;32m    540\u001b[0m         \u001b[0;32melse\u001b[0m\u001b[0;34m:\u001b[0m\u001b[0;34m\u001b[0m\u001b[0;34m\u001b[0m\u001b[0m\n\u001b[0;32m--> 541\u001b[0;31m             \u001b[0mresult\u001b[0m \u001b[0;34m=\u001b[0m \u001b[0mself\u001b[0m\u001b[0;34m.\u001b[0m\u001b[0mforward\u001b[0m\u001b[0;34m(\u001b[0m\u001b[0;34m*\u001b[0m\u001b[0minput\u001b[0m\u001b[0;34m,\u001b[0m \u001b[0;34m**\u001b[0m\u001b[0mkwargs\u001b[0m\u001b[0;34m)\u001b[0m\u001b[0;34m\u001b[0m\u001b[0;34m\u001b[0m\u001b[0m\n\u001b[0m\u001b[1;32m    542\u001b[0m         \u001b[0;32mfor\u001b[0m \u001b[0mhook\u001b[0m \u001b[0;32min\u001b[0m \u001b[0mself\u001b[0m\u001b[0;34m.\u001b[0m\u001b[0m_forward_hooks\u001b[0m\u001b[0;34m.\u001b[0m\u001b[0mvalues\u001b[0m\u001b[0;34m(\u001b[0m\u001b[0;34m)\u001b[0m\u001b[0;34m:\u001b[0m\u001b[0;34m\u001b[0m\u001b[0;34m\u001b[0m\u001b[0m\n\u001b[1;32m    543\u001b[0m             \u001b[0mhook_result\u001b[0m \u001b[0;34m=\u001b[0m \u001b[0mhook\u001b[0m\u001b[0;34m(\u001b[0m\u001b[0mself\u001b[0m\u001b[0;34m,\u001b[0m \u001b[0minput\u001b[0m\u001b[0;34m,\u001b[0m \u001b[0mresult\u001b[0m\u001b[0;34m)\u001b[0m\u001b[0;34m\u001b[0m\u001b[0;34m\u001b[0m\u001b[0m\n",
      "\u001b[0;32m~/anaconda3/lib/python3.7/site-packages/torch/nn/modules/container.py\u001b[0m in \u001b[0;36mforward\u001b[0;34m(self, input)\u001b[0m\n\u001b[1;32m     90\u001b[0m     \u001b[0;32mdef\u001b[0m \u001b[0mforward\u001b[0m\u001b[0;34m(\u001b[0m\u001b[0mself\u001b[0m\u001b[0;34m,\u001b[0m \u001b[0minput\u001b[0m\u001b[0;34m)\u001b[0m\u001b[0;34m:\u001b[0m\u001b[0;34m\u001b[0m\u001b[0;34m\u001b[0m\u001b[0m\n\u001b[1;32m     91\u001b[0m         \u001b[0;32mfor\u001b[0m \u001b[0mmodule\u001b[0m \u001b[0;32min\u001b[0m \u001b[0mself\u001b[0m\u001b[0;34m.\u001b[0m\u001b[0m_modules\u001b[0m\u001b[0;34m.\u001b[0m\u001b[0mvalues\u001b[0m\u001b[0;34m(\u001b[0m\u001b[0;34m)\u001b[0m\u001b[0;34m:\u001b[0m\u001b[0;34m\u001b[0m\u001b[0;34m\u001b[0m\u001b[0m\n\u001b[0;32m---> 92\u001b[0;31m             \u001b[0minput\u001b[0m \u001b[0;34m=\u001b[0m \u001b[0mmodule\u001b[0m\u001b[0;34m(\u001b[0m\u001b[0minput\u001b[0m\u001b[0;34m)\u001b[0m\u001b[0;34m\u001b[0m\u001b[0;34m\u001b[0m\u001b[0m\n\u001b[0m\u001b[1;32m     93\u001b[0m         \u001b[0;32mreturn\u001b[0m \u001b[0minput\u001b[0m\u001b[0;34m\u001b[0m\u001b[0;34m\u001b[0m\u001b[0m\n\u001b[1;32m     94\u001b[0m \u001b[0;34m\u001b[0m\u001b[0m\n",
      "\u001b[0;32m~/anaconda3/lib/python3.7/site-packages/torch/nn/modules/module.py\u001b[0m in \u001b[0;36m__call__\u001b[0;34m(self, *input, **kwargs)\u001b[0m\n\u001b[1;32m    539\u001b[0m             \u001b[0mresult\u001b[0m \u001b[0;34m=\u001b[0m \u001b[0mself\u001b[0m\u001b[0;34m.\u001b[0m\u001b[0m_slow_forward\u001b[0m\u001b[0;34m(\u001b[0m\u001b[0;34m*\u001b[0m\u001b[0minput\u001b[0m\u001b[0;34m,\u001b[0m \u001b[0;34m**\u001b[0m\u001b[0mkwargs\u001b[0m\u001b[0;34m)\u001b[0m\u001b[0;34m\u001b[0m\u001b[0;34m\u001b[0m\u001b[0m\n\u001b[1;32m    540\u001b[0m         \u001b[0;32melse\u001b[0m\u001b[0;34m:\u001b[0m\u001b[0;34m\u001b[0m\u001b[0;34m\u001b[0m\u001b[0m\n\u001b[0;32m--> 541\u001b[0;31m             \u001b[0mresult\u001b[0m \u001b[0;34m=\u001b[0m \u001b[0mself\u001b[0m\u001b[0;34m.\u001b[0m\u001b[0mforward\u001b[0m\u001b[0;34m(\u001b[0m\u001b[0;34m*\u001b[0m\u001b[0minput\u001b[0m\u001b[0;34m,\u001b[0m \u001b[0;34m**\u001b[0m\u001b[0mkwargs\u001b[0m\u001b[0;34m)\u001b[0m\u001b[0;34m\u001b[0m\u001b[0;34m\u001b[0m\u001b[0m\n\u001b[0m\u001b[1;32m    542\u001b[0m         \u001b[0;32mfor\u001b[0m \u001b[0mhook\u001b[0m \u001b[0;32min\u001b[0m \u001b[0mself\u001b[0m\u001b[0;34m.\u001b[0m\u001b[0m_forward_hooks\u001b[0m\u001b[0;34m.\u001b[0m\u001b[0mvalues\u001b[0m\u001b[0;34m(\u001b[0m\u001b[0;34m)\u001b[0m\u001b[0;34m:\u001b[0m\u001b[0;34m\u001b[0m\u001b[0;34m\u001b[0m\u001b[0m\n\u001b[1;32m    543\u001b[0m             \u001b[0mhook_result\u001b[0m \u001b[0;34m=\u001b[0m \u001b[0mhook\u001b[0m\u001b[0;34m(\u001b[0m\u001b[0mself\u001b[0m\u001b[0;34m,\u001b[0m \u001b[0minput\u001b[0m\u001b[0;34m,\u001b[0m \u001b[0mresult\u001b[0m\u001b[0;34m)\u001b[0m\u001b[0;34m\u001b[0m\u001b[0;34m\u001b[0m\u001b[0m\n",
      "\u001b[0;32m~/anaconda3/lib/python3.7/site-packages/torch/nn/modules/batchnorm.py\u001b[0m in \u001b[0;36mforward\u001b[0;34m(self, input)\u001b[0m\n\u001b[1;32m     79\u001b[0m             \u001b[0minput\u001b[0m\u001b[0;34m,\u001b[0m \u001b[0mself\u001b[0m\u001b[0;34m.\u001b[0m\u001b[0mrunning_mean\u001b[0m\u001b[0;34m,\u001b[0m \u001b[0mself\u001b[0m\u001b[0;34m.\u001b[0m\u001b[0mrunning_var\u001b[0m\u001b[0;34m,\u001b[0m \u001b[0mself\u001b[0m\u001b[0;34m.\u001b[0m\u001b[0mweight\u001b[0m\u001b[0;34m,\u001b[0m \u001b[0mself\u001b[0m\u001b[0;34m.\u001b[0m\u001b[0mbias\u001b[0m\u001b[0;34m,\u001b[0m\u001b[0;34m\u001b[0m\u001b[0;34m\u001b[0m\u001b[0m\n\u001b[1;32m     80\u001b[0m             \u001b[0mself\u001b[0m\u001b[0;34m.\u001b[0m\u001b[0mtraining\u001b[0m \u001b[0;32mor\u001b[0m \u001b[0;32mnot\u001b[0m \u001b[0mself\u001b[0m\u001b[0;34m.\u001b[0m\u001b[0mtrack_running_stats\u001b[0m\u001b[0;34m,\u001b[0m\u001b[0;34m\u001b[0m\u001b[0;34m\u001b[0m\u001b[0m\n\u001b[0;32m---> 81\u001b[0;31m             exponential_average_factor, self.eps)\n\u001b[0m\u001b[1;32m     82\u001b[0m \u001b[0;34m\u001b[0m\u001b[0m\n\u001b[1;32m     83\u001b[0m     \u001b[0;32mdef\u001b[0m \u001b[0mextra_repr\u001b[0m\u001b[0;34m(\u001b[0m\u001b[0mself\u001b[0m\u001b[0;34m)\u001b[0m\u001b[0;34m:\u001b[0m\u001b[0;34m\u001b[0m\u001b[0;34m\u001b[0m\u001b[0m\n",
      "\u001b[0;32m~/anaconda3/lib/python3.7/site-packages/torch/nn/functional.py\u001b[0m in \u001b[0;36mbatch_norm\u001b[0;34m(input, running_mean, running_var, weight, bias, training, momentum, eps)\u001b[0m\n\u001b[1;32m   1668\u001b[0m     return torch.batch_norm(\n\u001b[1;32m   1669\u001b[0m         \u001b[0minput\u001b[0m\u001b[0;34m,\u001b[0m \u001b[0mweight\u001b[0m\u001b[0;34m,\u001b[0m \u001b[0mbias\u001b[0m\u001b[0;34m,\u001b[0m \u001b[0mrunning_mean\u001b[0m\u001b[0;34m,\u001b[0m \u001b[0mrunning_var\u001b[0m\u001b[0;34m,\u001b[0m\u001b[0;34m\u001b[0m\u001b[0;34m\u001b[0m\u001b[0m\n\u001b[0;32m-> 1670\u001b[0;31m         \u001b[0mtraining\u001b[0m\u001b[0;34m,\u001b[0m \u001b[0mmomentum\u001b[0m\u001b[0;34m,\u001b[0m \u001b[0meps\u001b[0m\u001b[0;34m,\u001b[0m \u001b[0mtorch\u001b[0m\u001b[0;34m.\u001b[0m\u001b[0mbackends\u001b[0m\u001b[0;34m.\u001b[0m\u001b[0mcudnn\u001b[0m\u001b[0;34m.\u001b[0m\u001b[0menabled\u001b[0m\u001b[0;34m\u001b[0m\u001b[0;34m\u001b[0m\u001b[0m\n\u001b[0m\u001b[1;32m   1671\u001b[0m     )\n\u001b[1;32m   1672\u001b[0m \u001b[0;34m\u001b[0m\u001b[0m\n",
      "\u001b[0;31mKeyboardInterrupt\u001b[0m: "
     ]
    }
   ],
   "source": [
    "import gc\n",
    "\n",
    "# train_labels_total = train[['grapheme_root', 'vowel_diacritic', 'consonant_diacritic']].values\n",
    "n_epochs = 150\n",
    "kfold = 5\n",
    "if not os.path.exists(outdir):\n",
    "    os.mkdir(outdir)\n",
    "for k in range(kfold):\n",
    "    # Set pretrained='imagenet' to download imagenet pretrained model...\n",
    "    predictor = PretrainedCNN(in_channels=1, num_class=[n_grapheme, n_vowel, n_consonant, n_comb_class], \n",
    "                              model_name=model_name, pretrained=\"imagenet\", dropout_ratio=DP)\n",
    "    predictor.load_pretrain(is_print=False)\n",
    "    print('predictor', type(predictor))\n",
    "    start_time = perf_counter()\n",
    "    classifier = BengaliClassifier(predictor).to(device)\n",
    "    # --- Training setting ---\n",
    "    optimizer = torch.optim.Adam(classifier.parameters(), lr=LR, weight_decay=WD)\n",
    "#     optimizer = get_optimizer_adam(classifier, learning_rate=LR, weight_decay=WD)\n",
    "\n",
    "    scheduler = torch.optim.lr_scheduler.ReduceLROnPlateau(\n",
    "        optimizer, mode='min', factor=0.7, patience=5, min_lr=1e-7)\n",
    "\n",
    "    sub_dir = os.path.join(outdir,\"{}_fold\".format(k))\n",
    "    if not os.path.exists(sub_dir):\n",
    "        os.mkdir(sub_dir)\n",
    "    log_report = LogReport(dirpath=sub_dir)\n",
    "    n_train_call = [0]\n",
    "    min_val_loss = 1e10\n",
    "    max_val_recall = 0\n",
    "    val_indexes = train[train['fold']==k].index.tolist()\n",
    "    train_indexes = train[train['fold']!=k].index.tolist()\n",
    "    save_params(outdir, k, HEIGHT_NEW, WIDTH_NEW, TH, arch, batch_size)\n",
    "    if debug:\n",
    "        val_indexes = val_indexes[:10000]\n",
    "        train_indexes = train_indexes[:40000]\n",
    "        print(\"val_indexes:\", val_indexes[:5])\n",
    "        print(\"train_indexes:\", train_indexes[:5])\n",
    "        \n",
    "    train_dataset = BengaliAIDataset(\n",
    "        train_images, train_labels, transform=train_transform,\n",
    "        indices=train_indexes)\n",
    "    valid_dataset = BengaliAIDataset(\n",
    "        train_images, train_labels, transform=Transform(affine=False, crop=False, size=(WIDTH_NEW, HEIGHT_NEW)),\n",
    "        indices=val_indexes)\n",
    "    \n",
    "    train_loader = DataLoader(train_dataset, batch_size=batch_size, shuffle=True, num_workers=4)\n",
    "    valid_loader = DataLoader(valid_dataset, batch_size=batch_size, shuffle=False, num_workers=0)\n",
    "    \n",
    "    for epoch in range(n_epochs):\n",
    "        torch.cuda.empty_cache()\n",
    "        gc.collect()\n",
    "        train_metrics, n_train_call = train_model(epoch, train_loader, log_report, n_train_call)\n",
    "        val_metrics = evaluate_model(epoch, valid_loader, log_report)\n",
    "        mode, min_val_loss, max_val_recall = save_res(predictor, k, epoch, val_metrics, min_val_loss, \n",
    "                                                      max_val_recall, sub_dir)\n",
    "        save_checkpoint(epoch, predictor, optimizer, scheduler, max_val_recall, min_val_loss, sub_dir, \n",
    "                                str(int(perf_counter()- start_time)))\n",
    "#         print(\"mode type:{}, mode val:{}\".format(type(mode), mode))\n",
    "#         print(\"min_val_loss = \", min_val_loss)\n",
    "#         print(\"max_val_recall = \", max_val_recall)\n",
    "        log_report(epoch, n_train_call[0], train_metrics, val_metrics, mode)\n",
    "    \n",
    "    model_file_name = os.path.join(sub_dir, 'predictor_{}_{}.pt'.format(k,epoch))\n",
    "    torch.save(predictor.state_dict(), model_file_name)"
   ]
  },
  {
   "cell_type": "code",
   "execution_count": null,
   "metadata": {
    "ExecuteTime": {
     "end_time": "2020-03-06T01:28:16.519999Z",
     "start_time": "2020-03-06T01:24:08.831Z"
    }
   },
   "outputs": [],
   "source": [
    "# print(sub_dir)\n",
    "# checkpoint_path = sub_dir\n",
    "# model =  PretrainedCNN(in_channels=1, out_dim=n_total, model_name=model_name, pretrained=None)\n",
    "# epoch, model, optimizer, scheduler, acc_Max, loss_MIN = load_checkpoint(model, checkpoint_path, optimizer)"
   ]
  },
  {
   "cell_type": "code",
   "execution_count": null,
   "metadata": {
    "ExecuteTime": {
     "end_time": "2020-03-01T03:34:04.243487Z",
     "start_time": "2020-03-01T03:34:04.227590Z"
    }
   },
   "outputs": [],
   "source": []
  },
  {
   "cell_type": "code",
   "execution_count": null,
   "metadata": {},
   "outputs": [],
   "source": []
  },
  {
   "cell_type": "code",
   "execution_count": null,
   "metadata": {},
   "outputs": [],
   "source": []
  },
  {
   "cell_type": "code",
   "execution_count": null,
   "metadata": {
    "ExecuteTime": {
     "end_time": "2020-03-06T01:28:16.521921Z",
     "start_time": "2020-03-06T01:24:08.841Z"
    }
   },
   "outputs": [],
   "source": [
    "a = torch.Tensor([0.5])\n",
    "print(a)\n",
    "if isinstance(a, torch.Tensor):\n",
    "    print(a.item())"
   ]
  },
  {
   "cell_type": "code",
   "execution_count": null,
   "metadata": {
    "ExecuteTime": {
     "end_time": "2020-03-06T01:28:16.523593Z",
     "start_time": "2020-03-06T01:24:08.844Z"
    }
   },
   "outputs": [],
   "source": [
    "train_history = log_report.get_dataframe()\n",
    "train_history.to_csv(outdir / 'log.csv', index=False)\n",
    "\n",
    "train_history"
   ]
  },
  {
   "cell_type": "markdown",
   "metadata": {},
   "source": [
    "<a id=\"pred\"></a>\n",
    "# Prediction\n",
    "\n",
    "Please refer **[Bengali: SEResNeXt prediction with pytorch](https://www.kaggle.com/corochann/bengali-seresnext-prediction-with-pytorch)** for the prediction with trained model and submission for this competition!!!"
   ]
  },
  {
   "cell_type": "markdown",
   "metadata": {},
   "source": [
    "<a id=\"ref\"></a>\n",
    "# Reference and further reading\n",
    "\n",
    "#### Kernel\n",
    "\n",
    "**[Bangali.AI super fast data loading with feather](https://www.kaggle.com/corochann/bangali-ai-super-fast-data-loading-with-feather)**<br>\n",
    "Simple example of how use feather format data to load data faster.\n",
    "\n",
    "**[Bengali: albumentations data augmentation tutorial](https://www.kaggle.com/corochann/bengali-albumentations-data-augmentation-tutorial)**<br>\n",
    "Tutorial for Data augmentations with albumentations library.\n",
    "\n",
    "**[Bengali: SEResNeXt prediction with pytorch](https://www.kaggle.com/corochann/bengali-seresnext-prediction-with-pytorch)**<br>\n",
    "**Prediction code of this kernel's trained model, please check this too!**\n",
    "\n",
    "**[Deep learning - CNN with Chainer: LB 0.99700](https://www.kaggle.com/corochann/deep-learning-cnn-with-chainer-lb-0-99700)**<br>\n",
    "Data augmentation idea is based on this kernel, which achieves quite high accuracy on MNIST task.\n",
    "\n",
    "#### Dataset\n",
    "**[bengaliai-cv19-feather](https://www.kaggle.com/corochann/bengaliaicv19feather)**<br>\n",
    "Feather format dataset\n",
    "\n",
    "**[bengaliaicv19_seresnext101_32x4d](https://www.kaggle.com/corochann/bengaliaicv19-seresnext101-32x4d)**<br>\n",
    "**Trained model weight with this kernel(v1)**\n",
    "\n",
    "**[bengaliaicv19_trainedmodels](https://www.kaggle.com/corochann/bengaliaicv19-trainedmodels)**<br>\n",
    "**Trained model weight with this kernel(v2~)**\n",
    "\n",
    "#### Library\n",
    "**https://github.com/pytorch/ignite**\n",
    "\n",
    "Used for training code abstraction. The advantage of abstracting the code is that we can re-use implemented handler class for other training, other competition.<br>\n",
    "You don't need to write code for saving models, logging training loss/metric, show progressbar etc.\n",
    "\n",
    "**https://github.com/Cadene/pretrained-models.pytorch**\n",
    "\n",
    "Many pretrained models are supported by this library, and we can switch to use them easily.\n",
    "Other model may perform better in this competition.\n",
    "\n",
    "**https://github.com/albumentations-team/albumentations**\n",
    "\n",
    "fast image augmentation library and easy to use wrapper around other libraries https://arxiv.org/abs/1809.06839<br>\n",
    "I could not show all the methods, you can find more methods in the library, check yourself!"
   ]
  },
  {
   "cell_type": "markdown",
   "metadata": {},
   "source": [
    "<h3 style=\"color:red\">If this kernel helps you, please upvote to keep me motivated :)<br>Thanks!</h3>"
   ]
  },
  {
   "cell_type": "code",
   "execution_count": null,
   "metadata": {
    "ExecuteTime": {
     "end_time": "2020-03-06T01:28:16.525104Z",
     "start_time": "2020-03-06T01:24:08.849Z"
    }
   },
   "outputs": [],
   "source": [
    "print(optimizer)"
   ]
  },
  {
   "cell_type": "code",
   "execution_count": null,
   "metadata": {},
   "outputs": [],
   "source": []
  }
 ],
 "metadata": {
  "kernelspec": {
   "display_name": "Python 3",
   "language": "python",
   "name": "python3"
  },
  "language_info": {
   "codemirror_mode": {
    "name": "ipython",
    "version": 3
   },
   "file_extension": ".py",
   "mimetype": "text/x-python",
   "name": "python",
   "nbconvert_exporter": "python",
   "pygments_lexer": "ipython3",
   "version": "3.7.5"
  }
 },
 "nbformat": 4,
 "nbformat_minor": 1
}
